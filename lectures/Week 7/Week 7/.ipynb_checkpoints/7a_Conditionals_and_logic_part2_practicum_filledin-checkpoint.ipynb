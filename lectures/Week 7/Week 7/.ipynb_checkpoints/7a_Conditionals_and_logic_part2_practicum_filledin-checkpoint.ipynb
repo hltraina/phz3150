{
 "cells": [
  {
   "cell_type": "markdown",
   "metadata": {},
   "source": [
    "# FOR, IF, WHILE practicum"
   ]
  },
  {
   "cell_type": "code",
   "execution_count": null,
   "metadata": {},
   "outputs": [],
   "source": []
  },
  {
   "cell_type": "markdown",
   "metadata": {},
   "source": [
    "<img src=\"for_loop_flowchart.png\" width=600 height=500 />"
   ]
  },
  {
   "cell_type": "markdown",
   "metadata": {},
   "source": [
    "#### --------------------------"
   ]
  },
  {
   "cell_type": "markdown",
   "metadata": {},
   "source": [
    "<img src=\"if_while_flowchart.png\" width=600 height=500 />"
   ]
  },
  {
   "cell_type": "markdown",
   "metadata": {},
   "source": [
    "#### --------------------------"
   ]
  },
  {
   "cell_type": "markdown",
   "metadata": {},
   "source": [
    "### Examples for syntax:"
   ]
  },
  {
   "cell_type": "code",
   "execution_count": 1,
   "metadata": {
    "scrolled": true
   },
   "outputs": [
    {
     "name": "stdout",
     "output_type": "stream",
     "text": [
      "Mary\n",
      "Poppins\n",
      "was\n",
      "published\n",
      "in\n",
      "1934\n"
     ]
    }
   ],
   "source": [
    "x = [ 'Mary', 'Poppins', 'was', 'published', 'in', '1934' ]\n",
    "\n",
    "for word in x:\n",
    "    print( word )"
   ]
  },
  {
   "cell_type": "code",
   "execution_count": 2,
   "metadata": {
    "scrolled": true
   },
   "outputs": [
    {
     "name": "stdout",
     "output_type": "stream",
     "text": [
      "Mary\n",
      "Poppins\n",
      "was\n",
      "published\n",
      "in\n",
      "1934\n"
     ]
    }
   ],
   "source": [
    "# or: \n",
    "for word in range( len( x ) ):\n",
    "    print( x[ word ] )"
   ]
  },
  {
   "cell_type": "code",
   "execution_count": 3,
   "metadata": {},
   "outputs": [],
   "source": [
    "numbers = [ 1, 38, 500, 8, 10, 12, 200, 42 ]"
   ]
  },
  {
   "cell_type": "code",
   "execution_count": 4,
   "metadata": {},
   "outputs": [
    {
     "name": "stdout",
     "output_type": "stream",
     "text": [
      "too small number\n",
      "number larger than 30: 38\n",
      "number larger than 100: 500\n",
      "too small number\n",
      "too small number\n",
      "too small number\n",
      "number larger than 100: 200\n",
      "number larger than 30: 42\n"
     ]
    }
   ],
   "source": [
    "for n in numbers:\n",
    "    if n > 100:\n",
    "        print( 'number larger than 100:', n )\n",
    "    elif n >30:\n",
    "        print( 'number larger than 30:', n )\n",
    "    else:\n",
    "        print( 'too small number' )"
   ]
  },
  {
   "cell_type": "code",
   "execution_count": 18,
   "metadata": {},
   "outputs": [
    {
     "name": "stdout",
     "output_type": "stream",
     "text": [
      "too small number\n",
      "number larger than 30: 38\n",
      "number larger than 100: 500\n",
      "too small number\n",
      "too small number\n",
      "too small number\n",
      "number larger than 100: 200\n",
      "number larger than 30: 42\n"
     ]
    }
   ],
   "source": [
    "#or in a while format:\n",
    "n = 0\n",
    "\n",
    "while n < len( numbers):\n",
    "    if numbers[ n ] > 100:\n",
    "        print( 'number larger than 100:', numbers[ n ] )\n",
    "    elif numbers[ n ] >30:\n",
    "        print( 'number larger than 30:', numbers[ n ] )\n",
    "    else:\n",
    "        print( 'too small number' )\n",
    "    n = n + 1"
   ]
  },
  {
   "cell_type": "code",
   "execution_count": null,
   "metadata": {},
   "outputs": [],
   "source": []
  },
  {
   "cell_type": "code",
   "execution_count": 25,
   "metadata": {},
   "outputs": [
    {
     "name": "stdout",
     "output_type": "stream",
     "text": [
      "Give me a number please200\n",
      "Give me a number please490\n",
      "Give me a number please30\n",
      "Your number was too small!\n"
     ]
    }
   ],
   "source": [
    "m = 1000\n",
    "\n",
    "while m > 100: \n",
    "    m = input( 'Give me a number please' )\n",
    "    m = float( m )\n",
    "else:\n",
    "    print('Your number was too small!')"
   ]
  },
  {
   "cell_type": "code",
   "execution_count": null,
   "metadata": {},
   "outputs": [],
   "source": []
  },
  {
   "cell_type": "markdown",
   "metadata": {},
   "source": [
    "## Let's practice what we learned last week"
   ]
  },
  {
   "cell_type": "markdown",
   "metadata": {},
   "source": [
    "#### Let's start by importin numpy, and matplotlib.pyplot"
   ]
  },
  {
   "cell_type": "code",
   "execution_count": 1,
   "metadata": {},
   "outputs": [],
   "source": [
    "import numpy as np\n",
    "import matplotlib.pyplot as plt"
   ]
  },
  {
   "cell_type": "code",
   "execution_count": null,
   "metadata": {},
   "outputs": [],
   "source": []
  },
  {
   "cell_type": "markdown",
   "metadata": {},
   "source": [
    "### 1. Get array z and use a for/else loop that searches z element by element to find the minimum of the full array. How else can you do this? "
   ]
  },
  {
   "cell_type": "code",
   "execution_count": 2,
   "metadata": {},
   "outputs": [],
   "source": [
    "z =  np.array( [ 95, 402, 984, 651, 69, 408, 319, 601, 485, 980, 507, 725, \n",
    "     547, 544, 610, 83, 165, 141, 500, 263, 17, 865, 575, 219, 390, 984, \n",
    "     592, 236, 105, 942, 941, 86, 42, 47, 1, 900, 34, 23, 35, 820, 66, 597, \n",
    "     978, 328, 615, 953, 345, 409, 162, 758, 219, 918, 237, 412, 506, 826, \n",
    "     248, 86, 950, 626, 949, 687, 217, 815, 67, 104, 58, 512, 24, 892, 894, \n",
    "     767, 553, 81, 2379, 843, 831, 445, 742, 717, 958, 609, 842, 451, 688, \n",
    "     753, 854, 685, 93, 857, 440, 380, 126, 721, 328, 753, 470, 743, 52 ] )"
   ]
  },
  {
   "cell_type": "code",
   "execution_count": 4,
   "metadata": {},
   "outputs": [],
   "source": [
    "min_num = 1e4   # = z[ 0 ]\n",
    "\n",
    "for num in z:\n",
    "    \n",
    "    if num < min_num :\n",
    "        min_num = num\n",
    "    \n",
    "    "
   ]
  },
  {
   "cell_type": "code",
   "execution_count": 5,
   "metadata": {},
   "outputs": [
    {
     "name": "stdout",
     "output_type": "stream",
     "text": [
      "1\n"
     ]
    }
   ],
   "source": [
    "print( min_num )"
   ]
  },
  {
   "cell_type": "code",
   "execution_count": null,
   "metadata": {},
   "outputs": [],
   "source": []
  },
  {
   "cell_type": "code",
   "execution_count": 3,
   "metadata": {},
   "outputs": [
    {
     "data": {
      "text/plain": [
       "1"
      ]
     },
     "execution_count": 3,
     "metadata": {},
     "output_type": "execute_result"
    }
   ],
   "source": [
    "#how else would you do it?\n",
    "np.min( z )"
   ]
  },
  {
   "cell_type": "code",
   "execution_count": null,
   "metadata": {},
   "outputs": [],
   "source": []
  },
  {
   "cell_type": "markdown",
   "metadata": {},
   "source": [
    "### Do the same thing, but now for the maximum:"
   ]
  },
  {
   "cell_type": "code",
   "execution_count": 32,
   "metadata": {},
   "outputs": [],
   "source": [
    "min_num = 0   # = z[ 0 ]"
   ]
  },
  {
   "cell_type": "code",
   "execution_count": 33,
   "metadata": {},
   "outputs": [],
   "source": [
    "# flip above if statement"
   ]
  },
  {
   "cell_type": "code",
   "execution_count": null,
   "metadata": {},
   "outputs": [],
   "source": []
  },
  {
   "cell_type": "code",
   "execution_count": null,
   "metadata": {},
   "outputs": [],
   "source": []
  },
  {
   "cell_type": "code",
   "execution_count": null,
   "metadata": {},
   "outputs": [],
   "source": []
  },
  {
   "cell_type": "markdown",
   "metadata": {},
   "source": [
    "### 2. Read in the file first_data_plot.dat that we used in a previous demo. Skip the first line when reading in, it’s a comment line (use comments=‘#’ or skiprows=1). \n",
    " - Print the length of the table. \n",
    " - The first column is the wavelength of your observations, and the other two are two spectra. Make a loop that scans both full spectra and prints the wavelength, and both spectra if the first spectrum is larger than 0.5 and (at the same wavelength) the second one is larger than 0.3. \n",
    " - Print a message warning you that the conditions are not met otherwise."
   ]
  },
  {
   "cell_type": "code",
   "execution_count": 1,
   "metadata": {},
   "outputs": [
    {
     "ename": "NameError",
     "evalue": "name 'np' is not defined",
     "output_type": "error",
     "traceback": [
      "\u001b[0;31m---------------------------------------------------------------------------\u001b[0m",
      "\u001b[0;31mNameError\u001b[0m                                 Traceback (most recent call last)",
      "\u001b[0;32m<ipython-input-1-5f3f89bc2d4f>\u001b[0m in \u001b[0;36m<module>\u001b[0;34m\u001b[0m\n\u001b[1;32m      1\u001b[0m \u001b[0;31m# read the data in:  np.loadtxt; np.genfromtxt\u001b[0m\u001b[0;34m\u001b[0m\u001b[0;34m\u001b[0m\u001b[0;34m\u001b[0m\u001b[0m\n\u001b[1;32m      2\u001b[0m \u001b[0;34m\u001b[0m\u001b[0m\n\u001b[0;32m----> 3\u001b[0;31m \u001b[0mdata\u001b[0m \u001b[0;34m=\u001b[0m \u001b[0mnp\u001b[0m\u001b[0;34m.\u001b[0m\u001b[0mloadtxt\u001b[0m\u001b[0;34m(\u001b[0m \u001b[0;34m'first_data_read_plot.dat'\u001b[0m \u001b[0;34m)\u001b[0m\u001b[0;34m\u001b[0m\u001b[0;34m\u001b[0m\u001b[0m\n\u001b[0m",
      "\u001b[0;31mNameError\u001b[0m: name 'np' is not defined"
     ]
    }
   ],
   "source": [
    "# read the data in:  np.loadtxt; np.genfromtxt\n",
    "\n",
    "data = np.loadtxt( 'first_data_read_plot.dat' )\n"
   ]
  },
  {
   "cell_type": "code",
   "execution_count": 8,
   "metadata": {},
   "outputs": [],
   "source": [
    "wav = data[ :, 0 ] \n",
    "fl1 = data[ :, 1 ] \n",
    "fl2 = data[ :, 2 ] "
   ]
  },
  {
   "cell_type": "code",
   "execution_count": 11,
   "metadata": {},
   "outputs": [
    {
     "name": "stdout",
     "output_type": "stream",
     "text": [
      "1.1 0.72 0.75\n",
      "1.11 0.73 0.7\n",
      "1.11 0.69 0.65\n",
      "1.11 0.68 0.62\n",
      "1.12 0.66 0.7\n",
      "1.12 0.69 0.69\n",
      "1.13 0.66 0.7\n",
      "1.13 0.63 0.72\n",
      "1.14 0.63 0.66\n",
      "1.14 0.63 0.66\n",
      "1.14 0.65 0.65\n",
      "1.15 0.69 0.72\n",
      "1.15 0.69 0.73\n",
      "1.16 0.67 0.72\n",
      "1.16 0.66 0.72\n",
      "1.17 0.66 0.67\n",
      "1.17 0.65 0.62\n",
      "1.17 0.64 0.66\n",
      "1.18 0.67 0.67\n",
      "1.18 0.74 0.75\n",
      "1.19 0.78 0.81\n",
      "1.19 0.8 0.83\n",
      "1.19 0.81 0.86\n",
      "1.2 0.82 0.88\n",
      "1.2 0.83 0.92\n",
      "1.21 0.87 0.91\n",
      "1.21 0.9 0.95\n",
      "1.22 0.93 0.95\n",
      "1.22 0.94 1.0\n",
      "1.22 0.98 1.02\n",
      "1.23 0.98 1.01\n",
      "1.23 0.97 1.0\n",
      "1.24 0.97 0.97\n",
      "1.24 0.99 1.01\n",
      "1.25 0.96 0.95\n",
      "1.25 1.0 1.0\n",
      "1.26 1.04 1.02\n",
      "1.26 1.09 1.06\n",
      "1.26 1.08 1.06\n",
      "1.27 1.09 1.07\n",
      "1.27 1.07 1.09\n",
      "1.28 1.08 1.1\n",
      "1.28 1.04 1.07\n",
      "1.29 1.08 1.06\n",
      "1.29 1.06 1.07\n",
      "1.29 1.08 1.09\n",
      "1.3 1.07 1.07\n",
      "1.3 1.07 1.05\n",
      "1.31 1.06 1.05\n",
      "1.31 1.06 1.01\n",
      "1.32 1.04 1.01\n",
      "1.32 1.02 1.0\n",
      "1.32 0.93 0.91\n",
      "1.33 0.83 0.82\n",
      "1.33 0.64 0.6\n",
      "1.34 0.51 0.44\n",
      "conditions not met at wav: 1.34\n",
      "conditions not met at wav: 1.35\n",
      "conditions not met at wav: 1.35\n",
      "conditions not met at wav: 1.35\n",
      "conditions not met at wav: 1.36\n",
      "conditions not met at wav: 1.36\n",
      "conditions not met at wav: 1.37\n",
      "conditions not met at wav: 1.37\n",
      "conditions not met at wav: 1.38\n",
      "conditions not met at wav: 1.38\n",
      "conditions not met at wav: 1.38\n",
      "conditions not met at wav: 1.39\n",
      "conditions not met at wav: 1.39\n",
      "conditions not met at wav: 1.4\n",
      "conditions not met at wav: 1.4\n",
      "conditions not met at wav: 1.41\n",
      "conditions not met at wav: 1.41\n",
      "conditions not met at wav: 1.41\n",
      "conditions not met at wav: 1.42\n",
      "conditions not met at wav: 1.42\n",
      "conditions not met at wav: 1.43\n",
      "conditions not met at wav: 1.43\n",
      "conditions not met at wav: 1.44\n",
      "conditions not met at wav: 1.44\n",
      "conditions not met at wav: 1.44\n",
      "conditions not met at wav: 1.45\n",
      "conditions not met at wav: 1.45\n",
      "conditions not met at wav: 1.46\n",
      "conditions not met at wav: 1.46\n",
      "conditions not met at wav: 1.47\n",
      "conditions not met at wav: 1.47\n",
      "conditions not met at wav: 1.47\n",
      "conditions not met at wav: 1.48\n",
      "conditions not met at wav: 1.48\n",
      "conditions not met at wav: 1.49\n",
      "conditions not met at wav: 1.49\n",
      "conditions not met at wav: 1.49\n",
      "1.5 0.52 0.57\n",
      "1.5 0.54 0.57\n",
      "1.51 0.58 0.55\n",
      "1.51 0.58 0.6\n",
      "1.52 0.61 0.64\n",
      "1.52 0.63 0.66\n",
      "1.52 0.66 0.7\n",
      "1.53 0.67 0.67\n",
      "1.53 0.7 0.72\n",
      "1.54 0.7 0.75\n",
      "1.54 0.74 0.75\n",
      "1.54 0.76 0.78\n",
      "1.55 0.79 0.8\n",
      "1.55 0.8 0.83\n",
      "1.56 0.82 0.84\n",
      "1.56 0.81 0.82\n",
      "1.56 0.85 0.82\n",
      "1.57 0.86 0.85\n",
      "1.57 0.89 0.88\n",
      "1.58 0.86 0.9\n",
      "1.58 0.88 0.95\n",
      "1.59 0.88 0.91\n",
      "1.59 0.88 0.88\n",
      "1.59 0.89 0.92\n",
      "1.6 0.91 0.9\n",
      "1.6 0.89 0.9\n",
      "1.61 0.89 0.91\n",
      "1.61 0.88 0.91\n",
      "1.61 0.86 0.89\n",
      "1.62 0.84 0.87\n",
      "1.62 0.87 0.88\n",
      "1.63 0.84 0.87\n",
      "1.63 0.84 0.85\n",
      "1.63 0.82 0.86\n",
      "1.64 0.83 0.83\n",
      "1.64 0.82 0.86\n",
      "1.65 0.86 0.87\n",
      "1.65 0.85 0.88\n",
      "1.65 0.85 0.86\n",
      "1.66 0.85 0.88\n",
      "1.66 0.85 0.84\n",
      "1.66 0.82 0.83\n",
      "1.67 0.82 0.79\n",
      "1.67 0.79 0.79\n",
      "1.68 0.8 0.8\n",
      "1.68 0.8 0.81\n",
      "1.68 0.81 0.81\n",
      "1.69 0.81 0.79\n",
      "1.69 0.81 0.81\n",
      "1.7 0.79 0.81\n",
      "1.7 0.8 0.78\n"
     ]
    }
   ],
   "source": [
    "# assign to variables with names that make sense:\n",
    "for w in range( len(wav) ):\n",
    "    \n",
    "    if ( fl1[ w ] > 0.5 ) & ( fl2[ w ] > 0.3 ):\n",
    "        print( wav[ w ], fl1[ w ], fl2[ w ] )\n",
    "    else:\n",
    "        print( 'conditions not met at wav:', wav[ w ] )"
   ]
  },
  {
   "cell_type": "code",
   "execution_count": null,
   "metadata": {
    "scrolled": false
   },
   "outputs": [],
   "source": []
  },
  {
   "cell_type": "code",
   "execution_count": null,
   "metadata": {},
   "outputs": [],
   "source": []
  },
  {
   "cell_type": "markdown",
   "metadata": {},
   "source": [
    "### 3. Create a variable N and set it equal to 10,000, and a variable m and set it equal to 0.1. Create an array x that goes from 0.1 to N in steps of m.Create an array y that is the natural logarithm of x. Create a for loop that scans all elements of y, prints their value and adds 10.0 to that element. How else could you do this? Which way is faster?"
   ]
  },
  {
   "cell_type": "code",
   "execution_count": 40,
   "metadata": {},
   "outputs": [],
   "source": []
  },
  {
   "cell_type": "code",
   "execution_count": 44,
   "metadata": {},
   "outputs": [],
   "source": []
  },
  {
   "cell_type": "code",
   "execution_count": null,
   "metadata": {},
   "outputs": [],
   "source": []
  },
  {
   "cell_type": "code",
   "execution_count": 48,
   "metadata": {
    "scrolled": true
   },
   "outputs": [],
   "source": []
  },
  {
   "cell_type": "code",
   "execution_count": null,
   "metadata": {},
   "outputs": [],
   "source": []
  },
  {
   "cell_type": "code",
   "execution_count": null,
   "metadata": {
    "scrolled": true
   },
   "outputs": [],
   "source": []
  },
  {
   "cell_type": "code",
   "execution_count": null,
   "metadata": {},
   "outputs": [],
   "source": []
  },
  {
   "cell_type": "code",
   "execution_count": 29,
   "metadata": {},
   "outputs": [],
   "source": []
  },
  {
   "cell_type": "code",
   "execution_count": 30,
   "metadata": {},
   "outputs": [],
   "source": []
  },
  {
   "cell_type": "markdown",
   "metadata": {},
   "source": [
    "### 4. Create a variable N and set it equal to 10, and a variable m and set it equal to 1. Create an array x that goes from 0.1 to N in steps of m.Create an array y that is the natural logarithm of x.\n",
    "\n",
    "###  Create a for loop that plots x,y using a different color for every (x[i],y[i]) set and a different marker (no lines). You can use, e.g., <symb_colors>= red, blue, forestgreen, magenta, brown, black, gray, darkorange, yellow, green (remember color names should be called as ‘red’ ) and <symb_markers> = D, o, p, s, d, P, >, v, <, x"
   ]
  },
  {
   "cell_type": "code",
   "execution_count": 12,
   "metadata": {},
   "outputs": [],
   "source": [
    "N = 10 \n",
    "m = 1\n",
    "\n",
    "x = np.arange( 0.1, N, m )\n",
    "y = np.log( x )"
   ]
  },
  {
   "cell_type": "code",
   "execution_count": 13,
   "metadata": {},
   "outputs": [],
   "source": [
    "mark_colors = [ 'red', 'blue', 'forestgreen', 'magenta', 'brown', \n",
    "               'black', 'gray', 'darkorange', 'yellow', 'green' ]\n",
    "mark_syms  = [ 'D', 'o', 'p', 's', 'd', 'P', '>', 'v', '<', 'x' ]"
   ]
  },
  {
   "cell_type": "code",
   "execution_count": 15,
   "metadata": {},
   "outputs": [
    {
     "data": {
      "image/png": "[encoded data removed]",
      "text/plain": [
       "<Figure size 576x360 with 1 Axes>"
      ]
     },
     "metadata": {
      "needs_background": "light"
     },
     "output_type": "display_data"
    }
   ],
   "source": [
    "# we need to start by setting up the plot:\n",
    "\n",
    "plt.figure( figsize = (8, 5 ))\n",
    "\n",
    "for points in range( len( x ) ):\n",
    "    plt.plot( x[ points ], y[ points ], \n",
    "             color = mark_colors[ points] , linestyle = 'none', \n",
    "             marker = mark_syms[ points ] )\n",
    "#plt.xlabel()"
   ]
  },
  {
   "cell_type": "code",
   "execution_count": null,
   "metadata": {},
   "outputs": [],
   "source": []
  },
  {
   "cell_type": "markdown",
   "metadata": {},
   "source": [
    "### 5. Create an array m1 with numbers 2, 10, 14, 32, 65, 55, 102, 43, 22, 54, 88, 124 and m2 with numbers 9, 32, 6, 88, 65, 100, 77,  40, 21, 54, 124, 61. \n",
    "- Scan array m1 and m2 and print the values of m1 that are NOT in m2. \n",
    "- Scan arrays m1 and m2 and print the common elements. \n",
    "- Scan arrays m1 and m2 and print common elements that are also in the **same** location in the array. "
   ]
  },
  {
   "cell_type": "code",
   "execution_count": 54,
   "metadata": {},
   "outputs": [],
   "source": []
  },
  {
   "cell_type": "code",
   "execution_count": null,
   "metadata": {},
   "outputs": [],
   "source": []
  },
  {
   "cell_type": "code",
   "execution_count": null,
   "metadata": {},
   "outputs": [],
   "source": []
  },
  {
   "cell_type": "code",
   "execution_count": null,
   "metadata": {},
   "outputs": [],
   "source": []
  },
  {
   "cell_type": "code",
   "execution_count": null,
   "metadata": {},
   "outputs": [],
   "source": []
  },
  {
   "cell_type": "code",
   "execution_count": null,
   "metadata": {},
   "outputs": [],
   "source": []
  },
  {
   "cell_type": "code",
   "execution_count": null,
   "metadata": {},
   "outputs": [],
   "source": []
  },
  {
   "cell_type": "markdown",
   "metadata": {},
   "source": [
    "### 6. Create a list with the names of all months. Create a for loop that goes through the name of the month and the days 1-5 and prints the ‘date'."
   ]
  },
  {
   "cell_type": "code",
   "execution_count": null,
   "metadata": {},
   "outputs": [],
   "source": []
  },
  {
   "cell_type": "code",
   "execution_count": null,
   "metadata": {},
   "outputs": [],
   "source": []
  },
  {
   "cell_type": "code",
   "execution_count": null,
   "metadata": {},
   "outputs": [],
   "source": []
  },
  {
   "cell_type": "markdown",
   "metadata": {},
   "source": [
    "### 7. Create a for loop that scans through the elements of the word “Good day” and prints out every letter of the word one at a time. Then a loop that prints every letter up to that iteration (so: G, Go, Goo etc)"
   ]
  },
  {
   "cell_type": "code",
   "execution_count": 16,
   "metadata": {},
   "outputs": [
    {
     "name": "stdout",
     "output_type": "stream",
     "text": [
      "G\n",
      "o\n",
      "o\n",
      "d\n",
      " \n",
      "d\n",
      "a\n",
      "y\n"
     ]
    }
   ],
   "source": [
    "for letter in 'Good day':\n",
    "    print( letter )"
   ]
  },
  {
   "cell_type": "code",
   "execution_count": 18,
   "metadata": {},
   "outputs": [
    {
     "name": "stdout",
     "output_type": "stream",
     "text": [
      "G\n",
      "o\n",
      "o\n",
      "d\n",
      " \n",
      "d\n",
      "a\n",
      "y\n"
     ]
    }
   ],
   "source": [
    "my_string = 'Good day' \n",
    "# print one letter at a time\n",
    "for letter in my_string:\n",
    "    print( letter )"
   ]
  },
  {
   "cell_type": "code",
   "execution_count": 20,
   "metadata": {},
   "outputs": [],
   "source": [
    "#or"
   ]
  },
  {
   "cell_type": "code",
   "execution_count": 20,
   "metadata": {},
   "outputs": [
    {
     "name": "stdout",
     "output_type": "stream",
     "text": [
      "0 \n",
      "1 G\n",
      "2 Go\n",
      "3 Goo\n",
      "4 Good\n",
      "5 Good \n",
      "6 Good d\n",
      "7 Good da\n",
      "8 Good day\n"
     ]
    }
   ],
   "source": [
    "# print different number of letters (1, 2, 3,...)\n",
    "\n",
    "for i in range( len( my_string )+1 ):\n",
    "    print( i, my_string[ : i ] )\n",
    "\n",
    "# G\n",
    "# Go \n",
    "# Goo\n",
    "# Good\n",
    "\n",
    "#..\n",
    "# Good day"
   ]
  },
  {
   "cell_type": "code",
   "execution_count": null,
   "metadata": {},
   "outputs": [],
   "source": [
    "# or you can do it in a while loop:\n"
   ]
  },
  {
   "cell_type": "code",
   "execution_count": null,
   "metadata": {},
   "outputs": [],
   "source": []
  },
  {
   "cell_type": "markdown",
   "metadata": {},
   "source": [
    "### 8. Use any loop you like to create a list that contains the Fibonacci series. The Fibonacci series, named after Leonardo Bonacci , is a series of numbers where every number is the sum of the previous two numbers: 0 1 1 2 3 5 8 13 21 34…. Print the first 14 numbers "
   ]
  },
  {
   "cell_type": "code",
   "execution_count": 21,
   "metadata": {},
   "outputs": [],
   "source": [
    "fibonacci = [ 0, 1 ]"
   ]
  },
  {
   "cell_type": "code",
   "execution_count": 22,
   "metadata": {},
   "outputs": [],
   "source": [
    "for x in range(1, 13 ):\n",
    "    fibonacci.append( fibonacci[ x ] + fibonacci[ x -1 ] )"
   ]
  },
  {
   "cell_type": "code",
   "execution_count": 23,
   "metadata": {},
   "outputs": [
    {
     "name": "stdout",
     "output_type": "stream",
     "text": [
      "[0, 1, 1, 2, 3, 5, 8, 13, 21, 34, 55, 89, 144, 233]\n"
     ]
    }
   ],
   "source": [
    "print( fibonacci )"
   ]
  },
  {
   "cell_type": "code",
   "execution_count": 5,
   "metadata": {},
   "outputs": [],
   "source": [
    "# do the fibonnaci series here:\n"
   ]
  },
  {
   "cell_type": "code",
   "execution_count": null,
   "metadata": {},
   "outputs": [],
   "source": []
  },
  {
   "cell_type": "code",
   "execution_count": null,
   "metadata": {},
   "outputs": [],
   "source": []
  },
  {
   "cell_type": "markdown",
   "metadata": {},
   "source": [
    "### 9. Create a program that takes as input 4 different numbers and sorts them from smaller to larger:"
   ]
  },
  {
   "cell_type": "code",
   "execution_count": 28,
   "metadata": {},
   "outputs": [
    {
     "name": "stdout",
     "output_type": "stream",
     "text": [
      "Please give me four numbers12 6 25 3\n"
     ]
    }
   ],
   "source": [
    "# input of : 12, 6, 25, 3\n",
    "n1, n2, n3, n4 = input( 'Please give me four numbers' ).split()"
   ]
  },
  {
   "cell_type": "code",
   "execution_count": 31,
   "metadata": {},
   "outputs": [
    {
     "name": "stdout",
     "output_type": "stream",
     "text": [
      " Your values sorted are:  [ 3.  6. 12. 25.]\n"
     ]
    }
   ],
   "source": [
    "n1 = float( n1 )\n",
    "n2 = float( n2 )\n",
    "n3 = float( n3 )\n",
    "n4 = float( n4 )\n",
    "\n",
    "print( ' Your values sorted are: ', np.sort( np.array( [ n1, n2 ,n3, n4 ] ) ))"
   ]
  },
  {
   "cell_type": "code",
   "execution_count": 23,
   "metadata": {},
   "outputs": [],
   "source": []
  },
  {
   "cell_type": "code",
   "execution_count": null,
   "metadata": {},
   "outputs": [],
   "source": []
  },
  {
   "cell_type": "code",
   "execution_count": null,
   "metadata": {},
   "outputs": [],
   "source": []
  },
  {
   "cell_type": "markdown",
   "metadata": {},
   "source": [
    "### 10. Write a code that asks for a month of the year (by name) and prints the maximum number of days in the month. "
   ]
  },
  {
   "cell_type": "code",
   "execution_count": 32,
   "metadata": {},
   "outputs": [],
   "source": [
    "year_month_num = { \"January\": 31, \"February\": 28, \"March\": 31,\n",
    "                  \"April\": 30, \"May\": 31, \"June\":30, \"July\":31,\n",
    "                  \"August\":31, \"September\":30,\"October\":31,\n",
    "                  \"November\":30, \"December\":31 }"
   ]
  },
  {
   "cell_type": "code",
   "execution_count": 33,
   "metadata": {},
   "outputs": [
    {
     "name": "stdout",
     "output_type": "stream",
     "text": [
      "What month are you interested in?January\n"
     ]
    }
   ],
   "source": [
    "request_month = input(\"What month are you interested in?\" )"
   ]
  },
  {
   "cell_type": "code",
   "execution_count": 34,
   "metadata": {},
   "outputs": [
    {
     "name": "stdout",
     "output_type": "stream",
     "text": [
      "January  has a total of  31 days.\n"
     ]
    }
   ],
   "source": [
    "print( request_month, \" has a total of \", year_month_num[ request_month ], \n",
    "     'days.')"
   ]
  },
  {
   "cell_type": "code",
   "execution_count": null,
   "metadata": {},
   "outputs": [],
   "source": []
  },
  {
   "cell_type": "markdown",
   "metadata": {},
   "source": [
    "### 11. Now write that loop to ask continuously for a month of the year numerically (1, 2, 3,...) and then print the maximum number of dates in the month. If the month number you put is 13 or greater the code crashes with an error message"
   ]
  },
  {
   "cell_type": "code",
   "execution_count": null,
   "metadata": {},
   "outputs": [],
   "source": []
  },
  {
   "cell_type": "code",
   "execution_count": null,
   "metadata": {},
   "outputs": [],
   "source": []
  },
  {
   "cell_type": "code",
   "execution_count": null,
   "metadata": {},
   "outputs": [],
   "source": []
  },
  {
   "cell_type": "code",
   "execution_count": null,
   "metadata": {},
   "outputs": [],
   "source": []
  },
  {
   "cell_type": "code",
   "execution_count": null,
   "metadata": {},
   "outputs": [],
   "source": []
  },
  {
   "cell_type": "code",
   "execution_count": null,
   "metadata": {},
   "outputs": [],
   "source": []
  },
  {
   "cell_type": "markdown",
   "metadata": {},
   "source": [
    "### 12. The following problem may take some extra time. Use pen and paper if needed, to visualize the problem you are trying to solve. Create a python loop (or combinations of) that will construct the following:\n",
    "\n",
    "<img src=\"../plots/pyramid_01.png\" width=200 height=200 />"
   ]
  },
  {
   "cell_type": "markdown",
   "metadata": {},
   "source": [
    "#### (note that the problem is easier if you don’t use spaces between the numbers, I used them for better visibility here)."
   ]
  },
  {
   "cell_type": "code",
   "execution_count": null,
   "metadata": {},
   "outputs": [],
   "source": []
  },
  {
   "cell_type": "code",
   "execution_count": null,
   "metadata": {},
   "outputs": [],
   "source": []
  },
  {
   "cell_type": "code",
   "execution_count": null,
   "metadata": {},
   "outputs": [],
   "source": []
  },
  {
   "cell_type": "markdown",
   "metadata": {},
   "source": [
    "### 13. Let's make boxes with sides x, y, z and calculate their volume. \n",
    "- Create array x that is a range from 0.1 to 10 with a step of 0.2. \n",
    "- Make array y that is a linspace from 0.1 to 10 in 50 steps. \n",
    "- Then make array z that is equal to $x^2 + y^{0.3}$. \n",
    "- Calculate the volume of the boxes [assume it is in cu ft ] with every possible combinations of x, y, z. What is the maximum, minimum and mean volume of our boxes in ? If I need boxes with a volume more than 8000 cu ft, how many boxes will I have?"
   ]
  },
  {
   "cell_type": "code",
   "execution_count": null,
   "metadata": {},
   "outputs": [],
   "source": []
  },
  {
   "cell_type": "code",
   "execution_count": null,
   "metadata": {},
   "outputs": [],
   "source": []
  },
  {
   "cell_type": "code",
   "execution_count": null,
   "metadata": {},
   "outputs": [],
   "source": []
  },
  {
   "cell_type": "code",
   "execution_count": null,
   "metadata": {},
   "outputs": [],
   "source": []
  },
  {
   "cell_type": "code",
   "execution_count": null,
   "metadata": {},
   "outputs": [],
   "source": []
  },
  {
   "cell_type": "markdown",
   "metadata": {},
   "source": [
    "### 14. Create a numpy array z that has the elements: 95, 402, 984, 651, 69, 408, 319, 601, 485, 980, 507, 725, 547, 544, 610, 83, 165, 141, 500, 263, 17, 865, 575, 219, 390, 984, 592, 236, 105, 942, 941, 86, 42, 47, 1, 900, 34, 23, 35, 820, 66, 597, 978, 328, 615, 953, 345, 409, 162, 758, 219, 918, 237, 412, 506, 826, 248, 86, 950, 626, 949, 687, 217, 815, 67, 104, 58, 512, 24, 892, 894, 767, 553, 81, 2379, 843, 831, 445, 742, 717, 958, 609, 842, 451, 688, 753, 854, 685, 93, 1857, 440, 380, 126, 721, 328, 753, 470, 743, 52. \n",
    "- Create a for loop that scans through z and prints a ‘yes’ and the element number if z[i] is greater than 200. \n",
    "- Change the loop to print a ‘yes’ and the value of z if z[i] is greater than 200 and less than 800. \n",
    "- Change the loop to print ‘yes’ and the value of z if z[i] is greater than 200 and less  than 800, but **not** when 220<z[i]<300.\n",
    "- Create a for/if loop that scans through the elements of z and creates a list with the location i where z[i] is greater than 200. How else could you do this? Which way is faster? "
   ]
  },
  {
   "cell_type": "code",
   "execution_count": null,
   "metadata": {},
   "outputs": [],
   "source": []
  },
  {
   "cell_type": "code",
   "execution_count": null,
   "metadata": {},
   "outputs": [],
   "source": []
  },
  {
   "cell_type": "code",
   "execution_count": null,
   "metadata": {},
   "outputs": [],
   "source": []
  },
  {
   "cell_type": "markdown",
   "metadata": {},
   "source": [
    "### 14. We have three dictionaries with the names, HW, quiz and project grades of three students. Scan the grades of each student and if they have a grade <5.5 print a warning sign that the student failed the hw/quiz/project. Start by checking whether the key is the name, if so skip. If the key is not the 'name', scan all grades and print a warning message if the student failed a task. \n",
    "\n",
    "\n",
    "### Calculate the average grade of each category for each student and store them in three lists. In a single plot, plot the averages grades of all students for each category .  The x-axis should have as tick labels the names of the categories ('HW', 'Quiz', 'Project').  Use different symbols for each category: e.g, homework == 'o' , quiz == 'd', projects == 's'  and different colors for each student: e.g., black, red, blue"
   ]
  },
  {
   "cell_type": "code",
   "execution_count": null,
   "metadata": {},
   "outputs": [],
   "source": [
    "#We have a dictionary of students (1,2 and 3). For every student we have a name, and their scores (0-10) \n",
    "#in hw assignments, quizzes and projects:\n",
    "\n",
    "student1 = {\n",
    "  \"name\": \"Jane\",\n",
    "  \"homework\": [9.0,7.0,5.0,10.],\n",
    "  \"quizzes\": [8.0,7.0,9.0],\n",
    "  \"projects\": [7.5,9.5]\n",
    "}\n",
    "student2 = {\n",
    "  \"name\": \"Joe\",\n",
    "  \"homework\": [10.0, 3.9, 4.0, 10.0],\n",
    "  \"quizzes\": [5.1, 4.2, 5.0],\n",
    "  \"projects\": [8.9, 2.7]\n",
    "}\n",
    "student3 = {\n",
    "  \"name\": \"Jimmy\",\n",
    "  \"homework\": [3.0, 8.0, 9.0, 10.0],\n",
    "  \"quizzes\": [3.0, 7.5, 7.],\n",
    "  \"projects\": [8.0, 10.0]\n",
    "}\n"
   ]
  },
  {
   "cell_type": "code",
   "execution_count": null,
   "metadata": {},
   "outputs": [],
   "source": []
  },
  {
   "cell_type": "code",
   "execution_count": null,
   "metadata": {},
   "outputs": [],
   "source": []
  }
 ],
 "metadata": {
  "kernelspec": {
   "display_name": "Python 3 (ipykernel)",
   "language": "python",
   "name": "python3"
  },
  "language_info": {
   "codemirror_mode": {
    "name": "ipython",
    "version": 3
   },
   "file_extension": ".py",
   "mimetype": "text/x-python",
   "name": "python",
   "nbconvert_exporter": "python",
   "pygments_lexer": "ipython3",
   "version": "3.11.4"
  }
 },
 "nbformat": 4,
 "nbformat_minor": 2
}
