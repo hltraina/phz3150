{
 "cells": [
  {
   "cell_type": "markdown",
   "id": "2ba4c59a",
   "metadata": {},
   "source": [
    "# FOR - IF "
   ]
  },
  {
   "cell_type": "code",
   "execution_count": null,
   "id": "0a45ce7e",
   "metadata": {},
   "outputs": [],
   "source": [
    "import numpy as np"
   ]
  },
  {
   "cell_type": "markdown",
   "id": "be3b23d6",
   "metadata": {},
   "source": [
    "# FOR == repetitive tasks\n",
    "# IF     == conditional tasks"
   ]
  },
  {
   "cell_type": "code",
   "execution_count": null,
   "id": "09148293",
   "metadata": {},
   "outputs": [],
   "source": []
  },
  {
   "cell_type": "markdown",
   "id": "065e820f",
   "metadata": {},
   "source": [
    "### We already saw that numpy can do some 'repetitive' things faster. Do you remember examples?\n",
    "### In some cases though, numpy is not an option (e.g., lists, tuples, etc)"
   ]
  },
  {
   "cell_type": "code",
   "execution_count": null,
   "id": "b4a1a9ae",
   "metadata": {},
   "outputs": [],
   "source": []
  },
  {
   "cell_type": "markdown",
   "id": "61e66758",
   "metadata": {},
   "source": [
    "# FOR\n",
    "\n",
    "### A for loop is iterating over a parameter (e.g. i) to do a specific thing.\n",
    "\n",
    "In Fortran (first language to introduce for loops, but they are called “DO”) you would have:\n",
    "\n",
    "    DO i = 1, 10\n",
    "          print*, i\n",
    "\n",
    "In Python:  <br>\n",
    "\n",
    "    for i in 1, 2, 3,....,10 : \n",
    "        print(i)\n",
    "\n"
   ]
  },
  {
   "cell_type": "markdown",
   "id": "5b2b221d",
   "metadata": {},
   "source": [
    "<img src=\"for_loop.png\" width=600 height=600 />"
   ]
  },
  {
   "cell_type": "markdown",
   "id": "121e6bc7",
   "metadata": {},
   "source": [
    "### let's see a first (obvious) example of FOR in action:"
   ]
  },
  {
   "cell_type": "code",
   "execution_count": null,
   "id": "0125c20b",
   "metadata": {},
   "outputs": [],
   "source": [
    "for i in range( 10 ):\n",
    "    print( i )"
   ]
  },
  {
   "cell_type": "code",
   "execution_count": null,
   "id": "6999832f",
   "metadata": {},
   "outputs": [],
   "source": []
  },
  {
   "cell_type": "markdown",
   "id": "3ed69882",
   "metadata": {},
   "source": [
    "### The element over which you iterate can be a list/tuple/array..:"
   ]
  },
  {
   "cell_type": "code",
   "execution_count": null,
   "id": "2295f2e6",
   "metadata": {},
   "outputs": [],
   "source": [
    "for a, b in (1, 2), [3, 4], ('jane', 'joe'):\n",
    "      print( a, b )\n"
   ]
  },
  {
   "cell_type": "code",
   "execution_count": null,
   "id": "e5e30b14",
   "metadata": {},
   "outputs": [],
   "source": [
    "for ch in 'Python': \n",
    "      print ( 'Current Letter :', ch )"
   ]
  },
  {
   "cell_type": "code",
   "execution_count": null,
   "id": "162c50b3",
   "metadata": {},
   "outputs": [],
   "source": [
    "for num in range(1, 10, 2 ):\n",
    "     print( num )"
   ]
  },
  {
   "cell_type": "code",
   "execution_count": null,
   "id": "73cc26db",
   "metadata": {},
   "outputs": [],
   "source": [
    "data = np.array( [1, 4, 8 ] )\n",
    "\n",
    "for j in data:\n",
    "    print( j )"
   ]
  },
  {
   "cell_type": "code",
   "execution_count": null,
   "id": "876192de",
   "metadata": {},
   "outputs": [],
   "source": []
  },
  {
   "cell_type": "code",
   "execution_count": null,
   "id": "3f9f21f4",
   "metadata": {},
   "outputs": [],
   "source": []
  },
  {
   "cell_type": "markdown",
   "id": "973e9195",
   "metadata": {},
   "source": [
    "### How do we know if we are meant to use a FOR loop?"
   ]
  },
  {
   "cell_type": "code",
   "execution_count": null,
   "id": "1d1cd049",
   "metadata": {},
   "outputs": [],
   "source": []
  },
  {
   "cell_type": "markdown",
   "id": "9dffeb95",
   "metadata": {},
   "source": [
    "<img src=\"for_loop_flowchart.png\" width=600 height=500 />\n"
   ]
  },
  {
   "cell_type": "markdown",
   "id": "2d563f27",
   "metadata": {},
   "source": [
    "### Example 1: What colors is a rainbow made of? Make a list ***rainbow_colors*** that has the names of the rainbow colors. Print an informative statement that the colors of the rainbow are....and print them in order from top (outside of the circle) to bottom. Print the colors of a secondary rainbow in order.\n",
    "\n",
    "- Discuss: is this something we can do with numpy? would a FOR loop be appropriate? \n",
    "- Discuss: how do we code this up?"
   ]
  },
  {
   "cell_type": "code",
   "execution_count": null,
   "id": "2756252d",
   "metadata": {},
   "outputs": [],
   "source": [
    "#make list of rainbow colors\n"
   ]
  },
  {
   "cell_type": "code",
   "execution_count": null,
   "id": "e16119ec",
   "metadata": {},
   "outputs": [],
   "source": [
    "#print the colors of the rainbow in order"
   ]
  },
  {
   "cell_type": "code",
   "execution_count": null,
   "id": "b01bb849",
   "metadata": {},
   "outputs": [],
   "source": [
    "#print the colors of the secondary rainbow"
   ]
  },
  {
   "cell_type": "code",
   "execution_count": null,
   "id": "21ec5b59",
   "metadata": {},
   "outputs": [],
   "source": []
  },
  {
   "cell_type": "code",
   "execution_count": null,
   "id": "60c2cf63",
   "metadata": {},
   "outputs": [],
   "source": []
  },
  {
   "cell_type": "markdown",
   "id": "b23cdc51",
   "metadata": {},
   "source": [
    "### When working with an array and you are not sure about its size you can iterate over the length of the array:\n",
    "    for i in range( len(your_array) ): \n",
    "         do_something_with_the_array\n"
   ]
  },
  {
   "cell_type": "code",
   "execution_count": null,
   "id": "dd6b8e99",
   "metadata": {},
   "outputs": [],
   "source": [
    "#### e.g., make a numpy array x with numbers 5, 12, 15, 16, 22, 42, 32, 88, 104:\n",
    "\n",
    "x =  np.array( [ 5, 12, 15, 16, 22, 42, 32, 88, 104] )"
   ]
  },
  {
   "cell_type": "markdown",
   "id": "6db5e51d",
   "metadata": {},
   "source": [
    "### Now, let's test difference of:"
   ]
  },
  {
   "cell_type": "code",
   "execution_count": null,
   "id": "b71075f7",
   "metadata": {},
   "outputs": [],
   "source": [
    "for i in x:\n",
    "    print( i )"
   ]
  },
  {
   "cell_type": "markdown",
   "id": "06933b79",
   "metadata": {},
   "source": [
    "### with this:"
   ]
  },
  {
   "cell_type": "code",
   "execution_count": null,
   "id": "2ab8bb7c",
   "metadata": {},
   "outputs": [],
   "source": [
    "for i in range( len( x ) ):\n",
    "    print( i , x[ i ] )"
   ]
  },
  {
   "cell_type": "code",
   "execution_count": null,
   "id": "9eac6f85",
   "metadata": {},
   "outputs": [],
   "source": []
  },
  {
   "cell_type": "markdown",
   "id": "e506e343",
   "metadata": {},
   "source": [
    "### when would you use the first and when the second case?"
   ]
  },
  {
   "cell_type": "code",
   "execution_count": null,
   "id": "5e8a0a9b",
   "metadata": {},
   "outputs": [],
   "source": []
  },
  {
   "cell_type": "markdown",
   "id": "93588efb",
   "metadata": {},
   "source": [
    "### Example 2: You are given the numpy array data1 below. You need to make an array data2 whose elements are equal to the square root of the elements of data1, and an array data3 whose elements are equal to the elements of data1 to the power of 1.5. \n",
    "\n",
    "- Discuss: how will you do this? Is it something you can do with numpy or a FOR loop?\n",
    "- How do you code this up? If you use a FOR loop, are there things you need to keep in mind?"
   ]
  },
  {
   "cell_type": "code",
   "execution_count": null,
   "id": "964b42d6",
   "metadata": {},
   "outputs": [],
   "source": [
    "data1 = np.array( [ 1, 2, 2, 4 , 8, 32 ] )"
   ]
  },
  {
   "cell_type": "code",
   "execution_count": null,
   "id": "7cc094e2",
   "metadata": {},
   "outputs": [],
   "source": []
  },
  {
   "cell_type": "code",
   "execution_count": null,
   "id": "5968afed",
   "metadata": {},
   "outputs": [],
   "source": []
  },
  {
   "cell_type": "code",
   "execution_count": null,
   "id": "60cdf46b",
   "metadata": {},
   "outputs": [],
   "source": []
  },
  {
   "cell_type": "markdown",
   "id": "826811b8",
   "metadata": {},
   "source": [
    "### Example 3: use a FOR loop to get array q2_numpy that is the square of the array  q_numpy = np.arange( 0, 10000, 0.0005). How else can you do that? Which way is faster?"
   ]
  },
  {
   "cell_type": "code",
   "execution_count": null,
   "id": "4fa31e21",
   "metadata": {},
   "outputs": [],
   "source": [
    "q_numpy = np.arange( 0, 10000, 0.0005)\n",
    "q2_numpy = np.zeros( len( q_numpy ) )"
   ]
  },
  {
   "cell_type": "code",
   "execution_count": null,
   "id": "e2746acd",
   "metadata": {},
   "outputs": [],
   "source": [
    "#%%time\n",
    "\n",
    "    "
   ]
  },
  {
   "cell_type": "code",
   "execution_count": null,
   "id": "6a577fc4",
   "metadata": {},
   "outputs": [],
   "source": [
    "#%%time\n"
   ]
  },
  {
   "cell_type": "markdown",
   "id": "52b52fd5",
   "metadata": {},
   "source": [
    "### Don’t use FOR loops like this for arrays, too slow. That’s why we have numpy!"
   ]
  },
  {
   "cell_type": "code",
   "execution_count": null,
   "id": "56f3318c",
   "metadata": {},
   "outputs": [],
   "source": []
  },
  {
   "cell_type": "markdown",
   "id": "e28e68ff",
   "metadata": {},
   "source": [
    "### We can do multiple things in a single FOR loop. \n",
    "\n",
    "### For example:"
   ]
  },
  {
   "cell_type": "code",
   "execution_count": null,
   "id": "4c4338c7",
   "metadata": {},
   "outputs": [],
   "source": [
    "#create the acceleration and displacement arrays:\n",
    "a = np.zeros(10)\n",
    "d = np.zeros(10)\n",
    "\n",
    "# make a random speed array:\n",
    "speed = np.array( [12, 40, 100, 312, 84, 670, 56, 114, 99, 120 ] )\n",
    "# and a time array:\n",
    "time  = np.array( [12, 14, 18, 140, 168, 221, 235, 282, 319, 333] )\n",
    "\n",
    "\n",
    "# for this we' ll need the accelaration and displacement function; let's import them:\n",
    "#from accelerations import acceleration     #check that you have them in the same file!\n",
    "#from displacements import displacement\n",
    "\n",
    "\n",
    "#make a for loop that goes through the speed and time arrays and print \n",
    "#the total displacement:\n",
    "for i in range( 0, 9 ):\n",
    "    # make an initial speed: \n",
    "    uin      = speed[ i ]\n",
    "    \n",
    "    # calculate the acceleration calling your acceleration function  \n",
    "    a[ i ]   = acceleration( speed[ i ], speed[ i+1 ], time[ i ], time[ i+1 ] )\n",
    "    \n",
    "    # calculate the displacement calling your displacement function \n",
    "    d[ i ]   = displacement( uin, time[ i+1 ] - time[ i ], a[ i ] )\n",
    "    \n",
    "    # print the,:\n",
    "    print ('With acceleration:',a[i],'m/s^2 moved',d[i], 'm')\n",
    "    \n",
    "#Print total displacment:    \n",
    "\n",
    "print('Total displacement:',np.sum(d),'m') \n"
   ]
  },
  {
   "cell_type": "code",
   "execution_count": null,
   "id": "ef91b0c7",
   "metadata": {},
   "outputs": [],
   "source": []
  },
  {
   "cell_type": "code",
   "execution_count": null,
   "id": "47e04436",
   "metadata": {},
   "outputs": [],
   "source": []
  },
  {
   "cell_type": "code",
   "execution_count": null,
   "id": "c6e9954e",
   "metadata": {},
   "outputs": [],
   "source": []
  },
  {
   "cell_type": "code",
   "execution_count": null,
   "id": "86258721",
   "metadata": {},
   "outputs": [],
   "source": []
  },
  {
   "cell_type": "markdown",
   "id": "ab4c36e6",
   "metadata": {},
   "source": [
    "### Let's do some for loop practice. \n",
    "\n",
    "### Example 4: Create an array time that goes from 1 to 11 with a step of 1. Make a for loop that scans the array and prints its value (use t as your looping variable).\n"
   ]
  },
  {
   "cell_type": "code",
   "execution_count": null,
   "id": "e5b87287",
   "metadata": {},
   "outputs": [],
   "source": [
    "\n"
   ]
  },
  {
   "cell_type": "code",
   "execution_count": null,
   "id": "f3e0f012",
   "metadata": {},
   "outputs": [],
   "source": []
  },
  {
   "cell_type": "code",
   "execution_count": null,
   "id": "a4b69dbd",
   "metadata": {},
   "outputs": [],
   "source": []
  },
  {
   "cell_type": "code",
   "execution_count": null,
   "id": "f7abab68",
   "metadata": {},
   "outputs": [],
   "source": []
  },
  {
   "cell_type": "code",
   "execution_count": null,
   "id": "6f93e1d8",
   "metadata": {},
   "outputs": [],
   "source": []
  },
  {
   "cell_type": "code",
   "execution_count": null,
   "id": "343d5736",
   "metadata": {},
   "outputs": [],
   "source": []
  },
  {
   "cell_type": "markdown",
   "id": "f4627d5a",
   "metadata": {},
   "source": [
    "### Example 5: Create an array distance that goes from 10 to 20 with a step of 1. Make a for loop that scans the array and prints the speed of the object using the time stamps from above, but in reverse order (so distance[0] will go with time[ 9 ]).\n",
    "\n",
    "- Discuss: how will the code loop over the distance array?\n",
    "- how will the code reverse the time stamp array order?\n",
    "- code it up!"
   ]
  },
  {
   "cell_type": "code",
   "execution_count": null,
   "id": "121a40fd",
   "metadata": {},
   "outputs": [],
   "source": []
  },
  {
   "cell_type": "code",
   "execution_count": null,
   "id": "23fe7f3f",
   "metadata": {},
   "outputs": [],
   "source": []
  },
  {
   "cell_type": "code",
   "execution_count": null,
   "id": "e504106c",
   "metadata": {},
   "outputs": [],
   "source": []
  },
  {
   "cell_type": "code",
   "execution_count": null,
   "id": "24c9d6f5",
   "metadata": {},
   "outputs": [],
   "source": []
  },
  {
   "cell_type": "markdown",
   "id": "16985614",
   "metadata": {},
   "source": [
    "### Example 6: let's bring FOR loops in 2D! \n",
    "\n",
    "### Create a 2D array speed with dimensions equal to the length of time and distance. Create a nested for loop (for loop in for loop)  that scans over i and j and assigns a value to speed for every time and distance.\n",
    "\n",
    "- Discuss: how do we make a nested loop? \n",
    "- what can go wrong with a nested loop?\n",
    "- code it up!"
   ]
  },
  {
   "cell_type": "code",
   "execution_count": null,
   "id": "19b7beb0",
   "metadata": {},
   "outputs": [],
   "source": []
  },
  {
   "cell_type": "code",
   "execution_count": null,
   "id": "054b2c76",
   "metadata": {},
   "outputs": [],
   "source": []
  },
  {
   "cell_type": "code",
   "execution_count": null,
   "id": "b6e6b39a",
   "metadata": {},
   "outputs": [],
   "source": []
  },
  {
   "cell_type": "code",
   "execution_count": null,
   "id": "f4bbff0e",
   "metadata": {},
   "outputs": [],
   "source": []
  },
  {
   "cell_type": "code",
   "execution_count": null,
   "id": "c4f55ca8",
   "metadata": {},
   "outputs": [],
   "source": [
    "# could you have done it as:\n",
    "\n",
    "for i in time  : \n",
    "    for j in distance :\n",
    "        \n",
    "         print( j / i )   # ??? why/ why not? "
   ]
  },
  {
   "cell_type": "code",
   "execution_count": null,
   "id": "c81d2a3a",
   "metadata": {},
   "outputs": [],
   "source": []
  },
  {
   "cell_type": "code",
   "execution_count": null,
   "id": "6111e070",
   "metadata": {},
   "outputs": [],
   "source": []
  },
  {
   "cell_type": "code",
   "execution_count": null,
   "id": "747d528d",
   "metadata": {},
   "outputs": [],
   "source": [
    "# how could it have worked?"
   ]
  },
  {
   "cell_type": "code",
   "execution_count": null,
   "id": "29527a72",
   "metadata": {},
   "outputs": [],
   "source": []
  },
  {
   "cell_type": "code",
   "execution_count": null,
   "id": "7e2359ea",
   "metadata": {},
   "outputs": [],
   "source": []
  },
  {
   "cell_type": "code",
   "execution_count": null,
   "id": "db24bb75",
   "metadata": {},
   "outputs": [],
   "source": []
  },
  {
   "cell_type": "markdown",
   "id": "ce0ab84f",
   "metadata": {},
   "source": [
    "## Note that indentation is SUPER important for Python"
   ]
  },
  {
   "cell_type": "code",
   "execution_count": null,
   "id": "beabca7f",
   "metadata": {},
   "outputs": [],
   "source": []
  },
  {
   "cell_type": "code",
   "execution_count": null,
   "id": "b29e587e",
   "metadata": {},
   "outputs": [],
   "source": [
    "#create the speed array:\n",
    "#a = np.zeros( ( len( time ), len( distance ) ) )\n",
    "\n",
    "#create a nested for loop:\n",
    "\n",
    "for i in range( 3):\n",
    "    for j in range( 3 ):\n",
    "            \n",
    "            speed[ i, j ] = distance[ j ] / time[ i ] \n",
    "            \n",
    "            print( i, j, time[ i ], distance[ j ], speed[ i, j ] ) "
   ]
  },
  {
   "cell_type": "markdown",
   "id": "de2c1f1c",
   "metadata": {},
   "source": [
    "## NOTE that same blocks of code (code that needs to be executed at the same level) must have the same indentation! \n",
    "\n",
    "<img src=\"loop_levs.png\" width=800 height=600 />"
   ]
  },
  {
   "cell_type": "markdown",
   "id": "c565a361",
   "metadata": {},
   "source": [
    "### Try moving the print statement to ”Level 1” or “Level 0”. What happens? Why?\n"
   ]
  },
  {
   "cell_type": "code",
   "execution_count": null,
   "id": "89edaba8",
   "metadata": {},
   "outputs": [],
   "source": [
    "# move to 'level 1':\n",
    "\n",
    "for i in range( 3):\n",
    "    for j in range( 3 ):\n",
    "            \n",
    "            speed[ i, j ] = distance[ j ] / time[ i ] \n",
    "            \n",
    "    print( i, j, time[ i ], distance[ j ], speed[ i, j ] ) \n"
   ]
  },
  {
   "cell_type": "code",
   "execution_count": null,
   "id": "a218bf81",
   "metadata": {},
   "outputs": [],
   "source": [
    "#move to 'level 0':\n",
    "\n",
    "for i in range( 3):\n",
    "    for j in range( 3 ):\n",
    "            \n",
    "            speed[ i, j ] = distance[ j ] / time[ i ] \n",
    "            \n",
    "print( i, j, time[ i ], distance[ j ], speed[ i, j ] ) \n"
   ]
  },
  {
   "cell_type": "code",
   "execution_count": null,
   "id": "2c6d854f",
   "metadata": {},
   "outputs": [],
   "source": []
  },
  {
   "cell_type": "markdown",
   "id": "7d78c255",
   "metadata": {},
   "source": [
    "# ------------------------------"
   ]
  },
  {
   "cell_type": "markdown",
   "id": "81ed210c",
   "metadata": {},
   "source": [
    "## IF : Conditional statement that does something *only* IF the condition(s) is met.\n",
    "\n",
    "\n",
    "    if your_conditions_here: \n",
    "        ####------------------------------if true:\n",
    "         do something here\n",
    "        #### <----------------------------if not true it will be skipped/ may do other stuff (see later)"
   ]
  },
  {
   "cell_type": "markdown",
   "id": "f54e2f3e",
   "metadata": {},
   "source": [
    "### Let's see some examples:"
   ]
  },
  {
   "cell_type": "code",
   "execution_count": null,
   "id": "d563d77b",
   "metadata": {},
   "outputs": [],
   "source": [
    "x = 5\n",
    "\n",
    "if x < 10:\n"
   ]
  },
  {
   "cell_type": "code",
   "execution_count": null,
   "id": "1d865f51",
   "metadata": {},
   "outputs": [],
   "source": [
    "x = 12\n",
    "\n",
    "if x < 10:\n",
    "    print ( ' True!' )"
   ]
  },
  {
   "cell_type": "code",
   "execution_count": null,
   "id": "10a0d6ff",
   "metadata": {},
   "outputs": [],
   "source": []
  },
  {
   "cell_type": "markdown",
   "id": "f299e190",
   "metadata": {},
   "source": [
    "### Make an array array_1 that goes from 0 to 10 (not including 10!). Then make an if loop that will only print a[i] if a[i] is smaller than 5..."
   ]
  },
  {
   "cell_type": "code",
   "execution_count": null,
   "id": "536ec31a",
   "metadata": {},
   "outputs": [],
   "source": [
    "#Make array \n",
    "\n",
    "\n",
    "\n",
    "# then make an if loop that will only print element if it is smaller than 5...\n"
   ]
  },
  {
   "cell_type": "markdown",
   "id": "5888b371",
   "metadata": {},
   "source": [
    "### Here we just focused on what happens if element < 5; how can we code it though to do things for alternative conditions?"
   ]
  },
  {
   "cell_type": "markdown",
   "id": "36880c88",
   "metadata": {},
   "source": [
    "### In this case we need to use the if/ elif/ else structure :\n",
    "\n",
    "<img src=\"if_elif.png\" width=800 height=600 />"
   ]
  },
  {
   "cell_type": "markdown",
   "id": "4cf6661a",
   "metadata": {},
   "source": [
    "### Go back to the previous FOR/IF loop and add a condition that prints “NO” if the element is >= 7,  and a \"??\"   for cases where the element is >=5 and < 7:"
   ]
  },
  {
   "cell_type": "code",
   "execution_count": null,
   "id": "d1f3a1ea",
   "metadata": {},
   "outputs": [],
   "source": []
  },
  {
   "cell_type": "code",
   "execution_count": null,
   "id": "e549c3c9",
   "metadata": {},
   "outputs": [],
   "source": []
  },
  {
   "cell_type": "markdown",
   "id": "f8f4079e",
   "metadata": {},
   "source": [
    "### now make the loop print array_1[ i ] if it is < 3 ; array_1[i] * 2 if array_1[i] is >8 and 'NaN' for all other cases:"
   ]
  },
  {
   "cell_type": "code",
   "execution_count": null,
   "id": "9aa0bab0",
   "metadata": {},
   "outputs": [],
   "source": []
  },
  {
   "cell_type": "code",
   "execution_count": null,
   "id": "b57d69b8",
   "metadata": {},
   "outputs": [],
   "source": []
  },
  {
   "cell_type": "markdown",
   "id": "5046b384",
   "metadata": {},
   "source": [
    "### Example 7: Now let's put FOR/IF in practice with numbers. Make a for loop that will go through numbers 1 to 30 (including 30) and print them out. When it reaches 10, 20 and 30 it will print a blank space.\n",
    "\n",
    "- Discuss: how do we set the FOR loop up? \n",
    "- how do our IF statement(s) need to look like?\n",
    "- code it up!\n"
   ]
  },
  {
   "cell_type": "code",
   "execution_count": null,
   "id": "0e4ebdad",
   "metadata": {},
   "outputs": [],
   "source": []
  },
  {
   "cell_type": "code",
   "execution_count": null,
   "id": "79414236",
   "metadata": {},
   "outputs": [],
   "source": [
    "\n",
    "\n",
    "    "
   ]
  },
  {
   "cell_type": "code",
   "execution_count": null,
   "id": "b0690fe0",
   "metadata": {},
   "outputs": [],
   "source": []
  },
  {
   "cell_type": "markdown",
   "id": "6ee0ffcb",
   "metadata": {},
   "source": [
    "### Concept practice break! "
   ]
  },
  {
   "cell_type": "markdown",
   "id": "fa8bcabc",
   "metadata": {},
   "source": [
    "### Teach a computer to read! "
   ]
  },
  {
   "cell_type": "markdown",
   "id": "a956a3c8",
   "metadata": {},
   "source": [
    "<img src=\"reading_directions.png\" width=600 height=500 />"
   ]
  },
  {
   "cell_type": "markdown",
   "id": "9906b122",
   "metadata": {},
   "source": [
    "<img src=\"write_1.png\" width=250 height=250 />\n",
    "<img src=\"write_2.png\" width=300 height=250 />"
   ]
  },
  {
   "cell_type": "markdown",
   "id": "6a31ad4a",
   "metadata": {},
   "source": [
    "<img src=\"write_3.png\" width=100 height=70 />"
   ]
  },
  {
   "cell_type": "markdown",
   "id": "0c5fa9e9",
   "metadata": {},
   "source": [
    "##  \n",
    "- Think about the process you do to read a text in Western languages.  Use FOR and IF to describe the process. \n",
    "- Discuss: how would we 'teach' a computer to read the above texts (start from first one/ then move to next)\n",
    "- could we write a generic code for the computer to read *any* text?"
   ]
  },
  {
   "cell_type": "code",
   "execution_count": null,
   "id": "a78121d1",
   "metadata": {},
   "outputs": [],
   "source": []
  },
  {
   "cell_type": "code",
   "execution_count": null,
   "id": "ba6a2e5a",
   "metadata": {},
   "outputs": [],
   "source": []
  },
  {
   "cell_type": "markdown",
   "id": "7495f874",
   "metadata": {},
   "source": [
    "### Example 8: Put your ideas in practice! Open file abstract_from_emma.txt and read it in variable ***abstract***. \n",
    "\n",
    "- Use a for/ if structure to print out the text letter by letter. \n",
    "\n",
    "- When there is a space print a 'end word/ start word' to show that your code understands a word ended and a new one starts. (google to find a function that allows you to do that, or think of a creative way to do it!)\n",
    "\n",
    "- When there is a new line ask the code to print 'new line'  to show that it understands you are in a new line. "
   ]
  },
  {
   "cell_type": "code",
   "execution_count": null,
   "id": "e259c88d",
   "metadata": {},
   "outputs": [],
   "source": [
    "f = open('abstract_from_Emma.txt')\n",
    "abstract = f.read()\n",
    "f.close()"
   ]
  },
  {
   "cell_type": "code",
   "execution_count": null,
   "id": "0651944c",
   "metadata": {},
   "outputs": [],
   "source": [
    "print( abstract )"
   ]
  },
  {
   "cell_type": "code",
   "execution_count": null,
   "id": "b3d115b4",
   "metadata": {},
   "outputs": [],
   "source": []
  },
  {
   "cell_type": "code",
   "execution_count": null,
   "id": "dbee7600",
   "metadata": {},
   "outputs": [],
   "source": []
  },
  {
   "cell_type": "markdown",
   "id": "ca805785",
   "metadata": {},
   "source": [
    "### This looks a bit funny, right? Let's split it first by new lines using the split() function:"
   ]
  },
  {
   "cell_type": "code",
   "execution_count": null,
   "id": "005ad911",
   "metadata": {},
   "outputs": [],
   "source": [
    "f = open('abstract_from_Emma.txt')\n",
    "abstract2 = f.read().split('\\n')\n",
    "f.close()"
   ]
  },
  {
   "cell_type": "code",
   "execution_count": null,
   "id": "a00782fc",
   "metadata": {},
   "outputs": [],
   "source": [
    "#let's see what we did :\n",
    "for word in abstract2:\n",
    "    print( word )"
   ]
  },
  {
   "cell_type": "markdown",
   "id": "f01bdceb",
   "metadata": {},
   "source": [
    "### How did the split() work?"
   ]
  },
  {
   "cell_type": "markdown",
   "id": "4a28bce3",
   "metadata": {},
   "source": [
    "### Now, use a nested for loop: loop over the lines, then for every line: split it in the words it's made of and print the words out one after another. If there is is new line print the ------ again.\n"
   ]
  },
  {
   "cell_type": "code",
   "execution_count": null,
   "id": "66704811",
   "metadata": {},
   "outputs": [],
   "source": []
  },
  {
   "cell_type": "code",
   "execution_count": null,
   "id": "28143b4b",
   "metadata": {},
   "outputs": [],
   "source": []
  },
  {
   "cell_type": "markdown",
   "id": "ccdfd350",
   "metadata": {},
   "source": [
    "### Example 9: Now we need to read a text that is written the other way around. Assuming we told the computer that it needs to read backwards read the file ***back_forth_reading.txt*** into variable ***new_text***.  Print it out so that we can read it (letter by letter, or word by word are both fine). \n",
    "\n",
    "- Discuss: how would we let the computer know it needs to read the other way around?\n",
    "- how would you code it to read the text and print it in a way that you understand?"
   ]
  },
  {
   "cell_type": "code",
   "execution_count": null,
   "id": "5cdfa630",
   "metadata": {},
   "outputs": [],
   "source": [
    "# let's see the text first:\n",
    "f = open('back_forth_reading.txt')\n",
    "new_text = f.read()\n",
    "f.close()"
   ]
  },
  {
   "cell_type": "code",
   "execution_count": null,
   "id": "0f701c95",
   "metadata": {},
   "outputs": [],
   "source": [
    "print( new_text )"
   ]
  },
  {
   "cell_type": "code",
   "execution_count": null,
   "id": "5772248f",
   "metadata": {},
   "outputs": [],
   "source": []
  },
  {
   "cell_type": "code",
   "execution_count": null,
   "id": "7672683a",
   "metadata": {},
   "outputs": [],
   "source": []
  },
  {
   "cell_type": "code",
   "execution_count": null,
   "id": "b59027cd",
   "metadata": {},
   "outputs": [],
   "source": []
  },
  {
   "cell_type": "code",
   "execution_count": null,
   "id": "dd9fd5e2",
   "metadata": {},
   "outputs": [],
   "source": []
  },
  {
   "cell_type": "markdown",
   "id": "6d639c66",
   "metadata": {},
   "source": [
    "### Let's continue with some FOR/IF practice!"
   ]
  },
  {
   "cell_type": "code",
   "execution_count": null,
   "id": "5634e7c4",
   "metadata": {},
   "outputs": [],
   "source": []
  },
  {
   "cell_type": "markdown",
   "id": "8e7f6528",
   "metadata": {},
   "source": [
    "### Example 10: You have a shelter with different animals. Write a code that asks the user for the kind of pet it wants. The code then scans a list with the following words that are the pets in your inventory: 'dog', 'cat', 'parrot', 'mouse', 'spider', 'bird'. If the pet is there let the user know they can get a pet, if the word is not there, let them know no pet is there.\n",
    "\n",
    "- Discuss: how do we let the code know what our inventory is?\n",
    "- how do we ask for input from the user about what pet they want? (Try googling to find how you can use the keyboard to get input (or, remember, Python commands are *very* intuitive) )\n",
    "- how will the code test if the wanted pet is among the inventory?\n",
    "- code it up!"
   ]
  },
  {
   "cell_type": "code",
   "execution_count": null,
   "id": "97d4ea7d",
   "metadata": {},
   "outputs": [],
   "source": [
    "#make list with your inventory\n"
   ]
  },
  {
   "cell_type": "code",
   "execution_count": null,
   "id": "11326f73",
   "metadata": {},
   "outputs": [],
   "source": [
    "#ask input from user\n"
   ]
  },
  {
   "cell_type": "code",
   "execution_count": null,
   "id": "91d50587",
   "metadata": {},
   "outputs": [],
   "source": []
  },
  {
   "cell_type": "code",
   "execution_count": null,
   "id": "6ddfbfda",
   "metadata": {},
   "outputs": [],
   "source": [
    "#try with for/if\n"
   ]
  },
  {
   "cell_type": "code",
   "execution_count": null,
   "id": "7f78edbe",
   "metadata": {},
   "outputs": [],
   "source": [
    "#try with if alone:\n"
   ]
  },
  {
   "cell_type": "code",
   "execution_count": null,
   "id": "0ea82e32",
   "metadata": {},
   "outputs": [],
   "source": []
  },
  {
   "cell_type": "code",
   "execution_count": null,
   "id": "f4422bc7",
   "metadata": {},
   "outputs": [],
   "source": []
  },
  {
   "cell_type": "markdown",
   "id": "17e0437b",
   "metadata": {},
   "source": [
    "### Example 11: For advertising reasons you need to figure out what the favorite color of a car is. You get data with the color of different cars passing through a given intersection on a typical day (stored list ***typical_day***).  How many cars of red color and how many black ones are on the street on a typical day?  \n",
    "\n",
    "- Discuss: how do we count how many black cars there are on a typical day with a FOR/IF combination?\n",
    "- Are there function we can use to avoid spending time in a FOR/IF structure?\n",
    "- Code this up!\n",
    "\n"
   ]
  },
  {
   "cell_type": "code",
   "execution_count": null,
   "id": "cedfbcba",
   "metadata": {},
   "outputs": [],
   "source": []
  },
  {
   "cell_type": "code",
   "execution_count": null,
   "id": "0311df71",
   "metadata": {},
   "outputs": [],
   "source": [
    "typical_day = [ 'white','green', 'black','red', 'blue','white','white','red',\n",
    "               'blue','blue','red','white', 'red','black','green','white','white',\n",
    "               'white','white','white','blue','blue', 'red','black','green','red',\n",
    "               'white','blue', 'red','black','red','blue','blue','blue', 'black',\n",
    "               'green','black','green','green']"
   ]
  },
  {
   "cell_type": "code",
   "execution_count": null,
   "id": "83aa2519",
   "metadata": {},
   "outputs": [],
   "source": [
    "#check first, is there any red or any black cars?\n"
   ]
  },
  {
   "cell_type": "code",
   "execution_count": null,
   "id": "85693732",
   "metadata": {},
   "outputs": [],
   "source": []
  },
  {
   "cell_type": "code",
   "execution_count": null,
   "id": "a66eef44",
   "metadata": {},
   "outputs": [],
   "source": []
  },
  {
   "cell_type": "code",
   "execution_count": null,
   "id": "4d8c65ba",
   "metadata": {},
   "outputs": [],
   "source": []
  },
  {
   "cell_type": "markdown",
   "id": "ac45fad2",
   "metadata": {},
   "source": [
    "### Example 12: Use numpy to read-in the ***small_dataset.dat*** in a variable ***data***. These data come from lab measurements and they are supposed to follow specific constrains. Write a code that warns us if the sum of a line is larger than 500 or if the sum of a column is larger than 700. If the conditions are not meant the code should warn you about what goes wrong (sum of line or column is wrong).\n",
    "\n",
    "- Discuss: how do you read the data in?\n",
    "- how do you check if the sum of a line or a column is larger than the given limits?\n",
    "- how will you warn the user of the code if the sums are larger than the required limits?\n",
    "- code it up!\n"
   ]
  },
  {
   "cell_type": "code",
   "execution_count": null,
   "id": "833c5a18",
   "metadata": {},
   "outputs": [],
   "source": []
  },
  {
   "cell_type": "code",
   "execution_count": null,
   "id": "d4204e9f",
   "metadata": {},
   "outputs": [],
   "source": []
  },
  {
   "cell_type": "code",
   "execution_count": null,
   "id": "3f4bc9b2",
   "metadata": {},
   "outputs": [],
   "source": []
  },
  {
   "cell_type": "code",
   "execution_count": null,
   "id": "4de47a67",
   "metadata": {},
   "outputs": [],
   "source": []
  },
  {
   "cell_type": "markdown",
   "id": "8426f970",
   "metadata": {},
   "source": [
    "### Example 13: At the start of a hurricane season NHC makes a list of the names that tropical storms and hurricanes will have that year. In 2021 the names were: 'Ana', 'Bill', 'Claudette', 'Danny', 'Elsa', 'Fred', 'Grace', 'Henri', 'Ida', 'Kate', 'Julian', 'Larry',  'Mindy', 'Nicholas', 'Odette', 'Peter', 'Rose', 'Sam',  'Teressa', 'Victor' and 'Wanda'. If the season is active and there are more storms/hurricanes they will start being named using the Greek alphabet. \n",
    "\n",
    "### Assume that the year is 2021 and you work for NHC. Let's make a code that will automatically name a hurricane once it appears. \n",
    "\n",
    "- Discuss how do you code this up? What are the parameters you need to take into account?\n",
    "    \n",
    "- Code!\n",
    "\n",
    "- Run your program for 2021. Remember that it was a very active year and we went through all the names and then onto Greek letters...."
   ]
  },
  {
   "cell_type": "code",
   "execution_count": null,
   "id": "cbeec366",
   "metadata": {},
   "outputs": [],
   "source": []
  },
  {
   "cell_type": "code",
   "execution_count": null,
   "id": "4a2ae560",
   "metadata": {},
   "outputs": [],
   "source": []
  },
  {
   "cell_type": "markdown",
   "id": "c45cca34",
   "metadata": {},
   "source": [
    "# ----------------------------------------------\n",
    "# WHILE"
   ]
  },
  {
   "cell_type": "markdown",
   "id": "37b92a5b",
   "metadata": {},
   "source": [
    "## Does something ‘while’ a conditions is true. If not, it stops:\n",
    "    while <condition 1>:  \n",
    "        do something\n"
   ]
  },
  {
   "cell_type": "markdown",
   "id": "2de5b7f5",
   "metadata": {},
   "source": [
    "### For example, start with x = 1 and keep on adding 1 until x<5:"
   ]
  },
  {
   "cell_type": "code",
   "execution_count": null,
   "id": "c6d01d54",
   "metadata": {},
   "outputs": [],
   "source": [
    "x  = 1\n",
    "\n",
    "while x < 5:\n",
    "    print( x )\n",
    "    x += 1 # or x = x +1\n"
   ]
  },
  {
   "cell_type": "markdown",
   "id": "3122af5a",
   "metadata": {},
   "source": [
    "### Create array x going from 0 to 10 in steps of 0.1. Create array y=sin(x). Make a while loop that scans parameter i (initiate it to 0) and prints x[i],y[i] as long as y[i]>=0. \n"
   ]
  },
  {
   "cell_type": "code",
   "execution_count": null,
   "id": "651c3692",
   "metadata": {},
   "outputs": [],
   "source": [
    "x = np.arange( 0, 10 , 0.1 )\n",
    "y = np.sin( x )"
   ]
  },
  {
   "cell_type": "code",
   "execution_count": null,
   "id": "ea7f3898",
   "metadata": {},
   "outputs": [],
   "source": []
  },
  {
   "cell_type": "markdown",
   "id": "b414e212",
   "metadata": {},
   "source": [
    "### While loops accept ***else*** to do something once the condition is no longer met:"
   ]
  },
  {
   "cell_type": "code",
   "execution_count": null,
   "id": "c0a424c9",
   "metadata": {},
   "outputs": [],
   "source": [
    "x  = 0\n",
    "\n",
    "while x < 5:\n",
    "    print( x )\n",
    "    x = x + 1\n",
    "else:\n",
    "    print( 'x >= 5' )\n"
   ]
  },
  {
   "cell_type": "code",
   "execution_count": null,
   "id": "35c5a87a",
   "metadata": {},
   "outputs": [],
   "source": []
  },
  {
   "cell_type": "markdown",
   "id": "3c923caf",
   "metadata": {},
   "source": [
    "## A) Breaking loops"
   ]
  },
  {
   "cell_type": "markdown",
   "id": "30be8e02",
   "metadata": {},
   "source": [
    "### In some cases you may want to break through a loop if some condition is met. Use the ***break***. This will stop the loop when a condition is met:"
   ]
  },
  {
   "cell_type": "markdown",
   "id": "e9e156b4",
   "metadata": {},
   "source": [
    "#### For example, make a for loop scanning through list x, which should be positive. Break if by accident x contains negative element:\n"
   ]
  },
  {
   "cell_type": "code",
   "execution_count": null,
   "id": "9257f299",
   "metadata": {},
   "outputs": [],
   "source": [
    "x =  [0 ,1, 2,4, 6,8, -12, 14, 16] "
   ]
  },
  {
   "cell_type": "code",
   "execution_count": null,
   "id": "c1f16ce3",
   "metadata": {},
   "outputs": [],
   "source": [
    "for i in range( len( x ) ):\n",
    "    print( x[ i ] ) \n",
    "    if x[ i ] < 0 :\n",
    "        break"
   ]
  },
  {
   "cell_type": "markdown",
   "id": "bc8f68e7",
   "metadata": {},
   "source": [
    "### There are cases where you might want to raise exceptions (for example, your simulation gives a negative flux which is unphysical, or the file you try to open is not there) that break loops and give warning signs. \n"
   ]
  },
  {
   "cell_type": "markdown",
   "id": "84044f4b",
   "metadata": {},
   "source": [
    "### 1) I/O Errors:"
   ]
  },
  {
   "cell_type": "code",
   "execution_count": null,
   "id": "2f0fb712",
   "metadata": {},
   "outputs": [],
   "source": [
    "file_list = ('first_data_read_plot.dat', 'my_first_data.dat', 'forest_surface.dat') \n",
    "\n",
    "#file_list = ('tt.dat', 'gl570d.dat', 'all_data/forest_surface.dat') \n",
    "\n",
    "for i in range(2):\n",
    "#    f = open(file_list[i], 'r')\n",
    "    try:\n",
    "        f = open(file_list[i], 'r')\n",
    "        f.read()\n",
    "    except IOError:\n",
    "        \n",
    "        print ('cannot open', file_list[i])\n"
   ]
  },
  {
   "cell_type": "markdown",
   "id": "d54405b1",
   "metadata": {},
   "source": [
    "### 2) Making your own exceptions (see objects/classes/attributs class as well):"
   ]
  },
  {
   "cell_type": "code",
   "execution_count": null,
   "id": "4baa9f53",
   "metadata": {},
   "outputs": [],
   "source": [
    "class NegativeFlux(Exception):\n",
    "    \"\"\"You got a physically impossible flux (F<0)\"\"\"\n",
    "    \n",
    "    pass\n",
    "\n"
   ]
  },
  {
   "cell_type": "code",
   "execution_count": null,
   "id": "eb3ea65f",
   "metadata": {},
   "outputs": [],
   "source": [
    "#then raise an exception if F<0:\n",
    "Fin = 5\n",
    "\n",
    "if Fin<0:\n",
    "    raise NegativeFlux( \"F < 0 !\" )"
   ]
  },
  {
   "cell_type": "code",
   "execution_count": null,
   "id": "3216334b",
   "metadata": {},
   "outputs": [],
   "source": [
    "Fin = -25.\n",
    "\n",
    "\n",
    "if Fin<0:\n",
    "    raise NegativeFlux( \"F < 0 !\" )"
   ]
  },
  {
   "cell_type": "code",
   "execution_count": null,
   "id": "7089d13f",
   "metadata": {},
   "outputs": [],
   "source": []
  },
  {
   "cell_type": "markdown",
   "id": "686f4360",
   "metadata": {},
   "source": [
    "## B) Continuing loops"
   ]
  },
  {
   "cell_type": "markdown",
   "id": "6b369b3e",
   "metadata": {},
   "source": [
    "### Sometimes you will want to just continue if some condition is met. \n",
    "\n",
    "### ***continue*** : continues with next step. For example:\n"
   ]
  },
  {
   "cell_type": "code",
   "execution_count": null,
   "id": "41ff46c6",
   "metadata": {},
   "outputs": [],
   "source": [
    "for ch in 'Python': \n",
    "    if ch == 'h': \n",
    "        continue   #go to the next iteration \n",
    "    print ('Current Letter :', ch)\n"
   ]
  },
  {
   "cell_type": "code",
   "execution_count": null,
   "id": "7310492b",
   "metadata": {},
   "outputs": [],
   "source": [
    "F = [ 2, 4, 10, -3, 3, -4, 5 ]\n",
    "\n",
    "for i in range( 7 ):\n",
    "    \n",
    "    Fin = F[ i ] * 10.\n",
    "    \n",
    "    if Fin < 0:\n",
    "        print('Oops! negative flux here:', i )\n",
    "        continue\n",
    "        \n",
    "    print( Fin )\n"
   ]
  },
  {
   "cell_type": "code",
   "execution_count": null,
   "id": "36e6d199",
   "metadata": {},
   "outputs": [],
   "source": []
  },
  {
   "cell_type": "code",
   "execution_count": null,
   "id": "96c9720f",
   "metadata": {},
   "outputs": [],
   "source": []
  },
  {
   "cell_type": "markdown",
   "id": "3a54557b",
   "metadata": {},
   "source": [
    "### Example 14:  Make a code that searches a list (or tuple) of strings ***word_list*** and returns the longest word and the shortest word that the list contains. \n",
    "\n",
    "- Discuss: how would you make the code scan through the list (or tuple)?\n",
    "- how would you test if the word it scans is the shortest or the longest? \n",
    "- can you code it in another way?"
   ]
  },
  {
   "cell_type": "code",
   "execution_count": null,
   "id": "5c47a4fc",
   "metadata": {},
   "outputs": [],
   "source": [
    "word_list = [ 'hello', 'world', 'computer', 'test', 'homework', 'programming', 'Python' ]"
   ]
  },
  {
   "cell_type": "code",
   "execution_count": null,
   "id": "3c08256a",
   "metadata": {},
   "outputs": [],
   "source": []
  },
  {
   "cell_type": "code",
   "execution_count": null,
   "id": "688e8b55",
   "metadata": {},
   "outputs": [],
   "source": []
  },
  {
   "cell_type": "code",
   "execution_count": null,
   "id": "469c4ca7",
   "metadata": {},
   "outputs": [],
   "source": [
    "\n",
    "\n"
   ]
  },
  {
   "cell_type": "code",
   "execution_count": null,
   "id": "2865b302",
   "metadata": {},
   "outputs": [],
   "source": [
    "# Could we use a 'while' here? Let's try in the shortest word case:"
   ]
  },
  {
   "cell_type": "code",
   "execution_count": null,
   "id": "a4974e8d",
   "metadata": {},
   "outputs": [],
   "source": []
  },
  {
   "cell_type": "code",
   "execution_count": null,
   "id": "6114d946",
   "metadata": {},
   "outputs": [],
   "source": []
  },
  {
   "cell_type": "markdown",
   "id": "0218392e",
   "metadata": {},
   "source": [
    "### Example 15: You have a dictionary of names of students and a list of their average grades ***classroom***. You need to scan through the names and print a letter grade for every student (assume plain ABC with A if grade is >0.90 ; B if grade 0.90> n > 0.80 and C if grade < 0.80).\n",
    "\n",
    "- Discuss: how do we scan the dictionary?\n",
    "- how to we check what the letter grade of a student will be?\n",
    "- code it up!"
   ]
  },
  {
   "cell_type": "code",
   "execution_count": null,
   "id": "b2fc7f04",
   "metadata": {},
   "outputs": [],
   "source": [
    "classroom = { 'Jane': 0.92 , 'Joe': 0.85, 'Petra': 0.78, 'Peter': 0.81 }"
   ]
  },
  {
   "cell_type": "code",
   "execution_count": null,
   "id": "e19353ce",
   "metadata": {},
   "outputs": [],
   "source": []
  },
  {
   "cell_type": "code",
   "execution_count": null,
   "id": "ed620f50",
   "metadata": {},
   "outputs": [],
   "source": []
  },
  {
   "cell_type": "markdown",
   "id": "edf50533",
   "metadata": {},
   "source": [
    "### Example 16: You are given the data ***my_data***. \n",
    "\n",
    "    1) Access and print the numbers 4 9 14 19 24\n",
    "    2) Scan ***my_data*** with a for/if structure and find the maximum\n",
    "    3) Calculate the mean of the ***my_data*** using a for/if \n",
    "    4) How could you get the minimum and mean, **much** faster?"
   ]
  },
  {
   "cell_type": "code",
   "execution_count": null,
   "id": "fc630cb1",
   "metadata": {},
   "outputs": [],
   "source": [
    "my_data = np.arange( 1, 26 ).reshape( (5, 5) )"
   ]
  },
  {
   "cell_type": "code",
   "execution_count": null,
   "id": "bf3a3b4c",
   "metadata": {},
   "outputs": [],
   "source": []
  },
  {
   "cell_type": "code",
   "execution_count": null,
   "id": "44b45f9a",
   "metadata": {},
   "outputs": [],
   "source": []
  },
  {
   "cell_type": "code",
   "execution_count": null,
   "id": "33dc5d8e",
   "metadata": {},
   "outputs": [],
   "source": []
  },
  {
   "cell_type": "code",
   "execution_count": null,
   "id": "740fc126",
   "metadata": {},
   "outputs": [],
   "source": []
  },
  {
   "cell_type": "code",
   "execution_count": null,
   "id": "f8bd769c",
   "metadata": {},
   "outputs": [],
   "source": []
  },
  {
   "cell_type": "markdown",
   "id": "07c6f46a",
   "metadata": {},
   "source": [
    "### Example 17: Make a function ***min_max_words*** that gets as input any string, splits it in the words it is made of and returns a tuple with the shortest and longest word. Call it for the sentence: \"If you are trying to come up with a new concept, a new idea or a new product, a random sentence may help you find unique qualities you may not have considered\""
   ]
  },
  {
   "cell_type": "code",
   "execution_count": null,
   "id": "aba68e13",
   "metadata": {},
   "outputs": [],
   "source": [
    "\n"
   ]
  },
  {
   "cell_type": "code",
   "execution_count": null,
   "id": "0d9fffd6",
   "metadata": {},
   "outputs": [],
   "source": [
    "my_sentence = \"\"\"If you are trying to come up with a new concept, a new idea or a \n",
    "        new product, a random sentence may help you find unique qualities you may not have considered\"\"\""
   ]
  },
  {
   "cell_type": "code",
   "execution_count": null,
   "id": "fcdede0a",
   "metadata": {},
   "outputs": [],
   "source": []
  },
  {
   "cell_type": "code",
   "execution_count": null,
   "id": "391d3a57",
   "metadata": {},
   "outputs": [],
   "source": []
  },
  {
   "cell_type": "code",
   "execution_count": null,
   "id": "6269cde7",
   "metadata": {},
   "outputs": [],
   "source": []
  },
  {
   "cell_type": "markdown",
   "id": "cc3572b7",
   "metadata": {},
   "source": [
    "### Example 18: Create a function that gets as input a word. If the word you give is maximum of 5 characters it prints it. If it is longer, it exits with an error message. In the main code write a code that asks input from the user and calls the function to test if it is right (< 5 char) or not. "
   ]
  },
  {
   "cell_type": "code",
   "execution_count": null,
   "id": "2f60513e",
   "metadata": {},
   "outputs": [],
   "source": []
  },
  {
   "cell_type": "code",
   "execution_count": null,
   "id": "00f98a89",
   "metadata": {},
   "outputs": [],
   "source": []
  },
  {
   "cell_type": "code",
   "execution_count": null,
   "id": "2b378d96",
   "metadata": {},
   "outputs": [],
   "source": []
  },
  {
   "cell_type": "code",
   "execution_count": null,
   "id": "f715e9c8",
   "metadata": {},
   "outputs": [],
   "source": []
  },
  {
   "cell_type": "markdown",
   "id": "4df7646e",
   "metadata": {},
   "source": [
    "### Example 19: Now that we know how to use 'while' go back to the hurricane names of Example 13 and change it so that your code keeps on running until the hurricane season is over.\n",
    "\n",
    "- Discuss: what changes does our code need?\n",
    "- code! \n",
    "- Run it for the full hurricane season (stop when Greek letters start)"
   ]
  },
  {
   "cell_type": "code",
   "execution_count": null,
   "id": "e0500b21",
   "metadata": {},
   "outputs": [],
   "source": []
  }
 ],
 "metadata": {
  "kernelspec": {
   "display_name": "Python 3 (ipykernel)",
   "language": "python",
   "name": "python3"
  },
  "language_info": {
   "codemirror_mode": {
    "name": "ipython",
    "version": 3
   },
   "file_extension": ".py",
   "mimetype": "text/x-python",
   "name": "python",
   "nbconvert_exporter": "python",
   "pygments_lexer": "ipython3",
   "version": "3.11.4"
  }
 },
 "nbformat": 4,
 "nbformat_minor": 5
}
