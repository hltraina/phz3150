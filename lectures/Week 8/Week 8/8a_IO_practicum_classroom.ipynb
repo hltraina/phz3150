{
 "cells": [
  {
   "cell_type": "code",
   "execution_count": 5,
   "id": "4362d1c4",
   "metadata": {},
   "outputs": [],
   "source": [
    "import numpy as np\n",
    "import csv \n",
    "import matplotlib.pyplot as plt\n",
    "import pandas as pd"
   ]
  },
  {
   "cell_type": "code",
   "execution_count": null,
   "id": "9da5ca26",
   "metadata": {},
   "outputs": [],
   "source": []
  },
  {
   "cell_type": "markdown",
   "id": "06395eef",
   "metadata": {},
   "source": [
    "### Practice 1. In a separate file *modulos.py*, not this notebook, make a function modulos_ten that takes as input a list and will return a new list that contains only the elements of the original list  that are exactly divisible by 10. Import the function here. Call it for the list:  inp_list = [ 2, -4, 10, 32, 40, 27, 20, 31 ]"
   ]
  },
  {
   "cell_type": "code",
   "execution_count": null,
   "id": "872987c6",
   "metadata": {},
   "outputs": [],
   "source": []
  },
  {
   "cell_type": "code",
   "execution_count": null,
   "id": "222a93be",
   "metadata": {},
   "outputs": [],
   "source": []
  },
  {
   "cell_type": "code",
   "execution_count": null,
   "id": "25874fc4",
   "metadata": {},
   "outputs": [],
   "source": []
  },
  {
   "cell_type": "code",
   "execution_count": 2,
   "id": "1e56be16",
   "metadata": {},
   "outputs": [],
   "source": []
  },
  {
   "cell_type": "code",
   "execution_count": null,
   "id": "f5a2fd04",
   "metadata": {},
   "outputs": [],
   "source": []
  },
  {
   "cell_type": "code",
   "execution_count": null,
   "id": "3106f41a",
   "metadata": {},
   "outputs": [],
   "source": []
  },
  {
   "cell_type": "markdown",
   "id": "148946eb",
   "metadata": {},
   "source": [
    "### 5. The spectrum of a star can be well approximated using the assumption that the star is a black body. A black body is an idealized object that emits thermal radiation in a continuum spectrum (i.e. at all wavelengths) according to its temperature. According to Planck’s law a black body (here our star) of temperature T emits energy per unit wavelength $\\lambda$ of: \n",
    "\n",
    "### $B(\\lambda,T )$ = $\\frac{2 h c^2}{ \\lambda^5}$ $\\frac{1}{ e^{\\frac{hc}{\\lambda k_B T} } -1 }$,  \n",
    "\n",
    "\n",
    "\n",
    "### where c is the speed of light, h is the Planck constant and $k_B$ the Boltzmann constant. Make a function *star* that takes as input the temperature of a star and the wavelength range over which you want to calculate the black body spectrum and returns the star spectrum. Remember that: $c = 3*10^8$ m/s, $h = 6.626 * 10^{-34}$ $\\mathrm{kg} m^2/s$ and $k_B = 1.38 * 10^{-23} $ $\\mathrm{kg} m^2/s^2/K$ . \n",
    "\n",
    "### Make an array of the wavelengths *wav_bb* going from 0.1 to 25.1 microns with a step of 0.1. Store the function in file *bb.py*. Import it here and call the function for a body of temperature 3,000K, 7,000K and 12,000K. Plot the two spectra using a logarithmic y axis and a double logarithmic axis.\n",
    "\n",
    "### Print the flux of the BB for wavelengths between 1.0 and 1.4 microns."
   ]
  },
  {
   "cell_type": "code",
   "execution_count": 168,
   "id": "2468888e",
   "metadata": {},
   "outputs": [],
   "source": []
  },
  {
   "cell_type": "code",
   "execution_count": 175,
   "id": "d484bc4f",
   "metadata": {},
   "outputs": [],
   "source": []
  },
  {
   "cell_type": "code",
   "execution_count": 176,
   "id": "ef799621",
   "metadata": {},
   "outputs": [],
   "source": []
  },
  {
   "cell_type": "code",
   "execution_count": 177,
   "id": "6db382d0",
   "metadata": {},
   "outputs": [],
   "source": []
  },
  {
   "cell_type": "code",
   "execution_count": 178,
   "id": "8371d447",
   "metadata": {},
   "outputs": [],
   "source": []
  },
  {
   "cell_type": "markdown",
   "id": "626c2f69",
   "metadata": {},
   "source": [
    "### - 2b. Numpy & FOR"
   ]
  },
  {
   "cell_type": "markdown",
   "id": "e7edb365",
   "metadata": {},
   "source": [
    "### FOR is for things you want to do repeatedly. It is great for repeated things with loops, tuples, dictionaries or sometimes ND arrays. When you can use numpy though, you should prefer it over FOR. It is *much* faster:"
   ]
  },
  {
   "cell_type": "markdown",
   "id": "23fbcade",
   "metadata": {},
   "source": [
    "### Create list that is the square of list check_list:"
   ]
  },
  {
   "cell_type": "code",
   "execution_count": null,
   "id": "a81acb32",
   "metadata": {},
   "outputs": [],
   "source": [
    "check_list = [ 1, 3, 5, 7, 9 ]\n",
    "\n",
    "# can I do check_list = check_list**2? \n",
    " "
   ]
  },
  {
   "cell_type": "code",
   "execution_count": null,
   "id": "913298d8",
   "metadata": {},
   "outputs": [],
   "source": [
    "check_list = check_list **2"
   ]
  },
  {
   "cell_type": "code",
   "execution_count": null,
   "id": "22b13178",
   "metadata": {},
   "outputs": [],
   "source": [
    "for i in range( len( check_list ) ):\n",
    "    check_list[ i ] = check_list[ i ] **2"
   ]
  },
  {
   "cell_type": "markdown",
   "id": "87cc7b2f",
   "metadata": {},
   "source": [
    "### Create numpy array cube_ar that is the array ar1 to the power of 3"
   ]
  },
  {
   "cell_type": "code",
   "execution_count": null,
   "id": "698ba080",
   "metadata": {},
   "outputs": [],
   "source": [
    "ar1 = np.arange( 0.1, 1e7, 0.2 )"
   ]
  },
  {
   "cell_type": "code",
   "execution_count": null,
   "id": "908a2af3",
   "metadata": {},
   "outputs": [],
   "source": [
    "%time\n",
    "#compare this:\n",
    "\n",
    "cube_ar = ar1**3\n"
   ]
  },
  {
   "cell_type": "code",
   "execution_count": null,
   "id": "1424ce5d",
   "metadata": {},
   "outputs": [],
   "source": [
    "%time\n",
    "#to this:\n",
    "\n",
    "for i in range( len( ar1 ) ):\n",
    "    ar1[ i ] = ar1[ i ] ** 3"
   ]
  },
  {
   "cell_type": "code",
   "execution_count": null,
   "id": "bf9700d7",
   "metadata": {},
   "outputs": [],
   "source": []
  },
  {
   "cell_type": "markdown",
   "id": "8948bc56",
   "metadata": {},
   "source": [
    "### But what if I have a 5 by 5 array and I want to populate it with information from two other arrays like: $z_{ij} = x_i * y_j$?  \n",
    "\n",
    "### Practice 2. Make a 5 by 5 numpy array *data_2d* of zeros. Set variable *x* equal to a numpy range from 5 to 10; and variable *y* the exponential of x. Populate *data_2d* following $z_{ij} = x_i * y_j$ . Save  *data_2d* to a file named my_radom_data.dat. Add a header like \"These are my random data\" and format the output to have 4 digit accuracy."
   ]
  },
  {
   "cell_type": "code",
   "execution_count": null,
   "id": "a9accbe8",
   "metadata": {},
   "outputs": [],
   "source": []
  },
  {
   "cell_type": "code",
   "execution_count": null,
   "id": "4d5739f0",
   "metadata": {},
   "outputs": [],
   "source": []
  },
  {
   "cell_type": "code",
   "execution_count": null,
   "id": "b593ccf4",
   "metadata": {},
   "outputs": [],
   "source": []
  },
  {
   "cell_type": "code",
   "execution_count": null,
   "id": "919aa2cf",
   "metadata": {},
   "outputs": [],
   "source": []
  },
  {
   "cell_type": "code",
   "execution_count": null,
   "id": "b87fc128",
   "metadata": {},
   "outputs": [],
   "source": []
  },
  {
   "cell_type": "markdown",
   "id": "c0df12f7",
   "metadata": {},
   "source": [
    "### 6. *space_travel.dat* contains the distances of an interplanetary trip between four bodies of the solar system. For simplicity, the data are stored in a 4 by 4 table with every line being the distance from a body to another body in AU (indicated by the columns; see also the file). \n",
    "- Read the data from *space_travel.dat* in a variable *space_trip*. \n",
    "- Your spaceship takes passengers from Mercury. You ask them where they want to go. \n",
    "    - If trip is possible you tell them how far the destination is and how long it takes if they travel with a speed of 0.05 AU/day. \n",
    "    - Discuss: how do we ask our passengers where they want to go? \n",
    "        - [ you can use Mercury == 0, Venus == 1, Earth == 2 and the Moon == 4].\n",
    "    - how do we find how long their trip will take?\n",
    "    - code!\n",
    "    - try it out for a trip to the Earth\n",
    "    \n",
    "    \n",
    "- What is the longest trip we can do from the Earth?\n",
    "    - Discuss: how do we find the longest trip?\n",
    "    - print an informative statement for the longest distance you can fly from the Earth in AU.\n"
   ]
  },
  {
   "cell_type": "code",
   "execution_count": null,
   "id": "3481bdf9",
   "metadata": {},
   "outputs": [],
   "source": []
  },
  {
   "cell_type": "code",
   "execution_count": null,
   "id": "e88cef8a",
   "metadata": {},
   "outputs": [],
   "source": []
  },
  {
   "cell_type": "code",
   "execution_count": null,
   "id": "0b208c4e",
   "metadata": {},
   "outputs": [],
   "source": []
  },
  {
   "cell_type": "markdown",
   "id": "6fd81e6e",
   "metadata": {},
   "source": [
    "### Practice 3. You have a dictionary of names of students and a list of their average grades ***classroom***. You need to scan through the names and print a letter grade for every student (assume plain ABC with A if grade is >0.90 ; B if grade 0.90> n > 0.80 and C if grade < 0.80)."
   ]
  },
  {
   "cell_type": "code",
   "execution_count": null,
   "id": "71572016",
   "metadata": {},
   "outputs": [],
   "source": []
  },
  {
   "cell_type": "code",
   "execution_count": null,
   "id": "2ee1d0f2",
   "metadata": {},
   "outputs": [],
   "source": []
  },
  {
   "cell_type": "code",
   "execution_count": null,
   "id": "8819b284",
   "metadata": {},
   "outputs": [],
   "source": []
  },
  {
   "cell_type": "code",
   "execution_count": null,
   "id": "27395e9d",
   "metadata": {},
   "outputs": [],
   "source": []
  },
  {
   "cell_type": "code",
   "execution_count": null,
   "id": "39fb50b0",
   "metadata": {},
   "outputs": [],
   "source": []
  },
  {
   "cell_type": "markdown",
   "id": "ee38799f",
   "metadata": {},
   "source": [
    "### Practice 4. You have the following arrays of data. \n",
    "- Print the 9.42 from array *quantity_1*\n",
    "- Print the multiplication of the 5.33 from *quantity_1* with the third line of  *quantity_2*\n",
    "- Print the elements where  *quantity_1* is equal to  *quantity_2*. Print the indexes where this happens.\n",
    "- Print the elements where  *quantity_1* is equal to the negative of *quantity_2*\n",
    "- Make quantity_3 equal to the multiplication (element wise not array multiplication) of *quantity_1* and *quantity_2*"
   ]
  },
  {
   "cell_type": "code",
   "execution_count": 6,
   "id": "0035d36f",
   "metadata": {},
   "outputs": [],
   "source": [
    "quantity_1 = np.array( [ [ 1.12, 5.33, 1.21, -3.45 ],\n",
    "                         [ 8.47, -2.08, 3.32, 1.07 ],\n",
    "                         [ 2.25, 9.42, -0.41, 6.12 ],\n",
    "                         [ 12.2, 0.34, -10.1, 4.32 ]\n",
    "                       ])\n",
    "\n",
    "quantity_2 = np.array( [ [ 2.42, 5.33, -1.21, 2.40 ],\n",
    "                         [ 1.57, 2.08, -1.25, 2.73 ],\n",
    "                         [ 1.27, 3.99, -0.41, 1.78 ],\n",
    "                         [ 6.28, 0.34, 2.12, 2.32  ]\n",
    "                       ])"
   ]
  },
  {
   "cell_type": "code",
   "execution_count": null,
   "id": "7b128280",
   "metadata": {},
   "outputs": [],
   "source": []
  },
  {
   "cell_type": "code",
   "execution_count": null,
   "id": "74bb2a48",
   "metadata": {},
   "outputs": [],
   "source": []
  },
  {
   "cell_type": "code",
   "execution_count": null,
   "id": "51e087d9",
   "metadata": {},
   "outputs": [],
   "source": []
  },
  {
   "cell_type": "markdown",
   "id": "ea8fb4ea",
   "metadata": {},
   "source": [
    "### Practice 5. When studying clouds one of the important things to characterize them is at what scattering angles their polarization changes sign. File *Ven2p.00.350.dat* contains information about how a Venusian cloud model scatters light at different angles. \n",
    "- Read it in using your favorite numpy function. \n",
    "- Assign the first column to variable *theta*, the second one to variable *flux* and the eigth to variable *pol*.\n",
    "- Make a code that scans *pol* and finds where it changes sign (both + to -, - to +). Print information about the angle *theta* where that happens. Store this information in some way for the next step.\n",
    "- Plot the flux as a function of the scattering angle ( flux(theta) ) and overplot the points where polarization changes sign."
   ]
  },
  {
   "cell_type": "code",
   "execution_count": 7,
   "id": "4d82b504",
   "metadata": {},
   "outputs": [],
   "source": []
  },
  {
   "cell_type": "code",
   "execution_count": 13,
   "id": "54db44c4",
   "metadata": {},
   "outputs": [],
   "source": []
  },
  {
   "cell_type": "code",
   "execution_count": null,
   "id": "2bdfc465",
   "metadata": {},
   "outputs": [],
   "source": []
  },
  {
   "cell_type": "code",
   "execution_count": null,
   "id": "ac85e331",
   "metadata": {},
   "outputs": [],
   "source": []
  },
  {
   "cell_type": "code",
   "execution_count": null,
   "id": "727d9ad5",
   "metadata": {},
   "outputs": [],
   "source": []
  },
  {
   "cell_type": "code",
   "execution_count": null,
   "id": "25cf87e0",
   "metadata": {},
   "outputs": [],
   "source": []
  },
  {
   "cell_type": "code",
   "execution_count": null,
   "id": "b8d50629",
   "metadata": {},
   "outputs": [],
   "source": []
  },
  {
   "cell_type": "markdown",
   "id": "ef3fffb9",
   "metadata": {},
   "source": [
    "### 1. Open and write to a file named 'My_log.txt'. You should:\n",
    "- open the file using the appropriate mode\n",
    "- Use the formating rules we learned in a previous lecture to write in there the sentences: \n",
    "    - 12 eggs cost 1.5456 \n",
    "    - 12 eggs cost 1.546 \n",
    "    - 12 eggs cost 1.55 \n",
    "    \n",
    "  Don't forget to use new lines!"
   ]
  },
  {
   "cell_type": "code",
   "execution_count": 2,
   "id": "8a2d5b1f",
   "metadata": {},
   "outputs": [],
   "source": []
  },
  {
   "cell_type": "code",
   "execution_count": null,
   "id": "54252b00",
   "metadata": {},
   "outputs": [],
   "source": []
  },
  {
   "cell_type": "code",
   "execution_count": null,
   "id": "a2ab8a70",
   "metadata": {},
   "outputs": [],
   "source": []
  },
  {
   "cell_type": "markdown",
   "id": "01797400",
   "metadata": {},
   "source": [
    "### 2.  Use the appropriate numpy functions to make a 3 by 3 numpy array that has all multiples of 3 from 3 up to and including 27. \n",
    "- Print the data from the second column. \n",
    "- Print the data from the third line.\n",
    "- Use the appropriate numpy function to save the data into file \"three_by_three.dat \" and format it as integers\n",
    "- Save the data as a csv file into file \"three_by_three.csv\" using \n",
    "        1) the csv.writer() and \n",
    "        2) pandas dataframe"
   ]
  },
  {
   "cell_type": "code",
   "execution_count": 124,
   "id": "41dd88d3",
   "metadata": {},
   "outputs": [],
   "source": []
  },
  {
   "cell_type": "code",
   "execution_count": null,
   "id": "c4f6b195",
   "metadata": {},
   "outputs": [],
   "source": []
  },
  {
   "cell_type": "code",
   "execution_count": 128,
   "id": "4a0b8332",
   "metadata": {},
   "outputs": [],
   "source": []
  },
  {
   "cell_type": "code",
   "execution_count": 130,
   "id": "9698cacc",
   "metadata": {},
   "outputs": [],
   "source": []
  },
  {
   "cell_type": "code",
   "execution_count": 135,
   "id": "ecf707cd",
   "metadata": {},
   "outputs": [],
   "source": []
  },
  {
   "cell_type": "code",
   "execution_count": null,
   "id": "91256c66",
   "metadata": {},
   "outputs": [],
   "source": []
  },
  {
   "cell_type": "code",
   "execution_count": null,
   "id": "26fc498a",
   "metadata": {},
   "outputs": [],
   "source": []
  },
  {
   "cell_type": "markdown",
   "id": "aab5aba7",
   "metadata": {},
   "source": [
    "### 3. Let's reuse functions! Make a code that scans the book 'Emma.txt' and prints out the shortest and longest word. Skip the first 250 lines of Emma.txt. \n",
    "- Which function that we have built before will you use? Do you need to make any changes to it? Why/why not?\n"
   ]
  },
  {
   "cell_type": "code",
   "execution_count": 136,
   "id": "12cf6a13",
   "metadata": {},
   "outputs": [],
   "source": []
  },
  {
   "cell_type": "code",
   "execution_count": 143,
   "id": "e7d99f8c",
   "metadata": {},
   "outputs": [],
   "source": []
  },
  {
   "cell_type": "code",
   "execution_count": null,
   "id": "03fc8251",
   "metadata": {},
   "outputs": [],
   "source": []
  },
  {
   "cell_type": "code",
   "execution_count": null,
   "id": "39a3c44d",
   "metadata": {},
   "outputs": [],
   "source": []
  },
  {
   "cell_type": "markdown",
   "id": "064aaf1e",
   "metadata": {},
   "source": [
    "### 4. You are given the data from file *spectrum.dat*.  They contain the albedo (reflectivity) of a surface as a function of wavelength.\n",
    "\n",
    "- Read it in variable *my_spec* using the open() function. \n",
    "- Then read in in variables *my_spec_wav* and *my_spec_A* using the *with open* method.\n",
    "- Finally, read it in variable *my_spec_np* using your prefered numpy function. Assign the data to variables *my_spec_np_wav* and *my_spec_np_A*\n",
    "\n",
    "- Plot the reflectivity of the surface to see it (you can use either *my_spec_* * or *my_spec_np*).\n",
    "- Assume there was an error in the database and for wavelengths 0.3 to 0.35 the reflectivity needs to be lowered by 3%. Do it using the data in *my_spec_* * and then in *my_spec_np_* *. Which is easier? Why? What does this mean for reading data?"
   ]
  },
  {
   "cell_type": "code",
   "execution_count": 80,
   "id": "20da7e33",
   "metadata": {},
   "outputs": [],
   "source": []
  },
  {
   "cell_type": "code",
   "execution_count": 92,
   "id": "3190a8c9",
   "metadata": {},
   "outputs": [],
   "source": []
  },
  {
   "cell_type": "code",
   "execution_count": null,
   "id": "3934fa57",
   "metadata": {},
   "outputs": [],
   "source": []
  },
  {
   "cell_type": "code",
   "execution_count": 97,
   "id": "b8ce03a6",
   "metadata": {},
   "outputs": [],
   "source": []
  },
  {
   "cell_type": "code",
   "execution_count": 84,
   "id": "59b0a0f8",
   "metadata": {},
   "outputs": [],
   "source": []
  },
  {
   "cell_type": "code",
   "execution_count": 90,
   "id": "c65c0428",
   "metadata": {},
   "outputs": [],
   "source": []
  },
  {
   "cell_type": "code",
   "execution_count": 87,
   "id": "3215a2e5",
   "metadata": {},
   "outputs": [],
   "source": []
  },
  {
   "cell_type": "code",
   "execution_count": null,
   "id": "99b447b0",
   "metadata": {},
   "outputs": [],
   "source": []
  },
  {
   "cell_type": "code",
   "execution_count": null,
   "id": "5978fc11",
   "metadata": {},
   "outputs": [],
   "source": []
  },
  {
   "cell_type": "code",
   "execution_count": null,
   "id": "70ca9c99",
   "metadata": {},
   "outputs": [],
   "source": []
  },
  {
   "cell_type": "code",
   "execution_count": null,
   "id": "4419ae25",
   "metadata": {},
   "outputs": [],
   "source": []
  },
  {
   "cell_type": "code",
   "execution_count": null,
   "id": "a91f357c",
   "metadata": {},
   "outputs": [],
   "source": []
  },
  {
   "cell_type": "code",
   "execution_count": 103,
   "id": "1d965cd6",
   "metadata": {},
   "outputs": [],
   "source": []
  },
  {
   "cell_type": "code",
   "execution_count": null,
   "id": "313263d6",
   "metadata": {},
   "outputs": [],
   "source": []
  },
  {
   "cell_type": "code",
   "execution_count": 105,
   "id": "6472e099",
   "metadata": {},
   "outputs": [],
   "source": []
  },
  {
   "cell_type": "code",
   "execution_count": null,
   "id": "3df1c280",
   "metadata": {},
   "outputs": [],
   "source": []
  },
  {
   "cell_type": "code",
   "execution_count": 106,
   "id": "3d513143",
   "metadata": {},
   "outputs": [],
   "source": []
  },
  {
   "cell_type": "code",
   "execution_count": null,
   "id": "318da5b0",
   "metadata": {},
   "outputs": [],
   "source": []
  },
  {
   "cell_type": "code",
   "execution_count": 1,
   "id": "a44d8ebd",
   "metadata": {},
   "outputs": [],
   "source": []
  },
  {
   "cell_type": "code",
   "execution_count": null,
   "id": "39021cae",
   "metadata": {},
   "outputs": [],
   "source": []
  },
  {
   "cell_type": "code",
   "execution_count": null,
   "id": "930cb51e",
   "metadata": {},
   "outputs": [],
   "source": []
  },
  {
   "cell_type": "code",
   "execution_count": null,
   "id": "167e2498",
   "metadata": {},
   "outputs": [],
   "source": []
  },
  {
   "cell_type": "code",
   "execution_count": 109,
   "id": "8c0eba45",
   "metadata": {},
   "outputs": [],
   "source": []
  },
  {
   "cell_type": "code",
   "execution_count": null,
   "id": "38e464c0",
   "metadata": {},
   "outputs": [],
   "source": []
  },
  {
   "cell_type": "code",
   "execution_count": null,
   "id": "1a602567",
   "metadata": {},
   "outputs": [],
   "source": []
  },
  {
   "cell_type": "code",
   "execution_count": null,
   "id": "7d71c357",
   "metadata": {},
   "outputs": [],
   "source": []
  },
  {
   "cell_type": "code",
   "execution_count": 113,
   "id": "68331084",
   "metadata": {},
   "outputs": [],
   "source": []
  },
  {
   "cell_type": "code",
   "execution_count": null,
   "id": "b433c65a",
   "metadata": {},
   "outputs": [],
   "source": []
  },
  {
   "cell_type": "code",
   "execution_count": null,
   "id": "3ee58c0b",
   "metadata": {},
   "outputs": [],
   "source": []
  },
  {
   "cell_type": "code",
   "execution_count": null,
   "id": "f0de2bba",
   "metadata": {},
   "outputs": [],
   "source": []
  },
  {
   "cell_type": "code",
   "execution_count": null,
   "id": "ca471726",
   "metadata": {},
   "outputs": [],
   "source": []
  },
  {
   "cell_type": "markdown",
   "id": "1b4a6c55",
   "metadata": {},
   "source": [
    "### 7. Open the pickle readin_pickle.pickle and read it into variable *check_data*. What is the nature of your data? Find the indices of the elements that are <0."
   ]
  },
  {
   "cell_type": "code",
   "execution_count": 9,
   "id": "6cdb0473",
   "metadata": {},
   "outputs": [
    {
     "name": "stdout",
     "output_type": "stream",
     "text": [
      "5.0\n",
      "7.0\n",
      "9.0\n",
      "warning: x <0 wrong value\n",
      "25.0\n",
      "warning: x is too large\n"
     ]
    }
   ],
   "source": [
    "x= [10, 14, 18, -4,  50, 420, -14, 20] \n",
    "for i in range( len( x ) ):\n",
    "    if x[i]>0:\n",
    "        if x[i]<100:\n",
    "            print(x[i]/2.)\n",
    "        else:\n",
    "            print( 'warning: x is too large' )\n",
    "            break\n",
    "    else:\n",
    "        print( 'warning: x <0 wrong value' )"
   ]
  },
  {
   "cell_type": "code",
   "execution_count": null,
   "id": "a68c4c22",
   "metadata": {},
   "outputs": [],
   "source": [
    "\n"
   ]
  },
  {
   "cell_type": "code",
   "execution_count": null,
   "id": "d1c19e86",
   "metadata": {},
   "outputs": [],
   "source": []
  },
  {
   "cell_type": "code",
   "execution_count": null,
   "id": "0abf2158",
   "metadata": {},
   "outputs": [],
   "source": []
  },
  {
   "cell_type": "code",
   "execution_count": null,
   "id": "d7e352f5",
   "metadata": {},
   "outputs": [],
   "source": []
  },
  {
   "cell_type": "code",
   "execution_count": null,
   "id": "7079c9ec",
   "metadata": {},
   "outputs": [],
   "source": []
  },
  {
   "cell_type": "code",
   "execution_count": null,
   "id": "ee3fdd48",
   "metadata": {},
   "outputs": [],
   "source": []
  },
  {
   "cell_type": "code",
   "execution_count": null,
   "id": "e9c02930",
   "metadata": {},
   "outputs": [],
   "source": []
  },
  {
   "cell_type": "code",
   "execution_count": null,
   "id": "f9788238",
   "metadata": {},
   "outputs": [],
   "source": []
  },
  {
   "cell_type": "code",
   "execution_count": null,
   "id": "00db8353",
   "metadata": {},
   "outputs": [],
   "source": []
  },
  {
   "cell_type": "code",
   "execution_count": null,
   "id": "07dd1ba2",
   "metadata": {},
   "outputs": [],
   "source": []
  }
 ],
 "metadata": {
  "kernelspec": {
   "display_name": "Python 3 (ipykernel)",
   "language": "python",
   "name": "python3"
  },
  "language_info": {
   "codemirror_mode": {
    "name": "ipython",
    "version": 3
   },
   "file_extension": ".py",
   "mimetype": "text/x-python",
   "name": "python",
   "nbconvert_exporter": "python",
   "pygments_lexer": "ipython3",
   "version": "3.11.4"
  }
 },
 "nbformat": 4,
 "nbformat_minor": 5
}
