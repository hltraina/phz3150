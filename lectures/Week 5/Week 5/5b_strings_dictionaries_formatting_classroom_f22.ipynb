{
 "cells": [
  {
   "cell_type": "markdown",
   "metadata": {},
   "source": [
    "# Strings, dictionaries & formating"
   ]
  },
  {
   "cell_type": "code",
   "execution_count": null,
   "metadata": {},
   "outputs": [],
   "source": []
  },
  {
   "cell_type": "code",
   "execution_count": 1,
   "metadata": {},
   "outputs": [],
   "source": [
    "#first lets do the appropriate imports:\n",
    "\n",
    "import numpy as np\n",
    "import matplotlib.pyplot as plt"
   ]
  },
  {
   "cell_type": "markdown",
   "metadata": {},
   "source": [
    "## Strings in Python"
   ]
  },
  {
   "cell_type": "markdown",
   "metadata": {},
   "source": [
    "### Strings are sequences of values. Like tuples they are immutable, but you can slice them, access parts of them in a sequence, use them in a traversal."
   ]
  },
  {
   "cell_type": "code",
   "execution_count": 2,
   "metadata": {},
   "outputs": [],
   "source": [
    "my_first_string = 'Hello World!'"
   ]
  },
  {
   "cell_type": "markdown",
   "metadata": {},
   "source": [
    "### you can get the length of the full string with len():"
   ]
  },
  {
   "cell_type": "code",
   "execution_count": 3,
   "metadata": {},
   "outputs": [
    {
     "name": "stdout",
     "output_type": "stream",
     "text": [
      "12\n"
     ]
    }
   ],
   "source": [
    "print( len( my_first_string ) )"
   ]
  },
  {
   "cell_type": "markdown",
   "metadata": {},
   "source": [
    "### You can access elements of the string and slice a string:"
   ]
  },
  {
   "cell_type": "code",
   "execution_count": 4,
   "metadata": {},
   "outputs": [
    {
     "name": "stdout",
     "output_type": "stream",
     "text": [
      "ll\n"
     ]
    }
   ],
   "source": [
    "print( my_first_string [ 2 : 4 ] )"
   ]
  },
  {
   "cell_type": "code",
   "execution_count": 5,
   "metadata": {},
   "outputs": [
    {
     "name": "stdout",
     "output_type": "stream",
     "text": [
      "W\n"
     ]
    }
   ],
   "source": [
    "print( my_first_string[ 6 ] )"
   ]
  },
  {
   "cell_type": "markdown",
   "metadata": {},
   "source": [
    "### You can even use for and while loops (see next week) to access a string element by element (traversal) and do something with it:"
   ]
  },
  {
   "cell_type": "code",
   "execution_count": 6,
   "metadata": {},
   "outputs": [
    {
     "name": "stdout",
     "output_type": "stream",
     "text": [
      "H\n",
      "e\n",
      "l\n",
      "l\n",
      "o\n",
      " \n",
      "W\n",
      "o\n",
      "r\n",
      "l\n",
      "d\n",
      "!\n"
     ]
    }
   ],
   "source": [
    "for i in my_first_string:\n",
    "    print ( i )"
   ]
  },
  {
   "cell_type": "markdown",
   "metadata": {},
   "source": [
    "### but strings are immutable:"
   ]
  },
  {
   "cell_type": "code",
   "execution_count": 7,
   "metadata": {},
   "outputs": [
    {
     "ename": "TypeError",
     "evalue": "'str' object does not support item assignment",
     "output_type": "error",
     "traceback": [
      "\u001b[1;31m---------------------------------------------------------------------------\u001b[0m",
      "\u001b[1;31mTypeError\u001b[0m                                 Traceback (most recent call last)",
      "Cell \u001b[1;32mIn[7], line 1\u001b[0m\n\u001b[1;32m----> 1\u001b[0m my_first_string[ \u001b[38;5;241m0\u001b[39m ] \u001b[38;5;241m=\u001b[39m \u001b[38;5;124m'\u001b[39m\u001b[38;5;124mM\u001b[39m\u001b[38;5;124m'\u001b[39m\n",
      "\u001b[1;31mTypeError\u001b[0m: 'str' object does not support item assignment"
     ]
    }
   ],
   "source": [
    "my_first_string[ 0 ] = 'M'\n"
   ]
  },
  {
   "cell_type": "markdown",
   "metadata": {},
   "source": [
    "### to change it you would need (like with tuples) to make a new one:"
   ]
  },
  {
   "cell_type": "code",
   "execution_count": null,
   "metadata": {},
   "outputs": [],
   "source": [
    "print( id( my_first_string ) )"
   ]
  },
  {
   "cell_type": "code",
   "execution_count": null,
   "metadata": {},
   "outputs": [],
   "source": [
    "my_muted_first_string = 'M' + my_first_string[ 1 : ]"
   ]
  },
  {
   "cell_type": "code",
   "execution_count": null,
   "metadata": {},
   "outputs": [],
   "source": [
    "print( my_muted_first_string )"
   ]
  },
  {
   "cell_type": "code",
   "execution_count": null,
   "metadata": {},
   "outputs": [],
   "source": [
    "print( id( my_muted_first_string ) )"
   ]
  },
  {
   "cell_type": "markdown",
   "metadata": {},
   "source": [
    "### if the name change triggered you, try it with the same name as well:"
   ]
  },
  {
   "cell_type": "code",
   "execution_count": null,
   "metadata": {},
   "outputs": [],
   "source": [
    "my_first_string = 'M' + my_first_string[ 1 : ]\n",
    "\n",
    "print( my_first_string       )\n",
    "print( id( my_first_string ) )"
   ]
  },
  {
   "cell_type": "code",
   "execution_count": null,
   "metadata": {},
   "outputs": [],
   "source": [
    "#let's put the string back to normal:\n",
    "\n",
    "my_first_string = 'Hello World!'"
   ]
  },
  {
   "cell_type": "markdown",
   "metadata": {},
   "source": [
    "### Python offers tools to work with strings like: *string_name.find( letter_you_want )*\n"
   ]
  },
  {
   "cell_type": "code",
   "execution_count": null,
   "metadata": {},
   "outputs": [],
   "source": [
    "# test:\n",
    "print( my_first_string.find( 'l' ) )"
   ]
  },
  {
   "cell_type": "code",
   "execution_count": null,
   "metadata": {},
   "outputs": [],
   "source": [
    "# then :\n",
    "print( my_first_string.find( 'o' ) )"
   ]
  },
  {
   "cell_type": "code",
   "execution_count": null,
   "metadata": {},
   "outputs": [],
   "source": [
    "# or :\n",
    "print( my_first_string.find( 'q' ) )"
   ]
  },
  {
   "cell_type": "markdown",
   "metadata": {},
   "source": [
    "### can you guess what it does?"
   ]
  },
  {
   "cell_type": "code",
   "execution_count": null,
   "metadata": {},
   "outputs": [],
   "source": [
    "#another example if above not obvious:\n",
    "wrd = 'spring'\n",
    "\n",
    "print( wrd.find( 'S' ) )\n",
    "print( wrd.find( 'p' ) )\n",
    "print( wrd.find( 'g' ) )\n"
   ]
  },
  {
   "cell_type": "code",
   "execution_count": null,
   "metadata": {},
   "outputs": [],
   "source": []
  },
  {
   "cell_type": "code",
   "execution_count": null,
   "metadata": {},
   "outputs": [],
   "source": [
    "#also see rfind below"
   ]
  },
  {
   "cell_type": "markdown",
   "metadata": {},
   "source": [
    "### another function you can see: count()"
   ]
  },
  {
   "cell_type": "code",
   "execution_count": null,
   "metadata": {},
   "outputs": [],
   "source": [
    "word_tst = 'Hello World'\n",
    "\n",
    "print( word_tst.count( 'H' ) )\n",
    "print( word_tst.count( 'o' ) )\n",
    "print( word_tst.count( 'l' ) )\n",
    "print( word_tst.count( 'd' ) )\n"
   ]
  },
  {
   "cell_type": "code",
   "execution_count": null,
   "metadata": {},
   "outputs": [],
   "source": [
    "print( word_tst.count( 'h' ) )"
   ]
  },
  {
   "cell_type": "markdown",
   "metadata": {},
   "source": [
    "### Can you guess what .count does?"
   ]
  },
  {
   "cell_type": "markdown",
   "metadata": {},
   "source": [
    "### if you need to read *all* letters w/o caring for upper/lower cases you could:"
   ]
  },
  {
   "cell_type": "code",
   "execution_count": null,
   "metadata": {},
   "outputs": [],
   "source": [
    "up_low_word = 'A SesamE'\n",
    "print( up_low_word.lower().find( 's' ) )\n",
    "print( up_low_word.lower().count( 'a' ) )"
   ]
  },
  {
   "cell_type": "code",
   "execution_count": null,
   "metadata": {},
   "outputs": [],
   "source": []
  },
  {
   "cell_type": "code",
   "execution_count": null,
   "metadata": {},
   "outputs": [],
   "source": []
  },
  {
   "cell_type": "markdown",
   "metadata": {},
   "source": [
    "#### Other things you may find useful:\n",
    "- endswith()\n",
    "- rfind()\n",
    "- strip() \n",
    "     - rstrip()  \n",
    "     - lstrip()\n"
   ]
  },
  {
   "cell_type": "code",
   "execution_count": null,
   "metadata": {},
   "outputs": [],
   "source": [
    "print( word_tst.endswith( 'd' ) )"
   ]
  },
  {
   "cell_type": "code",
   "execution_count": null,
   "metadata": {},
   "outputs": [],
   "source": [
    "print( word_tst.endswith( 'o' ) )"
   ]
  },
  {
   "cell_type": "code",
   "execution_count": null,
   "metadata": {},
   "outputs": [],
   "source": [
    "# word_tst = 'Hello World'\n",
    "print( word_tst.find ('l' ) )\n",
    "print( word_tst.rfind ('l' ) )"
   ]
  },
  {
   "cell_type": "code",
   "execution_count": null,
   "metadata": {},
   "outputs": [],
   "source": [
    "### gives the last place on which you find a letter; can also limit \n",
    "#the search between start and end point:\n",
    "\n",
    "print( word_tst.rfind( 'd' , 0, 4 ) ) ## why?\n",
    "print( word_tst.rfind( 'd' , 0, 12 ) )"
   ]
  },
  {
   "cell_type": "code",
   "execution_count": null,
   "metadata": {},
   "outputs": [],
   "source": [
    "## or:\n",
    "print( word_tst.rindex( 'l' ) )"
   ]
  },
  {
   "cell_type": "code",
   "execution_count": null,
   "metadata": {},
   "outputs": [],
   "source": []
  },
  {
   "cell_type": "code",
   "execution_count": null,
   "metadata": {},
   "outputs": [],
   "source": [
    "a_weird_string = '   hello world   '"
   ]
  },
  {
   "cell_type": "code",
   "execution_count": null,
   "metadata": {},
   "outputs": [],
   "source": [
    "print(  a_weird_string  )"
   ]
  },
  {
   "cell_type": "code",
   "execution_count": null,
   "metadata": {},
   "outputs": [],
   "source": [
    "print( a_weird_string.strip(  ) )"
   ]
  },
  {
   "cell_type": "code",
   "execution_count": null,
   "metadata": {},
   "outputs": [],
   "source": [
    "print( a_weird_string.rstrip( ) )"
   ]
  },
  {
   "cell_type": "code",
   "execution_count": null,
   "metadata": {},
   "outputs": [],
   "source": [
    "print( a_weird_string.lstrip( ) )"
   ]
  },
  {
   "cell_type": "markdown",
   "metadata": {},
   "source": [
    "### you can also define *which* character you want removed from start/end:"
   ]
  },
  {
   "cell_type": "code",
   "execution_count": null,
   "metadata": {},
   "outputs": [],
   "source": [
    "#e.g., \n",
    "another_weird_word = '---test---'"
   ]
  },
  {
   "cell_type": "code",
   "execution_count": null,
   "metadata": {},
   "outputs": [],
   "source": [
    "print( another_weird_word.strip( '-' ) )"
   ]
  },
  {
   "cell_type": "code",
   "execution_count": null,
   "metadata": {},
   "outputs": [],
   "source": [
    "#### you can even search two strings for common elements \n",
    "#    (see next week for the for/if loops):\n",
    "word_1 = 'Lightning and'\n",
    "word_2 = 'the thunder'"
   ]
  },
  {
   "cell_type": "code",
   "execution_count": null,
   "metadata": {},
   "outputs": [],
   "source": [
    "for i in word_1:\n",
    "    if i in word_2:\n",
    "        print( i )"
   ]
  },
  {
   "cell_type": "code",
   "execution_count": null,
   "metadata": {},
   "outputs": [],
   "source": [
    "### or for not common elements:\n",
    "for i in word_1:\n",
    "    if i not in word_2:\n",
    "        print( i )"
   ]
  },
  {
   "cell_type": "code",
   "execution_count": null,
   "metadata": {},
   "outputs": [],
   "source": []
  },
  {
   "cell_type": "markdown",
   "metadata": {},
   "source": [
    "### you can also search in lists containing strings for occurances of words: "
   ]
  },
  {
   "cell_type": "code",
   "execution_count": null,
   "metadata": {},
   "outputs": [],
   "source": [
    "names_compiled = [ 'Mary', 'Jack', 'Ines', 'Lena', 'John' ]"
   ]
  },
  {
   "cell_type": "code",
   "execution_count": null,
   "metadata": {},
   "outputs": [],
   "source": [
    "name_petition  =  'Jack'"
   ]
  },
  {
   "cell_type": "code",
   "execution_count": null,
   "metadata": {},
   "outputs": [],
   "source": [
    "names_compiled[ 0 ] == name_petition"
   ]
  },
  {
   "cell_type": "code",
   "execution_count": null,
   "metadata": {},
   "outputs": [],
   "source": [
    "names_compiled[ 1 ] == name_petition"
   ]
  },
  {
   "cell_type": "code",
   "execution_count": null,
   "metadata": {},
   "outputs": [],
   "source": [
    "# or :\n",
    "\n",
    "if 'Mary' in names_compiled:\n",
    "    print( 'yes' )"
   ]
  },
  {
   "cell_type": "code",
   "execution_count": null,
   "metadata": {},
   "outputs": [],
   "source": []
  },
  {
   "cell_type": "code",
   "execution_count": null,
   "metadata": {},
   "outputs": [],
   "source": []
  },
  {
   "cell_type": "code",
   "execution_count": null,
   "metadata": {},
   "outputs": [],
   "source": [
    "word='piece'\n",
    "\n",
    "count_words = 0\n",
    "word_len = 8\n",
    "\n",
    "with open(\"TP2_text_selection.txt\", \"r\") as f:\n",
    "    for line in f:                         #----> reads the line in the file\n",
    "\n",
    "        q = line.split()                   #----> splits it in words\n",
    "        for i in range( len( q ) ) :       #----> now loops over all words\n",
    "            if len( q[ i ]) == word_len :  #----> if the length of a word is 8 \n",
    "                print(q[i])                #----> it prints the word\n",
    "                count_words =  count_words + 1     # then adds one to the counter \n",
    "        if word in q:                      # it also checks if it found the word I want to search\n",
    "            print('found a:', word, 'in line:', line )\n",
    "            break\n",
    "\n",
    "print('Found',count_words,' words with',word_len,' characters up to here.')   \n",
    "\n",
    "print('------------\\n')\n",
    "print('Printing last line:\\n')\n",
    "print(line[:])\n",
    "print('------------\\n')\n",
    "print('printing a snippet from that line:')\n",
    "print(line[42:66])"
   ]
  },
  {
   "cell_type": "code",
   "execution_count": null,
   "metadata": {},
   "outputs": [],
   "source": [
    "print('test \\n' )\n",
    "print( 'test2 ')"
   ]
  },
  {
   "cell_type": "code",
   "execution_count": null,
   "metadata": {},
   "outputs": [],
   "source": [
    "print(\"This is a raw string. \\n It has a literal backslash followed by an 'n'.\\n\")\n"
   ]
  },
  {
   "cell_type": "code",
   "execution_count": null,
   "metadata": {},
   "outputs": [],
   "source": [
    "##vs:\n",
    "print(r\"This is a raw string.\\n It has a literal backslash followed by an 'n'.\\n\")\n"
   ]
  },
  {
   "cell_type": "code",
   "execution_count": null,
   "metadata": {},
   "outputs": [],
   "source": [
    "#You can add strings together:\n",
    "str1 = 'Hello,'\n",
    "\n",
    "str2 = 'World!'\n",
    "\n",
    "#try it! what happens?\n",
    "print( str1 + str2 )"
   ]
  },
  {
   "cell_type": "code",
   "execution_count": null,
   "metadata": {},
   "outputs": [],
   "source": [
    "### also, a cautionary tale for some print statements: \n",
    "\n",
    "one_number     = 10.\n",
    "another_number = 22."
   ]
  },
  {
   "cell_type": "code",
   "execution_count": null,
   "metadata": {},
   "outputs": [],
   "source": [
    "print( one_number, ' is larger than ', another_number )  # note the commas"
   ]
  },
  {
   "cell_type": "code",
   "execution_count": null,
   "metadata": {},
   "outputs": [],
   "source": [
    "# but if I want it saved as a single string I need to add its parts ***and***\n",
    "# convert the numbers into strings:\n",
    "\n",
    "print( one_number + ' is larger than ' + another_number )   # will err \n"
   ]
  },
  {
   "cell_type": "code",
   "execution_count": null,
   "metadata": {},
   "outputs": [],
   "source": [
    "print( str( one_number ) + ' is larger than ' + str( another_number ) ) # will work"
   ]
  },
  {
   "cell_type": "code",
   "execution_count": null,
   "metadata": {},
   "outputs": [],
   "source": [
    "# and I can store it - if needed for a weird reason -- in a single string: \n",
    "\n",
    "print_string = str( one_number ) + ' is larger than ' + str( another_number )\n",
    "\n",
    "print( print_string )"
   ]
  },
  {
   "cell_type": "code",
   "execution_count": null,
   "metadata": {},
   "outputs": [],
   "source": []
  },
  {
   "cell_type": "code",
   "execution_count": null,
   "metadata": {},
   "outputs": [],
   "source": [
    "### try printing str3 * 3\n",
    "\n",
    "str3 = 'hey '\n",
    "\n",
    "print( str3 * 3 )"
   ]
  },
  {
   "cell_type": "code",
   "execution_count": null,
   "metadata": {},
   "outputs": [],
   "source": []
  },
  {
   "cell_type": "markdown",
   "metadata": {},
   "source": [
    "## Formats in Python"
   ]
  },
  {
   "cell_type": "markdown",
   "metadata": {},
   "source": [
    "### There are different cases where you can encounter formatting in Python. You may need, e.g., to get a variable you scan through (say sample number, wavelength,...) and format it to use in a string (think of file names e.g.)"
   ]
  },
  {
   "cell_type": "code",
   "execution_count": null,
   "metadata": {},
   "outputs": [],
   "source": [
    "### think of a spectrum and for some reason you want to store the intensity at 0.612345 microns\n",
    "### as 0.61_intensity.dat - you need formating to do it automatically"
   ]
  },
  {
   "cell_type": "markdown",
   "metadata": {},
   "source": [
    "### there are a number of different formatting you can encounter:"
   ]
  },
  {
   "cell_type": "markdown",
   "metadata": {},
   "source": [
    "### the .format()"
   ]
  },
  {
   "cell_type": "code",
   "execution_count": null,
   "metadata": {},
   "outputs": [],
   "source": [
    "print( \"In this class we will learn {}\".format( 'Python' ) )\n"
   ]
  },
  {
   "cell_type": "code",
   "execution_count": null,
   "metadata": {},
   "outputs": [],
   "source": [
    "string = ('Apples', 'Oranges' , 'Fruit')\n",
    "\n",
    "print(\"{} and {} are {}\".format( string[ 0 ], string[ 1 ], string[ 2 ] ) )\n"
   ]
  },
  {
   "cell_type": "markdown",
   "metadata": {},
   "source": [
    "### the % operator:"
   ]
  },
  {
   "cell_type": "code",
   "execution_count": null,
   "metadata": {},
   "outputs": [],
   "source": [
    "# <format_string> % <values>  --> also give what string properties you want"
   ]
  },
  {
   "cell_type": "code",
   "execution_count": null,
   "metadata": {},
   "outputs": [],
   "source": [
    "print ( \"This is {0:.1f}% {1}!!\".format(100, \"right\" ) )\n",
    "\n",
    "print ( \"This is {0:.3f}% {1}!!\".format(100, \"right\" ) )"
   ]
  },
  {
   "cell_type": "code",
   "execution_count": null,
   "metadata": {},
   "outputs": [],
   "source": [
    "#let's break this down:\n",
    "# the 2 words to be formated are included here: .format(100, \"right\" ) \n",
    "# which one goes where and how it is formated goes here:   \"This is {0:.1f}% {1}!!\" \n"
   ]
  },
  {
   "cell_type": "code",
   "execution_count": null,
   "metadata": {},
   "outputs": [],
   "source": [
    "#e.g. try this:\n",
    "\n",
    "print( \" {0:.2f} is smaller than {1:.3f} \".format( 90.723, 90.724 ) )"
   ]
  },
  {
   "cell_type": "code",
   "execution_count": null,
   "metadata": {},
   "outputs": [],
   "source": [
    "#or: \n",
    "print( \" {1:.2f} is smaller than {0:.3f} \".format( 90.723, 90.724 ) ) # see how it can go wrong with wrong \n",
    "                                                                      # formating?"
   ]
  },
  {
   "cell_type": "code",
   "execution_count": null,
   "metadata": {},
   "outputs": [],
   "source": [
    "# better:\n",
    "\n",
    "print( \" {0:.3f} is smaller than {1:.3f} \".format( 90.723, 90.724 ) )\n",
    "print( \" {1:.3f} is smaller than {0:.3f} \".format( 90.723, 90.724 ) )"
   ]
  },
  {
   "cell_type": "code",
   "execution_count": null,
   "metadata": {},
   "outputs": [],
   "source": []
  },
  {
   "cell_type": "code",
   "execution_count": null,
   "metadata": {},
   "outputs": [],
   "source": []
  },
  {
   "cell_type": "code",
   "execution_count": null,
   "metadata": {},
   "outputs": [],
   "source": []
  },
  {
   "cell_type": "code",
   "execution_count": null,
   "metadata": {},
   "outputs": [],
   "source": [
    "#also compare:\n",
    "print( '%d %s cost $%.2f' % (12, 'eggs', 1.5456) )\n",
    "print('{0} {1} cost ${2}'.format( 12, 'eggs', 1.5456) )"
   ]
  },
  {
   "cell_type": "code",
   "execution_count": null,
   "metadata": {},
   "outputs": [],
   "source": []
  },
  {
   "cell_type": "markdown",
   "metadata": {},
   "source": [
    "### You can format a float when you want to scan through filenames with specific patterns"
   ]
  },
  {
   "cell_type": "code",
   "execution_count": null,
   "metadata": {},
   "outputs": [],
   "source": [
    "#import numpy as np\n",
    "\n",
    "t = np.arange( 4 )\n",
    "p = np.arange( 5  )/ 12.\n",
    "\n",
    "for i in t:\n",
    "    for j in range( 5 ):\n",
    "        print( \"%.1f K and %.3f bar\" %( t[ i ], p[ j ] ) )"
   ]
  },
  {
   "cell_type": "code",
   "execution_count": null,
   "metadata": {},
   "outputs": [],
   "source": []
  },
  {
   "cell_type": "code",
   "execution_count": null,
   "metadata": {},
   "outputs": [],
   "source": []
  },
  {
   "cell_type": "markdown",
   "metadata": {},
   "source": [
    "## Dictionaries in Python"
   ]
  },
  {
   "cell_type": "markdown",
   "metadata": {},
   "source": [
    "### Dictionaries are like lists, but they have keys."
   ]
  },
  {
   "cell_type": "code",
   "execution_count": null,
   "metadata": {},
   "outputs": [],
   "source": [
    "my_first_dict = dict()"
   ]
  },
  {
   "cell_type": "code",
   "execution_count": null,
   "metadata": {},
   "outputs": [],
   "source": [
    "#print( type( my_first_dict ) )"
   ]
  },
  {
   "cell_type": "markdown",
   "metadata": {},
   "source": [
    "### let's populate the dictionary:"
   ]
  },
  {
   "cell_type": "code",
   "execution_count": null,
   "metadata": {},
   "outputs": [],
   "source": [
    "my_first_dict[ 'one'   ] = 1\n",
    "my_first_dict[ 'two'   ] = 2\n",
    "my_first_dict[ 'three' ] = 3\n",
    "my_first_dict[ 'four'  ] = 4\n"
   ]
  },
  {
   "cell_type": "code",
   "execution_count": null,
   "metadata": {},
   "outputs": [],
   "source": [
    "print( my_first_dict )"
   ]
  },
  {
   "cell_type": "markdown",
   "metadata": {},
   "source": [
    "### 'one', 'two' etc are the keywords of the dictionary. If you want to print the element associated with a keyword:\n"
   ]
  },
  {
   "cell_type": "code",
   "execution_count": null,
   "metadata": {},
   "outputs": [],
   "source": [
    "print( my_first_dict['two'] )"
   ]
  },
  {
   "cell_type": "markdown",
   "metadata": {},
   "source": [
    "### try printing the length of the dictionary. What is it? Why?\n",
    "\n"
   ]
  },
  {
   "cell_type": "code",
   "execution_count": null,
   "metadata": {},
   "outputs": [],
   "source": [
    "print ( len( my_first_dict ) )"
   ]
  },
  {
   "cell_type": "code",
   "execution_count": null,
   "metadata": {},
   "outputs": [],
   "source": [
    "for i in my_first_dict:\n",
    "    print ( i )\n"
   ]
  },
  {
   "cell_type": "code",
   "execution_count": null,
   "metadata": {},
   "outputs": [],
   "source": [
    "for key in my_first_dict:\n",
    "    print( key )"
   ]
  },
  {
   "cell_type": "code",
   "execution_count": null,
   "metadata": {},
   "outputs": [],
   "source": [
    "for i in my_first_dict:\n",
    "    print ( i, my_first_dict[ i ] )\n"
   ]
  },
  {
   "cell_type": "code",
   "execution_count": null,
   "metadata": {},
   "outputs": [],
   "source": []
  },
  {
   "cell_type": "code",
   "execution_count": null,
   "metadata": {},
   "outputs": [],
   "source": []
  },
  {
   "cell_type": "code",
   "execution_count": null,
   "metadata": {},
   "outputs": [],
   "source": [
    "for i in my_first_dict.values():\n",
    "    print ( i )"
   ]
  },
  {
   "cell_type": "code",
   "execution_count": null,
   "metadata": {},
   "outputs": [],
   "source": [
    "for i,j in my_first_dict.items():\n",
    "    print ( i , j)"
   ]
  },
  {
   "cell_type": "code",
   "execution_count": null,
   "metadata": {},
   "outputs": [],
   "source": [
    "for key, val in my_first_dict.items():\n",
    "    print( key, val)"
   ]
  },
  {
   "cell_type": "code",
   "execution_count": null,
   "metadata": {},
   "outputs": [],
   "source": []
  },
  {
   "cell_type": "markdown",
   "metadata": {},
   "source": [
    "### You can also have nested dictionaries :"
   ]
  },
  {
   "cell_type": "code",
   "execution_count": null,
   "metadata": {},
   "outputs": [],
   "source": [
    "#example of nested dictionaries:\n",
    "car1 = {\n",
    "  \"model\" : \"Escape\",\n",
    "  \"make\" : \"Ford\"\n",
    "}\n",
    "car2 = {\n",
    "  \"model\" : \"500\",\n",
    "  \"make\" : \"Fiat\"\n",
    "}\n",
    "car3 = {\n",
    "  \"model\" : \"Tucson\",\n",
    "  \"make\" : \"Hyundai\"\n",
    "}\n"
   ]
  },
  {
   "cell_type": "code",
   "execution_count": null,
   "metadata": {},
   "outputs": [],
   "source": [
    "experiment = {\n",
    "  \"car1\" : car1,\n",
    "  \"car2\" : car2,\n",
    "  \"car3\" : car3\n",
    "}"
   ]
  },
  {
   "cell_type": "code",
   "execution_count": null,
   "metadata": {},
   "outputs": [],
   "source": [
    "print( experiment.keys() )"
   ]
  },
  {
   "cell_type": "code",
   "execution_count": null,
   "metadata": {},
   "outputs": [],
   "source": [
    "print( experiment.values() )"
   ]
  },
  {
   "cell_type": "code",
   "execution_count": null,
   "metadata": {},
   "outputs": [],
   "source": [
    "### what did I just do? let's see:\n",
    "print( experiment.items() )"
   ]
  },
  {
   "cell_type": "code",
   "execution_count": null,
   "metadata": {},
   "outputs": [],
   "source": [
    "#now let's try to print the model of car2:\n",
    "print( experiment['car2']['model'] )\n",
    "\n",
    "# and its make:\n",
    "print( experiment['car2']['make'] )\n"
   ]
  },
  {
   "cell_type": "markdown",
   "metadata": {},
   "source": [
    "### Useful for dictionaries:\n",
    "\n",
    "<dictionary>.get()\n",
    "<dictionary>.update()\n",
    "<dictionary>.items()\n",
    "<dictionary>.values()\n",
    "<dictionary>.clear()\n"
   ]
  },
  {
   "cell_type": "code",
   "execution_count": null,
   "metadata": {},
   "outputs": [],
   "source": [
    "# let's use get() to get the values of specific keywords:\n",
    "\n",
    "print( experiment.get( 'car2' ) )\n",
    "print( experiment.get( 'car1' ) )"
   ]
  },
  {
   "cell_type": "code",
   "execution_count": null,
   "metadata": {},
   "outputs": [],
   "source": []
  },
  {
   "cell_type": "code",
   "execution_count": null,
   "metadata": {},
   "outputs": [],
   "source": [
    "#Assume you have the following dictionary. Suddenly your realized that \n",
    "#the color of the car is wrong and it should be white! ---> use: .update()\n",
    "\n",
    "car = {\n",
    "  \"brand\": \"Ford\",\n",
    "  \"model\": \"Mustang\",\n",
    "  \"color\": \"black\"\n",
    "}\n"
   ]
  },
  {
   "cell_type": "code",
   "execution_count": null,
   "metadata": {},
   "outputs": [],
   "source": [
    "#let's get the color to see what we had first:\n",
    "\n",
    "print( car.get('color') )"
   ]
  },
  {
   "cell_type": "code",
   "execution_count": null,
   "metadata": {},
   "outputs": [],
   "source": [
    "#let's fix its color:\n",
    "\n",
    "car.update( {\"color\": \"white\"} )"
   ]
  },
  {
   "cell_type": "code",
   "execution_count": null,
   "metadata": {},
   "outputs": [],
   "source": [
    "print( car.get('color') ) "
   ]
  },
  {
   "cell_type": "code",
   "execution_count": null,
   "metadata": {},
   "outputs": [],
   "source": [
    "#let's check all our dictionary's items:\n",
    "print( car.items() ) "
   ]
  },
  {
   "cell_type": "code",
   "execution_count": null,
   "metadata": {},
   "outputs": [],
   "source": [
    "#it's keys and then its values:\n",
    "print( car.keys()   )\n",
    "print( car.values() )"
   ]
  },
  {
   "cell_type": "code",
   "execution_count": null,
   "metadata": {},
   "outputs": [],
   "source": []
  },
  {
   "cell_type": "markdown",
   "metadata": {},
   "source": [
    "### You can also add input to a dictionary:"
   ]
  },
  {
   "cell_type": "code",
   "execution_count": null,
   "metadata": {},
   "outputs": [],
   "source": [
    "#let's get back the original car:\n",
    "car = {\n",
    "  \"brand\": \"Ford\",\n",
    "  \"model\": \"Mustang\",\n",
    "  \"color\": \"black\"\n",
    "}\n",
    "\n",
    "print( car )"
   ]
  },
  {
   "cell_type": "code",
   "execution_count": null,
   "metadata": {},
   "outputs": [],
   "source": [
    "#and add to it the year:\n",
    "\n",
    "car[ \"year\" ] = \"1974\"\n",
    "\n",
    "print( car )"
   ]
  },
  {
   "cell_type": "code",
   "execution_count": null,
   "metadata": {},
   "outputs": [],
   "source": []
  },
  {
   "cell_type": "code",
   "execution_count": null,
   "metadata": {},
   "outputs": [],
   "source": []
  },
  {
   "cell_type": "code",
   "execution_count": null,
   "metadata": {},
   "outputs": [],
   "source": []
  },
  {
   "cell_type": "code",
   "execution_count": null,
   "metadata": {},
   "outputs": [],
   "source": []
  },
  {
   "cell_type": "code",
   "execution_count": null,
   "metadata": {},
   "outputs": [],
   "source": []
  },
  {
   "cell_type": "code",
   "execution_count": null,
   "metadata": {},
   "outputs": [],
   "source": []
  },
  {
   "cell_type": "markdown",
   "metadata": {},
   "source": [
    "### 1.  Let's practice using a dictionary (we will see how we can improve this with FOR loops in the future). Make a dictionary that has as keys the names of three sports cars:\n",
    "- Ferrari\n",
    "- Maserati\n",
    "- Lamborgini\n",
    "\n",
    "### The values for every key should be a dictionary with keys the \"speed\" and \"time\" a car moved. The values for every car are given here:\n",
    "\n",
    "car      |Ferrari    |   Maserati  | Lamborgini |\n",
    ":------- |  :------- | :---------- | :--------- |\n",
    "speed    |    100    |       98    |      99    |\n",
    "time     |    2      |      2.2    |   1.99     |\n",
    "\n",
    "### Make a list car_names that has the names of the cars. Call every car one by one, and print an informative statement about how far it moved in meters (e.g., 'The Mustang moved 100 meters' ).  Can you format the distance to have 2 digits accuracy?"
   ]
  },
  {
   "cell_type": "code",
   "execution_count": null,
   "metadata": {},
   "outputs": [],
   "source": []
  },
  {
   "cell_type": "code",
   "execution_count": null,
   "metadata": {},
   "outputs": [],
   "source": []
  },
  {
   "cell_type": "code",
   "execution_count": null,
   "metadata": {},
   "outputs": [],
   "source": []
  },
  {
   "cell_type": "code",
   "execution_count": null,
   "metadata": {},
   "outputs": [],
   "source": []
  },
  {
   "cell_type": "code",
   "execution_count": null,
   "metadata": {},
   "outputs": [],
   "source": []
  },
  {
   "cell_type": "code",
   "execution_count": null,
   "metadata": {},
   "outputs": [],
   "source": []
  },
  {
   "cell_type": "markdown",
   "metadata": {},
   "source": [
    "### 2. Create a tuple *trip_time* that contains the amount of hours a trip takes. Create a tuple *trip_distance* that <br> contains the distance of a given trip in km. <br> Populate *trip_time* with numbers: 1.5, 3.2, 5.6, 14.3, 26.4 and *trip_distance* with 180, 320, 728, 1573, 3326.  <br>Calculate the average speed (remember it is distance/time) of each trip. Can you use plain division of the tuples in a single line to do it?  <br>Why/why not?  After each calculation store the average speed in a tuple called *trip_average_speed* (\"append\" each calculation to the previous tuple). Is the tuple you have at the end the same as at the start? Why/why not? <br> You just realized you made a typo, and the 728 should have been 718! Change the tuple accordingly (and properly) and recalculate and print the new *trip_average_speed* tuple. \n",
    "\n",
    "### Is there a way to do all this much faster?"
   ]
  },
  {
   "cell_type": "code",
   "execution_count": null,
   "metadata": {},
   "outputs": [],
   "source": []
  },
  {
   "cell_type": "code",
   "execution_count": null,
   "metadata": {},
   "outputs": [],
   "source": []
  },
  {
   "cell_type": "code",
   "execution_count": null,
   "metadata": {},
   "outputs": [],
   "source": []
  },
  {
   "cell_type": "code",
   "execution_count": null,
   "metadata": {},
   "outputs": [],
   "source": []
  },
  {
   "cell_type": "code",
   "execution_count": null,
   "metadata": {},
   "outputs": [],
   "source": []
  },
  {
   "cell_type": "code",
   "execution_count": null,
   "metadata": {},
   "outputs": [],
   "source": []
  },
  {
   "cell_type": "markdown",
   "metadata": {},
   "source": [
    "### 3. We have a dictionary with the information about a student. For every student we have have a name, and their scores (0-10) in hw assignments, quizzes and projects:"
   ]
  },
  {
   "cell_type": "code",
   "execution_count": null,
   "metadata": {},
   "outputs": [],
   "source": [
    "student1 = {\n",
    "  \"name\": \"Jane\",\n",
    "  \"homework\": [9.0,7.0,5.0,10.],\n",
    "  \"quizzes\": [8.0,7.0,9.0],\n",
    "  \"projects\": [7.5,9.5]\n",
    "}\n",
    "student2 = {\n",
    "  \"name\": \"Joe\",\n",
    "  \"homework\": [10.0, 3.9, 4.0, 10.0],\n",
    "  \"quizzes\": [5.1, 4.2, 5.0],\n",
    "  \"projects\": [8.9, 2.7]\n",
    "}"
   ]
  },
  {
   "cell_type": "markdown",
   "metadata": {},
   "source": [
    "### Use what we learned today to plot *in the same plot* the homework grades of student1 and student 2. Use no lines, the same symbols and different colors to separate the categories of the assignments. Add a legend with the students' names and a title showing that this is their homework grades."
   ]
  },
  {
   "cell_type": "code",
   "execution_count": null,
   "metadata": {},
   "outputs": [],
   "source": []
  },
  {
   "cell_type": "code",
   "execution_count": null,
   "metadata": {},
   "outputs": [],
   "source": []
  },
  {
   "cell_type": "code",
   "execution_count": null,
   "metadata": {},
   "outputs": [],
   "source": []
  },
  {
   "cell_type": "markdown",
   "metadata": {},
   "source": [
    "### Use what we learned this week to plot *in the same plot* the homework, quizzes, and projects grades of student1. Use no lines, and different colors and symbols to separate the categories of the assignments. Make sure to add a legend so that the reader can understand which color/symbol is what. Add a title with the student's name. "
   ]
  },
  {
   "cell_type": "code",
   "execution_count": null,
   "metadata": {},
   "outputs": [],
   "source": []
  },
  {
   "cell_type": "code",
   "execution_count": null,
   "metadata": {},
   "outputs": [],
   "source": []
  },
  {
   "cell_type": "code",
   "execution_count": null,
   "metadata": {},
   "outputs": [],
   "source": []
  }
 ],
 "metadata": {
  "kernelspec": {
   "display_name": "Python 3 (ipykernel)",
   "language": "python",
   "name": "python3"
  },
  "language_info": {
   "codemirror_mode": {
    "name": "ipython",
    "version": 3
   },
   "file_extension": ".py",
   "mimetype": "text/x-python",
   "name": "python",
   "nbconvert_exporter": "python",
   "pygments_lexer": "ipython3",
   "version": "3.11.4"
  }
 },
 "nbformat": 4,
 "nbformat_minor": 2
}
