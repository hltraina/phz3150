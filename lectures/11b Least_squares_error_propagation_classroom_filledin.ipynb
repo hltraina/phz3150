{
 "cells": [
  {
   "cell_type": "code",
   "execution_count": null,
   "id": "9512a102",
   "metadata": {},
   "outputs": [],
   "source": []
  },
  {
   "cell_type": "code",
   "execution_count": null,
   "id": "4aece695",
   "metadata": {},
   "outputs": [],
   "source": []
  },
  {
   "cell_type": "code",
   "execution_count": 1,
   "id": "e3a7e1ea",
   "metadata": {},
   "outputs": [],
   "source": [
    "import numpy as np\n",
    "import matplotlib.pyplot as plt"
   ]
  },
  {
   "cell_type": "markdown",
   "id": "c172e7e5",
   "metadata": {},
   "source": [
    "### Assume you have this dataset:"
   ]
  },
  {
   "cell_type": "markdown",
   "id": "ff278b45",
   "metadata": {},
   "source": [
    "<img src=\"least_sq_data1.png\" width=550 height=250 />"
   ]
  },
  {
   "cell_type": "markdown",
   "id": "5381366d",
   "metadata": {},
   "source": [
    "### You know that the data should follow an equation of the form:\n",
    "\n",
    "y = a*x +b \n",
    "\n",
    "### but, how do you find the best-fit model? \n"
   ]
  },
  {
   "cell_type": "markdown",
   "id": "ebab408c",
   "metadata": {},
   "source": [
    "### One way would be to try different models, use different a and b parameters and see which one fits the data best right? Let’s try different models of this form:\n"
   ]
  },
  {
   "cell_type": "markdown",
   "id": "1fe30f9e",
   "metadata": {},
   "source": [
    "<img src=\"least_sq_data2.png\" width=550 height=250 />"
   ]
  },
  {
   "cell_type": "markdown",
   "id": "bd4b301e",
   "metadata": {},
   "source": [
    "### which one is the best? "
   ]
  },
  {
   "cell_type": "code",
   "execution_count": null,
   "id": "4248b160",
   "metadata": {},
   "outputs": [],
   "source": []
  },
  {
   "cell_type": "code",
   "execution_count": null,
   "id": "249a74ca",
   "metadata": {},
   "outputs": [],
   "source": []
  },
  {
   "cell_type": "markdown",
   "id": "8515e033",
   "metadata": {},
   "source": [
    "### We need a way to quantify what \"best-fit\" model means "
   ]
  },
  {
   "cell_type": "markdown",
   "id": "4cc15983",
   "metadata": {},
   "source": [
    "### $\\Sigma_i  \\frac{(O_i - E_i )^2}{E_i}$ \n",
    "\n",
    "#### where, $O_i$ is our data and $E_i$ the expected model points"
   ]
  },
  {
   "cell_type": "markdown",
   "id": "f91a03b3",
   "metadata": {},
   "source": [
    "### --> we minimize the sum of the squares of the offsets (\"the residuals\") of the points from the curve; The smaller $R^2$  is, the better the  model fits the data!"
   ]
  },
  {
   "cell_type": "markdown",
   "id": "089d4f78",
   "metadata": {},
   "source": [
    "<img src=\"least_sq_data3.png\" width=550 height=250 />"
   ]
  },
  {
   "cell_type": "code",
   "execution_count": null,
   "id": "a08d166b",
   "metadata": {},
   "outputs": [],
   "source": []
  },
  {
   "cell_type": "markdown",
   "id": "f55ceab2",
   "metadata": {},
   "source": [
    "### So far we ignored that our data can have an error bar. Assuming that the data/measurements are independent of each other and that they are normally distributed, if we have N independent variables $y_i$ with mean $\\mu_i$ and variance $\\sigma^2_i$, we can define $\\chi^2$ as :\n",
    "\n",
    "### $\\chi^2$ = $\\Sigma \\frac{(y_i - \\mu_i)^2}{\\sigma^2_i}$\n",
    "\n",
    "### Note that the error we fit is in the y dimension; we assume that the mean x position is accurate. If $y$ data follow a gaussian (i.e., normal) distribution this process is the chi-square minimization and is the same as least squares fitting – if not you do a least squares \n",
    "\n",
    "### the premise of the $\\chi^2$ test is that the deviations from the model are due to statistical fluctuations due to our limited numbers of observations per bin, i.e. we deal with \"noise\" or Poisson statistics\n"
   ]
  },
  {
   "cell_type": "markdown",
   "id": "18b0b715",
   "metadata": {},
   "source": [
    "#### Important to remember are the  degrees of freedom (dof) : \n",
    "\n",
    "$n = N_{data-points} – N_{fitted-parameters}$\n",
    "\n",
    "#### You want $\\chi^2 / n < 1 $\n"
   ]
  },
  {
   "cell_type": "markdown",
   "id": "98876f21",
   "metadata": {},
   "source": [
    "### General form:\n",
    "\n",
    "## $\\chi ^2 = \\Sigma w_i  (y_i - f_i)^2 $\n",
    "\n",
    "#### where weight $w_i$ can be:\n",
    "\n",
    "- $\\frac{1}{\\sigma_i}$ \n",
    "\n",
    "- $\\frac{1}{f_i}$ \n",
    "\n",
    "#### If observations are correlated we need to calculate the ‘covariance matrix’\n"
   ]
  },
  {
   "cell_type": "code",
   "execution_count": null,
   "id": "19cb1396",
   "metadata": {},
   "outputs": [],
   "source": []
  },
  {
   "cell_type": "markdown",
   "id": "fc878b00",
   "metadata": {},
   "source": [
    "### Let's do some fitting of our own now:"
   ]
  },
  {
   "cell_type": "markdown",
   "id": "50ae3df0",
   "metadata": {},
   "source": [
    "### We observed this data:"
   ]
  },
  {
   "cell_type": "code",
   "execution_count": 2,
   "id": "b6c3a60e",
   "metadata": {},
   "outputs": [],
   "source": [
    "x = np.arange(1,22,1)\n",
    "y = np.array([ 6.89632026, 11.93880672 ,18.51618226, 15.32061411, 23.5375446,  21.62910794,\n",
    " 18.6627083,  24.86024463, 28.89751315, 32.41984013, 30.96236269, 33.45884498,\n",
    " 39.66476063, 34.761296,   39.17902872, 39.13987917, 41.04070812, 47.65140802,\n",
    " 48.76335871, 46.62044392, 53.46507287])"
   ]
  },
  {
   "cell_type": "markdown",
   "id": "95d9a9b5",
   "metadata": {},
   "source": [
    "### Let's visualize it first:"
   ]
  },
  {
   "cell_type": "code",
   "execution_count": 3,
   "id": "b5d89fe3",
   "metadata": {},
   "outputs": [
    {
     "data": {
      "text/plain": [
       "[<matplotlib.lines.Line2D at 0x7fbac7c76890>]"
      ]
     },
     "execution_count": 3,
     "metadata": {},
     "output_type": "execute_result"
    },
    {
     "data": {
      "image/png": "[encoded data removed]",
      "text/plain": [
       "<Figure size 432x432 with 1 Axes>"
      ]
     },
     "metadata": {
      "needs_background": "light"
     },
     "output_type": "display_data"
    }
   ],
   "source": [
    "plt.figure( figsize = (6,6) )\n",
    "plt.plot( x, y, marker = 'p', linestyle = 'none')"
   ]
  },
  {
   "cell_type": "markdown",
   "id": "bbac4340",
   "metadata": {},
   "source": [
    "### what do you think is the underlying model for these data?"
   ]
  },
  {
   "cell_type": "code",
   "execution_count": null,
   "id": "19b048c4",
   "metadata": {},
   "outputs": [],
   "source": []
  },
  {
   "cell_type": "code",
   "execution_count": null,
   "id": "75074827",
   "metadata": {},
   "outputs": [],
   "source": []
  },
  {
   "cell_type": "markdown",
   "id": "98e43eb0",
   "metadata": {},
   "source": [
    "### make a model of the form y_theoretical = ax + b \n",
    "### then scan different values of a $\\in [0.1, 8) $ and b $\\in [0.1, 10) $ ; calculate the ( (y-ytheory)**2/y_theory) and find the minimum. \n"
   ]
  },
  {
   "cell_type": "code",
   "execution_count": 4,
   "id": "867ac5da",
   "metadata": {},
   "outputs": [],
   "source": [
    "a = np.arange( 0.1, 10, 0.1 )\n",
    "b = np.arange( 0.1, 10 , 0.1 ) "
   ]
  },
  {
   "cell_type": "code",
   "execution_count": 5,
   "id": "f9779d71",
   "metadata": {},
   "outputs": [],
   "source": [
    "r_square = np.zeros( ( len( a ), len( b ) ) )\n",
    "\n",
    "for i in range( len( a ) ):\n",
    "    for j in range( len( b ) ):\n",
    "        y_theory           = a[ i ] * x  + b[ j ]\n",
    "        r_square[ i, j ] = np.sum( ( y - y_theory )**2 / y_theory )\n"
   ]
  },
  {
   "cell_type": "code",
   "execution_count": 6,
   "id": "149e97c7",
   "metadata": {},
   "outputs": [
    {
     "name": "stdout",
     "output_type": "stream",
     "text": [
      "6.275464699300539\n",
      "[2.1] [8.4]\n"
     ]
    }
   ],
   "source": [
    "## which is our min?\n",
    "print(np.min(r_square))\n",
    "\n",
    "##where is it?\n",
    "print( a[ np.where( r_square == np.min( r_square ) )[ 0 ] ], \n",
    "       b[ np.where( r_square == np.min( r_square ) )[ 1 ] ] ) "
   ]
  },
  {
   "cell_type": "code",
   "execution_count": 7,
   "id": "74172203",
   "metadata": {},
   "outputs": [
    {
     "data": {
      "image/png": "[encoded data removed]",
      "text/plain": [
       "<Figure size 504x576 with 2 Axes>"
      ]
     },
     "metadata": {
      "needs_background": "light"
     },
     "output_type": "display_data"
    }
   ],
   "source": [
    "### let's see how large the change of our chi^2 is:\n",
    "\n",
    "fig, ax = plt.subplots(1, 1,figsize=(7,8))\n",
    "cp = plt.contourf(b, a, r_square,levels = [ 6,7, 10, 14 ,20, 100, 500,1000, 5000, 10000, 20000],cmap='RdYlBu')\n",
    "plt.clabel(cp, inline=True, \n",
    "          fontsize=24)\n",
    "plt.title('Contour Plot')\n",
    "plt.xlabel('a ',fontsize=24)\n",
    "plt.ylabel('b',fontsize=24)\n",
    "plt.xticks(fontsize=24)\n",
    "plt.yticks(fontsize=24)\n",
    "\n",
    "cbar = fig.colorbar(cp, format='%5.2f')\n",
    "cbar.ax.tick_params(labelsize=20)"
   ]
  },
  {
   "cell_type": "code",
   "execution_count": 8,
   "id": "10dd8cdf",
   "metadata": {},
   "outputs": [
    {
     "name": "stdout",
     "output_type": "stream",
     "text": [
      "(array([20]), array([83])) [2.1] [8.4]\n"
     ]
    }
   ],
   "source": [
    "#use the minimum value to plot your data:\n",
    "#-------------------------------------------------------\n",
    "\n",
    "# find where chi_square is minimum:\n",
    "q  = np.where( r_square == np.min( r_square ) )\n",
    "\n",
    "print(q , a[ q[0] ], b[ q[ 1 ]] )\n",
    "\n",
    "# get the correct model for that minimum:\n",
    "y2 = a[ q[0] ] * x + b[ q[ 1 ] ]\n"
   ]
  },
  {
   "cell_type": "code",
   "execution_count": 9,
   "id": "fbc62818",
   "metadata": {},
   "outputs": [
    {
     "data": {
      "text/plain": [
       "Text(0, 0.5, 'Quantity 2')"
      ]
     },
     "execution_count": 9,
     "metadata": {},
     "output_type": "execute_result"
    },
    {
     "data": {
      "image/png": "[encoded data removed]",
      "text/plain": [
       "<Figure size 432x432 with 1 Axes>"
      ]
     },
     "metadata": {
      "needs_background": "light"
     },
     "output_type": "display_data"
    }
   ],
   "source": [
    "\n",
    "\n",
    "# make the plot:\n",
    "plt.figure( figsize = ( 6, 6 ) )\n",
    "\n",
    "# plot your data:\n",
    "plt.errorbar( x, y, yerr = 2., xerr = 0.5,linestyle='none', marker='o', markersize = 8 )\n",
    "# overplot your minimum chi_square model:\n",
    "plt.plot( x, y2,linestyle = '--' )\n",
    "\n",
    "\n",
    "plt.xticks( fontsize = 20 )\n",
    "plt.yticks( fontsize = 20 )\n",
    "plt.xlabel('Quantity 1', fontsize = 24 )\n",
    "plt.ylabel('Quantity 2', fontsize = 24 ) \n"
   ]
  },
  {
   "cell_type": "markdown",
   "id": "98191b3e",
   "metadata": {},
   "source": [
    "### let's do the same but now using the $\\chi^2$ ( (y-y_theory)**2/sigma**2) and find the minimum; assume $\\sigma = 5$.\n"
   ]
  },
  {
   "cell_type": "code",
   "execution_count": 10,
   "id": "f3c0bd0a",
   "metadata": {},
   "outputs": [],
   "source": [
    "\n",
    "a = np.arange(0.1, 8 , 0.01)\n",
    "b = np.arange(0.1, 10 , 0.01)\n",
    "\n",
    "chi_square = np.zeros( ( len( a ), len( b ) ) )\n",
    "\n",
    "sigma = 5\n",
    "\n",
    "for i in range( len( a ) ):\n",
    "    for j in range( len( b ) ):\n",
    "        y_theory           = a[ i ] * x  + b[ j ]\n",
    "        chi_square[ i, j ] = np.sum( ( y - y_theory )**2 / sigma**2 )\n"
   ]
  },
  {
   "cell_type": "code",
   "execution_count": 11,
   "id": "75955be0",
   "metadata": {},
   "outputs": [
    {
     "name": "stdout",
     "output_type": "stream",
     "text": [
      "5.644147387075356\n"
     ]
    }
   ],
   "source": [
    "print(np.min(chi_square))"
   ]
  },
  {
   "cell_type": "code",
   "execution_count": 12,
   "id": "ddec0a53",
   "metadata": {},
   "outputs": [
    {
     "data": {
      "text/plain": [
       "Text(0, 0.5, 'Quantity 2')"
      ]
     },
     "execution_count": 12,
     "metadata": {},
     "output_type": "execute_result"
    },
    {
     "data": {
      "image/png": "[encoded data removed]",
      "text/plain": [
       "<Figure size 432x432 with 1 Axes>"
      ]
     },
     "metadata": {
      "needs_background": "light"
     },
     "output_type": "display_data"
    }
   ],
   "source": [
    "\n",
    "#use the minimum value to plot your data:\n",
    "q  = np.where( chi_square == np.min( chi_square ) )\n",
    "y2 = a[ q[ 0 ] ]*x + b[ q[ 1 ] ]\n",
    "\n",
    "\n",
    "# make the plot:\n",
    "plt.figure(figsize=(6,6))\n",
    "\n",
    "plt.errorbar(x, y, yerr=sigma, xerr=0.5,linestyle='none', marker='o', markersize = 8)\n",
    "plt.plot(x,y2,linestyle='--')\n",
    "\n",
    "\n",
    "plt.xticks(fontsize =20)\n",
    "plt.yticks(fontsize = 20)\n",
    "plt.xlabel('Quantity 1', fontsize = 24)\n",
    "plt.ylabel('Quantity 2', fontsize = 24)\n"
   ]
  },
  {
   "cell_type": "code",
   "execution_count": null,
   "id": "2e167bb3",
   "metadata": {},
   "outputs": [],
   "source": []
  },
  {
   "cell_type": "markdown",
   "id": "6fa75458",
   "metadata": {},
   "source": [
    "### You will be pleased to know that Python has --of course-- done the work before you, for you....Enter Scipy ( https://www.scipy.org/ ) and its stats package ( https://docs.scipy.org/doc/scipy/reference/stats.html )"
   ]
  },
  {
   "cell_type": "markdown",
   "id": "ea448cd5",
   "metadata": {},
   "source": [
    "### Scipy has packages that do data fitting for you:\n",
    "\n",
    "- least_squares\n",
    "- curve_fit\n",
    "- chisquare\n"
   ]
  },
  {
   "cell_type": "code",
   "execution_count": 13,
   "id": "7ddb4403",
   "metadata": {},
   "outputs": [],
   "source": [
    "from scipy.stats import chisquare"
   ]
  },
  {
   "cell_type": "code",
   "execution_count": 14,
   "id": "ab4502d1",
   "metadata": {},
   "outputs": [],
   "source": [
    "#make a dataset:\n",
    "a1 = np.array( [ 16, 18, 16, 14, 12, 12 ] )  \n",
    "a2 = np.array( [ 16, 16, 16, 16, 16, 8 ] )"
   ]
  },
  {
   "cell_type": "code",
   "execution_count": 15,
   "id": "162c88a9",
   "metadata": {},
   "outputs": [],
   "source": [
    "# call chisquare with y_observations, y_expected_from_model\n",
    "\n",
    "a = chisquare( a1, f_exp = a2  )    "
   ]
  },
  {
   "cell_type": "code",
   "execution_count": 16,
   "id": "f23b6d2a",
   "metadata": {},
   "outputs": [
    {
     "name": "stdout",
     "output_type": "stream",
     "text": [
      "Power_divergenceResult(statistic=3.5, pvalue=0.6233876277495822)\n"
     ]
    }
   ],
   "source": [
    "print( a )"
   ]
  },
  {
   "cell_type": "code",
   "execution_count": null,
   "id": "31463501",
   "metadata": {},
   "outputs": [],
   "source": [
    "## returns chi-squared test statistic and p-value of the test (here you see it is very likely that our \n",
    "## data would have been observed )"
   ]
  },
  {
   "cell_type": "code",
   "execution_count": null,
   "id": "fb45c3eb",
   "metadata": {},
   "outputs": [],
   "source": []
  },
  {
   "cell_type": "markdown",
   "id": "181bfb93",
   "metadata": {},
   "source": [
    "### We observed a target moving at times t and has a displacement s:\n"
   ]
  },
  {
   "cell_type": "code",
   "execution_count": 17,
   "id": "4b781ee4",
   "metadata": {},
   "outputs": [],
   "source": [
    "t = np.arange(1,22,2)\n",
    "s = [ 11.80487185,  46.07654076 , 57.27329417 , 94.31029188, 146.48665845,\n",
    " 185.33660777, 236.5500788,  318.94164082, 388.45874659, 475.7783416,\n",
    " 555.86899163]"
   ]
  },
  {
   "cell_type": "markdown",
   "id": "77e54965",
   "metadata": {},
   "source": [
    "### Can you figure out if the target had a constant velocity u or if it was accelerating? Reminder: \n",
    "- if object had a constant speed: s = u * t + const\n",
    "- if object had an acceleration: s = 0.5 * a* t**2 + u * t + const\n",
    "### assume a$\\in[0.1, 28)$, const $\\in [0.1, 40)$ , u  $\\in [0.1, 40)$"
   ]
  },
  {
   "cell_type": "markdown",
   "id": "b3e1990e",
   "metadata": {},
   "source": [
    "### is there something you can do to get a feeling for what the answer should be?"
   ]
  },
  {
   "cell_type": "code",
   "execution_count": 18,
   "id": "c1a736e4",
   "metadata": {},
   "outputs": [
    {
     "data": {
      "text/plain": [
       "[<matplotlib.lines.Line2D at 0x7fbac9acaa90>]"
      ]
     },
     "execution_count": 18,
     "metadata": {},
     "output_type": "execute_result"
    },
    {
     "data": {
      "image/png": "[encoded data removed]",
      "text/plain": [
       "<Figure size 432x288 with 1 Axes>"
      ]
     },
     "metadata": {
      "needs_background": "light"
     },
     "output_type": "display_data"
    }
   ],
   "source": [
    "plt.plot( t, s, marker ='o', linestyle ='none' )"
   ]
  },
  {
   "cell_type": "code",
   "execution_count": 27,
   "id": "ba6a72b6",
   "metadata": {},
   "outputs": [],
   "source": [
    "#try the constant speed model:\n",
    "a = np.arange( 0.1, 28, 0.5 )\n",
    "u = np.arange( 0.1, 40, 0.5 )\n",
    "c = np.arange( 0.1, 40, 0.5 )"
   ]
  },
  {
   "cell_type": "code",
   "execution_count": 22,
   "id": "cdb1d5e0",
   "metadata": {},
   "outputs": [],
   "source": [
    "# s = u * t + const\n",
    "r_square = np.zeros( ( len( u ), len( c ) ) )\n",
    "\n",
    "\n",
    "for i in range( len( u ) ):\n",
    "    for j in range( len( c ) ):\n",
    "        y_theory           =  u[ i ] * t + c[ j ]\n",
    "        r_square[ i, j ] = np.sum( ( s - y_theory )**2 / y_theory )\n"
   ]
  },
  {
   "cell_type": "code",
   "execution_count": 24,
   "id": "7e987762",
   "metadata": {},
   "outputs": [
    {
     "name": "stdout",
     "output_type": "stream",
     "text": [
      "119.87010810164608\n"
     ]
    }
   ],
   "source": [
    "print( np.min( r_square ))\n",
    "\n",
    "q = np.where( r_square == np.min( r_square ))\n",
    "\n",
    "best_mod_lin = u[ q[0] ] * t + c[ q[ 1 ] ]\n",
    "\n"
   ]
  },
  {
   "cell_type": "code",
   "execution_count": 25,
   "id": "7dcb3fa8",
   "metadata": {},
   "outputs": [
    {
     "data": {
      "text/plain": [
       "[<matplotlib.lines.Line2D at 0x7fbacb2bf990>]"
      ]
     },
     "execution_count": 25,
     "metadata": {},
     "output_type": "execute_result"
    },
    {
     "data": {
      "image/png": "[encoded data removed]",
      "text/plain": [
       "<Figure size 432x288 with 1 Axes>"
      ]
     },
     "metadata": {
      "needs_background": "light"
     },
     "output_type": "display_data"
    }
   ],
   "source": [
    "plt.plot( t, s, marker ='o', linestyle ='none' )\n",
    "plt.plot( t, best_mod_lin)"
   ]
  },
  {
   "cell_type": "code",
   "execution_count": 28,
   "id": "d3f66a7f",
   "metadata": {},
   "outputs": [],
   "source": [
    "# try acceleratiing model:\n",
    "\n",
    "# s = 0.5 * a* t**2 + u * t + const\n",
    "r_square = np.zeros( ( len( u ), len( c ) , len(a) ) )\n",
    "\n",
    "\n",
    "for i in range( len( u ) ):\n",
    "    for j in range( len( c ) ):\n",
    "        for k in range( len( a) ):\n",
    "            y_theory           =  0.5* a[ k ] * t**2 +  u[ i ] * t +c[ j ]\n",
    "            r_square[ i, j , k ] = np.sum( ( s - y_theory )**2 / y_theory )\n"
   ]
  },
  {
   "cell_type": "code",
   "execution_count": 32,
   "id": "a8b2fcc3",
   "metadata": {},
   "outputs": [],
   "source": [
    "q2 = np.where( r_square == np.min( r_square ) ) # 3 elements \n",
    "\n",
    "best_model_acc = 0.5 * a[ q2[ 2 ] ] * t**2 + u[ q2[ 0 ] ] * t + c[ q2[ 1 ] ]"
   ]
  },
  {
   "cell_type": "code",
   "execution_count": 33,
   "id": "3152477a",
   "metadata": {},
   "outputs": [
    {
     "data": {
      "text/plain": [
       "[<matplotlib.lines.Line2D at 0x7fbacb2bcb50>]"
      ]
     },
     "execution_count": 33,
     "metadata": {},
     "output_type": "execute_result"
    },
    {
     "data": {
      "image/png": "[encoded data removed]",
      "text/plain": [
       "<Figure size 432x288 with 1 Axes>"
      ]
     },
     "metadata": {
      "needs_background": "light"
     },
     "output_type": "display_data"
    }
   ],
   "source": [
    "plt.plot( t, s, marker ='o', linestyle ='none' )\n",
    "plt.plot( t, best_mod_lin)\n",
    "plt.plot( t, best_model_acc )"
   ]
  },
  {
   "cell_type": "code",
   "execution_count": null,
   "id": "10492be2",
   "metadata": {},
   "outputs": [],
   "source": [
    "#plot them against the data:"
   ]
  },
  {
   "cell_type": "code",
   "execution_count": null,
   "id": "5225feed",
   "metadata": {},
   "outputs": [],
   "source": []
  },
  {
   "cell_type": "code",
   "execution_count": null,
   "id": "37329e93",
   "metadata": {},
   "outputs": [],
   "source": []
  },
  {
   "cell_type": "markdown",
   "id": "ff70d7a3",
   "metadata": {},
   "source": [
    "### we now know that our car *was* .....!"
   ]
  },
  {
   "cell_type": "code",
   "execution_count": null,
   "id": "9b913819",
   "metadata": {},
   "outputs": [],
   "source": []
  },
  {
   "cell_type": "markdown",
   "id": "fd5fb96e",
   "metadata": {},
   "source": [
    "### Of course, Scipy has already the tools for you to do the fitting:"
   ]
  },
  {
   "cell_type": "code",
   "execution_count": 34,
   "id": "f12e99ec",
   "metadata": {},
   "outputs": [],
   "source": [
    "from scipy.optimize import curve_fit"
   ]
  },
  {
   "cell_type": "code",
   "execution_count": 35,
   "id": "084ba2f5",
   "metadata": {},
   "outputs": [],
   "source": [
    "### set up your function for a car that accelerates:\n",
    "\n",
    "def distance_with_acceleration_print(t, u, c, a):\n",
    "    \"\"\"Calculate the distance travelled with at a constant speed u for a known time\n",
    "    and constant acceleration a.\"\"\"\n",
    "    \n",
    "    print (\"speed=\",u, \"acceleration=\",a, 'constant=',c)\n",
    "    return c + u* t + 0.5 * a * t**2 \n"
   ]
  },
  {
   "cell_type": "code",
   "execution_count": 36,
   "id": "f4836fec",
   "metadata": {},
   "outputs": [
    {
     "name": "stdout",
     "output_type": "stream",
     "text": [
      "speed= 1.0 acceleration= 1.0 constant= 1.0\n",
      "speed= 1.0 acceleration= 1.0 constant= 1.0\n",
      "speed= 1.0 acceleration= 1.0 constant= 1.0\n",
      "speed= 1.0000000149011612 acceleration= 1.0 constant= 1.0\n",
      "speed= 1.0 acceleration= 1.0 constant= 1.0000000149011612\n",
      "speed= 1.0 acceleration= 1.0000000149011612 constant= 1.0\n",
      "speed= 5.220519620817351 acceleration= 1.9931801582084632 constant= 10.931105372534423\n",
      "speed= 5.220519698609155 acceleration= 1.9931801582084632 constant= 10.931105372534423\n",
      "speed= 5.220519620817351 acceleration= 1.9931801582084632 constant= 10.931105535420587\n",
      "speed= 5.220519620817351 acceleration= 1.993180187909162 constant= 10.931105372534423\n",
      "speed= 5.220521177726987 acceleration= 1.9931800082152702 constant= 10.931100393644867\n"
     ]
    }
   ],
   "source": [
    "t2, v2 = curve_fit( distance_with_acceleration_print, t , s, \n",
    "                       absolute_sigma = True, sigma = np.zeros( len( t ) ) + 12 )\n"
   ]
  },
  {
   "cell_type": "code",
   "execution_count": 37,
   "id": "ce3ed3ba",
   "metadata": {},
   "outputs": [
    {
     "name": "stdout",
     "output_type": "stream",
     "text": [
      "speed= 5.220521177726987 acceleration= 1.9931800082152702 constant= 10.931100393644867\n"
     ]
    },
    {
     "data": {
      "text/plain": [
       "Text(0, 0.5, 'Distance')"
      ]
     },
     "execution_count": 37,
     "metadata": {},
     "output_type": "execute_result"
    },
    {
     "data": {
      "image/png": "[encoded data removed]",
      "text/plain": [
       "<Figure size 648x432 with 1 Axes>"
      ]
     },
     "metadata": {
      "needs_background": "light"
     },
     "output_type": "display_data"
    }
   ],
   "source": [
    "# let's compare the fits:\n",
    "\n",
    "\n",
    "y4 = 5.22052 *t + 0.5 * 1.99318 * t**2 + 10.9311\n",
    "\n",
    "plt.figure( figsize = (9, 6 ) )\n",
    "\n",
    "plt.errorbar( t, s, yerr = 12., linestyle = 'none', marker='o', markersize = 8 )\n",
    "\n",
    "# plot the new fit\n",
    "plt.plot( t , y4, linestyle = '--', color = 'magenta', label = 'my funct fit' )\n",
    "\n",
    "# or:\n",
    "plt.plot( t, distance_with_acceleration_print( t, *t2), linestyle='-.', color='forestgreen',label ='scipy fit')\n",
    "\n",
    "plt.xticks(fontsize =20)\n",
    "plt.yticks(fontsize = 20)\n",
    "plt.legend(fontsize = 20)\n",
    "plt.xlabel('Time', fontsize = 24)\n",
    "plt.ylabel('Distance', fontsize = 24)\n",
    "\n",
    "#works nice on this example! Let's see more examples"
   ]
  },
  {
   "cell_type": "markdown",
   "id": "8cb1c0ec",
   "metadata": {},
   "source": [
    "### We have data following this sine function: $ w = a* \\sin(2*\\pi \\frac{t}{b})+c $\n"
   ]
  },
  {
   "cell_type": "code",
   "execution_count": 61,
   "id": "322e0b54",
   "metadata": {},
   "outputs": [],
   "source": [
    "\n",
    "tw = np.arange(1,40,1)\n",
    "w  = np.array([ 3.96838123,  1.2347536 , -0.28659576  ,0.16064933,  2.54715953,  1.27815974,\n",
    " -0.91929229 , 0.01300393 , 3.39636575 , 0.66465094, -1.41158169,  0.93323834,\n",
    "  2.40457184,  0.79842956, -0.15261201 , 0.39569446,  2.97101324 , 0.47594539,\n",
    " -0.91273741 , 0.63033213,  3.57350699 , 1.56527141, -1.60574013 , 1.69854318,\n",
    "  3.0131255   ,1.55600848, -1.67872146,  1.3382831 ,  3.21238516 , 0.32514177,\n",
    " -1.15733227 , 1.25311931,  2.4676918 ,  0.76427433, -1.43557062 , 1.70145249,\n",
    "  2.50683363 , 0.43278036, -0.41304183])"
   ]
  },
  {
   "cell_type": "markdown",
   "id": "f14f1df8",
   "metadata": {},
   "source": [
    "### Let's fit it assuming that a,b and c $\\in [0.1,6)$ and $\\sigma = 0.8$"
   ]
  },
  {
   "cell_type": "code",
   "execution_count": 64,
   "id": "1268e219",
   "metadata": {},
   "outputs": [],
   "source": [
    "a = np.arange( 0.1, 6, 0.1 )\n",
    "b = np.arange( 0.1, 6 , 0.1 )\n",
    "b = np.arange( 0.1, 6 , 0.1 )\n",
    "\n",
    "chi_square = np.zeros( ( len( a ), len( b ), len( c ) ) )\n",
    "\n",
    "sigma = .8\n",
    "\n",
    "for i in range( len( a ) ):\n",
    "    for j in range( len( b ) ):\n",
    "        for k in range( len( c ) ):\n",
    "            w_theory              = a[ i ] * np.sin( 2 * np.pi * tw / b[ j ] ) + c[ k ]\n",
    "            chi_square[ i, j, k ] = np.sum( ( w - w_theory )**2 / sigma**2 )\n",
    "\n"
   ]
  },
  {
   "cell_type": "code",
   "execution_count": 65,
   "id": "a1063cce",
   "metadata": {},
   "outputs": [
    {
     "data": {
      "text/plain": [
       "Text(0, 0.5, 'wave')"
      ]
     },
     "execution_count": 65,
     "metadata": {},
     "output_type": "execute_result"
    },
    {
     "data": {
      "image/png": "[encoded data removed]",
      "text/plain": [
       "<Figure size 864x864 with 1 Axes>"
      ]
     },
     "metadata": {
      "needs_background": "light"
     },
     "output_type": "display_data"
    }
   ],
   "source": [
    "#use the minimum value to plot your data:\n",
    "q = np.where(chi_square == np.min( chi_square ) )\n",
    "#print( np.min(chi_square), a[ q[ 0 ] ], b[ q[ 1 ] ], c[ q[ 2 ] ] )\n",
    "\n",
    "y2 = a[ q[ 0 ] ] * np.sin( 2 * np.pi * tw / b[ q[ 1 ] ] ) + c[ q[ 2 ] ]\n",
    "\n",
    "plt.figure( figsize = ( 12 , 12 ) )\n",
    "\n",
    "plt.errorbar(tw, w, yerr=sigma, xerr = 0.8,linestyle='none', marker='o', markersize = 8)\n",
    "plt.plot(tw, y2,linestyle='--')\n",
    "\n",
    "\n",
    "plt.xticks( fontsize =20)\n",
    "plt.yticks( fontsize = 20)\n",
    "plt.xlabel('time', fontsize = 24)\n",
    "plt.ylabel('wave', fontsize = 24)\n"
   ]
  },
  {
   "cell_type": "code",
   "execution_count": null,
   "id": "c82e03be",
   "metadata": {},
   "outputs": [],
   "source": []
  },
  {
   "cell_type": "markdown",
   "id": "748f0f49",
   "metadata": {},
   "source": [
    "### Is this a sine or cosine function?"
   ]
  },
  {
   "cell_type": "code",
   "execution_count": null,
   "id": "c3dbaf22",
   "metadata": {},
   "outputs": [],
   "source": [
    "\n",
    "\n",
    "tw = np.arange(1,40,1)\n",
    "w  = np.array( [ 2.73155223e+00 , 3.17368658e+00 , 2.08082264e+00,  7.08391866e-01,\n",
    " -1.02196616e-01, -3.66845259e-01, -7.47889353e-01,  8.52096473e-01,\n",
    "  2.13320321e+00,  2.73754612e+00,  2.36456758e+00,  1.66566340e+00,\n",
    " -6.78664125e-01, -1.12492492e-01, -1.92925580e-01,  1.59608994e+00,\n",
    "  2.94364482e+00,  2.39214715e+00,  2.42116101e+00,  7.49597754e-01,\n",
    " -1.26025273e+00, -6.33402949e-01,  8.56344418e-02 , 1.84353600e+00,\n",
    "  2.47992405e+00,  2.76758273e+00,  3.01939636e+00,  4.81326171e-01,\n",
    " -1.12837078e+00, -3.75890761e-02, -1.33917103e+00,  3.20806668e-01,\n",
    "  1.83529070e+00,  2.03098421e+00,  2.33727279e+00,  2.72209809e-03,\n",
    " -6.47557862e-01, -4.87585375e-01, -3.13698707e-01] )\n",
    "\n"
   ]
  },
  {
   "cell_type": "code",
   "execution_count": 66,
   "id": "5ce64fdf",
   "metadata": {},
   "outputs": [],
   "source": [
    "##Test 1:\n",
    "\n",
    "#assume  w = c*np.sin(2*np.pi*t/P)+c\n",
    "\n",
    "\n",
    "a = np.arange(0.1, 10, 0.1)\n",
    "b = np.arange(0.1, 10 , 0.1)\n",
    "b = np.arange(0.1, 10 , 0.1)\n",
    "\n",
    "chi_square = np.zeros((len(a),len(b),len(c)))\n",
    "\n",
    "sigma = .8\n",
    "\n",
    "for i in range(len(a)):\n",
    "    for j in range(len(b)):\n",
    "        for k in range(len(c)):\n",
    "            w_theory              = a[ i ] * np.sin( 2 * np.pi * tw / b[ j ] ) + c[ k ]\n",
    "            chi_square[ i, j, k ] = np.sum( (w - w_theory )**2 /sigma**2 )\n",
    "\n",
    "\n",
    "\n",
    "\n",
    "#use the minimum value to plot your data:\n",
    "q = np.where(chi_square == np.min( chi_square ) )\n",
    "#print(np.min(chi_square), a[q[0]], b[q[1]], c[q[2]])\n",
    "\n",
    "y2 = a[q[0]] * np.sin(2*np.pi*tw/b[q[1]]) + c[q[2]]\n",
    "\n",
    "\n",
    "\n",
    "##Test 2:\n",
    "\n",
    "#assume  w = c*np.cos(2*np.pi*t/P)+c\n",
    "\n",
    "a = np.arange(0.1, 10, 0.1)\n",
    "b = np.arange(0.1, 10 , 0.1)\n",
    "b = np.arange(0.1, 10 , 0.1)\n",
    "\n",
    "chi_square = np.zeros( ( len( a ), len( b ), len( c ) ) )\n",
    "\n",
    "sigma = .8\n",
    "\n",
    "for i in range(len(a)):\n",
    "    for j in range(len(b)):\n",
    "        for k in range(len(c)):\n",
    "            w_theory              = a[ i ] * np.cos(2*np.pi*tw/b[j]) + c[k]\n",
    "            chi_square[ i, j, k ] = np.sum((w-w_theory)**2/sigma**2)\n",
    "\n",
    "\n",
    "\n",
    "\n",
    "#use the minimum value to plot your data:\n",
    "q= np.where(chi_square == np.min(chi_square))\n",
    "#print(np.min(chi_square), a[q[0]], b[q[1]], c[q[2]])\n",
    "\n",
    "y3 = a[q[0]] * np.cos(2*np.pi*tw/b[q[1]]) + c[q[2]]\n"
   ]
  },
  {
   "cell_type": "code",
   "execution_count": 67,
   "id": "dd0e3be4",
   "metadata": {},
   "outputs": [
    {
     "data": {
      "text/plain": [
       "<matplotlib.legend.Legend at 0x7fbaa0de0250>"
      ]
     },
     "execution_count": 67,
     "metadata": {},
     "output_type": "execute_result"
    },
    {
     "data": {
      "image/png": "[encoded data removed]",
      "text/plain": [
       "<Figure size 864x864 with 1 Axes>"
      ]
     },
     "metadata": {
      "needs_background": "light"
     },
     "output_type": "display_data"
    }
   ],
   "source": [
    "plt.figure(figsize=(12,12))\n",
    "\n",
    "plt.errorbar(tw, w, yerr = sigma, xerr = 0.8, linestyle = 'none', marker = 'o', markersize = 8)\n",
    "plt.plot(tw, y2,linestyle='--',color='black', label = 'sin' )\n",
    "plt.plot(tw, y3,linestyle='-.',color='forestgreen', label = 'cos')\n",
    "\n",
    "\n",
    "plt.xticks( fontsize = 20 )\n",
    "plt.yticks( fontsize =  20 )\n",
    "plt.xlabel( 'time', fontsize = 24 )\n",
    "plt.ylabel( 'wave', fontsize = 24 )\n",
    "plt.legend( fontsize =20 )\n"
   ]
  },
  {
   "cell_type": "code",
   "execution_count": null,
   "id": "660657e6",
   "metadata": {},
   "outputs": [],
   "source": []
  },
  {
   "cell_type": "markdown",
   "id": "a2e3388f",
   "metadata": {},
   "source": [
    "### Let's try curvefit:"
   ]
  },
  {
   "cell_type": "code",
   "execution_count": 44,
   "id": "819fb1a1",
   "metadata": {},
   "outputs": [],
   "source": [
    "def wave_funct(tw, p, a, c):\n",
    "    \"\"\"test if your data are a sin function \"\"\"\n",
    "    \n",
    " \n",
    "    return c+ a * np.sin(2*np.pi*tw/p)\n"
   ]
  },
  {
   "cell_type": "code",
   "execution_count": 46,
   "id": "0665f3f3",
   "metadata": {},
   "outputs": [
    {
     "data": {
      "image/png": "[encoded data removed]",
      "text/plain": [
       "<Figure size 864x504 with 1 Axes>"
      ]
     },
     "metadata": {
      "needs_background": "light"
     },
     "output_type": "display_data"
    }
   ],
   "source": [
    "ts, ws = curve_fit(wave_funct, tw , w ) # like this it gets stuck in a local minimum\n",
    "\n",
    "\n",
    "plt.figure(figsize=(12,7))\n",
    "\n",
    "plt.errorbar(tw, w, yerr=sigma, xerr=0.8,linestyle='none', marker='o', markersize = 8)\n",
    "#plt.plot(tw, y2,linestyle='--',color='black')\n",
    "#plt.plot(tw, y3,linestyle='-.',color='forestgreen')\n",
    "plt.plot(tw, wave_funct(tw, *ts),linestyle='-.',color='red',label ='scipy fit')\n",
    "\n",
    "\n",
    "plt.xticks(fontsize =20)\n",
    "plt.yticks(fontsize = 20)\n",
    "plt.xlabel('time', fontsize = 24)\n",
    "plt.ylabel('wave', fontsize = 24)\n",
    "plt.show()\n"
   ]
  },
  {
   "cell_type": "markdown",
   "id": "f6fc15b9",
   "metadata": {},
   "source": [
    "### Oops! What happened here? "
   ]
  },
  {
   "cell_type": "code",
   "execution_count": null,
   "id": "8330c7e2",
   "metadata": {},
   "outputs": [],
   "source": []
  },
  {
   "cell_type": "markdown",
   "id": "a3e46bb8",
   "metadata": {},
   "source": [
    "### curve_fit got stuck in a local minimum....."
   ]
  },
  {
   "cell_type": "markdown",
   "id": "eea79d27",
   "metadata": {},
   "source": [
    "### Caution: some methods are prone to getting stuck in local (not the global) minima! \n"
   ]
  },
  {
   "cell_type": "code",
   "execution_count": null,
   "id": "64a2db5d",
   "metadata": {},
   "outputs": [],
   "source": []
  },
  {
   "cell_type": "code",
   "execution_count": null,
   "id": "28a84262",
   "metadata": {},
   "outputs": [],
   "source": []
  },
  {
   "cell_type": "code",
   "execution_count": null,
   "id": "54c8739c",
   "metadata": {},
   "outputs": [],
   "source": []
  },
  {
   "cell_type": "code",
   "execution_count": null,
   "id": "bf23bd68",
   "metadata": {},
   "outputs": [],
   "source": []
  },
  {
   "cell_type": "markdown",
   "id": "30b5b5d3",
   "metadata": {},
   "source": [
    "### 1. Read practise_reading_numpy.dat from demos/ in a numpy array. Assign its columns to arrays x, y, z, w and q. Plot q(x). Your observations could be a function of the form:\n",
    "\n",
    "- sin( 2 $\\pi \\frac{x}{ P}$ )*A\n",
    "- cos( 2 $\\pi \\frac{x}{ P}$) *A\n",
    "- sin( 2 $\\pi  \\frac{x}{ P}$ ) * $\\log_{10}(\\frac{x}{ B}) $* A\n",
    "- cos( 2 $\\pi \\frac{x}{ P}$) * $\\log_{10}( \\frac{x}{ B} )$ * A\n",
    "\n",
    "### with P, A and B constants. Which is the model that best describes your observations q(x) ? what about z(x) ? Try to find the solution without using curve_fit"
   ]
  },
  {
   "cell_type": "code",
   "execution_count": null,
   "id": "d4f463ba",
   "metadata": {},
   "outputs": [],
   "source": [
    "# read in data:\n",
    "data = \n",
    "\n",
    "#assign columns to variables x, y, z, w and q:\n",
    "\n"
   ]
  },
  {
   "cell_type": "code",
   "execution_count": null,
   "id": "e80e8dbe",
   "metadata": {},
   "outputs": [],
   "source": [
    "# plot it first to get a feeling for what the best-fit model might be from all 4 options:\n"
   ]
  },
  {
   "cell_type": "code",
   "execution_count": null,
   "id": "7439434f",
   "metadata": {},
   "outputs": [],
   "source": [
    "# what do we need to do now? least-squares fitting:\n",
    "\n",
    "#test model sin( 2 $\\pi  \\frac{x}{ P}$ ) * $\\log_{10}(\\frac{x}{ B}) $* A\n",
    "\n",
    "P = np.arange(1, 6, 0.5)\n",
    "B = np.arange(0.5, 1.2 , 0.1)\n",
    "A = np.arange(0.1, 2 , 0.1)\n"
   ]
  },
  {
   "cell_type": "code",
   "execution_count": null,
   "id": "d63c9e2d",
   "metadata": {},
   "outputs": [],
   "source": [
    "# get minimum  and its best fit parameters:\n",
    "r1 =  np.zeros( ( len( P ), len( B ), len( A ) ) )\n",
    "\n",
    "\n",
    "for i in range( len( P ) ):\n",
    "    for j in range( len( B ) ):\n",
    "        for k in range( len( A ) ):\n",
    "            q_theory           = \n",
    "            r1[ i, j, k ] = np.sum( ( q - q_theory )**2 / 1.2**2 )\n",
    "\n"
   ]
  },
  {
   "cell_type": "code",
   "execution_count": null,
   "id": "5ce8a3e6",
   "metadata": {},
   "outputs": [],
   "source": [
    "# check it out:\n",
    "print( np.min( r1 ))"
   ]
  },
  {
   "cell_type": "code",
   "execution_count": null,
   "id": "66078de1",
   "metadata": {},
   "outputs": [],
   "source": [
    "print( np.min( chi_square ) )\n",
    "\n",
    "a = np.where( r1 == np.min( r1 ) )\n",
    "print( 'Best fit P, B and A are:', P[ a[ 0 ] ], B[ a[ 1 ] ], ' and ', A[ a[ 2 ] ] )\n"
   ]
  },
  {
   "cell_type": "code",
   "execution_count": null,
   "id": "973b767c",
   "metadata": {},
   "outputs": [],
   "source": [
    "r2 = np.zeros( ( len( P ), len( B ), len( A ) ) )\n",
    "\n",
    "# test model np.cos(2*np.pi*x/ P )*np.log10(x /B ) * A, \n",
    "for i in range( len( P ) ):\n",
    "    for j in range( len( B ) ):\n",
    "        for k in range( len( A ) ):\n",
    "            q_theory           = \n",
    "            r2[ i, j, k ] = np.sum( ( q - q_theory )**2 / 1.2**2 )\n"
   ]
  },
  {
   "cell_type": "code",
   "execution_count": null,
   "id": "288e913b",
   "metadata": {},
   "outputs": [],
   "source": [
    "# get minimum chi_square and its best fit parameters:\n",
    "\n",
    "# get minimum chi_square and its best fit parameters:\n",
    "\n",
    "print( np.min( r2 ) )\n",
    "\n",
    "a = np.where( r2 == np.min( r2 ) )\n",
    "print( 'Best fit P, B and A are:', P[ a[ 0 ] ], B[ a[ 2 ] ], ' and ', A[ a[ 1 ] ] )\n"
   ]
  },
  {
   "cell_type": "code",
   "execution_count": null,
   "id": "840b4835",
   "metadata": {},
   "outputs": [],
   "source": []
  },
  {
   "cell_type": "code",
   "execution_count": null,
   "id": "d8ce31fb",
   "metadata": {},
   "outputs": [],
   "source": [
    "#### true model that went in this is: sin( 2 $\\pi$ x / P ) * $\\log_{10}( x  ) $ check! with P = 5;"
   ]
  },
  {
   "cell_type": "code",
   "execution_count": null,
   "id": "568e44c2",
   "metadata": {},
   "outputs": [],
   "source": []
  },
  {
   "cell_type": "markdown",
   "id": "39e4a17d",
   "metadata": {},
   "source": [
    "### 2. We have numpy arrays: \n",
    "\n",
    "x = [0.25,0.5,0.75,1.,1.25,1.5,1.75,2.,2.25,2.5, 2.75,3.,3.25,3.5,3.75,4.0,4.25,4.5,4.75,5.0,5.25] \n",
    "\n",
    "y =[14.059, 19.18, 26.26,  25.95, 31.567,  44.464, 49.88,  64.016, 79.34, 93.229, 104.985, 113.425, 130.466, 150.331, 168.620, 185.888, 207.500, 225.716, 241.891, 268.802, 287.936] . \n",
    "\n",
    "### and y-error bars: \n",
    "\n",
    "sigma = [12.536, 13.601, 11.8492, 15.937, 12.6478, 13.927, 11.445, 10.224, 12.981, 10.969, 11.666, 12.060, 10.173, 10.292, 14.507, 12.195, 11.578, 9.321, 12.602, 13.03,8.6004].\n",
    "\n",
    "### - You know that the data should be fit by the model: $a x^2+b x+c$. Create arrays a1, b1 and c1 that scan the range 0 to 10, 0 to 15 and 0 to 10 respectively, with a step of 0.1 (so a1 = np.arange(0, 10, 0.1) ). For each possible combination of (a1, b1, c1) calculate the least square difference of the model to the observations. Which model is the best fit model? Print the best-fit parameters (a1, b1, c1).\n",
    "\n",
    "### - Create a function fit_my_curve(t, a, b, c) that fits a curve of the form $a x^2+b x+c$ and calculates the parameters a,b,c. Use curve_fit to fit the data (see demo). Plot y(x) with errorbars sigma, and overplot the fitted curve. Save figure using the appropriate commands and naming conventions.\n",
    "\n",
    "### - Create a function fit_my_curve_2(params, t, y) that fits a curve of the form $a x^2+b x+c$. Use leastsq to fit the data (see demo). Plot y(x) with errorbars sigma, and overplot the fitted curve. Save figure using the appropriate commands and name conventions."
   ]
  },
  {
   "cell_type": "code",
   "execution_count": null,
   "id": "0311ae50",
   "metadata": {},
   "outputs": [],
   "source": [
    "x = np.array([0.25,0.5,0.75,1.,1.25,1.5,1.75,2.,2.25,2.5, 2.75,3.,3.25,3.5,3.75,4.0,4.25,4.5,4.75,5.0,5.25] )\n",
    "y = np.array([14.059, 19.18, 26.26,  25.95, 31.567,  44.464, 49.88,  64.016, 79.34, 93.229, 104.985, 113.425, \n",
    "     130.466, 150.331, 168.620, 185.888, 207.500, 225.716, 241.891, 268.802, 287.936] )\n",
    "sigma = np.array([12.5357806 , 13.60113206, 11.84892057, 15.93705285, 12.64771554,\n",
    "        13.92678159, 11.44483822, 10.22352192, 12.9813505 , 10.96907422,\n",
    "        11.66618969, 12.0604899 , 10.17309145, 10.29161505, 14.50724923,\n",
    "        12.19490092, 11.57796134, 9.32115802, 12.60187156, 13.0297564 ,\n",
    "        8.60039528])\n"
   ]
  },
  {
   "cell_type": "code",
   "execution_count": null,
   "id": "06310cdc",
   "metadata": {},
   "outputs": [],
   "source": [
    "# do it brute-force first for y = a* x^2+b * x+c\n",
    "\n"
   ]
  },
  {
   "cell_type": "code",
   "execution_count": null,
   "id": "671337d5",
   "metadata": {},
   "outputs": [],
   "source": []
  },
  {
   "cell_type": "code",
   "execution_count": null,
   "id": "92ce5797",
   "metadata": {},
   "outputs": [],
   "source": []
  },
  {
   "cell_type": "code",
   "execution_count": null,
   "id": "fab41fcf",
   "metadata": {},
   "outputs": [],
   "source": [
    "# use fcurve_fit\n",
    "\n"
   ]
  },
  {
   "cell_type": "code",
   "execution_count": null,
   "id": "bd4a5a4c",
   "metadata": {},
   "outputs": [],
   "source": []
  },
  {
   "cell_type": "code",
   "execution_count": null,
   "id": "44e82ef5",
   "metadata": {},
   "outputs": [],
   "source": [
    "#try leastsq: \n",
    "from scipy.optimize import leastsq\n",
    "\n"
   ]
  },
  {
   "cell_type": "code",
   "execution_count": null,
   "id": "63ce0f0a",
   "metadata": {},
   "outputs": [],
   "source": []
  },
  {
   "cell_type": "code",
   "execution_count": null,
   "id": "d804e18c",
   "metadata": {},
   "outputs": [],
   "source": [
    "def fit_my_curve_2(params, t, y):\n",
    "      \"\"\"Calculate the parameters a,b,c for fitting a curve of the form: \n",
    "      a*x^2 + b*x +c .\"\"\"\n",
    "    #note that from reading the manual of leastsq you need to return f(x)- y and the leastsq does the fitting to \n",
    "    #minimize your function's return\n",
    "      return (params[2] + params[1] * t + params[0] * t**2) - y\n",
    "\n",
    "#start from an initial guess:\n",
    "init_guess = [3,8,2]\n",
    "\n",
    "#call leastsq:\n",
    "a = leastsq(fit_my_curve_2, init_guess, args=(x, y))\n",
    "\n",
    "#this returns the fit of a,b,c as: a[0][0],a[0][1] and a[0][2]\n",
    "print(a)\n",
    "#real:  8* x**2+ 12*x + 4\n",
    "print(a[0][0])\n"
   ]
  },
  {
   "cell_type": "markdown",
   "id": "ee09f7e1",
   "metadata": {},
   "source": [
    "## 3. Is there life out there? \n",
    "\n",
    "### You have detected two planets orbiting a star like our Sun and they are in the habitable zone! You need to figure out if they may host life! \n",
    "\n",
    "### Get your observational data from file: knightro_2024_bc_photometry.dat and plot it to see what your observations look like (column 1 is wavelength, columns 2 and 3 and the flux from the two planets)\n",
    "\n",
    "### Get your models from limited_models.dat . Combine up to 3 models at a time and compare with the data. What is the best-fit make up of your your planet?"
   ]
  },
  {
   "cell_type": "code",
   "execution_count": null,
   "id": "31512784",
   "metadata": {},
   "outputs": [],
   "source": [
    "# read the \"actual observations\" we will compare our models with\n",
    "\n",
    "observations = \n",
    "wavelength   = \n",
    "planet1      = \n",
    "planet2      = "
   ]
  },
  {
   "cell_type": "code",
   "execution_count": null,
   "id": "0800f99f",
   "metadata": {},
   "outputs": [],
   "source": [
    "\n",
    "#let's plot the observations to see what we deal with:\n",
    "\n",
    "#plt.figure( figsize= (8,8) )\n",
    "#plt.plot( , marker = 'o' , linestyle = 'none')\n",
    "#plt.plot( , marker = 's' , linestyle = 'none')\n",
    "\n"
   ]
  },
  {
   "cell_type": "code",
   "execution_count": null,
   "id": "e856c36f",
   "metadata": {},
   "outputs": [],
   "source": [
    "#get models; read limited_models.dat; assign: 0: wavelengths, 1: forest, 2: ocean\n",
    "# 3: sand, 4: ice\n",
    "models  =\n",
    "wav_mod = \n",
    "forest  = \n",
    "ocean   = \n",
    "sand    = \n",
    "ice     = "
   ]
  },
  {
   "cell_type": "code",
   "execution_count": null,
   "id": "c47958d2",
   "metadata": {},
   "outputs": [],
   "source": [
    "#plt.figure( figsize= (8, 8) )\n",
    "#plt.plot( wav_mod, sand, marker = 's', linestyle = 'none')"
   ]
  },
  {
   "cell_type": "code",
   "execution_count": null,
   "id": "607fe814",
   "metadata": {},
   "outputs": [],
   "source": [
    "#! notice that models have more points than observations; don't want to compare eggs with oranges...interpolate\n",
    "# to the grid of the observations first:\n",
    "\n",
    "\n",
    "for1 = np.interp( observations[:,0],  wav_mod, forest )\n",
    "oc1 = np.interp( observations[:,0],  wav_mod, ocean)\n",
    "san1 = np.interp( observations[:,0],  wav_mod, sand )\n",
    "ice1 = np.interp( observations[:,0],  wav_mod, ice )"
   ]
  },
  {
   "cell_type": "markdown",
   "id": "4e802601",
   "metadata": {},
   "source": [
    "### now how do we combine them up to 3 at a time and get the best-fit model?"
   ]
  },
  {
   "cell_type": "code",
   "execution_count": null,
   "id": "5c6cd8e6",
   "metadata": {},
   "outputs": [],
   "source": [
    "\n",
    "\n",
    "chisq1 = np.zeros( (10, 10) )  #planet 1\n",
    "chisq2 = np.zeros( (10, 10) )  # planet 2 \n",
    "\n",
    "#let's try forest-ocean-sand:\n",
    "\n",
    "for i in range( len( a ) ):\n",
    " #   for ....\n",
    "       \n",
    "    \n",
    "           \n",
    "# get minimum:\n",
    "\n",
    "min_one       = np.min( chisq1)\n",
    "where_is_that = np.where( chisq1 == min_one )\n",
    "\n",
    "print( \"Planet 1: Min $\\chi^2$ of:\", min_one , 'for model with', where_is_that[0]*10, '% forest, ', \n",
    "      where_is_that[1]*10, '% ocean and', 100-( where_is_that[0]+ where_is_that[1]) *10, '% sand.'  ) \n",
    "\n",
    "min_one2       = np.min( chisq2)\n",
    "where_is_that2 = np.where( chisq2 == min_one2 )\n",
    "\n",
    "print( \"Planet 2: Min $\\chi^2$ of:\", min_one2 , 'for model with', where_is_that2[0]*10, '% forest, ', \n",
    "      where_is_that2[1]*10, '% ocean and', 100-( where_is_that2[0]+ where_is_that2[1]) *10, '% sand.'  ) "
   ]
  },
  {
   "cell_type": "code",
   "execution_count": null,
   "id": "7e4845f5",
   "metadata": {},
   "outputs": [],
   "source": [
    "#let's try forest-sand-ice:\n",
    "chisq1 = np.zeros( (10, 10) )  #planet 1\n",
    "chisq2 = np.zeros( (10, 10) )  # planet 2 \n",
    "\n",
    "\n",
    "for i in range( len( a ) ):\n",
    "    for j in range( len( b ) ):\n",
    "        \n",
    "        #note that I can skip a 3rd for loop because a + b + c needs to be 1. (100% planet);\n",
    "        model_test = a[ i ] * for1 + b[ j ] * san1 + ( 1 -a[ i ] - b[ j ] ) * ice1\n",
    "        \n",
    "        #get the chi-square:\n",
    "        chisq1[ i, j] = np.sum(( ( observations[:,1]-  model_test ) **2)/ model_test**2 )\n",
    "        chisq2[ i, j] = np.sum(( ( observations[:,2]-  model_test ) **2)/ model_test**2 )\n",
    "                    \n",
    "# get minimum:\n",
    "\n",
    "min_one       = np.min( chisq1)\n",
    "where_is_that = np.where( chisq1 == min_one )\n",
    "\n",
    "print( \"Planet 1: Min $\\chi^2$ of:\", min_one , 'for model with', where_is_that[0]*10, '% forest, ', \n",
    "      where_is_that[1]*10, '% sand and', 100-( where_is_that[0]+ where_is_that[1]) *10, '% ice.'  ) \n",
    "\n",
    "min_one2       = np.min( chisq2)\n",
    "where_is_that2 = np.where( chisq2 == min_one2 )\n",
    "\n",
    "print( \"Planet 2: Min $\\chi^2$ of:\", min_one2 , 'for model with', where_is_that2[0]*10, '% forest, ', \n",
    "      where_is_that2[1]*10, '% sand and', 100-( where_is_that2[0]+ where_is_that2[1]) *10, '% ice.'  ) "
   ]
  },
  {
   "cell_type": "code",
   "execution_count": null,
   "id": "c544045d",
   "metadata": {},
   "outputs": [],
   "source": [
    "### and last ocean, sand and ice:\n",
    "\n",
    "#let's try forest-ocean-ice:\n",
    "chisq1 = np.zeros( (10, 10) )  #planet 1\n",
    "chisq2 = np.zeros( (10, 10) )  # planet 2 \n",
    "\n",
    "\n",
    "for i in range( len( a ) ):\n",
    "    for j in range( len( b ) ):\n",
    "        \n",
    "        #note that I can skip a 3rd for loop because a + b + c needs to be 1. (100% planet);\n",
    "        model_test = a[ i ] * san1 + b[ j ] * oc1 + ( 1 -a[ i ] - b[ j ] ) * ice1\n",
    "        \n",
    "        #get the chi-square:\n",
    "        chisq1[ i, j] = np.sum(( ( observations[:,1]-  model_test ) **2)/ model_test**2 )\n",
    "        chisq2[ i, j] = np.sum(( ( observations[:,2]-  model_test ) **2)/ model_test**2 )\n",
    "            \n",
    "# get minimum:\n",
    "\n",
    "min_one       = np.min( chisq1)\n",
    "where_is_that = np.where( chisq1 == min_one )\n",
    "\n",
    "print( \"Planet 1: Min $\\chi^2$ of:\", min_one , 'for model with', where_is_that[0]*10, '% sand, ', \n",
    "      where_is_that[1]*10, '% ocean and', 100-( where_is_that[0]+ where_is_that[1]) *10, '% ice.'  ) \n",
    "\n",
    "min_one2       = np.min( chisq2)\n",
    "where_is_that2 = np.where( chisq2 == min_one2 )\n",
    "\n",
    "print( \"Planet 2: Min $\\chi^2$ of:\", min_one2 , 'for model with', where_is_that2[0]*10, '% sand, ', \n",
    "      where_is_that2[1]*10, '% ocean and', 100-( where_is_that2[0]+ where_is_that2[1]) *10, '% ice.'  ) \n",
    "\n"
   ]
  },
  {
   "cell_type": "code",
   "execution_count": null,
   "id": "4fcf9522",
   "metadata": {},
   "outputs": [],
   "source": [
    "# compare!"
   ]
  },
  {
   "cell_type": "markdown",
   "id": "00df8080",
   "metadata": {},
   "source": [
    "### where do we look for life?"
   ]
  },
  {
   "cell_type": "code",
   "execution_count": null,
   "id": "7ccabe14",
   "metadata": {},
   "outputs": [],
   "source": []
  },
  {
   "cell_type": "markdown",
   "id": "2c173cf6",
   "metadata": {},
   "source": [
    "### 4. You have the measurements x and y (see below). You know that they could be described by one of these models:\n",
    "\n",
    "- y1 = np.pi * x1\n",
    "\n",
    "- y2 = 2*np.pi*x1/16\n",
    "\n",
    "- y3 = 2*np.pi*x1/4  , with x1 = np.linspace(1,100, 20)\n",
    "\n",
    "### Find which model best fits your measurements.\n",
    "\n"
   ]
  },
  {
   "cell_type": "code",
   "execution_count": null,
   "id": "72cb6afa",
   "metadata": {},
   "outputs": [],
   "source": [
    "x= np.linspace(1,100,200)\n",
    "\n",
    "y = np.array([  1.57079633,   2.35224777,   3.1336992 ,   3.91515064,\n",
    "         4.69660208,   5.47805352,   6.25950496,   7.0409564 ,\n",
    "         7.82240784,   8.60385928,   9.38531072,  10.16676216,\n",
    "        10.94821359,  11.72966503,  12.51111647,  13.29256791,\n",
    "        14.07401935,  14.85547079,  15.63692223,  16.41837367,\n",
    "        17.19982511,  17.98127654,  18.76272798,  19.54417942,\n",
    "        20.32563086,  21.1070823 ,  21.88853374,  22.66998518,\n",
    "        23.45143662,  24.23288806,  25.0143395 ,  25.79579093,\n",
    "        26.57724237,  27.35869381,  28.14014525,  28.92159669,\n",
    "        29.70304813,  30.48449957,  31.26595101,  32.04740245,\n",
    "        32.82885389,  33.61030532,  34.39175676,  35.1732082 ,\n",
    "        35.95465964,  36.73611108,  37.51756252,  38.29901396,\n",
    "        39.0804654 ,  39.86191684,  40.64336827,  41.42481971,\n",
    "        42.20627115,  42.98772259,  43.76917403,  44.55062547,\n",
    "        45.33207691,  46.11352835,  46.89497979,  47.67643123,\n",
    "        48.45788266,  49.2393341 ,  50.02078554,  50.80223698,\n",
    "        51.58368842,  52.36513986,  53.1465913 ,  53.92804274,\n",
    "        54.70949418,  55.49094561,  56.27239705,  57.05384849,\n",
    "        57.83529993,  58.61675137,  59.39820281,  60.17965425,\n",
    "        60.96110569,  61.74255713,  62.52400857,  63.30546   ,\n",
    "        64.08691144,  64.86836288,  65.64981432,  66.43126576,\n",
    "        67.2127172 ,  67.99416864,  68.77562008,  69.55707152,\n",
    "        70.33852296,  71.11997439,  71.90142583,  72.68287727,\n",
    "        73.46432871,  74.24578015,  75.02723159,  75.80868303,\n",
    "        76.59013447,  77.37158591,  78.15303734,  78.93448878,\n",
    "        79.71594022,  80.49739166,  81.2788431 ,  82.06029454,\n",
    "        82.84174598,  83.62319742,  84.40464886,  85.1861003 ,\n",
    "        85.96755173,  86.74900317,  87.53045461,  88.31190605,\n",
    "        89.09335749,  89.87480893,  90.65626037,  91.43771181,\n",
    "        92.21916325,  93.00061468,  93.78206612,  94.56351756,\n",
    "        95.344969  ,  96.12642044,  96.90787188,  97.68932332,\n",
    "        98.47077476,  99.2522262 , 100.03367764, 100.81512907,\n",
    "       101.59658051, 102.37803195, 103.15948339, 103.94093483,\n",
    "       104.72238627, 105.50383771, 106.28528915, 107.06674059,\n",
    "       107.84819203, 108.62964346, 109.4110949 , 110.19254634,\n",
    "       110.97399778, 111.75544922, 112.53690066, 113.3183521 ,\n",
    "       114.09980354, 114.88125498, 115.66270641, 116.44415785,\n",
    "       117.22560929, 118.00706073, 118.78851217, 119.56996361,\n",
    "       120.35141505, 121.13286649, 121.91431793, 122.69576937,\n",
    "       123.4772208 , 124.25867224, 125.04012368, 125.82157512,\n",
    "       126.60302656, 127.384478  , 128.16592944, 128.94738088,\n",
    "       129.72883232, 130.51028375, 131.29173519, 132.07318663,\n",
    "       132.85463807, 133.63608951, 134.41754095, 135.19899239,\n",
    "       135.98044383, 136.76189527, 137.54334671, 138.32479814,\n",
    "       139.10624958, 139.88770102, 140.66915246, 141.4506039 ,\n",
    "       142.23205534, 143.01350678, 143.79495822, 144.57640966,\n",
    "       145.3578611 , 146.13931253, 146.92076397, 147.70221541,\n",
    "       148.48366685, 149.26511829, 150.04656973, 150.82802117,\n",
    "       151.60947261, 152.39092405, 153.17237548, 153.95382692,\n",
    "       154.73527836, 155.5167298 , 156.29818124, 157.07963268])\n",
    "\n",
    "#You have a number of theoretical models that are calculated on grade x1 and have values y1, y2, y3...\n",
    "#how do you define which one is the best fit model?\n",
    "\n",
    "\n",
    "\n"
   ]
  },
  {
   "cell_type": "code",
   "execution_count": null,
   "id": "a8b498d1",
   "metadata": {},
   "outputs": [],
   "source": []
  },
  {
   "cell_type": "code",
   "execution_count": null,
   "id": "565f48ac",
   "metadata": {},
   "outputs": [],
   "source": []
  },
  {
   "cell_type": "code",
   "execution_count": null,
   "id": "15a14a67",
   "metadata": {},
   "outputs": [],
   "source": []
  },
  {
   "cell_type": "code",
   "execution_count": null,
   "id": "7966a4fa",
   "metadata": {},
   "outputs": [],
   "source": [
    "# do least square; and minimize"
   ]
  },
  {
   "cell_type": "code",
   "execution_count": null,
   "id": "6eddf276",
   "metadata": {},
   "outputs": [],
   "source": []
  },
  {
   "cell_type": "code",
   "execution_count": null,
   "id": "f2d072af",
   "metadata": {},
   "outputs": [],
   "source": [
    "### best model is ..."
   ]
  },
  {
   "cell_type": "code",
   "execution_count": null,
   "id": "652ac7b0",
   "metadata": {},
   "outputs": [],
   "source": []
  },
  {
   "cell_type": "markdown",
   "id": "84b81272",
   "metadata": {},
   "source": [
    "# Error propagation"
   ]
  },
  {
   "cell_type": "markdown",
   "id": "3d8a3227",
   "metadata": {},
   "source": [
    "### Quantities you measure have errors. How do you calculate the error of a quantity that is a combination of different measurements?  --> error propagation"
   ]
  },
  {
   "cell_type": "markdown",
   "id": "c71c3eb5",
   "metadata": {},
   "source": [
    "### Assume you have observations y and x with errorbars yerr and xerr as here:"
   ]
  },
  {
   "cell_type": "code",
   "execution_count": 47,
   "id": "18967ef5",
   "metadata": {},
   "outputs": [],
   "source": [
    "#define your parameters X and Y\n",
    "x = np.linspace(1,100,400)\n",
    "y = np.linspace(4,20,400)**.5\n",
    "\n",
    "#define some random errorbars for your X and Y\n",
    "x_err = np.random.random(len(x))*.5\n",
    "y_err = np.random.random(len(y))*1.5\n"
   ]
  },
  {
   "cell_type": "code",
   "execution_count": 48,
   "id": "7b856f75",
   "metadata": {},
   "outputs": [
    {
     "data": {
      "text/plain": [
       "(array([0., 1., 2., 3., 4., 5., 6., 7.]),\n",
       " [Text(0, 0, ''),\n",
       "  Text(0, 0, ''),\n",
       "  Text(0, 0, ''),\n",
       "  Text(0, 0, ''),\n",
       "  Text(0, 0, ''),\n",
       "  Text(0, 0, ''),\n",
       "  Text(0, 0, ''),\n",
       "  Text(0, 0, '')])"
      ]
     },
     "execution_count": 48,
     "metadata": {},
     "output_type": "execute_result"
    },
    {
     "data": {
      "image/png": "[encoded data removed]",
      "text/plain": [
       "<Figure size 864x576 with 1 Axes>"
      ]
     },
     "metadata": {
      "needs_background": "light"
     },
     "output_type": "display_data"
    }
   ],
   "source": [
    "#Let's see what we \"observed\":\n",
    "plt.figure( figsize = ( 12, 8) )\n",
    "plt.errorbar(x,y, xerr=x_err, yerr= y_err ,linestyle='none',marker='d')\n",
    "plt.xlabel('X',fontsize = 30)\n",
    "plt.ylabel('Y', fontsize = 30)\n",
    "plt.xticks(fontsize = 30)\n",
    "plt.yticks(fontsize = 30)"
   ]
  },
  {
   "cell_type": "markdown",
   "id": "411ad44b",
   "metadata": {},
   "source": [
    "### Now assume that y and x are connected in a physical law with a quantity f like f = x * y (e.g., y could be the mass of a body, x its acceleration and f the force applied on the body). "
   ]
  },
  {
   "cell_type": "markdown",
   "id": "77595d18",
   "metadata": {},
   "source": [
    "### Calculate f and plot f(x):"
   ]
  },
  {
   "cell_type": "code",
   "execution_count": 49,
   "id": "3fc9b9ed",
   "metadata": {},
   "outputs": [
    {
     "data": {
      "text/plain": [
       "(array([-100.,    0.,  100.,  200.,  300.,  400.,  500.]),\n",
       " [Text(0, 0, ''),\n",
       "  Text(0, 0, ''),\n",
       "  Text(0, 0, ''),\n",
       "  Text(0, 0, ''),\n",
       "  Text(0, 0, ''),\n",
       "  Text(0, 0, ''),\n",
       "  Text(0, 0, '')])"
      ]
     },
     "execution_count": 49,
     "metadata": {},
     "output_type": "execute_result"
    },
    {
     "data": {
      "image/png": "[encoded data removed]",
      "text/plain": [
       "<Figure size 864x576 with 1 Axes>"
      ]
     },
     "metadata": {
      "needs_background": "light"
     },
     "output_type": "display_data"
    }
   ],
   "source": [
    "f = x *y\n",
    "\n",
    "plt.figure( figsize = ( 12, 8 ) )\n",
    "plt.errorbar(x,f, xerr=x_err ,linestyle='none',marker='d')\n",
    "plt.xlabel('X',fontsize = 30)\n",
    "plt.ylabel('f = x* y', fontsize = 30)\n",
    "plt.xticks(fontsize = 30)\n",
    "plt.yticks(fontsize = 30)"
   ]
  },
  {
   "cell_type": "markdown",
   "id": "f77ce78e",
   "metadata": {},
   "source": [
    "### What is the error that I should assign to f? I know the error of x and y and I know how x and y give me f..."
   ]
  },
  {
   "cell_type": "markdown",
   "id": "c0bf8698",
   "metadata": {},
   "source": [
    "### Assuming you have measured x and y with errors $\\delta$x and $\\delta$y that are INDEPENDENT of each other, the error of $f = f(x, y )$ is given by:\n",
    "\n",
    "### $\\delta f = \\sqrt{ (\\frac{\\partial f(x,y)}{\\partial x} \\delta x)^2 + (\\frac{\\partial f(x,y)}{\\partial y} \\delta y)^2 }$\n"
   ]
  },
  {
   "cell_type": "markdown",
   "id": "b3834cc7",
   "metadata": {},
   "source": [
    "#### If you don't know what $\\frac{\\partial f(x,y)}{\\partial x}$ means it is $\\sim \\frac{df(y)}{dx}$, so for the error propagation example here assume that f(x,y) is \n",
    "- $f_y(x)$ and do the differentiation of f over x ignoring its y dependence; and\n",
    "- $f_x(y)$ and do the differentiation of f over y ignoring its x dependence\n"
   ]
  },
  {
   "cell_type": "markdown",
   "id": "490e4991",
   "metadata": {},
   "source": [
    "#### with $f = x * y $ we would get $\\frac{\\partial f(x,y)}{\\partial x} = y $ and $\\frac{\\partial f(x,y)}{\\partial y} = x $ so: $f_{err} = \\sqrt{ (y*\\delta x)^2 + (x* \\delta y)^2 )}$\n",
    " "
   ]
  },
  {
   "cell_type": "code",
   "execution_count": 50,
   "id": "a36d3792",
   "metadata": {},
   "outputs": [
    {
     "data": {
      "text/plain": [
       "(array([-100.,    0.,  100.,  200.,  300.,  400.,  500.,  600.,  700.]),\n",
       " [Text(0, 0, ''),\n",
       "  Text(0, 0, ''),\n",
       "  Text(0, 0, ''),\n",
       "  Text(0, 0, ''),\n",
       "  Text(0, 0, ''),\n",
       "  Text(0, 0, ''),\n",
       "  Text(0, 0, ''),\n",
       "  Text(0, 0, ''),\n",
       "  Text(0, 0, '')])"
      ]
     },
     "execution_count": 50,
     "metadata": {},
     "output_type": "execute_result"
    },
    {
     "data": {
      "image/png": "[encoded data removed]",
      "text/plain": [
       "<Figure size 864x576 with 1 Axes>"
      ]
     },
     "metadata": {
      "needs_background": "light"
     },
     "output_type": "display_data"
    }
   ],
   "source": [
    "f_err = np.sqrt( (y*x_err)**2 + (x*y_err)**2 )\n",
    "\n",
    "\n",
    "plt.figure( figsize = ( 12, 8 ) )\n",
    "plt.errorbar(x,f, xerr=x_err, yerr = f_err, linestyle='none',marker='d')\n",
    "plt.xlabel('X',fontsize = 30)\n",
    "plt.ylabel('f = x* y', fontsize = 30)\n",
    "plt.xticks(fontsize = 30)\n",
    "plt.yticks(fontsize = 30)"
   ]
  },
  {
   "cell_type": "markdown",
   "id": "c3320388",
   "metadata": {},
   "source": [
    "### Let's try a function: $f = \\frac{x }{ y^2 }$"
   ]
  },
  {
   "cell_type": "code",
   "execution_count": 51,
   "id": "035c79ae",
   "metadata": {},
   "outputs": [],
   "source": [
    "f = x/ y**2"
   ]
  },
  {
   "cell_type": "markdown",
   "id": "c087912f",
   "metadata": {},
   "source": [
    "### Use error propagation to get $\\delta f$"
   ]
  },
  {
   "cell_type": "markdown",
   "id": "304aeb2f",
   "metadata": {},
   "source": [
    "#### $\\frac{\\partial f(x,y)}{\\partial x} = ?? $\n",
    "\n",
    "#### $\\frac{\\partial f(x,y)}{\\partial y} = ?? $"
   ]
  },
  {
   "cell_type": "code",
   "execution_count": 52,
   "id": "1e64fea6",
   "metadata": {},
   "outputs": [],
   "source": [
    "f_err = np.sqrt( (x_err/y**2)**2 + ( -2* x * y_err /y**3) **2 )\n"
   ]
  },
  {
   "cell_type": "code",
   "execution_count": 53,
   "id": "f4d3029f",
   "metadata": {},
   "outputs": [
    {
     "data": {
      "text/plain": [
       "(array([1.e-02, 1.e-01, 1.e+00, 1.e+01, 1.e+02]),\n",
       " [Text(0, 0, ''),\n",
       "  Text(0, 0, ''),\n",
       "  Text(0, 0, ''),\n",
       "  Text(0, 0, ''),\n",
       "  Text(0, 0, '')])"
      ]
     },
     "execution_count": 53,
     "metadata": {},
     "output_type": "execute_result"
    },
    {
     "data": {
      "image/png": "[encoded data removed]",
      "text/plain": [
       "<Figure size 864x576 with 1 Axes>"
      ]
     },
     "metadata": {
      "needs_background": "light"
     },
     "output_type": "display_data"
    }
   ],
   "source": [
    "#Let's see what we got in a plot :\n",
    "\n",
    "plt.figure( figsize = ( 12, 8) )\n",
    "\n",
    "plt.errorbar(x, f, xerr = x_err, yerr= f_err ,linestyle='none',marker='d')\n",
    "plt.xlabel('X',fontsize = 30)\n",
    "plt.ylabel('f = x/ y$^2$', fontsize = 30)\n",
    "plt.yscale('log')\n",
    "plt.xticks(fontsize = 30)\n",
    "plt.yticks(fontsize = 30)\n"
   ]
  },
  {
   "cell_type": "markdown",
   "id": "c98348f0",
   "metadata": {},
   "source": [
    "### Let's try a function: $f = \\cos(x) *\\sin(\\frac{y}{4})$"
   ]
  },
  {
   "cell_type": "code",
   "execution_count": null,
   "id": "0cc24e6b",
   "metadata": {},
   "outputs": [],
   "source": [
    "#use error propagation to calculate the error in f:\n",
    "\n",
    "f = np.cos(x) * np.sin(y/4.)\n",
    "\n",
    "# df/dx = ?\n",
    "# df/ dy = ?"
   ]
  },
  {
   "cell_type": "code",
   "execution_count": null,
   "id": "f9de42a2",
   "metadata": {},
   "outputs": [],
   "source": [
    "dfdx = \n",
    "dfdy = \n",
    "f_err = np.sqrt( (dfdx * x_err) **2 + (dfdy *y_err) ** 2 )\n",
    "\n"
   ]
  },
  {
   "cell_type": "code",
   "execution_count": null,
   "id": "288bd543",
   "metadata": {},
   "outputs": [],
   "source": [
    "\n",
    "#Let's see what we got :\n",
    "plt.figure( figsize = ( 12, 8 ) )\n",
    "plt.errorbar( x, f, xerr = x_err, yerr = f_err ,linestyle='none',marker='d')\n",
    "plt.xlabel('X',fontsize = 30)\n",
    "plt.ylabel(r'f = cos(x) *sin($ \\frac{y}{4}$ )', fontsize = 30)\n",
    "plt.xticks(fontsize = 30)\n",
    "plt.yticks(fontsize = 30)\n",
    "plt.ylim( -1, 1)"
   ]
  },
  {
   "cell_type": "code",
   "execution_count": null,
   "id": "0bafed69",
   "metadata": {},
   "outputs": [],
   "source": []
  },
  {
   "cell_type": "markdown",
   "id": "0a1e2656",
   "metadata": {},
   "source": [
    "### Let's try a function: $f = e^x  * \\ln(y^2)$"
   ]
  },
  {
   "cell_type": "code",
   "execution_count": null,
   "id": "a62bea7c",
   "metadata": {},
   "outputs": [],
   "source": [
    "# get f:\n",
    "\n",
    "f = np.exp(x) * np.log(y**2)"
   ]
  },
  {
   "cell_type": "code",
   "execution_count": null,
   "id": "4a96951e",
   "metadata": {},
   "outputs": [],
   "source": [
    "## what is df/dx?\n",
    "## what is df/dy?"
   ]
  },
  {
   "cell_type": "code",
   "execution_count": null,
   "id": "404bf105",
   "metadata": {},
   "outputs": [],
   "source": [
    "# get df:\n",
    "\n",
    "dfdx = \n",
    "dfdy = \n",
    "\n",
    "f_err = np.sqrt( ( dfdx * x_err ) ** 2 + ( dfdy *y_err )**2 )\n",
    "\n"
   ]
  },
  {
   "cell_type": "code",
   "execution_count": null,
   "id": "1b8ce3ab",
   "metadata": {},
   "outputs": [],
   "source": [
    "\n",
    "#Let's see what we plotted:\n",
    "plt.figure( figsize = (12, 8) )\n",
    "plt.errorbar( x, f, xerr=x_err, yerr = f_err ,linestyle='none',marker='d')\n",
    "plt.xlabel('X',fontsize = 30)\n",
    "plt.ylabel('f = e$^x$ *ln(y$^2$)', fontsize = 30)\n",
    "plt.xlim( 90, 100)\n",
    "plt.xticks(fontsize = 30)\n",
    "plt.yticks(fontsize = 30)\n"
   ]
  },
  {
   "cell_type": "code",
   "execution_count": null,
   "id": "13870331",
   "metadata": {},
   "outputs": [],
   "source": []
  },
  {
   "cell_type": "markdown",
   "id": "b4f10d5b",
   "metadata": {},
   "source": [
    "### Practicum time. \n",
    "\n",
    "### 1. You know that the radius of the Earth is 6,356 km. Assume its mantle and core cause a negligible refraction to seismic p waves. A seismic p-wave travels at 5.6km/ s and hits place A at 10: 00: 09 and place B on the other side of the Earth at 10: 37: 40. What was the depth of the epicenter?\n",
    "\n",
    "<img src=\"earthquake.png\" width=350 height=350 />"
   ]
  },
  {
   "cell_type": "code",
   "execution_count": null,
   "id": "6e5a2cdd",
   "metadata": {},
   "outputs": [],
   "source": []
  },
  {
   "cell_type": "code",
   "execution_count": null,
   "id": "fbd56c89",
   "metadata": {},
   "outputs": [],
   "source": []
  },
  {
   "cell_type": "markdown",
   "id": "29c56f8e",
   "metadata": {},
   "source": [
    "### 2.  You are given arrays with observations x and y, and the corresponding error in the measurement x_err and y_err. What are the corresponding values and error-bars for quantity $f(x,y) = x* \\sin( y ) + \\sqrt[3]{x} $ ? "
   ]
  },
  {
   "cell_type": "code",
   "execution_count": null,
   "id": "7751cdb4",
   "metadata": {},
   "outputs": [],
   "source": [
    "x = np.array( [ 42.3, 12.5, 44,6, 18.3, 15.7, 82.1, 65.4, 75.6, 53.2, 22.3, 35., 55.2, 56.4, 80.2, 86., 68.  ] )\n",
    "x_err = np.array([2.81375368, 0.08540501, 1.87199234, 0.34497076, 0.29795455, 0.78227453, 0.15090837, 2.8244208 , \n",
    "                 6.16508509, 3.33874134, 1.29143933, 1.62802492, 4.23052681, 3.42807668, 2.87669011, 2.55536329, \n",
    "                 3.04274511])\n",
    "\n",
    "y = np.array([19.19384502,  7.28553391, 19.83324958,  4.24948974,  9.76784993, 8.67232255, 33.69090503, 27.70702665, \n",
    "              31.37482605, 23.25383301, 11.41228758, 16.41607978, 23.98967025, 24.42999334, 33.01544527, 35.0736185 ,\n",
    "              28.64621125])\n",
    "y_err = np.array([0.26509302, 0.0134772 , 0.41862496, 0.03052536, 0.02950779, 0.33969798, 1.54278188, 0.27892291, \n",
    "                 0.80318125, 0.46434622, 0.51352369, 0.65397114, 1.04427   , 0.91616869, 0.63403263, 1.00469923,\n",
    "                 0.67141604])"
   ]
  },
  {
   "cell_type": "code",
   "execution_count": null,
   "id": "b3d17456",
   "metadata": {},
   "outputs": [],
   "source": []
  },
  {
   "cell_type": "code",
   "execution_count": null,
   "id": "f759702a",
   "metadata": {},
   "outputs": [],
   "source": []
  },
  {
   "cell_type": "code",
   "execution_count": null,
   "id": "2744e70e",
   "metadata": {},
   "outputs": [],
   "source": []
  },
  {
   "cell_type": "code",
   "execution_count": null,
   "id": "5cbd4633",
   "metadata": {},
   "outputs": [],
   "source": []
  },
  {
   "cell_type": "markdown",
   "id": "8ef0149e",
   "metadata": {},
   "source": [
    "### 3. Let's create a Python code that mimics unix commands 'cat', 'head -N' and 'wc'. For this problem you need to use file 'random_text.txt' from a previous demo. First let's refresh our minds about what these commands do....Then try to code a Python program that mimics these commands."
   ]
  },
  {
   "cell_type": "code",
   "execution_count": null,
   "id": "bf6c5a47",
   "metadata": {},
   "outputs": [],
   "source": [
    "# cat: concatinates the file -- shows you the whole text. How do we code this in Python?\n",
    "\n"
   ]
  },
  {
   "cell_type": "code",
   "execution_count": null,
   "id": "877c7914",
   "metadata": {},
   "outputs": [],
   "source": [
    "# head -N gives you the N first lines of the file. How do we code this in Python?\n"
   ]
  },
  {
   "cell_type": "code",
   "execution_count": null,
   "id": "22a7af58",
   "metadata": {},
   "outputs": [],
   "source": [
    "# wc does a line, word and character count. How do we code this in Python?\n",
    "\n"
   ]
  },
  {
   "cell_type": "code",
   "execution_count": null,
   "id": "a8f644e2",
   "metadata": {},
   "outputs": [],
   "source": []
  },
  {
   "cell_type": "markdown",
   "id": "3e4523cf",
   "metadata": {},
   "source": [
    "### 4. Get file exoplanet_eu_catalog2.csv. These are actual data from exoplanets. Plot the mass (column 2) versus the radius (columnn 8) of the planets. Use an errorbar plot and plot both mass-error (column 3) and radius-error (column 9). Calculate the average density of the planets ( $\\rho = \\frac{M}{ V } $ ) and its error. Then plot the average density vs their orbital period (column 11 and error is column 12) with errorbars. Note that units are weird (Jupiter radius and mass) and you need to convert them to gr and cm. How do these densities compare with Earth's (5.51 g/cm$^3$) and Jupiter's (1.33 g/cm$^3$) ? Plot two horizontal lines at the densities of these two planets for comparison."
   ]
  },
  {
   "cell_type": "code",
   "execution_count": null,
   "id": "92fa038d",
   "metadata": {},
   "outputs": [],
   "source": []
  },
  {
   "cell_type": "code",
   "execution_count": null,
   "id": "1cf4a5b1",
   "metadata": {},
   "outputs": [],
   "source": []
  },
  {
   "cell_type": "code",
   "execution_count": null,
   "id": "77caf884",
   "metadata": {},
   "outputs": [],
   "source": [
    "c1 = 6991100000 #Jupiter radius in centimeters\n",
    "c2 = 1.898e30   #Jupiter mass in grams\n",
    "\n"
   ]
  },
  {
   "cell_type": "code",
   "execution_count": null,
   "id": "a6e14581",
   "metadata": {},
   "outputs": [],
   "source": []
  },
  {
   "cell_type": "code",
   "execution_count": null,
   "id": "3c051119",
   "metadata": {},
   "outputs": [],
   "source": []
  },
  {
   "cell_type": "markdown",
   "id": "92c2cf82",
   "metadata": {},
   "source": [
    "### 5. White light falls on an ice crystal under angle $\\theta_1 = 60^\\circ$. Assume that the crystal was formed in a prism-like shape with $\\alpha = 70 ^\\circ$ and that the refractive index of the ice water is the same as that of ice (use H2O.refrind from demos/). Knowing that the angle of deviation for the light is given by:\n",
    "\n",
    "### $ \\mathrm{Dev} =  \\theta_1 + \\theta_2 - \\alpha $, where\n",
    "### $ \\sin (\\theta_2) = \\sin( \\alpha ) \\sqrt{ n^2 - \\sin(\\theta_1) } - \\cos(\\alpha) \\sin(\\theta_1) $ \n",
    "\n",
    "### calculate the angle of deviation for *each* wavelength from 0.3$\\mu$m to 1$\\mu$m. What do you see?"
   ]
  },
  {
   "cell_type": "code",
   "execution_count": null,
   "id": "fef185c7",
   "metadata": {},
   "outputs": [],
   "source": []
  },
  {
   "cell_type": "code",
   "execution_count": null,
   "id": "6e412fdd",
   "metadata": {},
   "outputs": [],
   "source": []
  },
  {
   "cell_type": "code",
   "execution_count": null,
   "id": "42a1fc26",
   "metadata": {},
   "outputs": [],
   "source": []
  },
  {
   "cell_type": "code",
   "execution_count": null,
   "id": "7175b568",
   "metadata": {},
   "outputs": [],
   "source": []
  },
  {
   "cell_type": "code",
   "execution_count": null,
   "id": "22cc9d37",
   "metadata": {},
   "outputs": [],
   "source": []
  },
  {
   "cell_type": "code",
   "execution_count": null,
   "id": "fe889b7d",
   "metadata": {},
   "outputs": [],
   "source": []
  },
  {
   "cell_type": "code",
   "execution_count": null,
   "id": "06772776",
   "metadata": {},
   "outputs": [],
   "source": []
  }
 ],
 "metadata": {
  "kernelspec": {
   "display_name": "Python 3 (ipykernel)",
   "language": "python",
   "name": "python3"
  },
  "language_info": {
   "codemirror_mode": {
    "name": "ipython",
    "version": 3
   },
   "file_extension": ".py",
   "mimetype": "text/x-python",
   "name": "python",
   "nbconvert_exporter": "python",
   "pygments_lexer": "ipython3",
   "version": "3.11.4"
  }
 },
 "nbformat": 4,
 "nbformat_minor": 5
}
