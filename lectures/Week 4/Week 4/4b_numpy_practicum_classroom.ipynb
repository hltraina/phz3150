{
 "cells": [
  {
   "cell_type": "markdown",
   "metadata": {},
   "source": [
    "# Numpy, lists and tuples practicum"
   ]
  },
  {
   "cell_type": "markdown",
   "metadata": {},
   "source": [
    "### Start by importing numpy:"
   ]
  },
  {
   "cell_type": "code",
   "execution_count": 3,
   "metadata": {},
   "outputs": [],
   "source": [
    "import numpy as np"
   ]
  },
  {
   "cell_type": "markdown",
   "metadata": {},
   "source": [
    "### First create an array x from 100 to 1,000 with a step of 2:"
   ]
  },
  {
   "cell_type": "code",
   "execution_count": 22,
   "metadata": {},
   "outputs": [],
   "source": [
    "x = np.arange(100, 1001, 2)"
   ]
  },
  {
   "cell_type": "markdown",
   "metadata": {},
   "source": [
    "### then create an array y from 1,000 to 2,800 with a step of 4:"
   ]
  },
  {
   "cell_type": "code",
   "execution_count": 23,
   "metadata": {},
   "outputs": [],
   "source": [
    "y = np.arange(1000, 2801, 4)"
   ]
  },
  {
   "cell_type": "markdown",
   "metadata": {},
   "source": [
    "### check the shape of x and y:"
   ]
  },
  {
   "cell_type": "code",
   "execution_count": 24,
   "metadata": {},
   "outputs": [
    {
     "name": "stdout",
     "output_type": "stream",
     "text": [
      "(451,)\n",
      "(451,)\n"
     ]
    }
   ],
   "source": [
    "print( x.shape )\n",
    "print( y.shape )"
   ]
  },
  {
   "cell_type": "markdown",
   "metadata": {},
   "source": [
    "### get the length of x:"
   ]
  },
  {
   "cell_type": "code",
   "execution_count": 25,
   "metadata": {},
   "outputs": [
    {
     "data": {
      "text/plain": [
       "451"
      ]
     },
     "execution_count": 25,
     "metadata": {},
     "output_type": "execute_result"
    }
   ],
   "source": [
    "len(x)"
   ]
  },
  {
   "cell_type": "markdown",
   "metadata": {},
   "source": [
    "### Create array z equal to the difference of y minus x "
   ]
  },
  {
   "cell_type": "code",
   "execution_count": 26,
   "metadata": {},
   "outputs": [],
   "source": [
    "z = y - x"
   ]
  },
  {
   "cell_type": "markdown",
   "metadata": {},
   "source": [
    "### print it:"
   ]
  },
  {
   "cell_type": "code",
   "execution_count": 27,
   "metadata": {},
   "outputs": [
    {
     "name": "stdout",
     "output_type": "stream",
     "text": [
      "[ 900  902  904  906  908  910  912  914  916  918  920  922  924  926\n",
      "  928  930  932  934  936  938  940  942  944  946  948  950  952  954\n",
      "  956  958  960  962  964  966  968  970  972  974  976  978  980  982\n",
      "  984  986  988  990  992  994  996  998 1000 1002 1004 1006 1008 1010\n",
      " 1012 1014 1016 1018 1020 1022 1024 1026 1028 1030 1032 1034 1036 1038\n",
      " 1040 1042 1044 1046 1048 1050 1052 1054 1056 1058 1060 1062 1064 1066\n",
      " 1068 1070 1072 1074 1076 1078 1080 1082 1084 1086 1088 1090 1092 1094\n",
      " 1096 1098 1100 1102 1104 1106 1108 1110 1112 1114 1116 1118 1120 1122\n",
      " 1124 1126 1128 1130 1132 1134 1136 1138 1140 1142 1144 1146 1148 1150\n",
      " 1152 1154 1156 1158 1160 1162 1164 1166 1168 1170 1172 1174 1176 1178\n",
      " 1180 1182 1184 1186 1188 1190 1192 1194 1196 1198 1200 1202 1204 1206\n",
      " 1208 1210 1212 1214 1216 1218 1220 1222 1224 1226 1228 1230 1232 1234\n",
      " 1236 1238 1240 1242 1244 1246 1248 1250 1252 1254 1256 1258 1260 1262\n",
      " 1264 1266 1268 1270 1272 1274 1276 1278 1280 1282 1284 1286 1288 1290\n",
      " 1292 1294 1296 1298 1300 1302 1304 1306 1308 1310 1312 1314 1316 1318\n",
      " 1320 1322 1324 1326 1328 1330 1332 1334 1336 1338 1340 1342 1344 1346\n",
      " 1348 1350 1352 1354 1356 1358 1360 1362 1364 1366 1368 1370 1372 1374\n",
      " 1376 1378 1380 1382 1384 1386 1388 1390 1392 1394 1396 1398 1400 1402\n",
      " 1404 1406 1408 1410 1412 1414 1416 1418 1420 1422 1424 1426 1428 1430\n",
      " 1432 1434 1436 1438 1440 1442 1444 1446 1448 1450 1452 1454 1456 1458\n",
      " 1460 1462 1464 1466 1468 1470 1472 1474 1476 1478 1480 1482 1484 1486\n",
      " 1488 1490 1492 1494 1496 1498 1500 1502 1504 1506 1508 1510 1512 1514\n",
      " 1516 1518 1520 1522 1524 1526 1528 1530 1532 1534 1536 1538 1540 1542\n",
      " 1544 1546 1548 1550 1552 1554 1556 1558 1560 1562 1564 1566 1568 1570\n",
      " 1572 1574 1576 1578 1580 1582 1584 1586 1588 1590 1592 1594 1596 1598\n",
      " 1600 1602 1604 1606 1608 1610 1612 1614 1616 1618 1620 1622 1624 1626\n",
      " 1628 1630 1632 1634 1636 1638 1640 1642 1644 1646 1648 1650 1652 1654\n",
      " 1656 1658 1660 1662 1664 1666 1668 1670 1672 1674 1676 1678 1680 1682\n",
      " 1684 1686 1688 1690 1692 1694 1696 1698 1700 1702 1704 1706 1708 1710\n",
      " 1712 1714 1716 1718 1720 1722 1724 1726 1728 1730 1732 1734 1736 1738\n",
      " 1740 1742 1744 1746 1748 1750 1752 1754 1756 1758 1760 1762 1764 1766\n",
      " 1768 1770 1772 1774 1776 1778 1780 1782 1784 1786 1788 1790 1792 1794\n",
      " 1796 1798 1800]\n"
     ]
    }
   ],
   "source": [
    "print(z)"
   ]
  },
  {
   "cell_type": "markdown",
   "metadata": {},
   "source": [
    "### multiply x by 2, subtract 100 from y and add all this together ( (x*2) + (y-100)); assign to variable test1 "
   ]
  },
  {
   "cell_type": "code",
   "execution_count": 28,
   "metadata": {},
   "outputs": [],
   "source": [
    "test1 =  ( (x*2) + (y-100))"
   ]
  },
  {
   "cell_type": "markdown",
   "metadata": {},
   "source": [
    "### calculate and print the min of test1, its max and its mean:"
   ]
  },
  {
   "cell_type": "code",
   "execution_count": 29,
   "metadata": {},
   "outputs": [
    {
     "name": "stdout",
     "output_type": "stream",
     "text": [
      "1100\n",
      "4700\n",
      "2900.0\n"
     ]
    }
   ],
   "source": [
    "print(np.min(test1))\n",
    "print(np.max(test1))\n",
    "print(np.mean(test1))"
   ]
  },
  {
   "cell_type": "markdown",
   "metadata": {},
   "source": [
    "### print the mean of the base 10 logarithm of x"
   ]
  },
  {
   "cell_type": "code",
   "execution_count": 39,
   "metadata": {},
   "outputs": [
    {
     "name": "stdout",
     "output_type": "stream",
     "text": [
      "3.6503173802734445 1.585312695448291\n"
     ]
    }
   ],
   "source": [
    "print(np.mean(np.log(x)), np.mean(np.log10(x)))"
   ]
  },
  {
   "cell_type": "markdown",
   "metadata": {},
   "source": [
    "### 1. Create a numpy array x that goes from 1 up to and including 100 (last element must be 100.0) with a step of 0.1. \n",
    "- Verify its type using the type command and its size using the .shape command.  \n",
    "- Print x. \n",
    "- Print its maximum, minimum and mean. \n",
    "- Add 5 to x and print it. \n",
    "- Print an array whose values are 10 times larger than x."
   ]
  },
  {
   "cell_type": "code",
   "execution_count": 33,
   "metadata": {},
   "outputs": [
    {
     "name": "stdout",
     "output_type": "stream",
     "text": [
      "[  1.    1.1   1.2   1.3   1.4   1.5   1.6   1.7   1.8   1.9   2.    2.1\n",
      "   2.2   2.3   2.4   2.5   2.6   2.7   2.8   2.9   3.    3.1   3.2   3.3\n",
      "   3.4   3.5   3.6   3.7   3.8   3.9   4.    4.1   4.2   4.3   4.4   4.5\n",
      "   4.6   4.7   4.8   4.9   5.    5.1   5.2   5.3   5.4   5.5   5.6   5.7\n",
      "   5.8   5.9   6.    6.1   6.2   6.3   6.4   6.5   6.6   6.7   6.8   6.9\n",
      "   7.    7.1   7.2   7.3   7.4   7.5   7.6   7.7   7.8   7.9   8.    8.1\n",
      "   8.2   8.3   8.4   8.5   8.6   8.7   8.8   8.9   9.    9.1   9.2   9.3\n",
      "   9.4   9.5   9.6   9.7   9.8   9.9  10.   10.1  10.2  10.3  10.4  10.5\n",
      "  10.6  10.7  10.8  10.9  11.   11.1  11.2  11.3  11.4  11.5  11.6  11.7\n",
      "  11.8  11.9  12.   12.1  12.2  12.3  12.4  12.5  12.6  12.7  12.8  12.9\n",
      "  13.   13.1  13.2  13.3  13.4  13.5  13.6  13.7  13.8  13.9  14.   14.1\n",
      "  14.2  14.3  14.4  14.5  14.6  14.7  14.8  14.9  15.   15.1  15.2  15.3\n",
      "  15.4  15.5  15.6  15.7  15.8  15.9  16.   16.1  16.2  16.3  16.4  16.5\n",
      "  16.6  16.7  16.8  16.9  17.   17.1  17.2  17.3  17.4  17.5  17.6  17.7\n",
      "  17.8  17.9  18.   18.1  18.2  18.3  18.4  18.5  18.6  18.7  18.8  18.9\n",
      "  19.   19.1  19.2  19.3  19.4  19.5  19.6  19.7  19.8  19.9  20.   20.1\n",
      "  20.2  20.3  20.4  20.5  20.6  20.7  20.8  20.9  21.   21.1  21.2  21.3\n",
      "  21.4  21.5  21.6  21.7  21.8  21.9  22.   22.1  22.2  22.3  22.4  22.5\n",
      "  22.6  22.7  22.8  22.9  23.   23.1  23.2  23.3  23.4  23.5  23.6  23.7\n",
      "  23.8  23.9  24.   24.1  24.2  24.3  24.4  24.5  24.6  24.7  24.8  24.9\n",
      "  25.   25.1  25.2  25.3  25.4  25.5  25.6  25.7  25.8  25.9  26.   26.1\n",
      "  26.2  26.3  26.4  26.5  26.6  26.7  26.8  26.9  27.   27.1  27.2  27.3\n",
      "  27.4  27.5  27.6  27.7  27.8  27.9  28.   28.1  28.2  28.3  28.4  28.5\n",
      "  28.6  28.7  28.8  28.9  29.   29.1  29.2  29.3  29.4  29.5  29.6  29.7\n",
      "  29.8  29.9  30.   30.1  30.2  30.3  30.4  30.5  30.6  30.7  30.8  30.9\n",
      "  31.   31.1  31.2  31.3  31.4  31.5  31.6  31.7  31.8  31.9  32.   32.1\n",
      "  32.2  32.3  32.4  32.5  32.6  32.7  32.8  32.9  33.   33.1  33.2  33.3\n",
      "  33.4  33.5  33.6  33.7  33.8  33.9  34.   34.1  34.2  34.3  34.4  34.5\n",
      "  34.6  34.7  34.8  34.9  35.   35.1  35.2  35.3  35.4  35.5  35.6  35.7\n",
      "  35.8  35.9  36.   36.1  36.2  36.3  36.4  36.5  36.6  36.7  36.8  36.9\n",
      "  37.   37.1  37.2  37.3  37.4  37.5  37.6  37.7  37.8  37.9  38.   38.1\n",
      "  38.2  38.3  38.4  38.5  38.6  38.7  38.8  38.9  39.   39.1  39.2  39.3\n",
      "  39.4  39.5  39.6  39.7  39.8  39.9  40.   40.1  40.2  40.3  40.4  40.5\n",
      "  40.6  40.7  40.8  40.9  41.   41.1  41.2  41.3  41.4  41.5  41.6  41.7\n",
      "  41.8  41.9  42.   42.1  42.2  42.3  42.4  42.5  42.6  42.7  42.8  42.9\n",
      "  43.   43.1  43.2  43.3  43.4  43.5  43.6  43.7  43.8  43.9  44.   44.1\n",
      "  44.2  44.3  44.4  44.5  44.6  44.7  44.8  44.9  45.   45.1  45.2  45.3\n",
      "  45.4  45.5  45.6  45.7  45.8  45.9  46.   46.1  46.2  46.3  46.4  46.5\n",
      "  46.6  46.7  46.8  46.9  47.   47.1  47.2  47.3  47.4  47.5  47.6  47.7\n",
      "  47.8  47.9  48.   48.1  48.2  48.3  48.4  48.5  48.6  48.7  48.8  48.9\n",
      "  49.   49.1  49.2  49.3  49.4  49.5  49.6  49.7  49.8  49.9  50.   50.1\n",
      "  50.2  50.3  50.4  50.5  50.6  50.7  50.8  50.9  51.   51.1  51.2  51.3\n",
      "  51.4  51.5  51.6  51.7  51.8  51.9  52.   52.1  52.2  52.3  52.4  52.5\n",
      "  52.6  52.7  52.8  52.9  53.   53.1  53.2  53.3  53.4  53.5  53.6  53.7\n",
      "  53.8  53.9  54.   54.1  54.2  54.3  54.4  54.5  54.6  54.7  54.8  54.9\n",
      "  55.   55.1  55.2  55.3  55.4  55.5  55.6  55.7  55.8  55.9  56.   56.1\n",
      "  56.2  56.3  56.4  56.5  56.6  56.7  56.8  56.9  57.   57.1  57.2  57.3\n",
      "  57.4  57.5  57.6  57.7  57.8  57.9  58.   58.1  58.2  58.3  58.4  58.5\n",
      "  58.6  58.7  58.8  58.9  59.   59.1  59.2  59.3  59.4  59.5  59.6  59.7\n",
      "  59.8  59.9  60.   60.1  60.2  60.3  60.4  60.5  60.6  60.7  60.8  60.9\n",
      "  61.   61.1  61.2  61.3  61.4  61.5  61.6  61.7  61.8  61.9  62.   62.1\n",
      "  62.2  62.3  62.4  62.5  62.6  62.7  62.8  62.9  63.   63.1  63.2  63.3\n",
      "  63.4  63.5  63.6  63.7  63.8  63.9  64.   64.1  64.2  64.3  64.4  64.5\n",
      "  64.6  64.7  64.8  64.9  65.   65.1  65.2  65.3  65.4  65.5  65.6  65.7\n",
      "  65.8  65.9  66.   66.1  66.2  66.3  66.4  66.5  66.6  66.7  66.8  66.9\n",
      "  67.   67.1  67.2  67.3  67.4  67.5  67.6  67.7  67.8  67.9  68.   68.1\n",
      "  68.2  68.3  68.4  68.5  68.6  68.7  68.8  68.9  69.   69.1  69.2  69.3\n",
      "  69.4  69.5  69.6  69.7  69.8  69.9  70.   70.1  70.2  70.3  70.4  70.5\n",
      "  70.6  70.7  70.8  70.9  71.   71.1  71.2  71.3  71.4  71.5  71.6  71.7\n",
      "  71.8  71.9  72.   72.1  72.2  72.3  72.4  72.5  72.6  72.7  72.8  72.9\n",
      "  73.   73.1  73.2  73.3  73.4  73.5  73.6  73.7  73.8  73.9  74.   74.1\n",
      "  74.2  74.3  74.4  74.5  74.6  74.7  74.8  74.9  75.   75.1  75.2  75.3\n",
      "  75.4  75.5  75.6  75.7  75.8  75.9  76.   76.1  76.2  76.3  76.4  76.5\n",
      "  76.6  76.7  76.8  76.9  77.   77.1  77.2  77.3  77.4  77.5  77.6  77.7\n",
      "  77.8  77.9  78.   78.1  78.2  78.3  78.4  78.5  78.6  78.7  78.8  78.9\n",
      "  79.   79.1  79.2  79.3  79.4  79.5  79.6  79.7  79.8  79.9  80.   80.1\n",
      "  80.2  80.3  80.4  80.5  80.6  80.7  80.8  80.9  81.   81.1  81.2  81.3\n",
      "  81.4  81.5  81.6  81.7  81.8  81.9  82.   82.1  82.2  82.3  82.4  82.5\n",
      "  82.6  82.7  82.8  82.9  83.   83.1  83.2  83.3  83.4  83.5  83.6  83.7\n",
      "  83.8  83.9  84.   84.1  84.2  84.3  84.4  84.5  84.6  84.7  84.8  84.9\n",
      "  85.   85.1  85.2  85.3  85.4  85.5  85.6  85.7  85.8  85.9  86.   86.1\n",
      "  86.2  86.3  86.4  86.5  86.6  86.7  86.8  86.9  87.   87.1  87.2  87.3\n",
      "  87.4  87.5  87.6  87.7  87.8  87.9  88.   88.1  88.2  88.3  88.4  88.5\n",
      "  88.6  88.7  88.8  88.9  89.   89.1  89.2  89.3  89.4  89.5  89.6  89.7\n",
      "  89.8  89.9  90.   90.1  90.2  90.3  90.4  90.5  90.6  90.7  90.8  90.9\n",
      "  91.   91.1  91.2  91.3  91.4  91.5  91.6  91.7  91.8  91.9  92.   92.1\n",
      "  92.2  92.3  92.4  92.5  92.6  92.7  92.8  92.9  93.   93.1  93.2  93.3\n",
      "  93.4  93.5  93.6  93.7  93.8  93.9  94.   94.1  94.2  94.3  94.4  94.5\n",
      "  94.6  94.7  94.8  94.9  95.   95.1  95.2  95.3  95.4  95.5  95.6  95.7\n",
      "  95.8  95.9  96.   96.1  96.2  96.3  96.4  96.5  96.6  96.7  96.8  96.9\n",
      "  97.   97.1  97.2  97.3  97.4  97.5  97.6  97.7  97.8  97.9  98.   98.1\n",
      "  98.2  98.3  98.4  98.5  98.6  98.7  98.8  98.9  99.   99.1  99.2  99.3\n",
      "  99.4  99.5  99.6  99.7  99.8  99.9 100. ]\n"
     ]
    }
   ],
   "source": [
    "x = np.arange(1.0, 100.1, .1)\n",
    "print(x)"
   ]
  },
  {
   "cell_type": "code",
   "execution_count": 34,
   "metadata": {},
   "outputs": [
    {
     "name": "stdout",
     "output_type": "stream",
     "text": [
      "<class 'numpy.ndarray'>\n",
      "(991,)\n"
     ]
    }
   ],
   "source": [
    "print(type(x))\n",
    "print(x.shape)"
   ]
  },
  {
   "cell_type": "code",
   "execution_count": 35,
   "metadata": {},
   "outputs": [
    {
     "name": "stdout",
     "output_type": "stream",
     "text": [
      "1.0\n",
      "100.00000000000009\n",
      "50.500000000000036\n"
     ]
    }
   ],
   "source": [
    "print(np.min(x))\n",
    "print(np.max(x))\n",
    "print(np.mean(x))"
   ]
  },
  {
   "cell_type": "code",
   "execution_count": 36,
   "metadata": {},
   "outputs": [
    {
     "name": "stdout",
     "output_type": "stream",
     "text": [
      "[  6.    6.1   6.2   6.3   6.4   6.5   6.6   6.7   6.8   6.9   7.    7.1\n",
      "   7.2   7.3   7.4   7.5   7.6   7.7   7.8   7.9   8.    8.1   8.2   8.3\n",
      "   8.4   8.5   8.6   8.7   8.8   8.9   9.    9.1   9.2   9.3   9.4   9.5\n",
      "   9.6   9.7   9.8   9.9  10.   10.1  10.2  10.3  10.4  10.5  10.6  10.7\n",
      "  10.8  10.9  11.   11.1  11.2  11.3  11.4  11.5  11.6  11.7  11.8  11.9\n",
      "  12.   12.1  12.2  12.3  12.4  12.5  12.6  12.7  12.8  12.9  13.   13.1\n",
      "  13.2  13.3  13.4  13.5  13.6  13.7  13.8  13.9  14.   14.1  14.2  14.3\n",
      "  14.4  14.5  14.6  14.7  14.8  14.9  15.   15.1  15.2  15.3  15.4  15.5\n",
      "  15.6  15.7  15.8  15.9  16.   16.1  16.2  16.3  16.4  16.5  16.6  16.7\n",
      "  16.8  16.9  17.   17.1  17.2  17.3  17.4  17.5  17.6  17.7  17.8  17.9\n",
      "  18.   18.1  18.2  18.3  18.4  18.5  18.6  18.7  18.8  18.9  19.   19.1\n",
      "  19.2  19.3  19.4  19.5  19.6  19.7  19.8  19.9  20.   20.1  20.2  20.3\n",
      "  20.4  20.5  20.6  20.7  20.8  20.9  21.   21.1  21.2  21.3  21.4  21.5\n",
      "  21.6  21.7  21.8  21.9  22.   22.1  22.2  22.3  22.4  22.5  22.6  22.7\n",
      "  22.8  22.9  23.   23.1  23.2  23.3  23.4  23.5  23.6  23.7  23.8  23.9\n",
      "  24.   24.1  24.2  24.3  24.4  24.5  24.6  24.7  24.8  24.9  25.   25.1\n",
      "  25.2  25.3  25.4  25.5  25.6  25.7  25.8  25.9  26.   26.1  26.2  26.3\n",
      "  26.4  26.5  26.6  26.7  26.8  26.9  27.   27.1  27.2  27.3  27.4  27.5\n",
      "  27.6  27.7  27.8  27.9  28.   28.1  28.2  28.3  28.4  28.5  28.6  28.7\n",
      "  28.8  28.9  29.   29.1  29.2  29.3  29.4  29.5  29.6  29.7  29.8  29.9\n",
      "  30.   30.1  30.2  30.3  30.4  30.5  30.6  30.7  30.8  30.9  31.   31.1\n",
      "  31.2  31.3  31.4  31.5  31.6  31.7  31.8  31.9  32.   32.1  32.2  32.3\n",
      "  32.4  32.5  32.6  32.7  32.8  32.9  33.   33.1  33.2  33.3  33.4  33.5\n",
      "  33.6  33.7  33.8  33.9  34.   34.1  34.2  34.3  34.4  34.5  34.6  34.7\n",
      "  34.8  34.9  35.   35.1  35.2  35.3  35.4  35.5  35.6  35.7  35.8  35.9\n",
      "  36.   36.1  36.2  36.3  36.4  36.5  36.6  36.7  36.8  36.9  37.   37.1\n",
      "  37.2  37.3  37.4  37.5  37.6  37.7  37.8  37.9  38.   38.1  38.2  38.3\n",
      "  38.4  38.5  38.6  38.7  38.8  38.9  39.   39.1  39.2  39.3  39.4  39.5\n",
      "  39.6  39.7  39.8  39.9  40.   40.1  40.2  40.3  40.4  40.5  40.6  40.7\n",
      "  40.8  40.9  41.   41.1  41.2  41.3  41.4  41.5  41.6  41.7  41.8  41.9\n",
      "  42.   42.1  42.2  42.3  42.4  42.5  42.6  42.7  42.8  42.9  43.   43.1\n",
      "  43.2  43.3  43.4  43.5  43.6  43.7  43.8  43.9  44.   44.1  44.2  44.3\n",
      "  44.4  44.5  44.6  44.7  44.8  44.9  45.   45.1  45.2  45.3  45.4  45.5\n",
      "  45.6  45.7  45.8  45.9  46.   46.1  46.2  46.3  46.4  46.5  46.6  46.7\n",
      "  46.8  46.9  47.   47.1  47.2  47.3  47.4  47.5  47.6  47.7  47.8  47.9\n",
      "  48.   48.1  48.2  48.3  48.4  48.5  48.6  48.7  48.8  48.9  49.   49.1\n",
      "  49.2  49.3  49.4  49.5  49.6  49.7  49.8  49.9  50.   50.1  50.2  50.3\n",
      "  50.4  50.5  50.6  50.7  50.8  50.9  51.   51.1  51.2  51.3  51.4  51.5\n",
      "  51.6  51.7  51.8  51.9  52.   52.1  52.2  52.3  52.4  52.5  52.6  52.7\n",
      "  52.8  52.9  53.   53.1  53.2  53.3  53.4  53.5  53.6  53.7  53.8  53.9\n",
      "  54.   54.1  54.2  54.3  54.4  54.5  54.6  54.7  54.8  54.9  55.   55.1\n",
      "  55.2  55.3  55.4  55.5  55.6  55.7  55.8  55.9  56.   56.1  56.2  56.3\n",
      "  56.4  56.5  56.6  56.7  56.8  56.9  57.   57.1  57.2  57.3  57.4  57.5\n",
      "  57.6  57.7  57.8  57.9  58.   58.1  58.2  58.3  58.4  58.5  58.6  58.7\n",
      "  58.8  58.9  59.   59.1  59.2  59.3  59.4  59.5  59.6  59.7  59.8  59.9\n",
      "  60.   60.1  60.2  60.3  60.4  60.5  60.6  60.7  60.8  60.9  61.   61.1\n",
      "  61.2  61.3  61.4  61.5  61.6  61.7  61.8  61.9  62.   62.1  62.2  62.3\n",
      "  62.4  62.5  62.6  62.7  62.8  62.9  63.   63.1  63.2  63.3  63.4  63.5\n",
      "  63.6  63.7  63.8  63.9  64.   64.1  64.2  64.3  64.4  64.5  64.6  64.7\n",
      "  64.8  64.9  65.   65.1  65.2  65.3  65.4  65.5  65.6  65.7  65.8  65.9\n",
      "  66.   66.1  66.2  66.3  66.4  66.5  66.6  66.7  66.8  66.9  67.   67.1\n",
      "  67.2  67.3  67.4  67.5  67.6  67.7  67.8  67.9  68.   68.1  68.2  68.3\n",
      "  68.4  68.5  68.6  68.7  68.8  68.9  69.   69.1  69.2  69.3  69.4  69.5\n",
      "  69.6  69.7  69.8  69.9  70.   70.1  70.2  70.3  70.4  70.5  70.6  70.7\n",
      "  70.8  70.9  71.   71.1  71.2  71.3  71.4  71.5  71.6  71.7  71.8  71.9\n",
      "  72.   72.1  72.2  72.3  72.4  72.5  72.6  72.7  72.8  72.9  73.   73.1\n",
      "  73.2  73.3  73.4  73.5  73.6  73.7  73.8  73.9  74.   74.1  74.2  74.3\n",
      "  74.4  74.5  74.6  74.7  74.8  74.9  75.   75.1  75.2  75.3  75.4  75.5\n",
      "  75.6  75.7  75.8  75.9  76.   76.1  76.2  76.3  76.4  76.5  76.6  76.7\n",
      "  76.8  76.9  77.   77.1  77.2  77.3  77.4  77.5  77.6  77.7  77.8  77.9\n",
      "  78.   78.1  78.2  78.3  78.4  78.5  78.6  78.7  78.8  78.9  79.   79.1\n",
      "  79.2  79.3  79.4  79.5  79.6  79.7  79.8  79.9  80.   80.1  80.2  80.3\n",
      "  80.4  80.5  80.6  80.7  80.8  80.9  81.   81.1  81.2  81.3  81.4  81.5\n",
      "  81.6  81.7  81.8  81.9  82.   82.1  82.2  82.3  82.4  82.5  82.6  82.7\n",
      "  82.8  82.9  83.   83.1  83.2  83.3  83.4  83.5  83.6  83.7  83.8  83.9\n",
      "  84.   84.1  84.2  84.3  84.4  84.5  84.6  84.7  84.8  84.9  85.   85.1\n",
      "  85.2  85.3  85.4  85.5  85.6  85.7  85.8  85.9  86.   86.1  86.2  86.3\n",
      "  86.4  86.5  86.6  86.7  86.8  86.9  87.   87.1  87.2  87.3  87.4  87.5\n",
      "  87.6  87.7  87.8  87.9  88.   88.1  88.2  88.3  88.4  88.5  88.6  88.7\n",
      "  88.8  88.9  89.   89.1  89.2  89.3  89.4  89.5  89.6  89.7  89.8  89.9\n",
      "  90.   90.1  90.2  90.3  90.4  90.5  90.6  90.7  90.8  90.9  91.   91.1\n",
      "  91.2  91.3  91.4  91.5  91.6  91.7  91.8  91.9  92.   92.1  92.2  92.3\n",
      "  92.4  92.5  92.6  92.7  92.8  92.9  93.   93.1  93.2  93.3  93.4  93.5\n",
      "  93.6  93.7  93.8  93.9  94.   94.1  94.2  94.3  94.4  94.5  94.6  94.7\n",
      "  94.8  94.9  95.   95.1  95.2  95.3  95.4  95.5  95.6  95.7  95.8  95.9\n",
      "  96.   96.1  96.2  96.3  96.4  96.5  96.6  96.7  96.8  96.9  97.   97.1\n",
      "  97.2  97.3  97.4  97.5  97.6  97.7  97.8  97.9  98.   98.1  98.2  98.3\n",
      "  98.4  98.5  98.6  98.7  98.8  98.9  99.   99.1  99.2  99.3  99.4  99.5\n",
      "  99.6  99.7  99.8  99.9 100.  100.1 100.2 100.3 100.4 100.5 100.6 100.7\n",
      " 100.8 100.9 101.  101.1 101.2 101.3 101.4 101.5 101.6 101.7 101.8 101.9\n",
      " 102.  102.1 102.2 102.3 102.4 102.5 102.6 102.7 102.8 102.9 103.  103.1\n",
      " 103.2 103.3 103.4 103.5 103.6 103.7 103.8 103.9 104.  104.1 104.2 104.3\n",
      " 104.4 104.5 104.6 104.7 104.8 104.9 105. ]\n"
     ]
    }
   ],
   "source": [
    "print(x + 5)"
   ]
  },
  {
   "cell_type": "code",
   "execution_count": 37,
   "metadata": {},
   "outputs": [
    {
     "name": "stdout",
     "output_type": "stream",
     "text": [
      "[  10.   11.   12.   13.   14.   15.   16.   17.   18.   19.   20.   21.\n",
      "   22.   23.   24.   25.   26.   27.   28.   29.   30.   31.   32.   33.\n",
      "   34.   35.   36.   37.   38.   39.   40.   41.   42.   43.   44.   45.\n",
      "   46.   47.   48.   49.   50.   51.   52.   53.   54.   55.   56.   57.\n",
      "   58.   59.   60.   61.   62.   63.   64.   65.   66.   67.   68.   69.\n",
      "   70.   71.   72.   73.   74.   75.   76.   77.   78.   79.   80.   81.\n",
      "   82.   83.   84.   85.   86.   87.   88.   89.   90.   91.   92.   93.\n",
      "   94.   95.   96.   97.   98.   99.  100.  101.  102.  103.  104.  105.\n",
      "  106.  107.  108.  109.  110.  111.  112.  113.  114.  115.  116.  117.\n",
      "  118.  119.  120.  121.  122.  123.  124.  125.  126.  127.  128.  129.\n",
      "  130.  131.  132.  133.  134.  135.  136.  137.  138.  139.  140.  141.\n",
      "  142.  143.  144.  145.  146.  147.  148.  149.  150.  151.  152.  153.\n",
      "  154.  155.  156.  157.  158.  159.  160.  161.  162.  163.  164.  165.\n",
      "  166.  167.  168.  169.  170.  171.  172.  173.  174.  175.  176.  177.\n",
      "  178.  179.  180.  181.  182.  183.  184.  185.  186.  187.  188.  189.\n",
      "  190.  191.  192.  193.  194.  195.  196.  197.  198.  199.  200.  201.\n",
      "  202.  203.  204.  205.  206.  207.  208.  209.  210.  211.  212.  213.\n",
      "  214.  215.  216.  217.  218.  219.  220.  221.  222.  223.  224.  225.\n",
      "  226.  227.  228.  229.  230.  231.  232.  233.  234.  235.  236.  237.\n",
      "  238.  239.  240.  241.  242.  243.  244.  245.  246.  247.  248.  249.\n",
      "  250.  251.  252.  253.  254.  255.  256.  257.  258.  259.  260.  261.\n",
      "  262.  263.  264.  265.  266.  267.  268.  269.  270.  271.  272.  273.\n",
      "  274.  275.  276.  277.  278.  279.  280.  281.  282.  283.  284.  285.\n",
      "  286.  287.  288.  289.  290.  291.  292.  293.  294.  295.  296.  297.\n",
      "  298.  299.  300.  301.  302.  303.  304.  305.  306.  307.  308.  309.\n",
      "  310.  311.  312.  313.  314.  315.  316.  317.  318.  319.  320.  321.\n",
      "  322.  323.  324.  325.  326.  327.  328.  329.  330.  331.  332.  333.\n",
      "  334.  335.  336.  337.  338.  339.  340.  341.  342.  343.  344.  345.\n",
      "  346.  347.  348.  349.  350.  351.  352.  353.  354.  355.  356.  357.\n",
      "  358.  359.  360.  361.  362.  363.  364.  365.  366.  367.  368.  369.\n",
      "  370.  371.  372.  373.  374.  375.  376.  377.  378.  379.  380.  381.\n",
      "  382.  383.  384.  385.  386.  387.  388.  389.  390.  391.  392.  393.\n",
      "  394.  395.  396.  397.  398.  399.  400.  401.  402.  403.  404.  405.\n",
      "  406.  407.  408.  409.  410.  411.  412.  413.  414.  415.  416.  417.\n",
      "  418.  419.  420.  421.  422.  423.  424.  425.  426.  427.  428.  429.\n",
      "  430.  431.  432.  433.  434.  435.  436.  437.  438.  439.  440.  441.\n",
      "  442.  443.  444.  445.  446.  447.  448.  449.  450.  451.  452.  453.\n",
      "  454.  455.  456.  457.  458.  459.  460.  461.  462.  463.  464.  465.\n",
      "  466.  467.  468.  469.  470.  471.  472.  473.  474.  475.  476.  477.\n",
      "  478.  479.  480.  481.  482.  483.  484.  485.  486.  487.  488.  489.\n",
      "  490.  491.  492.  493.  494.  495.  496.  497.  498.  499.  500.  501.\n",
      "  502.  503.  504.  505.  506.  507.  508.  509.  510.  511.  512.  513.\n",
      "  514.  515.  516.  517.  518.  519.  520.  521.  522.  523.  524.  525.\n",
      "  526.  527.  528.  529.  530.  531.  532.  533.  534.  535.  536.  537.\n",
      "  538.  539.  540.  541.  542.  543.  544.  545.  546.  547.  548.  549.\n",
      "  550.  551.  552.  553.  554.  555.  556.  557.  558.  559.  560.  561.\n",
      "  562.  563.  564.  565.  566.  567.  568.  569.  570.  571.  572.  573.\n",
      "  574.  575.  576.  577.  578.  579.  580.  581.  582.  583.  584.  585.\n",
      "  586.  587.  588.  589.  590.  591.  592.  593.  594.  595.  596.  597.\n",
      "  598.  599.  600.  601.  602.  603.  604.  605.  606.  607.  608.  609.\n",
      "  610.  611.  612.  613.  614.  615.  616.  617.  618.  619.  620.  621.\n",
      "  622.  623.  624.  625.  626.  627.  628.  629.  630.  631.  632.  633.\n",
      "  634.  635.  636.  637.  638.  639.  640.  641.  642.  643.  644.  645.\n",
      "  646.  647.  648.  649.  650.  651.  652.  653.  654.  655.  656.  657.\n",
      "  658.  659.  660.  661.  662.  663.  664.  665.  666.  667.  668.  669.\n",
      "  670.  671.  672.  673.  674.  675.  676.  677.  678.  679.  680.  681.\n",
      "  682.  683.  684.  685.  686.  687.  688.  689.  690.  691.  692.  693.\n",
      "  694.  695.  696.  697.  698.  699.  700.  701.  702.  703.  704.  705.\n",
      "  706.  707.  708.  709.  710.  711.  712.  713.  714.  715.  716.  717.\n",
      "  718.  719.  720.  721.  722.  723.  724.  725.  726.  727.  728.  729.\n",
      "  730.  731.  732.  733.  734.  735.  736.  737.  738.  739.  740.  741.\n",
      "  742.  743.  744.  745.  746.  747.  748.  749.  750.  751.  752.  753.\n",
      "  754.  755.  756.  757.  758.  759.  760.  761.  762.  763.  764.  765.\n",
      "  766.  767.  768.  769.  770.  771.  772.  773.  774.  775.  776.  777.\n",
      "  778.  779.  780.  781.  782.  783.  784.  785.  786.  787.  788.  789.\n",
      "  790.  791.  792.  793.  794.  795.  796.  797.  798.  799.  800.  801.\n",
      "  802.  803.  804.  805.  806.  807.  808.  809.  810.  811.  812.  813.\n",
      "  814.  815.  816.  817.  818.  819.  820.  821.  822.  823.  824.  825.\n",
      "  826.  827.  828.  829.  830.  831.  832.  833.  834.  835.  836.  837.\n",
      "  838.  839.  840.  841.  842.  843.  844.  845.  846.  847.  848.  849.\n",
      "  850.  851.  852.  853.  854.  855.  856.  857.  858.  859.  860.  861.\n",
      "  862.  863.  864.  865.  866.  867.  868.  869.  870.  871.  872.  873.\n",
      "  874.  875.  876.  877.  878.  879.  880.  881.  882.  883.  884.  885.\n",
      "  886.  887.  888.  889.  890.  891.  892.  893.  894.  895.  896.  897.\n",
      "  898.  899.  900.  901.  902.  903.  904.  905.  906.  907.  908.  909.\n",
      "  910.  911.  912.  913.  914.  915.  916.  917.  918.  919.  920.  921.\n",
      "  922.  923.  924.  925.  926.  927.  928.  929.  930.  931.  932.  933.\n",
      "  934.  935.  936.  937.  938.  939.  940.  941.  942.  943.  944.  945.\n",
      "  946.  947.  948.  949.  950.  951.  952.  953.  954.  955.  956.  957.\n",
      "  958.  959.  960.  961.  962.  963.  964.  965.  966.  967.  968.  969.\n",
      "  970.  971.  972.  973.  974.  975.  976.  977.  978.  979.  980.  981.\n",
      "  982.  983.  984.  985.  986.  987.  988.  989.  990.  991.  992.  993.\n",
      "  994.  995.  996.  997.  998.  999. 1000.]\n"
     ]
    }
   ],
   "source": [
    "print(10*x)"
   ]
  },
  {
   "cell_type": "code",
   "execution_count": null,
   "metadata": {},
   "outputs": [],
   "source": []
  },
  {
   "cell_type": "markdown",
   "metadata": {},
   "source": [
    "### 2. Create an array y that is the base 10 logarithm of x. \n",
    "- Print y. \n",
    "- Print the 10th to 24th elements of x and y. \n",
    "- Create an array z that is the same as y. \n",
    "- Change the 30th to 140th elements of z to be the 1/10 of their current value and the 500th to 600th elements of z to be 10 times larger than their current value. \n",
    "- Print z from the 600th element to the 100th element going backwards with a step of 50 (so the 600th, 550th, 500th etc element).   "
   ]
  },
  {
   "cell_type": "code",
   "execution_count": 42,
   "metadata": {},
   "outputs": [],
   "source": [
    "y = np.log10(x)"
   ]
  },
  {
   "cell_type": "code",
   "execution_count": 44,
   "metadata": {},
   "outputs": [
    {
     "name": "stdout",
     "output_type": "stream",
     "text": [
      "[1.9 2.  2.1 2.2 2.3 2.4 2.5 2.6 2.7 2.8 2.9 3.  3.1 3.2 3.3]\n",
      "[0.2787536  0.30103    0.32221929 0.34242268 0.36172784 0.38021124\n",
      " 0.39794001 0.41497335 0.43136376 0.44715803 0.462398   0.47712125\n",
      " 0.49136169 0.50514998 0.51851394]\n"
     ]
    }
   ],
   "source": [
    "print(x[9:24] )\n",
    "print(y[9:24] )"
   ]
  },
  {
   "cell_type": "code",
   "execution_count": 45,
   "metadata": {},
   "outputs": [],
   "source": [
    "z = y"
   ]
  },
  {
   "cell_type": "code",
   "execution_count": 46,
   "metadata": {},
   "outputs": [],
   "source": [
    "z[29:140] = z[29:140]/10\n",
    "z[499:600] = 10 * z[499:600]"
   ]
  },
  {
   "cell_type": "code",
   "execution_count": 48,
   "metadata": {},
   "outputs": [
    {
     "name": "stdout",
     "output_type": "stream",
     "text": [
      "[ 1.78604121 17.48962861 17.084209    1.66370093  1.61384182  1.5575072\n",
      "  1.49276039  1.41664051  1.32428246  1.20682588  0.1045323 ]\n"
     ]
    }
   ],
   "source": [
    "print(z[601:100:-50])"
   ]
  },
  {
   "cell_type": "code",
   "execution_count": null,
   "metadata": {},
   "outputs": [],
   "source": []
  },
  {
   "cell_type": "code",
   "execution_count": null,
   "metadata": {},
   "outputs": [],
   "source": []
  },
  {
   "cell_type": "code",
   "execution_count": null,
   "metadata": {},
   "outputs": [],
   "source": []
  },
  {
   "cell_type": "code",
   "execution_count": null,
   "metadata": {},
   "outputs": [],
   "source": []
  },
  {
   "cell_type": "code",
   "execution_count": null,
   "metadata": {},
   "outputs": [],
   "source": []
  },
  {
   "cell_type": "code",
   "execution_count": null,
   "metadata": {},
   "outputs": [],
   "source": []
  },
  {
   "cell_type": "code",
   "execution_count": null,
   "metadata": {},
   "outputs": [],
   "source": []
  },
  {
   "cell_type": "code",
   "execution_count": 49,
   "metadata": {},
   "outputs": [
    {
     "name": "stdout",
     "output_type": "stream",
     "text": [
      "3.5\n"
     ]
    }
   ],
   "source": []
  },
  {
   "cell_type": "markdown",
   "metadata": {},
   "source": [
    "### 3. Create array base1 that goes from 100 to 600 with a step of 2. \n",
    "- Create array base2 that goes from 75.5 to 0.5 with a step of -0.3. \n",
    "\n",
    "- Assuming that base1 is the one side of a (orthogonal parallelogram) field and base2 the other side, calculate the surface area of all fields (field_surface). \n",
    "- How many fields are there in your sample? \n",
    "- How many unique surface areas are there in your sample?"
   ]
  },
  {
   "cell_type": "code",
   "execution_count": null,
   "metadata": {},
   "outputs": [],
   "source": []
  },
  {
   "cell_type": "code",
   "execution_count": null,
   "metadata": {},
   "outputs": [],
   "source": []
  },
  {
   "cell_type": "code",
   "execution_count": null,
   "metadata": {},
   "outputs": [],
   "source": []
  },
  {
   "cell_type": "code",
   "execution_count": null,
   "metadata": {},
   "outputs": [],
   "source": []
  },
  {
   "cell_type": "code",
   "execution_count": null,
   "metadata": {},
   "outputs": [],
   "source": []
  },
  {
   "cell_type": "code",
   "execution_count": null,
   "metadata": {},
   "outputs": [],
   "source": []
  },
  {
   "cell_type": "markdown",
   "metadata": {},
   "source": [
    "### One of the great features of numpy is that it also allows you to read data in an array in a single command. You do that with np.loadtxt( \"name_of_file\" ) [see also: https://numpy.org/doc/stable/reference/generated/numpy.loadtxt.html ] or np.genfromtxt(\"name_of_file\") [see also: https://numpy.org/doc/stable/reference/generated/numpy.genfromtxt.html ]. \n",
    "\n",
    "### E.g., get file *my_first_data.dat* from the Webcouses/demos/ . Open it with a text editor to see what it looks like. \n",
    "- Read it in an array *all_input_data* with loadtxt or genfromtxt. \n",
    "- Check what your array looks like (print it). \n",
    "- Print all times each car traveled. \n",
    "- Print all distances the cars traveled. \n",
    "- Calculate the distance each car traveled **in a single line** and asign it to array *distances_traveled*. \n",
    "- Print *distances_traveled*"
   ]
  },
  {
   "cell_type": "code",
   "execution_count": null,
   "metadata": {},
   "outputs": [],
   "source": []
  },
  {
   "cell_type": "code",
   "execution_count": null,
   "metadata": {},
   "outputs": [],
   "source": [
    "# Car_number  Time [hr]  Speed [mph]"
   ]
  },
  {
   "cell_type": "code",
   "execution_count": null,
   "metadata": {},
   "outputs": [],
   "source": []
  },
  {
   "cell_type": "code",
   "execution_count": null,
   "metadata": {},
   "outputs": [],
   "source": []
  },
  {
   "cell_type": "code",
   "execution_count": null,
   "metadata": {},
   "outputs": [],
   "source": []
  },
  {
   "cell_type": "code",
   "execution_count": null,
   "metadata": {},
   "outputs": [],
   "source": []
  },
  {
   "cell_type": "markdown",
   "metadata": {},
   "source": [
    "### Now let's try the genfromtxt with data: *test_genfromtxt.dat*. \n",
    "- Read data into variable student_data. \n",
    "- Print the IDs of the students. \n",
    "- Print the average quiz  grade for student 202204. \n",
    "- Print the average quiz grade and the IDs of all students that passed the class with a C- or better ( average total of more than 7.0)."
   ]
  },
  {
   "cell_type": "code",
   "execution_count": null,
   "metadata": {},
   "outputs": [],
   "source": []
  },
  {
   "cell_type": "code",
   "execution_count": null,
   "metadata": {},
   "outputs": [],
   "source": []
  },
  {
   "cell_type": "code",
   "execution_count": null,
   "metadata": {},
   "outputs": [],
   "source": [
    "#Student ID  Average-Grade-Quiz  Average-Grade-Exam    Average-Total"
   ]
  },
  {
   "cell_type": "code",
   "execution_count": null,
   "metadata": {},
   "outputs": [],
   "source": []
  },
  {
   "cell_type": "code",
   "execution_count": null,
   "metadata": {},
   "outputs": [],
   "source": []
  },
  {
   "cell_type": "code",
   "execution_count": null,
   "metadata": {},
   "outputs": [],
   "source": []
  },
  {
   "cell_type": "code",
   "execution_count": null,
   "metadata": {},
   "outputs": [],
   "source": []
  },
  {
   "cell_type": "markdown",
   "metadata": {},
   "source": [
    "### 4. You just opened a new savings account that earns N percent interest per year. The interest that you earn is paid at the end of the year, and is added to the balance of the savings account. Write a *function end_of_year_interest* that takes as input the interest N and a single list *deposits_list* that containts the amount of money deposited into the account from the user at the start of years 1, 2 and 3 (assume this is the only deposit to the account). The function should then calculate the amount in the savings account at the end of years 1, 2 and 3 and print it out. Call the function for an interest rate of 2% and deposits of 100, 300 and 500. \n",
    "\n",
    "- Discuss: what should the input and output of your function be?\n",
    "- What does a good docstring need to include?\n",
    "- How do we code this up?\n",
    "- Code!\n"
   ]
  },
  {
   "cell_type": "code",
   "execution_count": null,
   "metadata": {},
   "outputs": [],
   "source": []
  },
  {
   "cell_type": "code",
   "execution_count": null,
   "metadata": {},
   "outputs": [],
   "source": []
  },
  {
   "cell_type": "code",
   "execution_count": null,
   "metadata": {},
   "outputs": [],
   "source": []
  },
  {
   "cell_type": "code",
   "execution_count": null,
   "metadata": {},
   "outputs": [],
   "source": []
  },
  {
   "cell_type": "markdown",
   "metadata": {},
   "source": [
    "### 5. Create a program that calculates how fast an object moves [ m/s ] when falling to the ground from a height h. Assume that the body free falls with initial speed 0 m/s, so that u$_{final}$ = $\\sqrt(2 * g * h)$, where g = 9.8 $m/s^2$ and h is in m. \n",
    "### Assume that we have a range of object that fall and the recorded height from which they start are stored in a numpy array  ***heights***. Make array ***heights*** from 3 m to 100m with a step of 2.5 (average height of a floor). \n",
    "\n",
    "- How will you calculate the final speed of the bodies falling from the different heights?\n",
    "\n",
    "- Create a variable u_final that calculates the final speed of the falling object from **all** heights in **one** line. \n",
    "- Print it"
   ]
  },
  {
   "cell_type": "code",
   "execution_count": null,
   "metadata": {},
   "outputs": [],
   "source": []
  },
  {
   "cell_type": "code",
   "execution_count": null,
   "metadata": {},
   "outputs": [],
   "source": []
  },
  {
   "cell_type": "code",
   "execution_count": null,
   "metadata": {},
   "outputs": [],
   "source": []
  },
  {
   "cell_type": "code",
   "execution_count": null,
   "metadata": {},
   "outputs": [],
   "source": []
  },
  {
   "cell_type": "markdown",
   "metadata": {},
   "source": [
    "### 6. Create a list *test_list_1* that contains the numbers 1, 2, 5, 7, 22, 34, 42. \n",
    "- Print it. \n",
    "- Change 22 to -10 (don't just copy-paste and change it in the series, access the appropriate element of test_list_1 and change it). \n",
    "- Print the mutated list. \n",
    "- Add elements 96 and 102 to the end of the list. \n",
    "- Add 0 to the start. "
   ]
  },
  {
   "cell_type": "code",
   "execution_count": null,
   "metadata": {},
   "outputs": [],
   "source": []
  },
  {
   "cell_type": "code",
   "execution_count": null,
   "metadata": {},
   "outputs": [],
   "source": []
  },
  {
   "cell_type": "code",
   "execution_count": null,
   "metadata": {},
   "outputs": [],
   "source": []
  },
  {
   "cell_type": "code",
   "execution_count": null,
   "metadata": {},
   "outputs": [],
   "source": []
  },
  {
   "cell_type": "code",
   "execution_count": null,
   "metadata": {},
   "outputs": [],
   "source": []
  },
  {
   "cell_type": "code",
   "execution_count": null,
   "metadata": {},
   "outputs": [],
   "source": []
  },
  {
   "cell_type": "code",
   "execution_count": null,
   "metadata": {},
   "outputs": [],
   "source": []
  },
  {
   "cell_type": "markdown",
   "metadata": {},
   "source": [
    "### 7. Create a tuple *trip_time* that contains the amount of hours a trip takes. Create a tuple *trip_distance* that contains the distance of a given trip in km. <br> Populate *trip_time* with numbers: 1.5, 3.2, 5.6, 14.3, 26.4 and *trip_distance* with 180, 320, 728, 1573, 3326. Calculate the average speed (remember it is distance/time) of each trip. \n",
    "- Can you use plain division of the tuples in a single line to do it? Why/why not?  \n",
    "- After each calculation store the average speed in a tuple called *trip_average_speed* (\"append\" each calculation to the previous tuple). Is the tuple you have at the end, the same as at the start? Why/why not? \n",
    "- You just realized you made a typo, and the 728 should have been 718! Change the tuple accordingly (and properly) and recalculate and print the new *trip_average_speed* tuple. \n",
    "\n",
    "\n",
    "### Make numpy arrays  *np_trip_time* and *np_trip_distance* from the original *trip_time* and *trip_distance*. Calculate the average speed of each trip using the numpy arrays and store it in array *np_trip_average_speed*. What is the benefit in comparison to tuples (or lists?)\n",
    "- You just realized you made the same typo, and the 728 should have been 718! How do you change the array now?"
   ]
  },
  {
   "cell_type": "code",
   "execution_count": null,
   "metadata": {},
   "outputs": [],
   "source": []
  },
  {
   "cell_type": "code",
   "execution_count": null,
   "metadata": {},
   "outputs": [],
   "source": []
  },
  {
   "cell_type": "code",
   "execution_count": null,
   "metadata": {},
   "outputs": [],
   "source": []
  },
  {
   "cell_type": "code",
   "execution_count": null,
   "metadata": {},
   "outputs": [],
   "source": []
  },
  {
   "cell_type": "code",
   "execution_count": null,
   "metadata": {},
   "outputs": [],
   "source": []
  },
  {
   "cell_type": "code",
   "execution_count": null,
   "metadata": {},
   "outputs": [],
   "source": []
  },
  {
   "cell_type": "code",
   "execution_count": null,
   "metadata": {},
   "outputs": [],
   "source": []
  },
  {
   "cell_type": "code",
   "execution_count": null,
   "metadata": {},
   "outputs": [],
   "source": []
  },
  {
   "cell_type": "code",
   "execution_count": null,
   "metadata": {},
   "outputs": [],
   "source": [
    "### also, yes, you can kind of do it in a single line but not in a way we have seen yet, e.g.:\n",
    "#from operator import truediv \n",
    "#trip_average_test_one_line = tuple( map( truediv, trip_distance , trip_time ) )  \n",
    "#print( trip_average_test_one_line )"
   ]
  },
  {
   "cell_type": "code",
   "execution_count": null,
   "metadata": {},
   "outputs": [],
   "source": [
    "# now let's change the element; remember tuples are immutable!\n",
    "#inital was trip_distance = ( 180, 320, 728, 1573, 3326 ) --> need to change trip_distance[ 2 ]\n"
   ]
  },
  {
   "cell_type": "code",
   "execution_count": null,
   "metadata": {},
   "outputs": [],
   "source": []
  },
  {
   "cell_type": "code",
   "execution_count": null,
   "metadata": {},
   "outputs": [],
   "source": []
  },
  {
   "cell_type": "code",
   "execution_count": null,
   "metadata": {},
   "outputs": [],
   "source": []
  },
  {
   "cell_type": "code",
   "execution_count": null,
   "metadata": {},
   "outputs": [],
   "source": []
  },
  {
   "cell_type": "code",
   "execution_count": null,
   "metadata": {},
   "outputs": [],
   "source": []
  },
  {
   "cell_type": "code",
   "execution_count": null,
   "metadata": {},
   "outputs": [],
   "source": []
  },
  {
   "cell_type": "code",
   "execution_count": null,
   "metadata": {},
   "outputs": [],
   "source": []
  },
  {
   "cell_type": "code",
   "execution_count": null,
   "metadata": {},
   "outputs": [],
   "source": []
  },
  {
   "cell_type": "code",
   "execution_count": null,
   "metadata": {},
   "outputs": [],
   "source": []
  },
  {
   "cell_type": "markdown",
   "metadata": {},
   "source": [
    "### 8. Open a text editor and save it as *all_my_functions.py*. Copy in there the function *acceleration* from your HW and from this and previous practicums the functions *end_of_year_interest* and *thunderstruck*. Change the names of the functions by adding a *_fromfile* at the end of each. <br> In a single command import *acceleration_fromfile* and *end_of_year_interest_fromfile* and *thunderstruck_fromfile*. Call the latter for the case you hear a thunder 10s after you see the lightning. \n",
    "\n",
    "#### Note that if you are using numpy in these functions you will need to start your all_my_functions.py with importing numpy as np."
   ]
  },
  {
   "cell_type": "code",
   "execution_count": null,
   "metadata": {},
   "outputs": [],
   "source": []
  },
  {
   "cell_type": "code",
   "execution_count": null,
   "metadata": {},
   "outputs": [],
   "source": []
  },
  {
   "cell_type": "code",
   "execution_count": null,
   "metadata": {},
   "outputs": [],
   "source": []
  },
  {
   "cell_type": "code",
   "execution_count": null,
   "metadata": {},
   "outputs": [],
   "source": []
  },
  {
   "cell_type": "code",
   "execution_count": null,
   "metadata": {},
   "outputs": [],
   "source": []
  },
  {
   "cell_type": "code",
   "execution_count": null,
   "metadata": {},
   "outputs": [],
   "source": []
  },
  {
   "cell_type": "markdown",
   "metadata": {},
   "source": [
    "### 9. The Body Mass Index is one of the available measures of how healthy a person is. It is defined as the ratio of a person's weight in kg, over the square of their height in m. Make a function BMI that uses the height and weight of a person and returns their BMI. \n",
    "\n",
    "### Make a list heights that contains the heights of people, and a list weights that containts their weights. Populate them with heights: 1.60, 2.10 and 1.80 and weights 60, 120 and 81.\n",
    "\n",
    "### Call the function BMI for all three people and print their BMI."
   ]
  },
  {
   "cell_type": "code",
   "execution_count": null,
   "metadata": {},
   "outputs": [],
   "source": []
  },
  {
   "cell_type": "code",
   "execution_count": null,
   "metadata": {},
   "outputs": [],
   "source": []
  },
  {
   "cell_type": "code",
   "execution_count": null,
   "metadata": {},
   "outputs": [],
   "source": []
  },
  {
   "cell_type": "code",
   "execution_count": null,
   "metadata": {},
   "outputs": [],
   "source": []
  },
  {
   "cell_type": "code",
   "execution_count": null,
   "metadata": {},
   "outputs": [],
   "source": []
  },
  {
   "cell_type": "markdown",
   "metadata": {},
   "source": [
    "###  10. Create a list student_h that contains lists with the heights of students in feet and inches. A person being 5' 6\" would be noted as [5, 6], a person being 5' 10\" would be noted as [5, 10]. Populate it with the heights of five students who are : 5’ 1”, 4’ 10”, 6’ 02”, 5’ 07”, and 6’ 11”. Create a function ft_to_m_cm that takes as input a value from student_h and returns each height in a new list [m, cm] (round cm up). Call the function for all values of student_h and print the results with an informative sentence (e.g., Student 1 has a height of 1 m 10 cm )  (Remember that 1 ft ~= 0.3048 m and 1 inch ~= 0.0254 m and 1m has 100cm). \n",
    "\n",
    "- Discuss: what should the function's input be? \n",
    "- What should its output be?\n",
    "- What does the function need to calculate? How will it do that?\n",
    "- Code it up!"
   ]
  },
  {
   "cell_type": "code",
   "execution_count": null,
   "metadata": {},
   "outputs": [],
   "source": [
    "#make student_h list:"
   ]
  },
  {
   "cell_type": "code",
   "execution_count": null,
   "metadata": {},
   "outputs": [],
   "source": [
    "#make your function:\n"
   ]
  },
  {
   "cell_type": "code",
   "execution_count": null,
   "metadata": {},
   "outputs": [],
   "source": [
    "#calculate the heights in m and cm and print with informative statement:"
   ]
  }
 ],
 "metadata": {
  "kernelspec": {
   "display_name": "Python 3 (ipykernel)",
   "language": "python",
   "name": "python3"
  },
  "language_info": {
   "codemirror_mode": {
    "name": "ipython",
    "version": 3
   },
   "file_extension": ".py",
   "mimetype": "text/x-python",
   "name": "python",
   "nbconvert_exporter": "python",
   "pygments_lexer": "ipython3",
   "version": "3.11.4"
  }
 },
 "nbformat": 4,
 "nbformat_minor": 2
}
