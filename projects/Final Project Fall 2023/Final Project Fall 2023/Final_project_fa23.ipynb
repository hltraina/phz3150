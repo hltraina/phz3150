{
 "cells": [
  {
   "cell_type": "markdown",
   "id": "70135b00",
   "metadata": {},
   "source": [
    "# The last ray of sunshine"
   ]
  },
  {
   "cell_type": "markdown",
   "id": "5ad3dc5b",
   "metadata": {},
   "source": [
    "### You are one of the most renowned investigators in the world. An email arrives asking your help:"
   ]
  },
  {
   "cell_type": "markdown",
   "id": "0e1267b2",
   "metadata": {},
   "source": [
    "<img src=\"the_email.png\" width=600 height=400 />"
   ]
  },
  {
   "cell_type": "markdown",
   "id": "13253a21",
   "metadata": {},
   "source": [
    "### You book the first ticket to the North of Canada and drive to the far north. The place is desolate and icy. In front of you there is a weird looking cave. You get out of the car and approach the entrance of the cave. Before you know it there is noise behind you and evil Dr. Cane and helpers are charging toward you with their bear cavalry. You get caught and thrown in a dungeon deep in the cave. \n",
    "\n",
    "\n",
    "<img src=\"evil_dr_storm.png\" width=200 height=200 />\n"
   ]
  },
  {
   "cell_type": "markdown",
   "id": "84cedc4a",
   "metadata": {},
   "source": [
    "### A screen lights up and a video starts playing. Dr. Cane appears on the screen laughing his evil laugh."
   ]
  },
  {
   "cell_type": "code",
   "execution_count": 1,
   "id": "e46dae21",
   "metadata": {},
   "outputs": [
    {
     "name": "stdout",
     "output_type": "stream",
     "text": [
      "Please give me your name: Hailey\n"
     ]
    }
   ],
   "source": [
    "your_name = input('Please give me your name: ')"
   ]
  },
  {
   "cell_type": "code",
   "execution_count": 2,
   "id": "0f1de52e",
   "metadata": {},
   "outputs": [
    {
     "name": "stdout",
     "output_type": "stream",
     "text": [
      "Welcome Hailey. You really think that you can save summers from me??? Dr. Cane? Dr. HARRY Cane!? Muahahaha!\n",
      "Just to prove you wrong I left some hints for you around the room.\n",
      "They could help you escape and find my weather machine. But you will never make it on time! Muahahaha!\n",
      "I will release the eternal storms on December 5 at 12pm. Hope you like swimming!\n"
     ]
    }
   ],
   "source": [
    "print('Welcome '+ your_name + \n",
    "      \"\"\". You really think that you can save summers from me??? Dr. Cane? Dr. HARRY Cane!? Muahahaha!\"\"\")\n",
    "print(\"\"\"Just to prove you wrong I left some hints for you around the room.\n",
    "They could help you escape and find my weather machine. But you will never make it on time! Muahahaha!\"\"\")\n",
    "print(\"\"\"I will release the eternal storms on December 5 at 12pm. Hope you like swimming!\"\"\")"
   ]
  },
  {
   "cell_type": "markdown",
   "id": "9446a140",
   "metadata": {},
   "source": [
    "## Problem 1. <br> Looking for a way out ( **10 points** ) "
   ]
  },
  {
   "cell_type": "code",
   "execution_count": 3,
   "id": "e2664077",
   "metadata": {},
   "outputs": [
    {
     "name": "stdout",
     "output_type": "stream",
     "text": [
      "Hailey, let's save the summers together. To escape from this room you will need to use the coding knowledge you got this semester.\n",
      "\n",
      "\n",
      "Don't forget that a good log is part of a successful mission! Start your log please! (3 points)\n",
      "\n",
      "\n",
      "You will need to import the necesary packages to do numerical problems and plot images. \n",
      "Start by doing all your imports here. (5 points)\n"
     ]
    }
   ],
   "source": [
    "print( your_name + \"\"\", let's save the summers together. To escape from this room you will need to use the coding knowledge you got this semester.\"\"\")\n",
    "print('\\n')\n",
    "print(\"\"\"Don't forget that a good log is part of a successful mission! Start your log please! (3 points)\"\"\")\n",
    "print('\\n')\n",
    "print(\"\"\"You will need to import the necesary packages to do numerical problems and plot images. \n",
    "Start by doing all your imports here. (5 points)\"\"\")"
   ]
  },
  {
   "cell_type": "code",
   "execution_count": 4,
   "id": "73cb7553",
   "metadata": {},
   "outputs": [],
   "source": [
    "#import your modules here:\n",
    "import numpy as np\n",
    "import matplotlib.pyplot as plt\n",
    "from mpl_toolkits.mplot3d import Axes3D\n",
    "from scipy.optimize import curve_fit\n",
    "from scipy.optimize import minimize\n",
    "from scipy.optimize import differential_evolution\n",
    "from scipy.signal import find_peaks"
   ]
  },
  {
   "cell_type": "code",
   "execution_count": 5,
   "id": "463723bd",
   "metadata": {},
   "outputs": [
    {
     "name": "stdout",
     "output_type": "stream",
     "text": [
      "You also need to create an empty list named *key_code* that you will slowly populate \n",
      "with the keys you get as you solve the puzzles (2 points)\n"
     ]
    }
   ],
   "source": [
    "print(\"\"\"You also need to create an empty list named *key_code* that you will slowly populate \n",
    "with the keys you get as you solve the puzzles (2 points)\"\"\")"
   ]
  },
  {
   "cell_type": "code",
   "execution_count": 6,
   "id": "cf131b9f",
   "metadata": {},
   "outputs": [],
   "source": [
    "key_code = []"
   ]
  },
  {
   "cell_type": "code",
   "execution_count": 7,
   "id": "70f0a0b2",
   "metadata": {},
   "outputs": [
    {
     "name": "stdout",
     "output_type": "stream",
     "text": [
      "Let's find our way out of here! \n"
     ]
    }
   ],
   "source": [
    "print(\"\"\"Let's find our way out of here! \"\"\")"
   ]
  },
  {
   "cell_type": "code",
   "execution_count": null,
   "id": "6b71fa25",
   "metadata": {},
   "outputs": [],
   "source": []
  },
  {
   "cell_type": "markdown",
   "id": "fdea9a69",
   "metadata": {},
   "source": [
    "### You take a look around the dungeon. \n",
    "<img src=\"the_escape_room.png\" width=500 height=300 />\n",
    "\n",
    "### At the other side you see the door. Next to it there is something that looks like a key pad. The hints that evil Dr. Cane left all around the room are needed to get the code and escape out of this room...\n",
    "\n",
    "<img src=\"the_door.png\" width=300 height=300 />"
   ]
  },
  {
   "cell_type": "markdown",
   "id": "fcf62925",
   "metadata": {},
   "source": [
    "### Desks, books, paintings, chests, chairs are all over the place. This room is so full of possible hiding places. Where to start? "
   ]
  },
  {
   "cell_type": "code",
   "execution_count": null,
   "id": "2124f259",
   "metadata": {},
   "outputs": [],
   "source": []
  },
  {
   "cell_type": "markdown",
   "id": "61ff075a",
   "metadata": {},
   "source": [
    "## Problem 2.   <br> The encrypted note ( **15 points** ) "
   ]
  },
  {
   "cell_type": "markdown",
   "id": "cd0f87d4",
   "metadata": {},
   "source": [
    "### Walking across the dungeon you notice a weird looking painting. It smells of fresh paint. Dr. Cane must have just made this for some reason! You take a closer look. It depicts the dungeon you are in, but it looks slightly different. There is an open book on the floor. At first glance the book contains a weird collection of numbers. What could this mean? You suddenly realize it's a code. \n",
    "\n",
    "- Make a list *message* that contains all the numbers on the note (3 points). \n",
    "- Write a dictionary *letters_to_numbers* that has as keys letters of the alphabet and as values numbers 1 to 26 (5 points). \n",
    "- Make a code that loops over the numbers in the note and uses the dictionary to decode the message (5 points). Print the message out (2 points)."
   ]
  },
  {
   "cell_type": "code",
   "execution_count": 8,
   "id": "56b8a7af",
   "metadata": {},
   "outputs": [
    {
     "name": "stdout",
     "output_type": "stream",
     "text": [
      "This is what is written on the book:\n",
      " 20 9 3 11  20 15 3 11 20 9 3 11  20 15 3 11 20 9 13 5 9  19 18 21 14 14 9 14 9 7  15 21 20 \n"
     ]
    }
   ],
   "source": [
    "print( 'This is what is written on the book:')\n",
    "print(\"\"\" 20 9 3 11  20 15 3 11 20 9 3 11  20 15 3 11 20 9 13 5 9  19 18 21 14 14 9 14 9 7  15 21 20 \"\"\")"
   ]
  },
  {
   "cell_type": "code",
   "execution_count": 9,
   "id": "ade5df3b",
   "metadata": {},
   "outputs": [],
   "source": [
    "message = [20, 9, 3, 11,   20, 15, 3, 11,  20, 9, 3, 11,   20, 15, 3, 11,  20, 9, 13, 5, 9,  19, 18, 21, 14, 14, 9, 14, 9, 7,  15, 21, 20]"
   ]
  },
  {
   "cell_type": "code",
   "execution_count": 10,
   "id": "88f49340",
   "metadata": {},
   "outputs": [],
   "source": [
    "letter_to_numbers = {'a':1, 'b':2, 'c':3, 'd':4, 'e':5, 'f': 6, 'g':7, 'h':8, 'i': 9, 'j':10,\n",
    "        'k':11, 'l':12, 'm':13, 'n':14, 'o':15, 'p':16, 'q':17, 'r':18,\n",
    "        's':19, 't':20, 'u':21, 'v':22, 'w':23, 'x':24, 'y':25, 'z':26}\n"
   ]
  },
  {
   "cell_type": "code",
   "execution_count": 11,
   "id": "b734dce0",
   "metadata": {},
   "outputs": [
    {
     "name": "stdout",
     "output_type": "stream",
     "text": [
      "Decoded Message:\n",
      "TICKTOCKTICKTOCKTIMEISRUNNINIGOUT\n"
     ]
    }
   ],
   "source": [
    "decoded_message = ''\n",
    "for number in message:\n",
    "    if 1 <= number <= 26:\n",
    "        decoded_message += chr(number + 64)\n",
    "    else:\n",
    "        decoded_message += ' '  # Add space for non-alphabetic characters\n",
    "\n",
    "# Print the decoded message\n",
    "print(\"Decoded Message:\")\n",
    "print(decoded_message)"
   ]
  },
  {
   "cell_type": "markdown",
   "id": "46c6828b",
   "metadata": {},
   "source": [
    "## Problem 3. <br> The clock on the wall ( 15 points)"
   ]
  },
  {
   "cell_type": "markdown",
   "id": "e6d69cc7",
   "metadata": {},
   "source": [
    "### Just as you decode the message a cuckoo clock goes off  somewhere in the room. The time is ticking indeed....You walk toward the clock. It looks old, and has a big mirror at the bottom part. The cuckoo wears glasses?!?! You look around and notice a pair of glasses on the floor that looks exactly like the one the cuckoo wears. Can it be part of the solution? You put the glasses on and look at the clock. There is a secret message painted on the mirror of the clock!"
   ]
  },
  {
   "cell_type": "markdown",
   "id": "89d25c72",
   "metadata": {},
   "source": [
    "- Use your favorite numpy routine to read in the data from 'the_clock_mirror.dat' (3 points) \n",
    "- Make a contour plot using contouring levels 0, 1, 2. (4 points) \n",
    "- Make the plot publication ready. (3 points)\n",
    "\n",
    "- Populate your *key_code* with the number you see on the mirror (2 points).  Print the *key_code* (1 points)."
   ]
  },
  {
   "cell_type": "code",
   "execution_count": 12,
   "id": "c56481ab",
   "metadata": {},
   "outputs": [],
   "source": [
    "clock = np.loadtxt('the_clock_mirror.dat')"
   ]
  },
  {
   "cell_type": "code",
   "execution_count": 13,
   "id": "6c9fd20e",
   "metadata": {},
   "outputs": [
    {
     "data": {
      "text/plain": [
       "<matplotlib.contour.QuadContourSet at 0x2a562605790>"
      ]
     },
     "execution_count": 13,
     "metadata": {},
     "output_type": "execute_result"
    },
    {
     "data": {
      "image/png": "[encoded data removed]",
      "text/plain": [
       "<Figure size 640x480 with 1 Axes>"
      ]
     },
     "metadata": {},
     "output_type": "display_data"
    }
   ],
   "source": [
    "plt.contour(clock, levels=[0, 1, 2])"
   ]
  },
  {
   "cell_type": "code",
   "execution_count": 14,
   "id": "9000bc28",
   "metadata": {},
   "outputs": [
    {
     "data": {
      "image/png": "[encoded data removed]",
      "text/plain": [
       "<Figure size 640x480 with 1 Axes>"
      ]
     },
     "metadata": {},
     "output_type": "display_data"
    }
   ],
   "source": [
    "plt.contour(clock, levels=[0, 1, 2], colors='purple', linestyles='solid', linewidths=0.7)\n",
    "plt.xlabel('X-axis Label')\n",
    "plt.ylabel('Y-axis Label')\n",
    "plt.title('Contour Plot')\n",
    "\n",
    "# Save the plot as an image (e.g., PNG) for publication\n",
    "plt.savefig('contour_plot.png', dpi=300, bbox_inches='tight')"
   ]
  },
  {
   "cell_type": "code",
   "execution_count": 15,
   "id": "356f3ed6",
   "metadata": {},
   "outputs": [
    {
     "name": "stdout",
     "output_type": "stream",
     "text": [
      "Key Code: 3\n"
     ]
    }
   ],
   "source": [
    "clock_code = 3\n",
    "key_code = clock_code\n",
    "print(\"Key Code:\", key_code)"
   ]
  },
  {
   "cell_type": "markdown",
   "id": "54ba6729",
   "metadata": {},
   "source": [
    "## Problem 4. <br> The wooden chest ( 20 points)"
   ]
  },
  {
   "cell_type": "markdown",
   "id": "0286675a",
   "metadata": {},
   "source": [
    "### You feel excited! You got the first number. However, you have no idea where to look at next...did you miss something? You put on the glasses again and look around. On the opposite wall you see another hidden message written."
   ]
  },
  {
   "cell_type": "markdown",
   "id": "8dce7a03",
   "metadata": {},
   "source": [
    "- Read the data from 'the_secret_message.dat' (1 point) \n",
    "- Make a contour plot using contouring levels 0, 1, 2 and 3. (2 points) \n",
    "- The message is flipped. Use the appropriate plt command to flip the y-axis (2 points)."
   ]
  },
  {
   "cell_type": "code",
   "execution_count": 16,
   "id": "e421d646",
   "metadata": {},
   "outputs": [],
   "source": [
    "secret_message = np.loadtxt('the_secret_message.dat')"
   ]
  },
  {
   "cell_type": "code",
   "execution_count": 17,
   "id": "6b822882",
   "metadata": {},
   "outputs": [
    {
     "data": {
      "image/png": "[encoded data removed]",
      "text/plain": [
       "<Figure size 640x480 with 1 Axes>"
      ]
     },
     "metadata": {},
     "output_type": "display_data"
    }
   ],
   "source": [
    "plt.contour(secret_message, levels=[0, 1, 2, 3])\n",
    "plt.gca().invert_yaxis()"
   ]
  },
  {
   "cell_type": "markdown",
   "id": "675d57dc",
   "metadata": {},
   "source": [
    "### You look up. There is a big wooden chest on an elevated floor. You go running to the ladder and climb it. You approach the chest and open it. It is full of torn pages from a book. You remove them from the box and see a picture of Dr. Cane laughing his evil laughter. Interestingly, the first page has a hand-written 'muahaha' at the top. Can this be the next clue?"
   ]
  },
  {
   "cell_type": "markdown",
   "id": "9c83db89",
   "metadata": {},
   "source": [
    "- Write a code that reads the book line by line (5 points), and counts how many many times the word 'muahaha' appears in it (5 points). \n",
    "- The code should then print an informative statement to let you know  how many evil laughters it found (2 points). \n",
    "\n",
    "### This is the next number you need for the key pad. \n",
    "- Populate your *key_code* (2 points) and print the current *key_code* out (1 point) !\n",
    "\n",
    "#### Warning: DO NOT change the lower/upper case of the words in the book; you might get a wrong answer!"
   ]
  },
  {
   "cell_type": "code",
   "execution_count": 18,
   "id": "8314131c",
   "metadata": {},
   "outputs": [],
   "source": [
    "torn_book = 'the_torn_book.dat'"
   ]
  },
  {
   "cell_type": "code",
   "execution_count": 19,
   "id": "ee875b80",
   "metadata": {},
   "outputs": [
    {
     "name": "stdout",
     "output_type": "stream",
     "text": [
      "The word 'muahaha' appears 7 times in the book!\n"
     ]
    }
   ],
   "source": [
    "muahaha_count = 0\n",
    "\n",
    "with open('the_torn_book.dat', 'r', encoding='utf-8') as file:\n",
    "    for line in file:\n",
    "        muahaha_count += line.count('muahaha')\n",
    "        dr_cane_message = line.strip()\n",
    "        \n",
    "# Print the count and an informative statement\n",
    "print(f\"The word 'muahaha' appears {muahaha_count} times in the book!\")"
   ]
  },
  {
   "cell_type": "code",
   "execution_count": 20,
   "id": "44df3d7f",
   "metadata": {},
   "outputs": [
    {
     "name": "stdout",
     "output_type": "stream",
     "text": [
      "Updated key_code: (3, 7)\n"
     ]
    }
   ],
   "source": [
    "key_code = clock_code, muahaha_count\n",
    "print(\"Updated key_code:\", key_code)"
   ]
  },
  {
   "cell_type": "markdown",
   "id": "9932baca",
   "metadata": {},
   "source": [
    "## Problem 5. <br> But wait, there is more. (15 points)"
   ]
  },
  {
   "cell_type": "markdown",
   "id": "9ce3213a",
   "metadata": {},
   "source": [
    "### Dr. Cane left you a message on the last line of the book\n",
    "- Adapt your previous code to print it out (4 points). "
   ]
  },
  {
   "cell_type": "code",
   "execution_count": 21,
   "id": "c415371b",
   "metadata": {},
   "outputs": [
    {
     "name": "stdout",
     "output_type": "stream",
     "text": [
      "I love me some math! what is the integer of: Sigma( n= 1 ) / Sigma (n=7 )+ Sigma (n=2) / Sigma(n = 3) ?\n"
     ]
    }
   ],
   "source": [
    "print(dr_cane_message)"
   ]
  },
  {
   "cell_type": "code",
   "execution_count": 22,
   "id": "35641d64",
   "metadata": {},
   "outputs": [],
   "source": [
    "#added the message to the previous with funcion!"
   ]
  },
  {
   "cell_type": "markdown",
   "id": "1f0ed489",
   "metadata": {},
   "source": [
    "### What could this mean? You look at the book contents and suddenly it all makes sense! The text is full of numbers. You just need to add the counts of each number equal to one, two, three and seven, and then use the equation Dr. Storm gave you to calculate the next key.\n",
    "\n",
    "- Make a code that reads all the book (2 points) and counts how many 'one's, 'two's,'three's and 'seven's the book has in any case (capitalized or not) (4 points). \n",
    "- Use these sums in the equation Dr. Cane gave you (2 point). \n",
    "- The integer part is the next number you need for the key pad (1 point).\n",
    "\n",
    "- Populate your *key_code* with this number (1 points).  \n",
    "- Print the *key_code* (1 points)."
   ]
  },
  {
   "cell_type": "code",
   "execution_count": 23,
   "id": "1fdaaae8",
   "metadata": {},
   "outputs": [],
   "source": [
    "one_count = 0\n",
    "two_count = 0\n",
    "three_count = 0\n",
    "seven_count = 0 \n",
    "\n",
    "with open(torn_book, 'r', encoding='utf-8') as book:\n",
    "    for line in book:\n",
    "        # Count occurrences of 'one', 'two', 'three', and 'seven' in any case\n",
    "        one_count += line.lower().split().count('one')\n",
    "        two_count += line.lower().split().count('two')\n",
    "        three_count += line.lower().split().count('three')\n",
    "        seven_count += line.lower().split().count('seven')"
   ]
  },
  {
   "cell_type": "code",
   "execution_count": 24,
   "id": "921c9c5c",
   "metadata": {},
   "outputs": [
    {
     "name": "stdout",
     "output_type": "stream",
     "text": [
      "131 97 54 19\n",
      "8.69103313840156\n"
     ]
    }
   ],
   "source": [
    "print(one_count, two_count, three_count, seven_count)\n",
    "equation_result = (one_count/seven_count) + (two_count / three_count)\n",
    "print(equation_result)"
   ]
  },
  {
   "cell_type": "code",
   "execution_count": 25,
   "id": "23d7675f",
   "metadata": {},
   "outputs": [],
   "source": [
    "key_code = clock_code, muahaha_count, int(equation_result)"
   ]
  },
  {
   "cell_type": "code",
   "execution_count": 26,
   "id": "d57db737",
   "metadata": {},
   "outputs": [
    {
     "name": "stdout",
     "output_type": "stream",
     "text": [
      "Updated key_code: (3, 7, 8)\n"
     ]
    }
   ],
   "source": [
    "print(\"Updated key_code:\", key_code)"
   ]
  },
  {
   "cell_type": "markdown",
   "id": "5e7d78c5",
   "metadata": {},
   "source": [
    "## Problem 6 <br> Around, around spins the world (10 points) "
   ]
  },
  {
   "cell_type": "markdown",
   "id": "e4885925",
   "metadata": {},
   "source": [
    "### At the bottom of the chest there is a little holographic machine with a big red button. You feel the urge to press it. This ***must*** be the clue about where to look next.\n",
    "\n",
    "- Read data from file the_holograph.dat and assign the three columns to variables x1, y1, z1 (2 points). \n",
    "- Make a 3D scatter plot with your x1,y1,z1 data (5 points). \n",
    "- Save the 3D plot with an appropriate name (2 points).\n",
    "- What does it look like? Where is your next clue in the room? Print an informative statement with your answer. (1 point)"
   ]
  },
  {
   "cell_type": "code",
   "execution_count": 27,
   "id": "bd168319",
   "metadata": {},
   "outputs": [],
   "source": [
    "holograph = np.loadtxt('the_holograph.dat')\n",
    "x1, y1, z1 = holograph[:, 0], holograph[:, 1], holograph[:, 2]"
   ]
  },
  {
   "cell_type": "code",
   "execution_count": 28,
   "id": "42e1d0fe",
   "metadata": {},
   "outputs": [
    {
     "data": {
      "image/png": "[encoded data removed]",
      "text/plain": [
       "<Figure size 640x480 with 1 Axes>"
      ]
     },
     "metadata": {},
     "output_type": "display_data"
    }
   ],
   "source": [
    "fig = plt.figure()\n",
    "ax = fig.add_subplot(111, projection='3d')\n",
    "ax.scatter(x1, y1, z1, c='b', marker='o')\n",
    "\n",
    "# Set plot labels\n",
    "ax.set_xlabel('X-axis')\n",
    "ax.set_ylabel('Y-axis')\n",
    "ax.set_zlabel('Z-axis')\n",
    "\n",
    "plt.savefig('3d_plot.png')"
   ]
  },
  {
   "cell_type": "code",
   "execution_count": 29,
   "id": "73997af8",
   "metadata": {},
   "outputs": [
    {
     "name": "stdout",
     "output_type": "stream",
     "text": [
      "The 3D plot looks like a swirl that starts off big and progressively gets smaller. This can be compared to a hurricane or tornado so maybe a swirl symbol in the next room will be our next clue.\n"
     ]
    }
   ],
   "source": [
    "print(\"The 3D plot looks like a swirl that starts off big and progressively gets smaller. This can be compared to a hurricane or tornado so maybe a swirl symbol in the next room will be our next clue.\")"
   ]
  },
  {
   "cell_type": "markdown",
   "id": "b9ca5a0d",
   "metadata": {},
   "source": [
    "## Problem 7 <br> The puzzles (24 points)"
   ]
  },
  {
   "cell_type": "markdown",
   "id": "03c37644",
   "metadata": {},
   "source": [
    "### You look around the room. There are some nature pictures, but none with a tornado or a hurricane. Nothing makes sense...As you wander around the room you notice something is odd. Vermeer's girl with the pearl earring is odd? You approach and see the girls face is replaced with Dr. Harry Cane's... Can this be it? You turn the painting around and find a paper with two puzzles:"
   ]
  },
  {
   "cell_type": "markdown",
   "id": "62e94ddc",
   "metadata": {},
   "source": [
    "### The first puzzle: \n",
    "- The original of this painting was made in what year? Google it! Sum the numbers of the year up. (so if was made in 1111 the answer is 1 + 1+1 +1 = 4) (1 point) \n",
    "- Use the appropriate numpy function to calculate the mean (2 points), median (2 points) and trace (2 points) of the what_is_the_key array. Which one matches your previous sum? \n",
    "- If the mean : u = 2, if the median: u = 9, if the trace: u = 3 (1 point)"
   ]
  },
  {
   "cell_type": "markdown",
   "id": "6501345c",
   "metadata": {},
   "source": [
    "### The second puzzle:\n",
    "- An alien at Proxima Centauri b looks toward our Sun with their telescope and records a transit (a planet crosses in front of the Sun disk). The planet caused a dip in the light the alien saw of $\\Delta$f=0.007456. The event repeated after 10,740 days. Using Doppler spectroscopy the alien found that the planet causes the Sun to wobble with a velocity semi-amplitude of 2.76m/s. Which planet did the alien see? If Mercury is 1, Venus is 2, this planet is N. \n",
    "\n",
    "    - Find the Radius and Mass of the planet using the information from above and these tips:\n",
    "      - Tip for the transit: you know that $\\Delta$f $\\sim \\frac{R^2_{planet}}{R^2_{star}}$. Use this to find the radius of the planet in km, if you know that the Sun has a radius of 696,000km (5 points)\n",
    "      - Tip for the wobbling: you know that the velocity semi-amplitude is given by $K = \\frac{28.43 [m/s]}{\\sqrt{1-e^2}} \\frac{m_{planet}\\sin i}{m_{Jupiter}}(\\frac{m_{planet}+m_{Sun}}{m_{Sun}})^{-2/3} (\\frac{P}{1 year})^{-1/3}$. Use this to find the mass of the planet. You can assume that e = 0 and sini = 1. Also, note that $m_{planet} << m_{Sun}$ (5 points)\n",
    "      \n",
    "    - Now that you now the Radius, Mass and Period of the planet, compare against this NASA database: https://nssdc.gsfc.nasa.gov/planetary/factsheet/ \n",
    "    - Which is the planet the alien saw? (3 points)\n",
    "    - What is the number N of the planet (if Mercury=1, Venus =2, etc)? Print an informative statement. (1 point)\n",
    "    - Remember that the Moon is *not* a planet!\n",
    "    \n",
    "    \n",
    "### The next key:\n",
    "- What is the number that is equal to N/u ? Populate your *key_code* with the number (1 points).  \n",
    "- Print the *key_code* (1 points)."
   ]
  },
  {
   "cell_type": "code",
   "execution_count": 30,
   "id": "e6afe602",
   "metadata": {},
   "outputs": [
    {
     "data": {
      "text/plain": [
       "'The first puzzle'"
      ]
     },
     "execution_count": 30,
     "metadata": {},
     "output_type": "execute_result"
    }
   ],
   "source": [
    "\"\"\"The first puzzle\"\"\""
   ]
  },
  {
   "cell_type": "code",
   "execution_count": 31,
   "id": "d298c702",
   "metadata": {},
   "outputs": [
    {
     "name": "stdout",
     "output_type": "stream",
     "text": [
      "The year the painting was created was 1665, therefore the sum of it all is 18.\n"
     ]
    }
   ],
   "source": [
    "print(\"The year the painting was created was 1665, therefore the sum of it all is 18.\")\n",
    "original_year_sum = 18\n",
    "\n",
    "what_is_the_key = np.array( ([ 7, 23, 45, 37, -2, 12, 34 ], \n",
    "                         [ 22, 1, 34, 18, 54, 33, 9  ],\n",
    "                         [  8, 19, 2, 42, 32, 2, 17 ],\n",
    "                         [ 98, 9, 14,  2, 12, 33, 7 ], \n",
    "                         [ 12, 10, 4,  54, 2, -8, 7 ],\n",
    "                         [ 77, 22, -2,  24, -8, 3, 7 ],\n",
    "                         [ 122, 33, 3,  3,  4, 33, 1 ] ) )"
   ]
  },
  {
   "cell_type": "code",
   "execution_count": 32,
   "id": "8308b907",
   "metadata": {},
   "outputs": [
    {
     "name": "stdout",
     "output_type": "stream",
     "text": [
      "The mean is:  20\n"
     ]
    }
   ],
   "source": [
    "mean_val = int(np.mean(what_is_the_key))\n",
    "print(\"The mean is: \", mean_val)"
   ]
  },
  {
   "cell_type": "code",
   "execution_count": 33,
   "id": "35720994",
   "metadata": {},
   "outputs": [
    {
     "name": "stdout",
     "output_type": "stream",
     "text": [
      "The median is:  12.0\n"
     ]
    }
   ],
   "source": [
    "median_val = np.median(what_is_the_key)\n",
    "print(\"The median is: \", median_val)"
   ]
  },
  {
   "cell_type": "code",
   "execution_count": 34,
   "id": "f4df1498",
   "metadata": {},
   "outputs": [
    {
     "name": "stdout",
     "output_type": "stream",
     "text": [
      "The trace is:  18\n"
     ]
    }
   ],
   "source": [
    "trace_val = np.trace(what_is_the_key)\n",
    "print(\"The trace is: \", trace_val)"
   ]
  },
  {
   "cell_type": "code",
   "execution_count": 35,
   "id": "197eaed3",
   "metadata": {},
   "outputs": [],
   "source": [
    "if original_year_sum == mean_val:\n",
    "    u = 2\n",
    "elif original_year_sum == median_val:\n",
    "    u = 9\n",
    "elif original_year_sum == trace_val:\n",
    "    u = 3\n",
    "else:\n",
    "    u = None"
   ]
  },
  {
   "cell_type": "code",
   "execution_count": 36,
   "id": "944d9973",
   "metadata": {},
   "outputs": [
    {
     "name": "stdout",
     "output_type": "stream",
     "text": [
      "The value of u based on the matching condition of 18 is 3.\n"
     ]
    }
   ],
   "source": [
    "print(f\"The value of u based on the matching condition of 18 is {u}.\")"
   ]
  },
  {
   "cell_type": "code",
   "execution_count": 37,
   "id": "f9c865e7",
   "metadata": {},
   "outputs": [
    {
     "data": {
      "text/plain": [
       "'The second puzzle'"
      ]
     },
     "execution_count": 37,
     "metadata": {},
     "output_type": "execute_result"
    }
   ],
   "source": [
    "\"\"\"The second puzzle\"\"\""
   ]
  },
  {
   "cell_type": "code",
   "execution_count": 38,
   "id": "d7815154",
   "metadata": {},
   "outputs": [],
   "source": [
    "delta_f = 0.007456  # Transit information\n",
    "Sun_rad = 696000  # Sun's radius in km\n",
    "K = 2.76  # Velocity semi-amplitude in m/s\n",
    "G = 6.67430e-11  # Gravitational constant in m^3 kg^-1 s^-2\n",
    "Msun = 1.989e30\n",
    "period_years = 10740 / 365.25  # Convert days to years\n",
    "m_jupiter = 1.898 * 10**27  # Mass of Jupiter in kg\n",
    "m_sun = 1.989 * 10**30 "
   ]
  },
  {
   "cell_type": "code",
   "execution_count": 39,
   "id": "53e2e89d",
   "metadata": {},
   "outputs": [],
   "source": [
    "#Radius of the Planet\n",
    "\n",
    "Radius_plan = np.sqrt(delta_f) * Sun_rad"
   ]
  },
  {
   "cell_type": "code",
   "execution_count": 40,
   "id": "9c82e215",
   "metadata": {},
   "outputs": [],
   "source": [
    "mass_planet = (K / 28.4) ** 2 * m_jupiter * (period_years / 1)**(1/3)"
   ]
  },
  {
   "cell_type": "code",
   "execution_count": 41,
   "id": "1400a2f8",
   "metadata": {},
   "outputs": [
    {
     "name": "stdout",
     "output_type": "stream",
     "text": [
      "60098.30027546536\n",
      "5.532851886492049e+25\n"
     ]
    }
   ],
   "source": [
    "Radius_plan_km = Radius_plan / 1000  # Convert from meters to kilometers\n",
    "mass_planet_1e24 = mass_planet / 1e24\n",
    "planet_data = {\n",
    "    'Mercury': {'radius': 2439.5, 'mass': 3.30e23, 'period': 88},\n",
    "    'Venus': {'radius': 6052, 'mass': 4.87e24, 'period': 224.7},\n",
    "    'Earth': {'radius': 6378, 'mass': 5.97e24, 'period': 365.2},\n",
    "    'Mars': {'radius': 3396, 'mass': 6.42e23, 'period': 687},\n",
    "    'Jupiter': {'radius': 71492, 'mass': 1.898e27, 'period': 4331},\n",
    "    'Saturn': {'radius': 60268, 'mass': 5.68e26, 'period': 10747},\n",
    "    'Uranus': {'radius': 25559, 'mass': 8.68e25, 'period': 30589},\n",
    "    'Neptune': {'radius': 24764, 'mass': 1.02e26, 'period': 59800},\n",
    "    'Pluto': {'radius': 1188, 'mass': 1.30e22, 'period': 90560}\n",
    "}\n",
    "print(Radius_plan)\n",
    "print(mass_planet)"
   ]
  },
  {
   "cell_type": "code",
   "execution_count": 42,
   "id": "20849254",
   "metadata": {},
   "outputs": [
    {
     "name": "stdout",
     "output_type": "stream",
     "text": [
      "The alien likely observed a planet similar to Uranus\n",
      "Calculated Radius: 60098.30027546536 , Calculated Mass: 5.532851886492049e+25\n"
     ]
    }
   ],
   "source": [
    "closest_match = None\n",
    "min_distance = float('inf')\n",
    "\n",
    "for planet, data in planet_data.items():\n",
    "    R_diff = abs(Radius_plan - data['radius'])\n",
    "    M_diff = abs(mass_planet - data['mass'])\n",
    "    distance = np.sqrt(R_diff**2 + M_diff**2)\n",
    "\n",
    "    #Commented out for debugging purposes\n",
    "    #print(f\"Checking {planet}: R_diff = {R_diff}, M_diff = {M_diff}, Distance = {distance}\")\n",
    "\n",
    "    if distance < min_distance:\n",
    "        min_distance = distance\n",
    "        closest_match = planet\n",
    "\n",
    "\n",
    "print(f\"The alien likely observed a planet similar to {closest_match}\")\n",
    "print(f\"Calculated Radius: {Radius_plan} , Calculated Mass: {mass_planet}\")"
   ]
  },
  {
   "cell_type": "code",
   "execution_count": 43,
   "id": "2479534d",
   "metadata": {},
   "outputs": [
    {
     "name": "stdout",
     "output_type": "stream",
     "text": [
      "The number N corresponding to the observed planet is: 7\n"
     ]
    }
   ],
   "source": [
    "N = None\n",
    "for number, (planet, data) in enumerate(planet_data.items(), start=1):\n",
    "    if planet == closest_match:\n",
    "        N = number\n",
    "        break\n",
    "\n",
    "print(f\"The number N corresponding to the observed planet is: {N}\")"
   ]
  },
  {
   "cell_type": "code",
   "execution_count": 44,
   "id": "c0ed8406",
   "metadata": {},
   "outputs": [
    {
     "name": "stdout",
     "output_type": "stream",
     "text": [
      "Updated key code:  (3, 7, 8, 2)\n"
     ]
    }
   ],
   "source": [
    "puzzle = N/u\n",
    "key_code = clock_code, muahaha_count, int(equation_result), int(puzzle)\n",
    "print(\"Updated key code: \", key_code)\n",
    "#N/u needs to equal 2"
   ]
  },
  {
   "cell_type": "markdown",
   "id": "60f1b3c1",
   "metadata": {},
   "source": [
    "## Problem 8. <br> The bug exterminator (15 points)"
   ]
  },
  {
   "cell_type": "markdown",
   "id": "1023a887",
   "metadata": {},
   "source": [
    "On the other side of the room you see a chair in front of a computer. The chair has an 8 scratched on it. This must be where the next clue lies. You walk to the chair and look at the computer screen. There is some code, but it is full of bugs. Does Dr. Cane think that this can stop you?\n",
    "\n",
    "Debug the code to find the next number(s). (8 points)\n",
    "\n",
    "Run the code for wheel radii: r1 = 0.5 m , r2 = 0.8 m, times the cars moved: t1 = 12 s, t2 = 8 s, and angular speeds of w1 = 8 rotations/s and w2 = 5 rotations/s. The integer part of the speed that the code returns is the next part of the key. (2 points)\n",
    "\n",
    "If you get 2 digit speed make a code that will split it in two numbers: e.g., if you get a speed of 42 m/s the code will append to the key a 4, and then a 2. (3 points) \n",
    "\n",
    "Populate your key_code with the number(s) (1 points). \n",
    "\n",
    "Print the key_code (1 points)."
   ]
  },
  {
   "cell_type": "code",
   "execution_count": 45,
   "id": "643d5bce",
   "metadata": {},
   "outputs": [
    {
     "name": "stdout",
     "output_type": "stream",
     "text": [
      "Give me the first radius please0.5\n",
      "Give me the second radius please0.8\n",
      "How much time did the first car move?12\n",
      "How much time did the second car move?8\n",
      "How many rotations did the wheels of car 1 complete each second?8\n",
      "How many rotations did the wheels of car 2 complete each second?5\n",
      "Car 1 moved further than Car 2\n",
      "Car 1 moved with a speed of:  25.132741228718345 m/s.\n"
     ]
    }
   ],
   "source": [
    "# Code that calculates the distance traveled by a car knowing how much time it moves and\n",
    "# how many rotations its wheels, with a known perimeter, made. \n",
    "# Code then compares the distance that two cars moved based on the time they move \n",
    "# and their wheels perimeters and tells you which one moved further and for that car \n",
    "# at what speed it moved. \n",
    "\n",
    "\n",
    "\n",
    "# Ask the user for the two radii of the car wheels:\n",
    "\n",
    "radius1 = float(input( 'Give me the first radius please'  ))\n",
    "radius2 = float(input( 'Give me the second radius please' ))\n",
    "\n",
    "# calculate the circumference of the two wheels:\n",
    "\n",
    "circumference1 = radius1 * 2 * np.pi\n",
    "circumference2 = radius2 * 2 * np.pi\n",
    "\n",
    "# Ask the user for how much time the two cars move:\n",
    "\n",
    "time1 = float(input( 'How much time did the first car move?' ))\n",
    "time2 = float(input( 'How much time did the second car move?' ))\n",
    " \n",
    "    \n",
    "# Ask the user how many full circles did their wheels turn each second?\n",
    "\n",
    "w1 = float(input( 'How many rotations did the wheels of car 1 complete each second?' ))\n",
    "w2 = float(input( 'How many rotations did the wheels of car 2 complete each second?' ))\n",
    "\n",
    "\n",
    "# Calculate the total distance each car moved:\n",
    "\n",
    "distance1 = w1 * circumference1 * time1\n",
    "distance2 = w2 * circumference2 * time2\n",
    "\n",
    "# Compare the two distances and for the one that moved further print which one\n",
    "# it is and what its speed is:\n",
    "code = []\n",
    "\n",
    "if distance1 > distance2:\n",
    "    print( 'Car 1 moved further than Car 2' )\n",
    "    \n",
    "    speed = distance1 / time1\n",
    "    speed_str = str(int(speed))\n",
    "    code = [int(digit) for digit in speed_str]\n",
    "    \n",
    "    print( 'Car 1 moved with a speed of: ', speed , 'm/s.' )\n",
    "\n",
    "elif distance2 < distance1:\n",
    "    print( 'Car 2 moved further than Car 1' )\n",
    "    \n",
    "    speed = distance2 / time2\n",
    "    speed_str = str(int(speed))\n",
    "    code = [int(digit) for digit in speed_str]\n",
    "    \n",
    "    print( 'Car 2 moved with a speed of: ', speed , 'm/s.' )\n",
    "\n",
    "else:\n",
    "    print( 'Car 1 and two moved an equal distance with Car 1' )\n",
    "    speed1 = distance1 / time1\n",
    "    speed2 = distance2 / time2\n",
    "    \n",
    "    speed_str1 = str(int(speed1))\n",
    "    code = [int(digit) for digit in speed_str1]\n",
    "    \n",
    "    \n",
    "    print( 'Car 1 moved with a speed of: ', speed1 , 'm/s' \n",
    "         'and Car 2 moved with a speed of: ', speed2  , 'm/s.')\n",
    "    \n",
    "    "
   ]
  },
  {
   "cell_type": "code",
   "execution_count": 46,
   "id": "9fca224f",
   "metadata": {},
   "outputs": [],
   "source": [
    "car_code = code"
   ]
  },
  {
   "cell_type": "code",
   "execution_count": 47,
   "id": "7d143105",
   "metadata": {},
   "outputs": [
    {
     "name": "stdout",
     "output_type": "stream",
     "text": [
      "Updated key code:  [3, 7, 8, 2, [2, 5]]\n"
     ]
    }
   ],
   "source": [
    "key_code = clock_code, muahaha_count, int(equation_result), int(puzzle), car_code\n",
    "print(\"Updated key code: \", list(key_code))"
   ]
  },
  {
   "cell_type": "code",
   "execution_count": 48,
   "id": "a1712b51",
   "metadata": {},
   "outputs": [],
   "source": [
    "#code needs to equal 2, 5"
   ]
  },
  {
   "cell_type": "code",
   "execution_count": null,
   "id": "b4aceef1",
   "metadata": {},
   "outputs": [],
   "source": []
  },
  {
   "cell_type": "code",
   "execution_count": null,
   "id": "8f9fd33e",
   "metadata": {},
   "outputs": [],
   "source": []
  },
  {
   "cell_type": "markdown",
   "id": "33f4bc2f",
   "metadata": {},
   "source": [
    "## Problem 9. <br> The model derivation (35 points)"
   ]
  },
  {
   "cell_type": "markdown",
   "id": "161317bc",
   "metadata": {},
   "source": [
    "### Looking across the room you see the elf drew a big 9 next to a usb stick. This must be the next thing to look at. You plug the stick into the computer in the room. There is a single file with GPS data: timestamps, distances from some location and GPS errors.  (10 points total)\n",
    "\n",
    "- Get the data from the table and assign them to numpy arrays named gps_time, gps_distance and gps_error. (3 points) \n",
    "- Plot the distance of the object as a function of time making a publication-ready plot *with errorbars*, axis labels and plot title. (5 points)\n",
    "- Use the appropriate python command to store the plot in a pdf. (2 points)"
   ]
  },
  {
   "cell_type": "markdown",
   "id": "2a23dacd",
   "metadata": {},
   "source": [
    "time | distance     | error\n",
    "--|:---------:|:-----------:\n",
    "12.00 | 1137.61    | 45.0\n",
    "12.54 | 1174.34    | 42.1\n",
    "13.07 | 1209.87    | 34.0\n",
    "13.61 | 1244.19    | 44.0\n",
    "14.15 | 1277.31    | 48.0\n",
    "14.68 | 1309.21    | 35.0\n",
    "15.22 | 1339.93    | 25.0\n",
    "15.76 | 1369.39    | 35.0\n",
    "16.29 | 1397.67    | 41.0\n",
    "16.83 | 1424.74    | 42.0\n",
    "17.37 | 1450.61    | 45.0\n",
    "17.90 | 1475.25    | 35.0\n",
    "18.44 | 1498.69    | 45.0\n",
    "18.98 | 1520.90    | 45.0\n",
    "19.51 | 1541.94    | 45.0\n",
    "20.05 | 1561.75    | 45.0\n",
    "20.58 | 1580.35    | 35.0\n",
    "21.12 | 1597.72    | 25.0\n",
    "21.66 | 1613.93    | 15.0\n",
    "22.21 | 1628.91    | 45.0\n",
    "22.73 | 1642.67    | 35.0\n",
    "23.27 | 1655.22    | 25.0\n",
    "23.80 | 1666.57    | 41.0\n",
    "24.34 | 1676.71    | 42.0\n",
    "24.88 | 1685.63    | 45.0\n",
    "25.41 | 1693.35    | 45.0\n",
    "25.95 | 1699.92    | 45.0\n",
    "26.48 | 1705.16    | 45.0\n",
    "27.02 | 1709.25    | 45.0 \n",
    "27.56 | 1712.14    | 45.0\n",
    "28.11 | 1713.81    | 45.0\n",
    "28.63 | 1714.27    | 45.0\n",
    "29.17 | 1713.48    | 45.0\n",
    "29.71 | 1711.57    | 45.0\n",
    "30.24 | 1708.41    | 45.0\n",
    "30.78 | 1704.04    | 45.0\n",
    "31.32 | 1698.45    | 45.0\n",
    "31.85 | 1691.66    | 45.0\n",
    "32.39 | 1683.66    | 45.0\n",
    "32.93 | 1674.44    | 25.0\n",
    "33.46 | 1664.02    | 45.0\n",
    "34.00 | 1652.40    | 15.0"
   ]
  },
  {
   "cell_type": "code",
   "execution_count": 49,
   "id": "e7c27068",
   "metadata": {},
   "outputs": [
    {
     "data": {
      "text/plain": [
       "42"
      ]
     },
     "execution_count": 49,
     "metadata": {},
     "output_type": "execute_result"
    }
   ],
   "source": [
    "gps_time = np.array([\n",
    "    12.00, 12.54, 13.07, 13.61, 14.15, 14.68, 15.22, 15.76, 16.29, 16.83,\n",
    "    17.37, 17.90, 18.44, 18.98, 19.51, 20.05, 20.58, 21.12, 21.66, 22.21,\n",
    "    22.73, 23.27, 23.80, 24.34, 24.88, 25.41, 25.95, 26.48, 27.02, 27.56,\n",
    "    28.11, 28.63, 29.17, 29.71, 30.24, 30.78, 31.32, 31.85, 32.39, 32.93,\n",
    "    33.46, 34.00\n",
    "])\n",
    "len(gps_time)"
   ]
  },
  {
   "cell_type": "code",
   "execution_count": 50,
   "id": "ac4e2dfd",
   "metadata": {},
   "outputs": [
    {
     "data": {
      "text/plain": [
       "42"
      ]
     },
     "execution_count": 50,
     "metadata": {},
     "output_type": "execute_result"
    }
   ],
   "source": [
    "gps_distance = np.array([\n",
    "    1137.61, 1174.34, 1209.87, 1244.19, 1277.31, 1309.21, 1339.93, 1369.39, \n",
    "    1397.67, 1424.74, 1450.61, 1475.25, 1498.69, 1520.90, 1541.94, 1561.75, \n",
    "    1580.35, 1597.72, 1613.93, 1628.91, 1642.67, 1655.22, 1666.57, 1676.71, \n",
    "    1685.63, 1693.35, 1699.92, 1705.16, 1709.25, 1712.14, 1713.81, 1714.27, \n",
    "    1713.48, 1711.57, 1708.41, 1704.04, 1698.45, 1691.66, 1683.66, 1674.44, \n",
    "    1664.02, 1652.40\n",
    "])\n",
    "len(gps_distance)"
   ]
  },
  {
   "cell_type": "code",
   "execution_count": 51,
   "id": "2a0045f6",
   "metadata": {},
   "outputs": [
    {
     "data": {
      "text/plain": [
       "42"
      ]
     },
     "execution_count": 51,
     "metadata": {},
     "output_type": "execute_result"
    }
   ],
   "source": [
    "gps_error = np.array([\n",
    "    45.0, 42.1, 34.0, 44.0, 48.0, 35.0, 25.0, 35.0, 41.0, 42.0, 45.0, 35.0, \n",
    "    45.0, 45.0, 45.0, 45.0, 35.0, 25.0, 15.0, 45.0, 35.0, 25.0, 41.0, 42.0, \n",
    "    45.0, 45.0, 45.0, 45.0, 45.0, 45.0, 45.0, 45.0, 45.0, 45.0, 45.0, 45.0, \n",
    "    45.0, 45.0, 45.0, 25.0, 45.0, 15.0\n",
    "])\n",
    "len(gps_error)"
   ]
  },
  {
   "cell_type": "code",
   "execution_count": 52,
   "id": "4ac4f3f5",
   "metadata": {},
   "outputs": [
    {
     "data": {
      "image/png": "[encoded data removed]",
      "text/plain": [
       "<Figure size 640x480 with 1 Axes>"
      ]
     },
     "metadata": {},
     "output_type": "display_data"
    }
   ],
   "source": [
    "plt.errorbar(gps_time, gps_distance, yerr=gps_error, fmt='o-', label='Data')\n",
    "plt.xlabel('Time (s)')\n",
    "plt.ylabel('Distance (m)')\n",
    "plt.title('Distance vs Time with Errorbars')\n",
    "plt.legend()\n",
    "plt.grid(True)\n",
    "plt.savefig('distance_vs_time_plot.pdf')"
   ]
  },
  {
   "cell_type": "markdown",
   "id": "2eb05832",
   "metadata": {},
   "source": [
    "### The model (25 points total):\n",
    "\n",
    "- Use the data to fit a model of the form $s = u * t$  and a model of the form $s = 0.5 * a * t^2 + u_o * t$ and find which best describes the data and why (14 points)? \n",
    "\n",
    "   - tip: limit your scan of the u parameter in the 0.1 to 150 space for the first model with a step of 2; and the a in the -10 to +10 with a step of 0.1 and u0 in the 0.1 to 140 with a step of 10 for the second model \n",
    "\n",
    "- Is the object moving with a constant speed, or accelerating? (1 point) \n",
    "- What is the speed u or acceleration a of the best-fit model (8 points)?\n",
    "- Populate your *key_code* with the absolute value of the integer part of this number (1 points).  \n",
    "- Print the *key_code* (1 points)."
   ]
  },
  {
   "cell_type": "code",
   "execution_count": 53,
   "id": "1bf80d5e",
   "metadata": {},
   "outputs": [],
   "source": [
    "def model_1(u,t):\n",
    "    return u * t\n",
    "\n",
    "def objective_model_1(u, t, s):\n",
    "    return np.sum((model_1(t, u) - s)**2)"
   ]
  },
  {
   "cell_type": "code",
   "execution_count": 54,
   "id": "3f6656c2",
   "metadata": {},
   "outputs": [],
   "source": [
    "def model_2(t, a, u0):\n",
    "    return 0.5 * a * t**2 + u0 * t\n",
    "\n",
    "def objective_model_2(params, t, s):\n",
    "    return np.sum((model_2(t, *params) - s)**2)"
   ]
  },
  {
   "cell_type": "code",
   "execution_count": 55,
   "id": "3535df83",
   "metadata": {},
   "outputs": [],
   "source": [
    "u_values = np.arange(0.1, 150, 2)\n",
    "best_u_model_1 = None\n",
    "best_error_model_1 = float('inf')\n",
    "\n",
    "for u in u_values:\n",
    "    error = objective_model_1(u, gps_time, gps_distance)\n",
    "\n",
    "    if error < best_error_model_1:\n",
    "        best_error_model_1 = error\n",
    "        best_u_model_1 = u"
   ]
  },
  {
   "cell_type": "code",
   "execution_count": 56,
   "id": "738e068e",
   "metadata": {},
   "outputs": [],
   "source": [
    "a_values_model_2 = np.arange(-10, 10, 0.1)\n",
    "u0_values_model_2 = np.arange(0.1, 140, 10)\n",
    "best_params_model_2 = None\n",
    "best_error_model_2 = float('inf')\n",
    "\n",
    "for a in a_values_model_2:\n",
    "    for u0 in u0_values_model_2:\n",
    "        params = [a, u0]\n",
    "        error = objective_model_2(params, gps_time, gps_distance)\n",
    "\n",
    "        if error < best_error_model_2:\n",
    "            best_error_model_2 = error\n",
    "            best_params_model_2 = params\n",
    "\n",
    "best_a_model_2, best_u0_model_2 = best_params_model_2"
   ]
  },
  {
   "cell_type": "code",
   "execution_count": 57,
   "id": "c8aaf1ba",
   "metadata": {},
   "outputs": [
    {
     "name": "stdout",
     "output_type": "stream",
     "text": [
      "Object motion: Acceleration\n",
      "Best-fit parameter for motion: -4.200000000000021\n"
     ]
    }
   ],
   "source": [
    "if best_error_model_1 < best_error_model_2:\n",
    "    object_motion = \"Constant Speed\"\n",
    "    best_motion_parameter = best_u_model_1\n",
    "else:\n",
    "    object_motion = \"Acceleration\"\n",
    "    best_motion_parameter = best_a_model_2\n",
    "\n",
    "print(\"Object motion:\", object_motion)\n",
    "print(\"Best-fit parameter for motion:\", best_motion_parameter)\n",
    "speed_code = int(np.abs(np.ceil(best_motion_parameter)))"
   ]
  },
  {
   "cell_type": "code",
   "execution_count": 58,
   "id": "2ab70fd9",
   "metadata": {},
   "outputs": [
    {
     "name": "stdout",
     "output_type": "stream",
     "text": [
      "The key_code is: (3, 7, 8, 2, [2, 5], 4)\n"
     ]
    }
   ],
   "source": [
    "key_code = clock_code, muahaha_count, int(equation_result), int(puzzle), car_code, speed_code\n",
    "# Print the key_code\n",
    "print(\"The key_code is:\", key_code)\n",
    "#needs to equal 4"
   ]
  },
  {
   "cell_type": "markdown",
   "id": "c653c420",
   "metadata": {},
   "source": [
    "## Problem 10. <br>  The data is the truth (10 points)"
   ]
  },
  {
   "cell_type": "markdown",
   "id": "f4fcd7a7",
   "metadata": {},
   "source": [
    "### You are getting close to the end. This is getting exciting! Where can the final clue be? You look around. What else is there? Dr. Cane sure has a fascination with nature....On the floor there is a nature painting showing waves and a Sun..But wait! There is something wrong. This is not just a painting. There are numbers across the 'waves'."
   ]
  },
  {
   "cell_type": "markdown",
   "id": "76f67dad",
   "metadata": {},
   "source": [
    "- Read in the data from the_data.dat (1 point) \n",
    "  The data contain the numbers you see on the painting. Years and some value associated with them.\n",
    "  \n",
    "- What is the period of the data (i.e., the time it takes to go from one peak to the next)? Make a code that scans the data and checks a window of 6 values at a time. If a value is larger than 3 points before it and 3 points after it, it is stored as a peak.   (12 points)\n",
    "    - Tip: start your scanning from point 3 so that the edge of the window is at point 0\n",
    "\n",
    "\n",
    "- Populate your *key_code* with the number (1 points).  \n",
    "- Print the *key_code* (1 points)."
   ]
  },
  {
   "cell_type": "code",
   "execution_count": 59,
   "id": "f8586292",
   "metadata": {},
   "outputs": [],
   "source": [
    "data = np.loadtxt('the_data.dat')"
   ]
  },
  {
   "cell_type": "code",
   "execution_count": 60,
   "id": "2611848d",
   "metadata": {},
   "outputs": [],
   "source": [
    "def find_period(data):\n",
    "    # Find peaks\n",
    "    peaks, _ = find_peaks(data[:, 1], distance=6, prominence=3)\n",
    "\n",
    "    return peaks     "
   ]
  },
  {
   "cell_type": "code",
   "execution_count": 61,
   "id": "eded0341",
   "metadata": {},
   "outputs": [],
   "source": [
    "peak_indices = find_period(data)"
   ]
  },
  {
   "cell_type": "code",
   "execution_count": 62,
   "id": "3272d906",
   "metadata": {},
   "outputs": [],
   "source": [
    "periods = np.diff(peak_indices)\n",
    "average_period = int(np.mean(periods))"
   ]
  },
  {
   "cell_type": "code",
   "execution_count": 63,
   "id": "09952276",
   "metadata": {},
   "outputs": [
    {
     "name": "stdout",
     "output_type": "stream",
     "text": [
      "The final key code:  (3, 7, 8, 2, [2, 5], 4, 9)\n"
     ]
    }
   ],
   "source": [
    "key_code = clock_code, muahaha_count, int(equation_result), int(puzzle), car_code, speed_code, average_period\n",
    "print(\"The final key code: \", key_code)\n",
    "#needs to equal 9"
   ]
  },
  {
   "cell_type": "markdown",
   "id": "c48fe554",
   "metadata": {},
   "source": [
    "## Problem 11. <br>  Escape the room! (3 points)\n",
    "\n",
    "### You did it! You have the 8 digits that you need to exit the room! You run to the key pad and enter the code. Did it work? Open the pdf ***winter_saved2023.pdf*** using the 8 digits you got (no spaces or commas in between). "
   ]
  },
  {
   "cell_type": "code",
   "execution_count": 65,
   "id": "fca1549f",
   "metadata": {
    "scrolled": true
   },
   "outputs": [
    {
     "name": "stdout",
     "output_type": "stream",
     "text": [
      "Invalid code for opening the PDF. Code: 37822549\n"
     ]
    }
   ],
   "source": [
    "import fitz  # PyMuPDF\n",
    "\n",
    "# Replace 'winter_saved2023.pdf' with the actual file path\n",
    "pdf_file_path = 'winter_saved2023.pdf'\n",
    "\n",
    "# Replace '12345678' with your 8-digit code (without spaces or commas)\n",
    "code = '37822549'\n",
    "\n",
    "# Concatenate the code without spaces or commas\n",
    "code_without_spaces = ''.join(code)\n",
    "\n",
    "# Open the PDF file\n",
    "with fitz.open(pdf_file_path) as pdf_document:\n",
    "    # Check if the code is within the valid page range\n",
    "    if 1 <= int(code_without_spaces) <= pdf_document.page_count:\n",
    "        # Go to the specified page using the code\n",
    "        page = pdf_document[0]  # Access the first (and only) page\n",
    "\n",
    "        # Extract and print the text from the page\n",
    "        page_text = page.get_text(\"text\")\n",
    "        print(page_text)\n",
    "    else:\n",
    "        print(f\"Invalid code for opening the PDF. Code: {code_without_spaces}\")"
   ]
  },
  {
   "cell_type": "code",
   "execution_count": 67,
   "id": "bb83fa2a",
   "metadata": {},
   "outputs": [
    {
     "name": "stdout",
     "output_type": "stream",
     "text": [
      "Sadly could not get the pdf to display in this code so I figured I would describe it here!\n",
      "A cat holding a confetti popper (with three arms covered with blue spots) and wearing a hat stands in an open doorway with a smile on its face\n",
      "The door is open against a brown gridded wall and there is confetti bursting everywhere\n",
      "The top reads: 'Congradulations!' in a cursive font\n"
     ]
    }
   ],
   "source": [
    "print(\"Sadly could not get the pdf to display in this code so I figured I would describe it here!\")\n",
    "print(\"A cat holding a confetti popper (with three arms covered with blue spots) and wearing a hat stands in an open doorway with a smile on its face\")\n",
    "print(\"The door is open against a brown gridded wall and there is confetti bursting everywhere\")\n",
    "print(\"The top reads: 'Congradulations!' in a cursive font\")"
   ]
  },
  {
   "cell_type": "markdown",
   "id": "fda5a283",
   "metadata": {},
   "source": [
    "## Problem 12. <br> The final push (10 points)\n",
    "\n",
    "### You run around the cave and see the weather machine! You did it! You quickly open a terminal and access its main code. Dr. Cane is not that smart after all....You delete the running program and stop the eternal hurricane season from ever starting! \n",
    "\n",
    "\n",
    "### Now prepare and submit your homework. Write what you will do to make and submit the zip file into your log. Don’t forget to also commit your finalized log and push it to GitHub. When satisfied, close the log, copy it to your homework directory, and run the commands to make and submit the zip file. Turn the file in on WebCourses."
   ]
  },
  {
   "cell_type": "markdown",
   "id": "0ef3cc32",
   "metadata": {},
   "source": [
    "# Have a great winter break!\n",
    "<img src=\"congrats_summer.gif\" width=200 height=200 />"
   ]
  },
  {
   "cell_type": "code",
   "execution_count": null,
   "id": "c6c2d777",
   "metadata": {},
   "outputs": [],
   "source": []
  }
 ],
 "metadata": {
  "kernelspec": {
   "display_name": "Python 3 (ipykernel)",
   "language": "python",
   "name": "python3"
  },
  "language_info": {
   "codemirror_mode": {
    "name": "ipython",
    "version": 3
   },
   "file_extension": ".py",
   "mimetype": "text/x-python",
   "name": "python",
   "nbconvert_exporter": "python",
   "pygments_lexer": "ipython3",
   "version": "3.11.4"
  }
 },
 "nbformat": 4,
 "nbformat_minor": 5
}
