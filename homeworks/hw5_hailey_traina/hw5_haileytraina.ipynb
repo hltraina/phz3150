{
 "cells": [
  {
   "cell_type": "code",
   "execution_count": 1,
   "id": "a12e28fd",
   "metadata": {},
   "outputs": [],
   "source": [
    "#Hailey Traina\n",
    "#Homework 5\n",
    "#09/28/2023\n",
    "import numpy as np"
   ]
  },
  {
   "cell_type": "code",
   "execution_count": 8,
   "id": "aa722e10",
   "metadata": {},
   "outputs": [
    {
     "name": "stdout",
     "output_type": "stream",
     "text": [
      "The three coefficients are: 1 -1 -12\n",
      "The roots are:  (-3.0, 4.0)\n"
     ]
    }
   ],
   "source": [
    "#Question 1\n",
    "def quad_form(a, b, c):\n",
    "    \"\"\"Takes in values a, b, c from the equation: a*x**2 + b*x + c and returns the roots of x.  \"\"\"\n",
    "    \"\"\"a is the value 1, b is the value -1, c is the value -12 in this example\"\"\"\n",
    "    \"\"\"For the quadratic formula to run, a must not be 0. And the discrimanant must not equivalent to or less than 0\"\"\"\n",
    "    dis = (b ** 2 - 4 * a * c) ** 0.5\n",
    "    sol1 = (-b - dis) / (2 * a) #smaller solution from the quadratic formula\n",
    "    sol2 = (-b + dis) / (2 * a) #larger solution from the quadratic formula\n",
    "    return sol1, sol2\n",
    "a= 1\n",
    "b = -1 \n",
    "c = -12\n",
    "print(\"The three coefficients are:\", a, b, c)\n",
    "print(\"The roots are: \", quad_form(1, -1, -12))"
   ]
  },
  {
   "cell_type": "code",
   "execution_count": null,
   "id": "a61a0e26",
   "metadata": {},
   "outputs": [
    {
     "ename": "SyntaxError",
     "evalue": "invalid syntax (2568984494.py, line 5)",
     "output_type": "error",
     "traceback": [
      "\u001b[1;36m  Cell \u001b[1;32mIn[45], line 5\u001b[1;36m\u001b[0m\n\u001b[1;33m    inches[] = student_h[:,0] * 12\u001b[0m\n\u001b[1;37m           ^\u001b[0m\n\u001b[1;31mSyntaxError\u001b[0m\u001b[1;31m:\u001b[0m invalid syntax\n"
     ]
    }
   ],
   "source": [
    "#Question 2\n",
    "student_h = [5.01, 4.10, 6.02, 5.07, 6.11]\n",
    "print(student_h)\n",
    "def ft_to_m_cm(student_h):\n",
    "    \"\"\"Caculates the height of a student in meters and centimeters.\"\"\"\n",
    "    part1= int(student_h)\n",
    "    part2 = (student_h - part1) * 100\n",
    "\n",
    "    height = part1 *.3048 + part2 *.0254\n",
    "    meters = int(height)\n",
    "    cent = np.ceil( (height - meters ) * 100)\n",
    "\n",
    "    return [meters, cm]\n",
    "m_cm = ft_to_m_cm(student[0])\n",
    "print(\"Student 1 has a height of:\", m_cm[0], \"m\", m_cm[1], \"cm.\")\n",
    "m_cm = ft_to_m_cm(student[1])\n",
    "print(\"Student 2 has a height of:\", m_cm[0], \"m\", m_cm[1], \"cm.\")  \n",
    "m_cm = ft_to_m_cm(student[2])\n",
    "print(\"Student 3 has a height of:\", m_cm[0], \"m\", m_cm[1], \"cm.\")\n",
    "m_cm = ft_to_m_cm(student[3])\n",
    "print(\"Student 4 has a height of:\", m_cm[0], \"m\", m_cm[1], \"cm.\")\n",
    "m_cm = ft_to_m_cm(student[4])\n",
    "print(\"Student 5 has a height of:\", m_cm[0], \"m\", m_cm[1], \"cm.\")    "
   ]
  },
  {
   "cell_type": "code",
   "execution_count": 21,
   "id": "b63d57f4",
   "metadata": {},
   "outputs": [
    {
     "name": "stdout",
     "output_type": "stream",
     "text": [
      "20.0\n",
      "160.0\n",
      "2940.0\n"
     ]
    }
   ],
   "source": [
    "#Question 3\n",
    "#Displacement saved in another .py file\n",
    "import displacement as dsp\n",
    "print(dsp.displacement(0, 2, 10))\n",
    "print(dsp.displacement(0,4,20))\n",
    "print(dsp.displacement(0,14,30))\n",
    "#Confirmed values using online calculator!"
   ]
  }
 ],
 "metadata": {
  "kernelspec": {
   "display_name": "Python 3 (ipykernel)",
   "language": "python",
   "name": "python3"
  },
  "language_info": {
   "codemirror_mode": {
    "name": "ipython",
    "version": 3
   },
   "file_extension": ".py",
   "mimetype": "text/x-python",
   "name": "python",
   "nbconvert_exporter": "python",
   "pygments_lexer": "ipython3",
   "version": "3.11.4"
  }
 },
 "nbformat": 4,
 "nbformat_minor": 5
}
