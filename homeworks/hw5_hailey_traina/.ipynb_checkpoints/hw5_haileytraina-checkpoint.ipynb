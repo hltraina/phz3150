{
 "cells": [
  {
   "cell_type": "code",
   "execution_count": 1,
   "id": "a6679a69",
   "metadata": {},
   "outputs": [],
   "source": [
    "#Hailey Traina\n",
    "#Homework 5\n",
    "#09/28/2023\n",
    "import numpy as np"
   ]
  },
  {
   "cell_type": "code",
   "execution_count": 8,
   "id": "043bb8d8",
   "metadata": {},
   "outputs": [
    {
     "name": "stdout",
     "output_type": "stream",
     "text": [
      "The three coefficients are: 1 -1 -12\n",
      "The roots are:  (-3.0, 4.0)\n"
     ]
    }
   ],
   "source": [
    "#Question 1\n",
    "def quad_form(a, b, c):\n",
    "    \"\"\"Takes in values a, b, c from the equation: a*x**2 + b*x + c and returns the roots of x.  \"\"\"\n",
    "    \"\"\"a is the value 1, b is the value -1, c is the value -12 in this example\"\"\"\n",
    "    \"\"\"For the quadratic formula to run, a must not be 0. And the discrimanant must not equivalent to or less than 0\"\"\"\n",
    "    dis = (b ** 2 - 4 * a * c) ** 0.5\n",
    "    sol1 = (-b - dis) / (2 * a) #smaller solution from the quadratic formula\n",
    "    sol2 = (-b + dis) / (2 * a) #larger solution from the quadratic formula\n",
    "    return sol1, sol2\n",
    "a= 1\n",
    "b = -1 \n",
    "c = -12\n",
    "print(\"The three coefficients are:\", a, b, c)\n",
    "print(\"The roots are: \", quad_form(1, -1, -12))"
   ]
  },
  {
   "cell_type": "code",
   "execution_count": 36,
   "id": "b26734be",
   "metadata": {},
   "outputs": [
    {
     "name": "stdout",
     "output_type": "stream",
     "text": [
      "(['5', '1'], ['4', '10'], ['6', '2'], ['5', '7'], ['6', '11'])\n"
     ]
    },
    {
     "ename": "TypeError",
     "evalue": "tuple indices must be integers or slices, not tuple",
     "output_type": "error",
     "traceback": [
      "\u001b[1;31m---------------------------------------------------------------------------\u001b[0m",
      "\u001b[1;31mTypeError\u001b[0m                                 Traceback (most recent call last)",
      "Cell \u001b[1;32mIn[36], line 7\u001b[0m\n\u001b[0;32m      5\u001b[0m     inches \u001b[38;5;241m=\u001b[39m student_h[:,\u001b[38;5;241m0\u001b[39m] \u001b[38;5;241m*\u001b[39m \u001b[38;5;241m12\u001b[39m\n\u001b[0;32m      6\u001b[0m     \u001b[38;5;28;01mreturn\u001b[39;00m inches\n\u001b[1;32m----> 7\u001b[0m \u001b[38;5;28mprint\u001b[39m(ft_to_m_cm(student_h))\n",
      "Cell \u001b[1;32mIn[36], line 5\u001b[0m, in \u001b[0;36mft_to_m_cm\u001b[1;34m(student_h)\u001b[0m\n\u001b[0;32m      4\u001b[0m \u001b[38;5;28;01mdef\u001b[39;00m \u001b[38;5;21mft_to_m_cm\u001b[39m(student_h):\n\u001b[1;32m----> 5\u001b[0m     inches \u001b[38;5;241m=\u001b[39m student_h[:,\u001b[38;5;241m0\u001b[39m] \u001b[38;5;241m*\u001b[39m \u001b[38;5;241m12\u001b[39m\n\u001b[0;32m      6\u001b[0m     \u001b[38;5;28;01mreturn\u001b[39;00m inches\n",
      "\u001b[1;31mTypeError\u001b[0m: tuple indices must be integers or slices, not tuple"
     ]
    }
   ],
   "source": [
    "#Question 2\n",
    "student_h = [['5', '1'], ['4', '10'], ['6', '2'], ['5', '7'], ['6', '11']]\n",
    "print(student_h)\n",
    "def ft_to_m_cm(student_h):\n",
    "    inches = student_h[:,0] * 12\n",
    "    return inches\n",
    "print(ft_to_m_cm(student_h))\n",
    "    "
   ]
  },
  {
   "cell_type": "code",
   "execution_count": 21,
   "id": "82a680d1",
   "metadata": {},
   "outputs": [
    {
     "name": "stdout",
     "output_type": "stream",
     "text": [
      "20.0\n",
      "160.0\n",
      "2940.0\n"
     ]
    }
   ],
   "source": [
    "#Question 3\n",
    "#Displacement saved in another .py file\n",
    "import displacement as dsp\n",
    "print(dsp.displacement(0, 2, 10))\n",
    "print(dsp.displacement(0,4,20))\n",
    "print(dsp.displacement(0,14,30))\n",
    "#Confirmed values using online calculator!"
   ]
  }
 ],
 "metadata": {
  "kernelspec": {
   "display_name": "Python 3 (ipykernel)",
   "language": "python",
   "name": "python3"
  },
  "language_info": {
   "codemirror_mode": {
    "name": "ipython",
    "version": 3
   },
   "file_extension": ".py",
   "mimetype": "text/x-python",
   "name": "python",
   "nbconvert_exporter": "python",
   "pygments_lexer": "ipython3",
   "version": "3.11.4"
  }
 },
 "nbformat": 4,
 "nbformat_minor": 5
}
