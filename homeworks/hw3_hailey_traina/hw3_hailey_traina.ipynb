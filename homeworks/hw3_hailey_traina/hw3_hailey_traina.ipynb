{
 "cells": [
  {
   "cell_type": "markdown",
   "id": "a49e70aa",
   "metadata": {},
   "source": [
    "Started a new notebook for the third homework assignment. This is a practice notebook to help me understand how to navigate Jupyter notebook and get comfortable with the basic foundations in order to learn more and progress throughout the semester. In this notebook, I will be practicing defining variables and doing basic functions. "
   ]
  },
  {
   "cell_type": "code",
   "execution_count": 4,
   "id": "aeaa04e9",
   "metadata": {},
   "outputs": [
    {
     "name": "stdout",
     "output_type": "stream",
     "text": [
      "The product of x and y is: 1000\n",
      "The difference between y and x is 90\n"
     ]
    }
   ],
   "source": [
    "x = 10\n",
    "y = 100\n",
    "##setting my variables \n",
    "z = x * y\n",
    "w = y - x\n",
    "print(\"The product of x and y is:\", z)\n",
    "print(\"The difference between y and x is:\", w)"
   ]
  },
  {
   "cell_type": "code",
   "execution_count": 5,
   "id": "a27778ad",
   "metadata": {},
   "outputs": [],
   "source": [
    "min = 3\n",
    "##Instantly, I notice that min is also green which tells me that it is an inappropriate name and is the name of another function.\n",
    "##If you wanted to make it a name, you should switch labels to something like min_var = 3 "
   ]
  },
  {
   "cell_type": "code",
   "execution_count": 8,
   "id": "f2f11edb",
   "metadata": {},
   "outputs": [
    {
     "name": "stdout",
     "output_type": "stream",
     "text": [
      "1\n",
      "2\n",
      "20\n"
     ]
    }
   ],
   "source": [
    "q = 1\n",
    "print(q)\n",
    "q = q+1 \n",
    "print(q)\n",
    "print(q*10)"
   ]
  }
 ],
 "metadata": {
  "kernelspec": {
   "display_name": "Python 3 (ipykernel)",
   "language": "python",
   "name": "python3"
  },
  "language_info": {
   "codemirror_mode": {
    "name": "ipython",
    "version": 3
   },
   "file_extension": ".py",
   "mimetype": "text/x-python",
   "name": "python",
   "nbconvert_exporter": "python",
   "pygments_lexer": "ipython3",
   "version": "3.11.4"
  }
 },
 "nbformat": 4,
 "nbformat_minor": 5
}
