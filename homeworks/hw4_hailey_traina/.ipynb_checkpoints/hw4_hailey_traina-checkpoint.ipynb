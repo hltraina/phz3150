{
 "cells": [
  {
   "cell_type": "code",
   "execution_count": null,
   "id": "05df8ede",
   "metadata": {},
   "outputs": [],
   "source": [
    "###Hailey Traina\n",
    "###Homework 4\n",
    "###September 17, 2023"
   ]
  },
  {
   "cell_type": "code",
   "execution_count": null,
   "id": "40d1c8e9",
   "metadata": {},
   "outputs": [],
   "source": [
    "Problem 1. We have a body of mass m (kg). When a net force, F in newtons (N) acts on it, according to Newton’s second law, the body will get an acceleration a (m/s2).\n",
    "\n",
    "Remember that F = ma\n",
    "Write an expression that calculates F s:\n",
    "    "
   ]
  },
  {
   "cell_type": "code",
   "execution_count": 1,
   "id": "7a782058",
   "metadata": {},
   "outputs": [],
   "source": [
    "import numpy as np"
   ]
  },
  {
   "cell_type": "code",
   "execution_count": 2,
   "id": "a929ec58",
   "metadata": {},
   "outputs": [
    {
     "name": "stdout",
     "output_type": "stream",
     "text": [
      "Problem 1:\n",
      "0.6666666666666666\n",
      "0.14666666666666667\n",
      "3.0\n"
     ]
    }
   ],
   "source": [
    "def force_to_acceleration(m, F):\n",
    "    ##creating a function to calculate acceleration from mass and force\n",
    "    ## a = F/m\n",
    "    a = F/m\n",
    "    return a\n",
    "print(\"Problem 1:\")\n",
    "print(force_to_acceleration(150, 100))\n",
    "print(force_to_acceleration(150,22))\n",
    "print(force_to_acceleration(150,450))"
   ]
  },
  {
   "cell_type": "code",
   "execution_count": 7,
   "id": "020d7e92",
   "metadata": {
    "scrolled": true
   },
   "outputs": [
    {
     "name": "stdout",
     "output_type": "stream",
     "text": [
      "Problem 2:\n"
     ]
    }
   ],
   "source": [
    "print(\"Problem 2:\")\n",
    "import acceleration as acc\n"
   ]
  },
  {
   "cell_type": "code",
   "execution_count": 12,
   "id": "3602fd40",
   "metadata": {},
   "outputs": [
    {
     "name": "stdout",
     "output_type": "stream",
     "text": [
      "1.5\n",
      "3.75\n",
      "2.0\n",
      "-5.5\n",
      "0.2\n"
     ]
    }
   ],
   "source": [
    "print(acc.acceleration(10,13,0,2))\n",
    "print(acc.acceleration(15,30,10,14))\n",
    "print(acc.acceleration(32,36,14,16))\n",
    "print(acc.acceleration(42,20,28,32)) \n",
    "print(acc.acceleration(20,22,0,10))\n",
    "##checked code on a calculator and on another website to confirm accelerations!\n",
    "##used this website: https://www.omnicalculator.com/physics/acceleration"
   ]
  },
  {
   "cell_type": "code",
   "execution_count": 14,
   "id": "bca8c49c",
   "metadata": {},
   "outputs": [
    {
     "name": "stdout",
     "output_type": "stream",
     "text": [
      "Problem 3:\n",
      "[  0  10  20  30  40  50  60  70  80  90 100]\n",
      "[   0  100  200  300  400  500  600  700  800  900 1000]\n",
      "[300 400] 800\n",
      "The first is: 0.1\n",
      "The second is: 0.1\n",
      "The third is: 0.1\n",
      "[  0  10  20  30  40  90  60  70  80  90 100]\n",
      "The fourth is: -0.03333333333333333\n"
     ]
    }
   ],
   "source": [
    "print(\"Problem 3:\")\n",
    "first_list = np.arange(0,101,10)\n",
    "print(first_list)\n",
    "second_list = np.arange(0,1001,100)\n",
    "print(second_list)\n",
    "print(second_list[3:5], second_list[8])\n",
    "print(\"The first is:\", acc.acceleration(first_list[3], first_list[4], second_list[3], second_list[4]))\n",
    "print(\"The second is:\", acc.acceleration(first_list[4], first_list[5], second_list[4], second_list[5]))\n",
    "print(\"The third is:\", acc.acceleration(first_list[5], first_list[8], second_list[5], second_list[8]))\n",
    "first_list[5] = 90\n",
    "print(first_list)\n",
    "print(\"The fourth is:\", acc.acceleration(first_list[5], first_list[8], second_list[5], second_list[8]))\n",
    "##it does work, however, this acceleration is negative! This means with this pair of velocities, the fourth is de-accerlerating"
   ]
  }
 ],
 "metadata": {
  "kernelspec": {
   "display_name": "Python 3 (ipykernel)",
   "language": "python",
   "name": "python3"
  },
  "language_info": {
   "codemirror_mode": {
    "name": "ipython",
    "version": 3
   },
   "file_extension": ".py",
   "mimetype": "text/x-python",
   "name": "python",
   "nbconvert_exporter": "python",
   "pygments_lexer": "ipython3",
   "version": "3.11.4"
  }
 },
 "nbformat": 4,
 "nbformat_minor": 5
}
