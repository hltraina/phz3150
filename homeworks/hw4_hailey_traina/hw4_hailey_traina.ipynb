{
 "cells": [
  {
   "cell_type": "code",
   "execution_count": 1,
   "id": "74a69ed4",
   "metadata": {},
   "outputs": [],
   "source": [
    "###Hailey Traina\n",
    "###Homework 4\n",
    "###September 17, 2023"
   ]
  },
  {
   "cell_type": "code",
   "execution_count": 35,
   "id": "b95f65e8",
   "metadata": {},
   "outputs": [
    {
     "ename": "SyntaxError",
     "evalue": "invalid character '’' (U+2019) (3549467793.py, line 1)",
     "output_type": "error",
     "traceback": [
      "\u001b[1;36m  Cell \u001b[1;32mIn[35], line 1\u001b[1;36m\u001b[0m\n\u001b[1;33m    Problem 1. We have a body of mass m (kg). When a net force, F in newtons (N) acts on it, according to Newton’s second law, the body will get an acceleration a (m/s2).\u001b[0m\n\u001b[1;37m                                                                                                                ^\u001b[0m\n\u001b[1;31mSyntaxError\u001b[0m\u001b[1;31m:\u001b[0m invalid character '’' (U+2019)\n"
     ]
    }
   ],
   "source": [
    "Problem 1. We have a body of mass m (kg). When a net force, F in newtons (N) acts on it, according to Newton’s second law, the body will get an acceleration a (m/s2).\n",
    "\n",
    "Remember that F = ma\n",
    "Write an expression that calculates F s:\n",
    "    "
   ]
  },
  {
   "cell_type": "code",
   "execution_count": 36,
   "id": "c08b22dc",
   "metadata": {},
   "outputs": [],
   "source": [
    "import numpy as np"
   ]
  },
  {
   "cell_type": "code",
   "execution_count": 37,
   "id": "d9e29ad3",
   "metadata": {},
   "outputs": [
    {
     "name": "stdout",
     "output_type": "stream",
     "text": [
      "Problem 1:\n",
      "0.6666666666666666\n",
      "0.14666666666666667\n",
      "3.0\n"
     ]
    }
   ],
   "source": [
    "def force_to_acceleration(m, F):\n",
    "    ##creating a function to calculate acceleration from mass and force\n",
    "    ## a = F/m\n",
    "    a = F/m\n",
    "    return a\n",
    "print(\"Problem 1:\")\n",
    "print(force_to_acceleration(150, 100))\n",
    "print(force_to_acceleration(150,22))\n",
    "print(force_to_acceleration(150,450))"
   ]
  },
  {
   "cell_type": "code",
   "execution_count": 47,
   "id": "ca69cce0",
   "metadata": {
    "scrolled": true
   },
   "outputs": [
    {
     "name": "stdout",
     "output_type": "stream",
     "text": [
      "Problem 2:\n"
     ]
    },
    {
     "ename": "ModuleNotFoundError",
     "evalue": "No module named 'acceleration.py'; 'acceleration' is not a package",
     "output_type": "error",
     "traceback": [
      "\u001b[1;31m---------------------------------------------------------------------------\u001b[0m",
      "\u001b[1;31mModuleNotFoundError\u001b[0m                       Traceback (most recent call last)",
      "Cell \u001b[1;32mIn[47], line 2\u001b[0m\n\u001b[0;32m      1\u001b[0m \u001b[38;5;28mprint\u001b[39m(\u001b[38;5;124m\"\u001b[39m\u001b[38;5;124mProblem 2:\u001b[39m\u001b[38;5;124m\"\u001b[39m)\n\u001b[1;32m----> 2\u001b[0m \u001b[38;5;28;01mimport\u001b[39;00m \u001b[38;5;21;01macceleration\u001b[39;00m\u001b[38;5;21;01m.\u001b[39;00m\u001b[38;5;21;01mpy\u001b[39;00m \u001b[38;5;28;01mas\u001b[39;00m \u001b[38;5;21;01macc\u001b[39;00m\n\u001b[0;32m      3\u001b[0m \u001b[38;5;28mprint\u001b[39m(acc\u001b[38;5;241m.\u001b[39macceleration(\u001b[38;5;241m10\u001b[39m,\u001b[38;5;241m13\u001b[39m,\u001b[38;5;241m0\u001b[39m,\u001b[38;5;241m2\u001b[39m))\n\u001b[0;32m      4\u001b[0m \u001b[38;5;28mprint\u001b[39m(acc\u001b[38;5;241m.\u001b[39macceleration(\u001b[38;5;241m15\u001b[39m,\u001b[38;5;241m30\u001b[39m,\u001b[38;5;241m10\u001b[39m,\u001b[38;5;241m14\u001b[39m))\n",
      "\u001b[1;31mModuleNotFoundError\u001b[0m: No module named 'acceleration.py'; 'acceleration' is not a package"
     ]
    }
   ],
   "source": [
    "print(\"Problem 2:\")\n",
    "import acceleration.py as acc\n",
    "print(acc.acceleration(10,13,0,2))\n",
    "print(acc.acceleration(15,30,10,14))\n",
    "print(acc.acceleration(32,36,14,16))\n",
    "print(acc.accerlation(42,20,32,28))\n",
    "print(acc.acceleteration(20,22,0,10))\n",
    "##checked code on a calculator and on another website to confirm accelerations!"
   ]
  },
  {
   "cell_type": "code",
   "execution_count": 46,
   "id": "5b2539aa",
   "metadata": {},
   "outputs": [
    {
     "name": "stdout",
     "output_type": "stream",
     "text": [
      "Problem 3:\n",
      "[  0  10  20  30  40  50  60  70  80  90 100]\n",
      "[   0  100  200  300  400  500  600  700  800  900 1000]\n",
      "[300 400] 800\n"
     ]
    }
   ],
   "source": [
    "print(\"Problem 3:\")\n",
    "first_list = np.arange(0,101,10)\n",
    "print(first_list)\n",
    "second_list = np.arange(0,1001,100)\n",
    "print(second_list)\n",
    "print(second_list[3:5], second_list[8])\n"
   ]
  }
 ],
 "metadata": {
  "kernelspec": {
   "display_name": "Python 3 (ipykernel)",
   "language": "python",
   "name": "python3"
  },
  "language_info": {
   "codemirror_mode": {
    "name": "ipython",
    "version": 3
   },
   "file_extension": ".py",
   "mimetype": "text/x-python",
   "name": "python",
   "nbconvert_exporter": "python",
   "pygments_lexer": "ipython3",
   "version": "3.11.4"
  }
 },
 "nbformat": 4,
 "nbformat_minor": 5
}
