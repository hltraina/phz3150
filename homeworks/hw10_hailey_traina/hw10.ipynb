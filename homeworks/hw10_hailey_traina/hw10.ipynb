{
 "cells": [
  {
   "cell_type": "code",
   "execution_count": 21,
   "id": "4a278184",
   "metadata": {},
   "outputs": [],
   "source": [
    "import numpy as np\n",
    "from scipy.optimize import curve_fit\n",
    "import matplotlib.pyplot as plt"
   ]
  },
  {
   "cell_type": "code",
   "execution_count": 32,
   "id": "65d79f51",
   "metadata": {},
   "outputs": [],
   "source": [
    "x= np.linspace(1,100,40) \n",
    "y = np.array([ 7.7, 15.82307692, 23.94615385, 32.06923077, 40.19230769, 48.31538462, 56.43846154, \n",
    "              64.56153846, 72.68461538, 80.80769231, 88.93076923, 97.05384615, 105.17692308, \n",
    "              113.3 , 121.42307692, 129.54615385, 137.66923077, 145.79230769, 153.91538462, \n",
    "              162.03846154, 170.16153846, 178.28461538, 186.40769231, 194.53076923, 202.65384615, \n",
    "              210.77692308, 218.9, 227.02307692, 235.14615385, 243.26923077, 251.39230769, \n",
    "              259.51538462, 267.63846154, 275.76153846, 283.88461538, 292.00769231, 300.13076923, \n",
    "              308.25384615, 316.37692308, 324.5])"
   ]
  },
  {
   "cell_type": "code",
   "execution_count": 37,
   "id": "9d72778e",
   "metadata": {},
   "outputs": [
    {
     "name": "stdout",
     "output_type": "stream",
     "text": [
      "Best-fit parameters: a = 3.2, b = 4.5\n",
      "Best-fit model equation: y = 3.2 * x + 4.5\n"
     ]
    },
    {
     "data": {
      "image/png": "[encoded data removed]",
      "text/plain": [
       "<Figure size 640x480 with 1 Axes>"
      ]
     },
     "metadata": {},
     "output_type": "display_data"
    }
   ],
   "source": [
    "def model_function(x, a, b):\n",
    "    return a * x + b\n",
    "\n",
    "# Fit the model to the data\n",
    "params, covariance = curve_fit(model_function, x, y, bounds=([0.1, 0.1], [10, 15]))\n",
    "\n",
    "# Extract the best-fit parameters\n",
    "a_fit, b_fit = params\n",
    "\n",
    "# Print the results\n",
    "print(f\"Best-fit parameters: a = {round(a_fit,4)}, b = {round(b_fit,4)}\")\n",
    "\n",
    "# Use a and b to generate the best-fit curve \n",
    "x_mod = np.linspace(1, 100, 100)\n",
    "y_mod = model_function(x_mod, a_fit, b_fit)\n",
    "\n",
    "# Visual information\n",
    "print(f\"Best-fit model equation: y = {round(a_fit,4)} * x + {round(b_fit,4)}\")\n",
    "\n",
    "plt.scatter(x, y, label='Original Data')\n",
    "plt.plot(x_mod, y_mod, color='purple', label='Best-fit Model')\n",
    "plt.xlabel('x')\n",
    "plt.ylabel('y')\n",
    "plt.legend()\n",
    "plt.show()"
   ]
  },
  {
   "cell_type": "code",
   "execution_count": 9,
   "id": "bc6ea080",
   "metadata": {},
   "outputs": [
    {
     "name": "stdout",
     "output_type": "stream",
     "text": [
      "Part A: \n",
      "The wind chill is: -3 degrees Farenheit given a temperature of 20 degrees Farenheit and a wind speed of 55 mph\n"
     ]
    }
   ],
   "source": [
    "#Question 2:\n",
    "print(\"Part A: \")\n",
    "def wind_chill(T, V):\n",
    "    \"\"\"Calculates the wind chill temperature given the actual temperature and the wind speed.\"\"\"\n",
    "    wind_chill_temp = 35.74 + 0.6215 * T - 35.75 * V**0.16 + 0.4275 * T * V**0.16\n",
    "    return wind_chill_temp\n",
    "temperature = 20\n",
    "wind_speed = 55\n",
    "\n",
    "answer = wind_chill(temperature, wind_speed)\n",
    "print(f\"The wind chill is: {round(answer)} degrees Farenheit given a temperature of {temperature} degrees Farenheit and a wind speed of {wind_speed} mph\")"
   ]
  },
  {
   "cell_type": "code",
   "execution_count": 13,
   "id": "549426d5",
   "metadata": {},
   "outputs": [
    {
     "name": "stdout",
     "output_type": "stream",
     "text": [
      "Part B: \n",
      "Betelgeuse: 131.06 parsecs\n",
      "Antares: 169.78 parsecs\n",
      "Spica: 76.57 parsecs\n",
      "Proxima Centauri: 1.3 parsecs\n"
     ]
    }
   ],
   "source": [
    "print(\"Part B: \")\n",
    "def parallax_to_distance(stars):\n",
    "    \"\"\"Converts parallax to dinstance for each given star in the dictionary. Stars is the dictionary with star names and parallax values\"\"\"\n",
    "    mil_to_arc = 1/1000\n",
    "    \n",
    "    distance_data = {}\n",
    "    for star, parallax in stars.items():\n",
    "        if parallax:\n",
    "            distance = 1 / (parallax * mil_to_arc)\n",
    "            distance_data[star] = distance\n",
    "        else: \n",
    "            distance_data[star] = None\n",
    "    return distance_data \n",
    "\n",
    "stars_data = {\n",
    "    'Betelgeuse': 7.63,\n",
    "    'Antares': 5.89,\n",
    "    'Spica': 13.06,\n",
    "    'Proxima Centauri': 768.0  \n",
    "}\n",
    "\n",
    "results = parallax_to_distance(stars_data)\n",
    "for star, distance in results.items():\n",
    "    print(f\"{star}: {round(distance, 2)} parsecs\")\n"
   ]
  },
  {
   "cell_type": "code",
   "execution_count": 30,
   "id": "ebd0ec40",
   "metadata": {},
   "outputs": [
    {
     "name": "stdout",
     "output_type": "stream",
     "text": [
      "Part C: \n",
      "Result 1: {'watermelon': 1, 'melon': 3, 'apple': 5, 'strawberries': 10, 'cherries': 12, 'oranges': 14}\n",
      "Result 2: {'cars': 200, 'motorcycles': 150, 'bikes': 10, 'skateboards': 67}\n"
     ]
    }
   ],
   "source": [
    "print(\"Part C: \")\n",
    "def lists_to_dict(list1, list2):\n",
    "    \"\"\"Takes in two lists and converts them to a single dictionary.\"\"\"\n",
    "    if all(isinstance(item, str) for item in list1):\n",
    "        # list1 contains strings, so use it as keywords\n",
    "        result_dict = dict(zip(list1, list2))\n",
    "    elif all(isinstance(item, str) for item in list2):\n",
    "        # list2 contains strings, so use it as keywords\n",
    "        result_dict = dict(zip(list2, list1))\n",
    "    else:\n",
    "        raise ValueError(\"Both lists must be contain either strings or numbers.\")\n",
    "\n",
    "    return result_dict\n",
    "\n",
    "list_1 = [1, 3, 5, 10, 12, 14]\n",
    "list_2 = ['watermelon', 'melon', 'apple', 'strawberries', 'cherries', 'oranges']\n",
    "result_dict_1 = lists_to_dict(list_1, list_2)\n",
    "print(\"Dictionary 1:\", result_dict_1)\n",
    "\n",
    "# Example usage 2\n",
    "list_3 = ['cars', 'motorcycles', 'bikes', 'skateboards']\n",
    "list_4 = [200, 150, 10, 67]\n",
    "result_dict_2 = lists_to_dict(list_3, list_4)\n",
    "print(\"Dictionary 2:\", result_dict_2)"
   ]
  },
  {
   "cell_type": "code",
   "execution_count": 24,
   "id": "85f29392",
   "metadata": {},
   "outputs": [],
   "source": [
    "def matrix_mult(matrix1, matrix2):\n",
    "    if matrix1.shape[1] != matrix2.shape[0]:\n",
    "        raise ValueError(\"Matrices dimensions are not equal and therefore not compatible for multiplication\")\n",
    "    \n",
    "    result = np.zeros((matrix1.shape[0], matrix2.shape[1]))\n",
    "    \n",
    "    for i in range(matrix1.shape[0]):\n",
    "        for j in range(matrix2.shape[1]):\n",
    "            for k in range(matrix1.shape[1]):\n",
    "                result[i, j] += matrix1[i,k] * matrix2[k,j]\n",
    "    return result"
   ]
  },
  {
   "cell_type": "code",
   "execution_count": 38,
   "id": "ab0b3223",
   "metadata": {},
   "outputs": [
    {
     "ename": "ValueError",
     "evalue": "Matrices dimensions are not equal and therefore not compatible for multiplication",
     "output_type": "error",
     "traceback": [
      "\u001b[1;31m---------------------------------------------------------------------------\u001b[0m",
      "\u001b[1;31mValueError\u001b[0m                                Traceback (most recent call last)",
      "Cell \u001b[1;32mIn[38], line 4\u001b[0m\n\u001b[0;32m      2\u001b[0m A1 \u001b[38;5;241m=\u001b[39m np\u001b[38;5;241m.\u001b[39marray([[\u001b[38;5;241m1\u001b[39m, \u001b[38;5;241m2\u001b[39m, \u001b[38;5;241m3\u001b[39m], [\u001b[38;5;241m4\u001b[39m, \u001b[38;5;241m5\u001b[39m, \u001b[38;5;241m6\u001b[39m]])\n\u001b[0;32m      3\u001b[0m A2 \u001b[38;5;241m=\u001b[39m np\u001b[38;5;241m.\u001b[39marray([[\u001b[38;5;241m2\u001b[39m, \u001b[38;5;241m3\u001b[39m], [\u001b[38;5;241m2\u001b[39m, \u001b[38;5;241m2\u001b[39m]])\n\u001b[1;32m----> 4\u001b[0m result_A \u001b[38;5;241m=\u001b[39m matrix_mult(A1, A2)\n\u001b[0;32m      5\u001b[0m \u001b[38;5;28mprint\u001b[39m(\u001b[38;5;124m\"\u001b[39m\u001b[38;5;124mTest 1:\u001b[39m\u001b[38;5;124m\"\u001b[39m)\n\u001b[0;32m      6\u001b[0m \u001b[38;5;28mprint\u001b[39m(result_A)\n",
      "Cell \u001b[1;32mIn[24], line 3\u001b[0m, in \u001b[0;36mmatrix_mult\u001b[1;34m(matrix1, matrix2)\u001b[0m\n\u001b[0;32m      1\u001b[0m \u001b[38;5;28;01mdef\u001b[39;00m \u001b[38;5;21mmatrix_mult\u001b[39m(matrix1, matrix2):\n\u001b[0;32m      2\u001b[0m     \u001b[38;5;28;01mif\u001b[39;00m matrix1\u001b[38;5;241m.\u001b[39mshape[\u001b[38;5;241m1\u001b[39m] \u001b[38;5;241m!=\u001b[39m matrix2\u001b[38;5;241m.\u001b[39mshape[\u001b[38;5;241m0\u001b[39m]:\n\u001b[1;32m----> 3\u001b[0m         \u001b[38;5;28;01mraise\u001b[39;00m \u001b[38;5;167;01mValueError\u001b[39;00m(\u001b[38;5;124m\"\u001b[39m\u001b[38;5;124mMatrices dimensions are not equal and therefore not compatible for multiplication\u001b[39m\u001b[38;5;124m\"\u001b[39m)\n\u001b[0;32m      4\u001b[0m     result \u001b[38;5;241m=\u001b[39m np\u001b[38;5;241m.\u001b[39mzeros((matrix1\u001b[38;5;241m.\u001b[39mshape[\u001b[38;5;241m0\u001b[39m], matrix2\u001b[38;5;241m.\u001b[39mshape[\u001b[38;5;241m1\u001b[39m]))\n\u001b[0;32m      6\u001b[0m     \u001b[38;5;28;01mfor\u001b[39;00m i \u001b[38;5;129;01min\u001b[39;00m \u001b[38;5;28mrange\u001b[39m(matrix1\u001b[38;5;241m.\u001b[39mshape[\u001b[38;5;241m0\u001b[39m]):\n",
      "\u001b[1;31mValueError\u001b[0m: Matrices dimensions are not equal and therefore not compatible for multiplication"
     ]
    }
   ],
   "source": [
    "#Example 1\n",
    "A1 = np.array([[1, 2, 3], [4, 5, 6]])\n",
    "A2 = np.array([[2, 3], [2, 2]])\n",
    "result_A = matrix_mult(A1, A2)\n",
    "print(\"Test 1:\")\n",
    "print(result_A)"
   ]
  },
  {
   "cell_type": "code",
   "execution_count": 39,
   "id": "df23a622",
   "metadata": {},
   "outputs": [
    {
     "name": "stdout",
     "output_type": "stream",
     "text": [
      "Test 2:\n",
      "[[4. 1.]\n",
      " [2. 1.]]\n"
     ]
    }
   ],
   "source": [
    "#Example 2\n",
    "B1 = np.array([[1, 0], [0, 1]])\n",
    "B2 = np.array([[4, 1], [2, 1]])\n",
    "result_B = matrix_mult(B1, B2)\n",
    "print(\"Test 2:\")\n",
    "print(result_B)"
   ]
  },
  {
   "cell_type": "code",
   "execution_count": 40,
   "id": "dd585764",
   "metadata": {},
   "outputs": [
    {
     "name": "stdout",
     "output_type": "stream",
     "text": [
      "Test 3:\n",
      "[[19.]\n",
      " [21.]\n",
      " [49.]]\n"
     ]
    }
   ],
   "source": [
    "# Example usage 3\n",
    "C1 = np.array([[1, 0, 3], [0, 1, 4], [2, 1, 8]])\n",
    "C2 = np.array([[4], [1], [5]])\n",
    "result_C = matrix_mult(C1, C2)\n",
    "print(\"Test 3:\")\n",
    "print(result_C)"
   ]
  }
 ],
 "metadata": {
  "kernelspec": {
   "display_name": "Python 3 (ipykernel)",
   "language": "python",
   "name": "python3"
  },
  "language_info": {
   "codemirror_mode": {
    "name": "ipython",
    "version": 3
   },
   "file_extension": ".py",
   "mimetype": "text/x-python",
   "name": "python",
   "nbconvert_exporter": "python",
   "pygments_lexer": "ipython3",
   "version": "3.11.4"
  }
 },
 "nbformat": 4,
 "nbformat_minor": 5
}
