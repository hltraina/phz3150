{
 "cells": [
  {
   "cell_type": "code",
   "execution_count": null,
   "id": "c8681245",
   "metadata": {},
   "outputs": [],
   "source": [
    "#Hailey Traina\n",
    "#Homework 6\n",
    "#October 5, 2023"
   ]
  },
  {
   "cell_type": "code",
   "execution_count": 1,
   "id": "61c79917",
   "metadata": {},
   "outputs": [],
   "source": [
    "import numpy as np\n",
    "import matplotlib.pyplot as mat"
   ]
  },
  {
   "cell_type": "code",
   "execution_count": 2,
   "id": "29c21d08",
   "metadata": {},
   "outputs": [
    {
     "name": "stdout",
     "output_type": "stream",
     "text": [
      "Problem 1:\n"
     ]
    }
   ],
   "source": [
    "#Problem 1\n",
    "print(\"Problem 1:\")\n"
   ]
  }
 ],
 "metadata": {
  "kernelspec": {
   "display_name": "Python 3 (ipykernel)",
   "language": "python",
   "name": "python3"
  },
  "language_info": {
   "codemirror_mode": {
    "name": "ipython",
    "version": 3
   },
   "file_extension": ".py",
   "mimetype": "text/x-python",
   "name": "python",
   "nbconvert_exporter": "python",
   "pygments_lexer": "ipython3",
   "version": "3.11.4"
  }
 },
 "nbformat": 4,
 "nbformat_minor": 5
}
