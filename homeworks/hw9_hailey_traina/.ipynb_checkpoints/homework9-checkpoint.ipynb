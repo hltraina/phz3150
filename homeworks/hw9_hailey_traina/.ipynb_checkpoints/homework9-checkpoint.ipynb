{
 "cells": [
  {
   "cell_type": "code",
   "execution_count": 1,
   "id": "0f70be77",
   "metadata": {},
   "outputs": [],
   "source": [
    "import numpy as np"
   ]
  },
  {
   "cell_type": "code",
   "execution_count": 2,
   "id": "b3e2f76b",
   "metadata": {},
   "outputs": [
    {
     "name": "stdout",
     "output_type": "stream",
     "text": [
      "Problem 1: \n",
      "[[1.    1.204 6.6   0.32 ]\n",
      " [2.    1.212 6.5   0.36 ]\n",
      " [3.    1.14  6.6   0.38 ]\n",
      " [4.    1.12  6.2   0.38 ]\n",
      " [5.    1.24  5.6   0.4  ]\n",
      " [6.    1.201 6.    0.3  ]]\n"
     ]
    }
   ],
   "source": [
    "#Question 1\n",
    "print(\"Problem 1: \")\n",
    "\n",
    "#makes a dictionary to assign names to the athlete's IDs\n",
    "sports = np.array([1500, 40000, 10000])\n",
    "\n",
    "# The NumPy array with athlete IDs and their average speeds for each sport\n",
    "athlete_times = np.array([\n",
    "    [1, 1.204, 6.6, 0.32],\n",
    "    [2, 1.212, 6.5, 0.36],\n",
    "    [3, 1.14, 6.6, 0.38],\n",
    "    [4, 1.12, 6.2, 0.38],\n",
    "    [5, 1.24, 5.6, 0.4],\n",
    "    [6, 1.201, 6, 0.3]\n",
    "])\n",
    "\n",
    "# Print the resulting array\n",
    "print(athlete_times)"
   ]
  },
  {
   "cell_type": "code",
   "execution_count": 3,
   "id": "7750397d",
   "metadata": {},
   "outputs": [
    {
     "name": "stdout",
     "output_type": "stream",
     "text": [
      "Problem 1, part b:\n",
      "The winner is Participant 4.0 with an expected time of 3.38 hours.\n",
      "The last participant is Participant 5.0 with an expected time of 3.62 hours.\n"
     ]
    }
   ],
   "source": [
    "print(\"Problem 1, part b:\")\n",
    "from hw9_support_funct import triathlon_time\n",
    "triathlon_time(sports, athlete_times)"
   ]
  },
  {
   "cell_type": "code",
   "execution_count": 4,
   "id": "f032b761",
   "metadata": {},
   "outputs": [],
   "source": [
    "#Part C\n",
    "sports_dict = {'swim': 1500, 'bike': 40000, 'run': 10000 }\n",
    "\n",
    "athletes_dict = {\n",
    "    'Mary': [1.204, 6.6, 0.32],\n",
    "    'John': [1.212, 6.5, 0.36],\n",
    "    'Peter': [1.14, 6.6, 0.38],\n",
    "    'Mafalda': [1.12, 6.2, 0.38],\n",
    "    'Paul': [1.24, 5.6, 0.4],\n",
    "    'Lionel': [1.201, 6, 0.3]\n",
    "}\n"
   ]
  },
  {
   "cell_type": "code",
   "execution_count": 5,
   "id": "0f005e19",
   "metadata": {},
   "outputs": [
    {
     "name": "stdout",
     "output_type": "stream",
     "text": [
      "The winner is Mafalda with an expected time of 3.38 hours.\n",
      "The last participant is Paul with an expected time of 3.62 hours.\n",
      "None\n"
     ]
    }
   ],
   "source": [
    "#Part D\n",
    "from hw9_support_funct import triathlon_time_dict\n",
    "\n",
    "print(triathlon_time_dict(sports_dict, athletes_dict))"
   ]
  },
  {
   "cell_type": "code",
   "execution_count": 7,
   "id": "3de890c0",
   "metadata": {},
   "outputs": [
    {
     "name": "stdout",
     "output_type": "stream",
     "text": [
      "Question 2: \n"
     ]
    }
   ],
   "source": [
    "print(\"Question 2: \")"
   ]
  }
 ],
 "metadata": {
  "kernelspec": {
   "display_name": "Python 3 (ipykernel)",
   "language": "python",
   "name": "python3"
  },
  "language_info": {
   "codemirror_mode": {
    "name": "ipython",
    "version": 3
   },
   "file_extension": ".py",
   "mimetype": "text/x-python",
   "name": "python",
   "nbconvert_exporter": "python",
   "pygments_lexer": "ipython3",
   "version": "3.11.4"
  }
 },
 "nbformat": 4,
 "nbformat_minor": 5
}
